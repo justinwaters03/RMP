{
 "cells": [
  {
   "cell_type": "markdown",
   "id": "c8efc831",
   "metadata": {},
   "source": [
    "# Strategy Report Notebook\n",
    "This notebok runs analysis on a given strategy."
   ]
  },
  {
   "cell_type": "markdown",
   "id": "9b9a2a56",
   "metadata": {},
   "source": [
    "## Import Libraries"
   ]
  },
  {
   "cell_type": "code",
   "execution_count": null,
   "id": "b5afcd8f",
   "metadata": {},
   "outputs": [],
   "source": [
    "import plotly.express as px\n",
    "from EquityHedging.datamanager import data_manager as dm\n",
    "from EquityHedging.analytics import summary\n",
    "from EquityHedging.reporting.excel import reports as rp\n",
    "from EquityHedging.reporting import formatter as fmt, plots\n",
    "from ipywidgets import interact, interact_manual\n",
    "import pandas as pd\n",
    "import plotly.graph_objects as go\n"
   ]
  },
  {
   "cell_type": "markdown",
   "id": "a344d57a",
   "metadata": {},
   "source": [
    "## Import Daily, Weekly, Monthly, Quarterly and Yearly Returns Data for Equity Benchmark\n",
    "\n",
    "To import the returns data:\n",
    "* Select an Equity Benchmark (**equity_bmk**):  SPTR, M1WD, SX5T"
   ]
  },
  {
   "cell_type": "code",
   "execution_count": null,
   "id": "d12c51fd",
   "metadata": {},
   "outputs": [],
   "source": [
    "equity_bmk = 'SPTR'\n",
    "strat_drop_list = ['99%/90% Put Spread','Down Var', 'VOLA', 'Dynamic Put Spread', 'VRR',\n",
    "       'GW Dispersion', 'Corr Hedge', 'Def Var']\n",
    "include_fi = False\n",
    "#create returns data dictionary for equity benchmark\n",
    "vortex_dict= dm.get_equity_hedge_returns(equity_bmk, include_fi, strat_drop_list)"
   ]
  },
  {
   "cell_type": "markdown",
   "id": "6987c181",
   "metadata": {},
   "source": [
    "## Import Daily, Weekly, Monthly, Quarterly and Yearly Returns Data for a Strategy"
   ]
  },
  {
   "cell_type": "code",
   "execution_count": null,
   "id": "fccadab0",
   "metadata": {},
   "outputs": [],
   "source": [
    "new_3_robust= pd.read_excel(dm.NEW_DATA+'Barclays_new3_robustness.xlsx',\n",
    "                                           sheet_name = 'data', index_col=0)\n",
    "\n",
    "#create returns data dictionary for strategy\n",
    "new_data_dict = dm.get_data_dict(new_3_robust)\n",
    "\n",
    "#merge dictionaries\n",
    "ret_data_dict = dm.merge_dicts(vortex_dict,new_data_dict)"
   ]
  },
  {
   "cell_type": "markdown",
   "id": "2abac9d5",
   "metadata": {},
   "source": [
    "## View Returns Data\n",
    "Select frequency (Daily, Weekly, Monthly, Yearly) to view data"
   ]
  },
  {
   "cell_type": "code",
   "execution_count": null,
   "id": "416b71a0",
   "metadata": {},
   "outputs": [],
   "source": [
    "freq_list = ['Weekly', 'Monthly']\n",
    "@interact\n",
    "def display_returns(frequency = freq_list):\n",
    "    return fmt.get_returns_styler(ret_data_dict[frequency])"
   ]
  },
  {
   "cell_type": "markdown",
   "id": "614c7916",
   "metadata": {},
   "source": [
    "## Compute Return Stats and Hedge Metrics"
   ]
  },
  {
   "cell_type": "code",
   "execution_count": null,
   "id": "a5600ab0",
   "metadata": {},
   "outputs": [],
   "source": [
    "analytics_freq_list = ['Weekly', 'Monthly']\n",
    "analytics_dict = summary.get_analytics_data(ret_data_dict)"
   ]
  },
  {
   "cell_type": "code",
   "execution_count": null,
   "id": "2d04a9ac",
   "metadata": {},
   "outputs": [],
   "source": [
    "col_dict = {'max_vix':['SPTR', 'Vortex', 'new3', 'maxVIXDelta=0.65', 'maxVIXDelta=0.7','maxVIXDelta=0.75', \n",
    "                       'maxVIXDelta=0.8', 'maxVIXDelta=0.85','maxVIXDelta=0.9', 'maxVIXDelta=1.1'],\n",
    "           'short_put_strike': ['SPTR', 'Vortex', 'new3','shortPutStrikes=-0.35,-0.3,-0.25', \n",
    "                                'shortPutStrikes=-0.3,-0.25,-0.2','shortPutStrikes=-0.2', 'shortPutStrikes=-0.25',\n",
    "                                'shortPutStrikes=-0.3','shortPutStrikes=-0.35', 'shortPutStrikes=-0.4'],\n",
    "           'long_put_strike':['SPTR', 'Vortex', 'new3', 'longSPXStrike=-0.1','longSPXStrike=-0.15'],\n",
    "           'vix_strike':['SPTR', 'Vortex', 'new3', 'VIXStrike=0.2', 'VIXStrike=0.3'],\n",
    "           'roll_dates':['SPTR', 'Vortex', 'new3', 'rollDates=-20,-15,-10,-5', 'rollDates=5,10,15,20']}\n"
   ]
  },
  {
   "cell_type": "code",
   "execution_count": null,
   "id": "355ebd31",
   "metadata": {},
   "outputs": [],
   "source": [
    "for key in col_dict:\n",
    "    for freq in analytics_dict:\n",
    "        temp_dict = {}\n",
    "        temp_rs = analytics_dict[freq][False]['return_stats'].copy()\n",
    "        temp_rs = temp_rs[col_dict[key]]\n",
    "        temp_dict['return_stats'] = temp_rs\n",
    "        temp_hm = analytics_dict[freq][False]['hedge_metrics'].copy()\n",
    "        temp_hm = temp_hm[col_dict[key][1:]]\n",
    "        temp_dict['hedge_metrics'] = temp_hm\n",
    "        analytics_dict[freq][key] = temp_dict"
   ]
  },
  {
   "cell_type": "markdown",
   "id": "6154a94c",
   "metadata": {},
   "source": [
    "## Display Return Stats and Hedge Metrics"
   ]
  },
  {
   "cell_type": "code",
   "execution_count": null,
   "id": "ebb173f2",
   "metadata": {},
   "outputs": [],
   "source": [
    "@interact\n",
    "def display_analytics(frequency=analytics_freq_list, param = [False]+list(col_dict.keys()), stats=['return_stats', 'hedge_metrics']):\n",
    "    data = analytics_dict[frequency]\n",
    "    analytics = data[param]\n",
    "    if stats == 'return_stats':\n",
    "        return fmt.get_analytics_styler(analytics)\n",
    "    if stats == 'hedge_metrics':\n",
    "        if frequency == 'Weekly':\n",
    "            return fmt.get_analytics_styler(analytics, stats, '1W')\n",
    "        else:\n",
    "            return fmt.get_analytics_styler(analytics, stats)"
   ]
  },
  {
   "cell_type": "markdown",
   "id": "78d6a3e9",
   "metadata": {},
   "source": [
    "## Compute Historical Sell Offs"
   ]
  },
  {
   "cell_type": "code",
   "execution_count": null,
   "id": "1a6ca4b3",
   "metadata": {},
   "outputs": [],
   "source": [
    "hist_dict = summary.get_hist_data(ret_data_dict)\n",
    "hist_list = list(hist_dict[False].columns)[0:2]\n",
    "for key in col_dict:\n",
    "    temp_list = hist_list + col_dict[key]\n",
    "    temp_hs = hist_dict[False].copy()\n",
    "    temp_hs = temp_hs[temp_list]\n",
    "    hist_dict[key] = temp_hs"
   ]
  },
  {
   "cell_type": "markdown",
   "id": "1424dc6b",
   "metadata": {},
   "source": [
    "## Display Historical Sell Offs"
   ]
  },
  {
   "cell_type": "code",
   "execution_count": null,
   "id": "c3677d36",
   "metadata": {},
   "outputs": [],
   "source": [
    "@interact\n",
    "def display_selloffs(param = [False]+list(col_dict.keys())):\n",
    "    df_hist = hist_dict[param]\n",
    "    return fmt.get_hist_styler(df_hist)"
   ]
  },
  {
   "cell_type": "code",
   "execution_count": null,
   "id": "92cd2430",
   "metadata": {},
   "outputs": [],
   "source": []
  },
  {
   "cell_type": "code",
   "execution_count": null,
   "id": "5ebf45bf",
   "metadata": {},
   "outputs": [],
   "source": [
    "roll_dates = pd.read_excel(dm.NEW_DATA+'Barclays_roll_plus_vix.xlsx',\n",
    "                                           sheet_name = 'data', index_col=0)\n",
    "\n",
    "#create returns data dictionary for strategy\n",
    "new_data_dict_2 = dm.get_data_dict(roll_dates)\n",
    "\n",
    "#merge dictionaries\n",
    "ret_data_dict_2 = dm.merge_dicts(vortex_dict, new_data_dict_2)"
   ]
  },
  {
   "cell_type": "code",
   "execution_count": null,
   "id": "1a1b90c0",
   "metadata": {},
   "outputs": [],
   "source": []
  },
  {
   "cell_type": "code",
   "execution_count": null,
   "id": "933361a8",
   "metadata": {},
   "outputs": [],
   "source": [
    "analytics_dict_2 = summary.get_analytics_data(ret_data_dict_2)"
   ]
  },
  {
   "cell_type": "code",
   "execution_count": null,
   "id": "0b363a97",
   "metadata": {},
   "outputs": [],
   "source": [
    "@interact\n",
    "def display_analytics(frequency=analytics_freq_list, stats=['return_stats', 'hedge_metrics']):\n",
    "    data = analytics_dict_2[frequency]\n",
    "    analytics = data[False]\n",
    "    if stats == 'return_stats':\n",
    "        return fmt.get_analytics_styler(analytics)\n",
    "    if stats == 'hedge_metrics':\n",
    "        if frequency == 'Weekly':\n",
    "            return fmt.get_analytics_styler(analytics, stats, '1W')\n",
    "        else:\n",
    "            return fmt.get_analytics_styler(analytics, stats)"
   ]
  },
  {
   "cell_type": "code",
   "execution_count": null,
   "id": "3dadd8a5",
   "metadata": {},
   "outputs": [],
   "source": []
  },
  {
   "cell_type": "code",
   "execution_count": null,
   "id": "caaf38e2",
   "metadata": {},
   "outputs": [],
   "source": [
    "hist_dict_2 = summary.get_hist_data(ret_data_dict_2)"
   ]
  },
  {
   "cell_type": "code",
   "execution_count": null,
   "id": "cb073708",
   "metadata": {},
   "outputs": [],
   "source": [
    "@interact\n",
    "def display_selloffs():\n",
    "    df_hist = hist_dict_2[False]\n",
    "    return fmt.get_hist_styler(df_hist)"
   ]
  },
  {
   "cell_type": "markdown",
   "id": "fd2d66dd",
   "metadata": {},
   "source": [
    "# Create Report\n",
    "\n",
    "Run this code below to export analysis into excel spreadsheet\n",
    "* **strat_report (string)**: provide a name for the excel file\n",
    "* **selloffs (boolean)**:\n",
    "    * **True**: if you want historical selloff data in the spreadsheet\n",
    "    * **False**: if you do not want historical selloff data in the spreadsheet"
   ]
  },
  {
   "cell_type": "code",
   "execution_count": null,
   "id": "9637c5b9",
   "metadata": {},
   "outputs": [],
   "source": [
    "strat_report_1 = 'new_3_robustness'\n",
    "strat_report_2 = 'roll_dates_vix_payoff'\n",
    "selloffs = True\n",
    "rp.generate_strat_report(strat_report_1, ret_data_dict, selloffs)\n",
    "rp.generate_strat_report(strat_report_2, ret_data_dict_2, selloffs)"
   ]
  }
 ],
 "metadata": {
  "kernelspec": {
   "display_name": "Python 3",
   "language": "python",
   "name": "python3"
  },
  "language_info": {
   "codemirror_mode": {
    "name": "ipython",
    "version": 3
   },
   "file_extension": ".py",
   "mimetype": "text/x-python",
   "name": "python",
   "nbconvert_exporter": "python",
   "pygments_lexer": "ipython3",
   "version": "3.7.3"
  },
  "varInspector": {
   "cols": {
    "lenName": 16,
    "lenType": 16,
    "lenVar": 40
   },
   "kernels_config": {
    "python": {
     "delete_cmd_postfix": "",
     "delete_cmd_prefix": "del ",
     "library": "var_list.py",
     "varRefreshCmd": "print(var_dic_list())"
    },
    "r": {
     "delete_cmd_postfix": ") ",
     "delete_cmd_prefix": "rm(",
     "library": "var_list.r",
     "varRefreshCmd": "cat(var_dic_list()) "
    }
   },
   "types_to_exclude": [
    "module",
    "function",
    "builtin_function_or_method",
    "instance",
    "_Feature"
   ],
   "window_display": false
  }
 },
 "nbformat": 4,
 "nbformat_minor": 5
}
