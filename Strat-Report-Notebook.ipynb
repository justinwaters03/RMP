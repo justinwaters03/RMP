{
 "cells": [
  {
   "cell_type": "markdown",
   "metadata": {},
   "source": [
    "# Strategy Report Notebook\n",
    "This notebok runs analysis on a given strategy."
   ]
  },
  {
   "cell_type": "markdown",
   "metadata": {},
   "source": [
    "## Import Libraries"
   ]
  },
  {
   "cell_type": "code",
   "execution_count": 1,
   "metadata": {},
   "outputs": [],
   "source": [
    "import pandas as pd\n",
    "import ipywidgets as widgets\n",
    "import datapane as dp \n",
    "import plotly.express as px\n",
    "from EquityHedging.datamanager import data_manager as dm\n",
    "from EquityHedging.analytics.util import get_df_weights\n",
    "from EquityHedging.analytics import summary\n",
    "from EquityHedging.reporting.excel import reports as rp\n",
    "from EquityHedging.reporting import formatter as fmt, plots\n",
    "from ipywidgets import interact, interact_manual\n",
    "from EquityHedging.reporting.excel import sheets\n",
    "import os\n"
   ]
  },
  {
   "cell_type": "markdown",
   "metadata": {},
   "source": [
    "## Import Daily, Weekly, Monthly, Quarterly and Yearly Returns Data for Equity Benchmark\n",
    "\n",
    "To import the returns data:\n",
    "* Select an Equity Benchmark (**equity_bmk**):  SPTR, M1WD, SX5T"
   ]
  },
  {
   "cell_type": "code",
   "execution_count": 2,
   "metadata": {},
   "outputs": [],
   "source": [
    "equity_bmk = 'M1WD'\n",
    "\n",
    "#create returns data dictionary for equity benchmark\n",
    "bmks_dict= dm.get_equity_hedge_returns(equity_bmk, only_equity=True)"
   ]
  },
  {
   "cell_type": "markdown",
   "metadata": {},
   "source": [
    "## Import Daily, Weekly, Monthly, Quarterly and Yearly Returns Data for a Strategy\n",
    "To import the returns data:\n",
    "* In **data = pd.read_excel(io= , sheet_name= )**\n",
    "    * Add File Name to **io** \n",
    "    * Add sheet name to **sheet_name**"
   ]
  },
  {
   "cell_type": "code",
   "execution_count": 3,
   "metadata": {},
   "outputs": [],
   "source": [
    "#set working directory\n",
    "CWD = os.getcwd()\n",
    "NEWSTRAT_DATA_FP = '\\\\EquityHedging\\\\data\\\\'\n",
    "NEW_STRAT_DATA = CWD + NEWSTRAT_DATA_FP + 'new_strats'\n",
    "\n",
    "#import strategy data\n",
    "new_data = pd.read_excel(io = \"Credit Suisse_SX5E_Tail_FSFVA_20210528_UPS Pension.xlsx\", sheet_name = \"data\",index_col=0)\n",
    "\n",
    "#create returns data dictionary for strategy\n",
    "new_data_dict = dm.get_data_dict(new_data,'index')"
   ]
  },
  {
   "cell_type": "markdown",
   "metadata": {},
   "source": [
    "## Merge Returns Data of Given Strategy and Equity Benchmark"
   ]
  },
  {
   "cell_type": "code",
   "execution_count": 4,
   "metadata": {},
   "outputs": [],
   "source": [
    "ret_data_dict = dm.merge_dicts(bmks_dict,new_data_dict)"
   ]
  },
  {
   "cell_type": "markdown",
   "metadata": {},
   "source": [
    "## View Returns Data\n",
    "Select frequency (Daily, Weekly, Monthly, Yearly) to view data"
   ]
  },
  {
   "cell_type": "code",
   "execution_count": 5,
   "metadata": {},
   "outputs": [
    {
     "data": {
      "application/vnd.jupyter.widget-view+json": {
       "model_id": "87e139b6f8d148f3a0b3f6507db8566b",
       "version_major": 2,
       "version_minor": 0
      },
      "text/plain": [
       "interactive(children=(Dropdown(description='frequency', options=('Daily', 'Weekly', 'Monthly', 'Quarterly', 'Y…"
      ]
     },
     "metadata": {},
     "output_type": "display_data"
    }
   ],
   "source": [
    "freq_list = ['Daily', 'Weekly', 'Monthly','Quarterly', 'Yearly']\n",
    "@interact\n",
    "def display_returns(frequency = freq_list):\n",
    "    return fmt.get_returns_styler(ret_data_dict[frequency])"
   ]
  },
  {
   "cell_type": "markdown",
   "metadata": {},
   "source": [
    "## Compute Return Stats and Hedge Metrics"
   ]
  },
  {
   "cell_type": "code",
   "execution_count": 18,
   "metadata": {},
   "outputs": [],
   "source": [
    "analytics_freq_list = ['Weekly', 'Monthly']\n",
    "analytics_dict = summary.get_analytics_data(ret_data_dict)"
   ]
  },
  {
   "cell_type": "markdown",
   "metadata": {},
   "source": [
    "## Display Return Stats and Hedge Metrics\n",
    "Display Returns Analytics data by:\n",
    "* **frequency (Monthly or Weekly)** - Show Monthly or Weekly returns\n",
    "* **stats (return_stats, hedge_metrics)** - Show:\n",
    "    * Return Statistics or \n",
    "    * Hedge Metrics"
   ]
  },
  {
   "cell_type": "code",
   "execution_count": 19,
   "metadata": {},
   "outputs": [
    {
     "data": {
      "application/vnd.jupyter.widget-view+json": {
       "model_id": "61acff4ec5eb487cb05aba49b1b6a75f",
       "version_major": 2,
       "version_minor": 0
      },
      "text/plain": [
       "interactive(children=(Dropdown(description='frequency', options=('Weekly', 'Monthly'), value='Weekly'), Dropdo…"
      ]
     },
     "metadata": {},
     "output_type": "display_data"
    }
   ],
   "source": [
    "@interact\n",
    "def display_analytics(frequency=analytics_freq_list, stats=['return_stats', 'hedge_metrics']):\n",
    "    data = analytics_dict[frequency]\n",
    "    analytics = data[False]\n",
    "    if stats == 'return_stats':\n",
    "        return fmt.get_analytics_styler(analytics)\n",
    "    if stats == 'hedge_metrics':\n",
    "        if frequency == 'Weekly':\n",
    "            return fmt.get_analytics_styler(analytics, stats, '1W')\n",
    "        else:\n",
    "            return fmt.get_analytics_styler(analytics, stats)"
   ]
  },
  {
   "cell_type": "markdown",
   "metadata": {},
   "source": [
    "## Compute Historical Sell Offs"
   ]
  },
  {
   "cell_type": "code",
   "execution_count": 16,
   "metadata": {},
   "outputs": [],
   "source": [
    "hist_dict = summary.get_hist_data(ret_data_dict)"
   ]
  },
  {
   "cell_type": "markdown",
   "metadata": {},
   "source": [
    "## Display Historical Sell Offs"
   ]
  },
  {
   "cell_type": "code",
   "execution_count": 17,
   "metadata": {},
   "outputs": [
    {
     "data": {
      "application/vnd.jupyter.widget-view+json": {
       "model_id": "698f1430e22b4843a27d2155991f1ecc",
       "version_major": 2,
       "version_minor": 0
      },
      "text/plain": [
       "interactive(children=(Output(),), _dom_classes=('widget-interact',))"
      ]
     },
     "metadata": {},
     "output_type": "display_data"
    }
   ],
   "source": [
    "@interact\n",
    "def display_selloffs():\n",
    "    df_hist = hist_dict[False]\n",
    "    return fmt.get_hist_styler(df_hist)"
   ]
  },
  {
   "cell_type": "markdown",
   "metadata": {},
   "source": [
    "## Compute Quantile Analysis"
   ]
  },
  {
   "cell_type": "code",
   "execution_count": 11,
   "metadata": {},
   "outputs": [
    {
     "data": {
      "text/html": [
       "<style  type=\"text/css\" >\n",
       "</style><table id=\"T_0da94_\" ><thead>    <tr>        <th class=\"blank level0\" ></th>        <th class=\"col_heading level0 col0\" >M1WD</th>        <th class=\"col_heading level0 col1\" >FVA</th>        <th class=\"col_heading level0 col2\" >Def Term Premia</th>        <th class=\"col_heading level0 col3\" >FVA+Def Term Premia</th>    </tr>    <tr>        <th class=\"index_name level0\" >M1WD Monthly Returns Ranking</th>        <th class=\"blank\" ></th>        <th class=\"blank\" ></th>        <th class=\"blank\" ></th>        <th class=\"blank\" ></th>    </tr></thead><tbody>\n",
       "                <tr>\n",
       "                        <th id=\"T_0da94_level0_row0\" class=\"row_heading level0 row0\" >Bottom</th>\n",
       "                        <td id=\"T_0da94_row0_col0\" class=\"data row0 col0\" >-6.66%</td>\n",
       "                        <td id=\"T_0da94_row0_col1\" class=\"data row0 col1\" >0.12%</td>\n",
       "                        <td id=\"T_0da94_row0_col2\" class=\"data row0 col2\" >1.82%</td>\n",
       "                        <td id=\"T_0da94_row0_col3\" class=\"data row0 col3\" >1.93%</td>\n",
       "            </tr>\n",
       "            <tr>\n",
       "                        <th id=\"T_0da94_level0_row1\" class=\"row_heading level0 row1\" >2nd</th>\n",
       "                        <td id=\"T_0da94_row1_col0\" class=\"data row1 col0\" >-1.13%</td>\n",
       "                        <td id=\"T_0da94_row1_col1\" class=\"data row1 col1\" >-0.01%</td>\n",
       "                        <td id=\"T_0da94_row1_col2\" class=\"data row1 col2\" >0.25%</td>\n",
       "                        <td id=\"T_0da94_row1_col3\" class=\"data row1 col3\" >0.25%</td>\n",
       "            </tr>\n",
       "            <tr>\n",
       "                        <th id=\"T_0da94_level0_row2\" class=\"row_heading level0 row2\" >3rd</th>\n",
       "                        <td id=\"T_0da94_row2_col0\" class=\"data row2 col0\" >1.04%</td>\n",
       "                        <td id=\"T_0da94_row2_col1\" class=\"data row2 col1\" >0.03%</td>\n",
       "                        <td id=\"T_0da94_row2_col2\" class=\"data row2 col2\" >-0.04%</td>\n",
       "                        <td id=\"T_0da94_row2_col3\" class=\"data row2 col3\" >-0.01%</td>\n",
       "            </tr>\n",
       "            <tr>\n",
       "                        <th id=\"T_0da94_level0_row3\" class=\"row_heading level0 row3\" >4th</th>\n",
       "                        <td id=\"T_0da94_row3_col0\" class=\"data row3 col0\" >2.76%</td>\n",
       "                        <td id=\"T_0da94_row3_col1\" class=\"data row3 col1\" >0.20%</td>\n",
       "                        <td id=\"T_0da94_row3_col2\" class=\"data row3 col2\" >-0.09%</td>\n",
       "                        <td id=\"T_0da94_row3_col3\" class=\"data row3 col3\" >0.10%</td>\n",
       "            </tr>\n",
       "            <tr>\n",
       "                        <th id=\"T_0da94_level0_row4\" class=\"row_heading level0 row4\" >Top</th>\n",
       "                        <td id=\"T_0da94_row4_col0\" class=\"data row4 col0\" >6.85%</td>\n",
       "                        <td id=\"T_0da94_row4_col1\" class=\"data row4 col1\" >0.22%</td>\n",
       "                        <td id=\"T_0da94_row4_col2\" class=\"data row4 col2\" >-0.34%</td>\n",
       "                        <td id=\"T_0da94_row4_col3\" class=\"data row4 col3\" >-0.12%</td>\n",
       "            </tr>\n",
       "    </tbody></table>"
      ],
      "text/plain": [
       "<pandas.io.formats.style.Styler at 0x2a1ba4bd2e0>"
      ]
     },
     "execution_count": 11,
     "metadata": {},
     "output_type": "execute_result"
    }
   ],
   "source": [
    "quintile_df = summary.get_quintile_data(ret_data_dict)\n",
    "quintile_df.style.format(\"{:.2%}\")"
   ]
  },
  {
   "cell_type": "markdown",
   "metadata": {},
   "source": [
    "## Display Quantile Analysis\n",
    "Display Quintile Analysis Bar Chart:\n",
    "* Compare strategies to the Equity Benchmark's returns"
   ]
  },
  {
   "cell_type": "code",
   "execution_count": null,
   "metadata": {},
   "outputs": [],
   "source": [
    "@interact\n",
    "def display_quintile_analysis(strat=list(quintile_df.select_dtypes('float').columns)[1:]):\n",
    "    df = quintile_df.copy()\n",
    "    for col in df.columns:\n",
    "        if not (col == equity_bmk or col ==strat):\n",
    "            df.drop([col], axis=1, inplace=True)\n",
    "    fig = px.bar(df,barmode='group',title =  \"Quintile Analysis\")\n",
    "    fig.show()"
   ]
  }
 ],
 "metadata": {
  "kernelspec": {
   "display_name": "Python 3",
   "language": "python",
   "name": "python3"
  },
  "language_info": {
   "codemirror_mode": {
    "name": "ipython",
    "version": 3
   },
   "file_extension": ".py",
   "mimetype": "text/x-python",
   "name": "python",
   "nbconvert_exporter": "python",
   "pygments_lexer": "ipython3",
   "version": "3.8.3"
  }
 },
 "nbformat": 4,
 "nbformat_minor": 5
}
