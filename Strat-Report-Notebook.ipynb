{
 "cells": [
  {
   "cell_type": "markdown",
   "id": "fd399532",
   "metadata": {},
   "source": [
    "# Strategy Report Notebook\n",
    "This notebok runs analysis on the Strategy and Allocation Portfolio"
   ]
  },
  {
   "cell_type": "markdown",
   "id": "cfc93f0a",
   "metadata": {},
   "source": [
    "## Import Libraries"
   ]
  },
  {
   "cell_type": "code",
   "execution_count": 1,
   "id": "e52dff80",
   "metadata": {},
   "outputs": [],
   "source": [
    "import pandas as pd\n",
    "import ipywidgets as widgets\n",
    "import datapane as dp \n",
    "import plotly.express as px\n",
    "from EquityHedging.datamanager import data_manager as dm\n",
    "from EquityHedging.analytics.util import get_df_weights\n",
    "from EquityHedging.analytics import summary\n",
    "from EquityHedging.reporting.excel import reports as rp\n",
    "from EquityHedging.reporting import formatter as fmt, plots\n",
    "from ipywidgets import interact, interact_manual\n",
    "from EquityHedging.reporting.excel import sheets\n",
    "import os\n"
   ]
  },
  {
   "cell_type": "markdown",
   "id": "9badf88e",
   "metadata": {},
   "source": [
    "## Compute Equity Hedge Returns for International Benchmark\n",
    "To compute: Select an Equity Benchmark (**equity_bmk**):  SPTR, M1WD, SX5T\n",
    "\n"
   ]
  },
  {
   "cell_type": "code",
   "execution_count": 2,
   "id": "d2c31382",
   "metadata": {},
   "outputs": [],
   "source": [
    "equity_bmk = 'M1WD'\n",
    "bmks = dm.get_equity_hedge_returns(equity_bmk, only_equity=True)\n"
   ]
  },
  {
   "cell_type": "markdown",
   "id": "64f341ec",
   "metadata": {},
   "source": [
    "## Add a Strategy\n",
    "Add File Name to \"io\" and the name of the sheet in \"sheet_name\" in **data=pd.read_excel(io= , sheet_name= )"
   ]
  },
  {
   "cell_type": "code",
   "execution_count": 3,
   "id": "d18bdd5b",
   "metadata": {},
   "outputs": [],
   "source": [
    "CWD = os.getcwd()\n",
    "NEWSTRAT_DATA_FP = '\\\\EquityHedging\\\\data\\\\'\n",
    "NEW_STRAT_DATA = CWD + NEWSTRAT_DATA_FP + 'new_strats'\n",
    "data=pd.read_excel(io=\"Credit Suisse_SX5E_Tail_FSFVA_20210528_UPS Pension.xlsx\", sheet_name=\"data\",index_col=0)"
   ]
  },
  {
   "cell_type": "markdown",
   "id": "83bfcc8f",
   "metadata": {},
   "source": [
    "## Get Return Data of New Strategy and Merge with Benchmark"
   ]
  },
  {
   "cell_type": "code",
   "execution_count": 4,
   "id": "b9a07d7e",
   "metadata": {},
   "outputs": [],
   "source": [
    "data_dict=dm.get_data_dict(data,'index')\n",
    "ret_strats=ret_strats=dm.merge_dicts(bmks, data_dict)"
   ]
  },
  {
   "cell_type": "markdown",
   "id": "c565ee24",
   "metadata": {},
   "source": [
    "## View Returns Data"
   ]
  },
  {
   "cell_type": "code",
   "execution_count": 5,
   "id": "da2d9bc0",
   "metadata": {},
   "outputs": [
    {
     "data": {
      "application/vnd.jupyter.widget-view+json": {
       "model_id": "6a7aa482ee1e4cc4a9d65f7d9857221b",
       "version_major": 2,
       "version_minor": 0
      },
      "text/plain": [
       "interactive(children=(Dropdown(description='frequency', options=('Daily', 'Weekly', 'Monthly', 'Quarterly', 'Y…"
      ]
     },
     "metadata": {},
     "output_type": "display_data"
    }
   ],
   "source": [
    "freq_list = ['Daily', 'Weekly', 'Monthly','Quarterly', 'Yearly']\n",
    "@interact\n",
    "def display_returns(frequency = freq_list):\n",
    "    return fmt.get_returns_styler(ret_strats[frequency])"
   ]
  },
  {
   "cell_type": "markdown",
   "id": "a9770c60",
   "metadata": {},
   "source": [
    "todo: show correlation chart, return strats, and hedge metrics"
   ]
  }
 ],
 "metadata": {
  "kernelspec": {
   "display_name": "Python 3",
   "language": "python",
   "name": "python3"
  },
  "language_info": {
   "codemirror_mode": {
    "name": "ipython",
    "version": 3
   },
   "file_extension": ".py",
   "mimetype": "text/x-python",
   "name": "python",
   "nbconvert_exporter": "python",
   "pygments_lexer": "ipython3",
   "version": "3.8.8"
  }
 },
 "nbformat": 4,
 "nbformat_minor": 5
}
