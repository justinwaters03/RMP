{
 "cells": [
  {
   "cell_type": "markdown",
   "id": "70d3451c",
   "metadata": {},
   "source": [
    "# Strategy Report Notebook\n",
    "This notebok runs analysis on a given strategy."
   ]
  },
  {
   "cell_type": "markdown",
   "id": "65ff2448",
   "metadata": {},
   "source": [
    "## Import Libraries"
   ]
  },
  {
   "cell_type": "code",
   "execution_count": null,
   "id": "e52dff80",
   "metadata": {},
   "outputs": [],
   "source": [
    "import pandas as pd\n",
    "import ipywidgets as widgets\n",
    "import datapane as dp \n",
    "import plotly.express as px\n",
    "from EquityHedging.datamanager import data_manager as dm\n",
    "from EquityHedging.analytics.util import get_df_weights\n",
    "from EquityHedging.analytics import summary\n",
    "from EquityHedging.reporting.excel import reports as rp\n",
    "from EquityHedging.reporting import formatter as fmt, plots\n",
    "from ipywidgets import interact, interact_manual\n",
    "from EquityHedging.reporting.excel import sheets\n",
    "import os"
   ]
  },
  {
   "cell_type": "markdown",
   "id": "95c6b24e",
   "metadata": {},
   "source": [
    "## Import Daily, Weekly, Monthly, Quarterly and Yearly Returns Data for Equity Benchmark\n",
    "\n",
    "To import the returns data:\n",
    "* Select an Equity Benchmark (**equity_bmk**):  SPTR, M1WD, SX5T"
   ]
  },
  {
   "cell_type": "code",
   "execution_count": null,
   "id": "e7ab7212",
   "metadata": {},
   "outputs": [],
   "source": [
    "equity_bmk = 'M1WD'\n",
    "\n",
    "#create returns data dictionary for equity benchmark\n",
    "bmks_dict= dm.get_equity_hedge_returns(equity_bmk, only_equity=True)"
   ]
  },
  {
   "cell_type": "markdown",
   "id": "a8162f46",
   "metadata": {},
   "source": [
    "## Import Daily, Weekly, Monthly, Quarterly and Yearly Returns Data for a Strategy\n",
    "To import the returns data:\n",
    "* In **new_data = get_new_strategy_returns_data( report_name= , sheet_name = ,index_col=0)**\n",
    "    * Add File Name to **report_name** \n",
    "    * Add sheet name to **sheet_name**"
   ]
  },
  {
   "cell_type": "code",
   "execution_count": null,
   "id": "d18bdd5b",
   "metadata": {},
   "outputs": [],
   "source": [
    "new_data= dm.get_new_strategy_returns_data( report_name = \"Credit Suisse_SX5E_Tail_FSFVA_20210528_UPS Pension.xlsx\", \n",
    "                                           sheet_name = \"data\",index_col=0)\n",
    "\n",
    "#create returns data dictionary for strategy\n",
    "new_data_dict = dm.get_data_dict(new_data,'index')\n",
    "\n",
    "#merge dictionaries\n",
    "ret_data_dict = dm.merge_dicts(bmks_dict,new_data_dict)"
   ]
  },
  {
   "cell_type": "markdown",
   "id": "c565ee24",
   "metadata": {},
   "source": [
    "## View Returns Data\n",
    "Select frequency (Daily, Weekly, Monthly, Yearly) to view data"
   ]
  },
  {
   "cell_type": "code",
   "execution_count": null,
   "id": "da2d9bc0",
   "metadata": {},
   "outputs": [],
   "source": [
    "freq_list = ['Daily', 'Weekly', 'Monthly','Quarterly', 'Yearly']\n",
    "@interact\n",
    "def display_returns(frequency = freq_list):\n",
    "    return fmt.get_returns_styler(ret_data_dict[frequency])"
   ]
  },
  {
   "cell_type": "markdown",
   "id": "4d170a3e",
   "metadata": {},
   "source": [
    "## Compute Return Stats and hedge Metrics"
   ]
  },
  {
   "cell_type": "code",
   "execution_count": null,
   "id": "0a036ed1",
   "metadata": {},
   "outputs": [],
   "source": [
    "analytics_freq_list = ['Weekly', 'Monthly']\n",
    "analytics_dict = summary.get_analytics_data(ret_data_dict)"
   ]
  },
  {
   "cell_type": "markdown",
   "id": "3919f4be",
   "metadata": {},
   "source": [
    "## Display Return Stats and Hedge Metrics\n",
    "Display Returns Analytics data by:\n",
    "* **frequency (Monthly or Weekly)** - Show Monthly or Weekly returns\n",
    "* **stats (return_stats, hedge_metrics)** - Show:\n",
    "    * Return Statistics or \n",
    "    * Hedge Metrics"
   ]
  },
  {
   "cell_type": "code",
   "execution_count": null,
   "id": "6f2b24ef",
   "metadata": {},
   "outputs": [],
   "source": [
    "@interact\n",
    "def display_returns(frequency = freq_list):\n",
    "    return fmt.get_returns_styler(ret_data_dict[frequency])"
   ]
  },
  {
   "cell_type": "markdown",
   "id": "e5df4b92",
   "metadata": {},
   "source": [
    "## Compute Return Stats and Hedge Metrics"
   ]
  },
  {
   "cell_type": "code",
   "execution_count": null,
   "id": "ae5525c7",
   "metadata": {},
   "outputs": [],
   "source": [
    "analytics_freq_list = ['Weekly', 'Monthly']\n",
    "analytics_dict = summary.get_analytics_data(ret_data_dict)"
   ]
  },
  {
   "cell_type": "markdown",
   "id": "2f92dedf",
   "metadata": {},
   "source": [
    "## Display Return Stats and Hedge Metrics\n",
    "Display Returns Analytics data by:\n",
    "* **frequency (Monthly or Weekly)** - Show Monthly or Weekly returns\n",
    "* **stats (return_stats, hedge_metrics)** - Show:\n",
    "    * Return Statistics or \n",
    "    * Hedge Metrics"
   ]
  },
  {
   "cell_type": "code",
   "execution_count": null,
   "id": "4b30dbb5",
   "metadata": {},
   "outputs": [],
   "source": [
    "@interact\n",
    "def display_analytics(frequency=analytics_freq_list, stats=['return_stats', 'hedge_metrics']):\n",
    "    data = analytics_dict[frequency]\n",
    "    analytics = data[False]\n",
    "    if stats == 'return_stats':\n",
    "        return fmt.get_analytics_styler(analytics)\n",
    "    if stats == 'hedge_metrics':\n",
    "        if frequency == 'Weekly':\n",
    "            return fmt.get_analytics_styler(analytics, stats, '1W')\n",
    "        else:\n",
    "            return fmt.get_analytics_styler(analytics, stats)"
   ]
  },
  {
   "cell_type": "markdown",
   "id": "d86e8299",
   "metadata": {},
   "source": [
    "# Compute Correlations"
   ]
  },
  {
   "cell_type": "code",
   "execution_count": null,
   "id": "9fcacb16",
   "metadata": {},
   "outputs": [],
   "source": [
    "corr_freq_list = ['Weekly', 'Monthly']\n",
    "corr_dict = summary.get_corr_data(ret_data_dict)"
   ]
  },
  {
   "cell_type": "markdown",
   "id": "8281a3cb",
   "metadata": {},
   "source": [
    "# Display Correlations"
   ]
  },
  {
   "cell_type": "code",
   "execution_count": null,
   "id": "f6129bbb",
   "metadata": {},
   "outputs": [],
   "source": [
    "@interact\n",
    "def display_correlations(frequency=corr_freq_list,\n",
    "                         corr=['corr', 'corr_down', 'corr_up'], plot_type=['heatmap', 'corrplot']):\n",
    "    data = corr_dict[frequency]\n",
    "    corr_df = data[False][corr][0]\n",
    "    if plot_type == 'heatmap':\n",
    "        return plots.draw_heatmap(corr_df, half=False)\n",
    "    else:\n",
    "        return plots.draw_corrplot(corr_df)"
   ]
  },
  {
   "cell_type": "markdown",
   "id": "58fb69d2",
   "metadata": {},
   "source": [
    "## Compute Historical Sell Offs"
   ]
  },
  {
   "cell_type": "code",
   "execution_count": null,
   "id": "4926bf9d",
   "metadata": {},
   "outputs": [],
   "source": [
    "hist_dict = summary.get_hist_data(ret_data_dict)"
   ]
  },
  {
   "cell_type": "markdown",
   "id": "8366b53f",
   "metadata": {},
   "source": [
    "## Display Historical Sell Offs"
   ]
  },
  {
   "cell_type": "code",
   "execution_count": null,
   "id": "4e6b0424",
   "metadata": {},
   "outputs": [],
   "source": [
    "@interact\n",
    "def display_selloffs():\n",
    "    df_hist = hist_dict[False]\n",
    "    return fmt.get_hist_styler(df_hist)"
   ]
  },
  {
   "cell_type": "markdown",
   "id": "264776df",
   "metadata": {},
   "source": [
    "## Compute Quantile Analysis"
   ]
  },
  {
   "cell_type": "code",
   "execution_count": null,
   "id": "26e41ed9",
   "metadata": {},
   "outputs": [],
   "source": [
    "group_list=['Quintile','Decile']\n",
    "@interact\n",
    "def display_returns(group = group_list):\n",
    "    quintile_df = summary.get_grouped_data(ret_data_dict,[], False, group)\n",
    "    return(quintile_df.style.format(\"{:.2%}\"))"
   ]
  },
  {
   "cell_type": "markdown",
   "id": "ba229c19",
   "metadata": {},
   "source": [
    "## Display Quantile Analysis\n",
    "Display Quintile Analysis Bar Chart:\n",
    "* Compare strategies to the Equity Benchmark's returns"
   ]
  },
  {
   "cell_type": "code",
   "execution_count": null,
   "id": "7d7a97dc",
   "metadata": {},
   "outputs": [],
   "source": [
    "group_list=['Quintile','Decile']\n",
    "@interact\n",
    "\n",
    "def display_quintile_analysis(group = group_list, strat=list(ret_data_dict['Monthly'].select_dtypes('float').columns)[1:]):    \n",
    "    df = summary.get_grouped_data(ret_data_dict, [], False, group)\n",
    "    \n",
    "    for col in df.columns:\n",
    "        if not (col == equity_bmk or col ==strat):\n",
    "            df.drop([col], axis=1, inplace=True)\n",
    "    if group == \"Quintile\":\n",
    "        title ='Quintile Analysis'\n",
    "    else:\n",
    "        title = 'Decile Analysis'\n",
    "        \n",
    "    fig = px.bar(df,barmode='group',title = title)\n",
    "    fig.show()\n",
    "    "
   ]
  },
  {
   "cell_type": "markdown",
   "id": "49402843",
   "metadata": {},
   "source": [
    "# Create Report"
   ]
  },
  {
   "cell_type": "code",
   "execution_count": null,
   "id": "5fdd4a85",
   "metadata": {},
   "outputs": [],
   "source": [
    "strat_report = 'Strat_Report'\n",
    "selloffs = True\n",
    "rp.generate_strat_report(strat_report, ret_data_dict, selloffs)"
   ]
  },
  {
   "cell_type": "code",
   "execution_count": null,
   "id": "8d42c0d2",
   "metadata": {},
   "outputs": [],
   "source": []
  }
 ],
 "metadata": {
  "kernelspec": {
   "display_name": "Python 3",
   "language": "python",
   "name": "python3"
  },
  "language_info": {
   "codemirror_mode": {
    "name": "ipython",
    "version": 3
   },
   "file_extension": ".py",
   "mimetype": "text/x-python",
   "name": "python",
   "nbconvert_exporter": "python",
   "pygments_lexer": "ipython3",
   "version": "3.8.8"
  }
 },
 "nbformat": 4,
 "nbformat_minor": 5
}
