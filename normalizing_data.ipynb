{
 "cells": [
  {
   "cell_type": "markdown",
   "id": "1678ac7b",
   "metadata": {},
   "source": [
    "# Ranking Strategies Notebook\n",
    "This notebook normalized cumulative, reliability, and decay metrics and ranks strategies highest to lowest based on these metrics."
   ]
  },
  {
   "cell_type": "markdown",
   "id": "acc2f03b",
   "metadata": {},
   "source": [
    "## Import Libraries"
   ]
  },
  {
   "cell_type": "code",
   "execution_count": null,
   "id": "da6b098c",
   "metadata": {},
   "outputs": [],
   "source": [
    "from ipywidgets import interact, interact_manual\n",
    "from EquityHedging.datamanager import data_manager as dm\n",
    "from EquityHedging.analytics import  util\n",
    "from EquityHedging.analytics import summary \n",
    "from EquityHedging.reporting.excel import reports as rp\n",
    "from EquityHedging.reporting import formatter as fmt, plots\n",
    "from EquityHedging.analytics import hedge_metrics as hm\n",
    "import pandas as pd\n",
    "from sklearn.preprocessing import MinMaxScaler\n",
    "import plotly.graph_objects as go\n"
   ]
  },
  {
   "cell_type": "markdown",
   "id": "92878fe4",
   "metadata": {},
   "source": [
    "## Import returns data\n",
    "\n",
    "### Imports Daily, Weekly, Monthly, Quarterly and Yearly returns data\n",
    "\n",
    "To import the returns data:\n",
    "* Select an Equity Benchmark (**equity_bmk**) - SPTR, M1WD, SX5T\n",
    "* Decide if you want a Fixed Income Benchmark (**include_fi**) - True, False\n",
    "* Select what equity hedging strategies to exclude (**strat_drop_list**). Below is the list of strategies:\n",
    "\n",
    "    * 99%/90% Put Spread, Down Var, Vortex, VOLA , Dynamic Put Spread, VRR, GW Dispersion, Corr Hedge, Def Var"
   ]
  },
  {
   "cell_type": "code",
   "execution_count": null,
   "id": "2a01c64d",
   "metadata": {},
   "outputs": [],
   "source": [
    "equity_bmk = 'SPTR'\n",
    "weighted = [True, False]\n",
    "strat_drop_list = ['99%/90% Put Spread', 'Vortex']\n",
    "returns = dm.get_equity_hedge_returns(equity_bmk, strat_drop_list = strat_drop_list)\n",
    "weekly_ret=returns['Weekly'].copy()"
   ]
  },
  {
   "cell_type": "markdown",
   "id": "7053f888",
   "metadata": {},
   "source": [
    "##  Get Notional Weights "
   ]
  },
  {
   "cell_type": "code",
   "execution_count": null,
   "id": "02bf436d",
   "metadata": {},
   "outputs": [],
   "source": [
    "#notional_weights = dm.get_notional_weights(returns['Monthly'])\n",
    "notional_weights = [19.0, 1.0, 1.0, 1.0, 1.0, 1.0, 0.25, 1.0]\n",
    "df_weights = util.get_df_weights(notional_weights, list(returns['Weekly'].columns))\n",
    "fmt.get_notional_styler(df_weights)"
   ]
  },
  {
   "cell_type": "markdown",
   "id": "6f565722",
   "metadata": {},
   "source": [
    "## Get Hedge Metrics and Normalized Hedge Metrics"
   ]
  },
  {
   "cell_type": "code",
   "execution_count": null,
   "id": "73f1c9bb",
   "metadata": {},
   "outputs": [],
   "source": [
    "data = summary.get_normalized_hedge_metrics(weekly_ret, equity_bmk=True, notional_weights = notional_weights, weighted = True)\n",
    "df_norm = data['Normalized Data']\n",
    "df_normal = df_norm.transpose()"
   ]
  },
  {
   "cell_type": "markdown",
   "id": "d04b3d18",
   "metadata": {},
   "source": [
    "\n",
    "## Display Data\n",
    "To display data:\n",
    "* Select which statistics you want to view **(stats)** -  Hedge Metrics or Normalized Data"
   ]
  },
  {
   "cell_type": "code",
   "execution_count": null,
   "id": "b24fc823",
   "metadata": {},
   "outputs": [],
   "source": [
    "@interact\n",
    "def display_hedge_metrics_or_normal( stats = ['Hedge Metrics','Normalized Data']):\n",
    "    if stats == 'Hedge Metrics':\n",
    "        return fmt.format_hm_to_normalize(data[stats])    \n",
    "    else:\n",
    "        return fmt.format_normalized_data(data[stats])\n"
   ]
  },
  {
   "cell_type": "markdown",
   "id": "550a0175",
   "metadata": {},
   "source": [
    "## Display Ranked Strategies vs Normalized Data"
   ]
  },
  {
   "cell_type": "code",
   "execution_count": null,
   "id": "df41e010",
   "metadata": {},
   "outputs": [],
   "source": [
    "#assign each strategy a symbol\n",
    "symbols = plots.get_symbols(df_normal, unique=True)\n",
    "color = plots.get_colors(df_normal, grey=False)\n",
    "\n",
    "index = list(df_normal.index)\n",
    "fig = go.Figure()\n",
    "#loops through eaach column and plots each metric for the given strategy\n",
    "for col in df_normal.columns:\n",
    "    fig.add_trace(go.Scatter(\n",
    "        x=index,\n",
    "        y=df_normal[col],\n",
    "        marker=dict(size = 20, color = color[col]),\n",
    "        marker_symbol = symbols[col],\n",
    "        mode= \"markers\",\n",
    "        name=col\n",
    "        ))\n",
    "fig.update_layout(title=\"\",\n",
    "                xaxis_title=\"Hedge Metric\",\n",
    "                yaxis_title=\"Higher the Better\",\n",
    "                  plot_bgcolor='White')\n",
    "fig.update_xaxes(showline=True, linewidth=2, linecolor='black', mirror=False)\n",
    "fig.update_yaxes(showline=True, linewidth=2, linecolor='black', mirror=False)\n",
    "fig.show()"
   ]
  },
  {
   "cell_type": "code",
   "execution_count": null,
   "id": "9ff2c543",
   "metadata": {
    "scrolled": true
   },
   "outputs": [],
   "source": [
    "#pip install -U kaleido\n",
    "#fig.write_image(\"fig1.png\")"
   ]
  }
 ],
 "metadata": {
  "kernelspec": {
   "display_name": "Python 3",
   "language": "python",
   "name": "python3"
  },
  "language_info": {
   "codemirror_mode": {
    "name": "ipython",
    "version": 3
   },
   "file_extension": ".py",
   "mimetype": "text/x-python",
   "name": "python",
   "nbconvert_exporter": "python",
   "pygments_lexer": "ipython3",
   "version": "3.8.8"
  }
 },
 "nbformat": 4,
 "nbformat_minor": 5
}
