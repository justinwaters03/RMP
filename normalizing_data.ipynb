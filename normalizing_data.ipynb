{
 "cells": [
  {
   "cell_type": "markdown",
   "metadata": {},
   "source": [
    "# Ranking Strategies Notebook\n",
    "This notebook normalized cumulative, reliability, and decay metrics and ranks strategies highest to lowest based on these metrics."
   ]
  },
  {
   "cell_type": "markdown",
   "metadata": {},
   "source": [
    "## Import Libraries"
   ]
  },
  {
   "cell_type": "code",
   "execution_count": 1,
   "metadata": {},
   "outputs": [],
   "source": [
    "from EquityHedging.datamanager import data_manager as dm\n",
    "from EquityHedging.analytics import  util\n",
    "from EquityHedging.analytics.util import get_df_weights\n",
    "from EquityHedging.analytics import summary\n",
    "from EquityHedging.reporting.excel import reports as rp\n",
    "from EquityHedging.reporting import formatter as fmt, plots\n",
    "from EquityHedging.analytics import hedge_metrics as hm\n",
    "import pandas as pd\n",
    "from sklearn.preprocessing import MinMaxScaler\n",
    "import plotly.graph_objects as go\n",
    "    \n"
   ]
  },
  {
   "cell_type": "markdown",
   "metadata": {},
   "source": [
    "## Import returns data\n",
    "\n",
    "### Imports Daily, Weekly, Monthly, Quarterly and Yearly returns data\n",
    "\n",
    "To import the returns data:\n",
    "* Select an Equity Benchmark (**equity_bmk**) - SPTR, M1WD, SX5T\n",
    "* Decide if you want a Fixed Income Benchmark (**include_fi**) - True, False\n",
    "* Select what equity hedging strategies to exclude (**strat_drop_list**). Below is the list of strategies:\n",
    "\n",
    "    * 99%/90% Put Spread, Down Var, Vortex, VOLA , Dynamic Put Spread, VRR, GW Dispersion, Corr Hedge"
   ]
  },
  {
   "cell_type": "code",
   "execution_count": 2,
   "metadata": {},
   "outputs": [],
   "source": [
    "equity_bmk = 'M1WD'\n",
    "include_fi = False\n",
    "weighted = [True, False]\n",
    "strat_drop_list = ['99%/90% Put Spread', 'Vortex']\n",
    "new_strat = True\n",
    "returns = dm.get_equity_hedge_returns(equity_bmk, include_fi, strat_drop_list)"
   ]
  },
  {
   "cell_type": "markdown",
   "metadata": {},
   "source": [
    "##  Get Notional Weights "
   ]
  },
  {
   "cell_type": "code",
   "execution_count": 3,
   "metadata": {},
   "outputs": [
    {
     "data": {
      "text/html": [
       "<style  type=\"text/css\" >\n",
       "</style><table id=\"T_e55b563b_e417_11eb_b02e_c8d9d2062ce0\" ><thead>    <tr>        <th class=\"blank level0\" ></th>        <th class=\"col_heading level0 col0\" >M1WD</th>        <th class=\"col_heading level0 col1\" >Down Var</th>        <th class=\"col_heading level0 col2\" >VOLA</th>        <th class=\"col_heading level0 col3\" >Dynamic Put Spread</th>        <th class=\"col_heading level0 col4\" >VRR</th>        <th class=\"col_heading level0 col5\" >GW Dispersion</th>        <th class=\"col_heading level0 col6\" >Corr Hedge</th>        <th class=\"col_heading level0 col7\" >Def Var</th>    </tr></thead><tbody>\n",
       "                <tr>\n",
       "                        <th id=\"T_e55b563b_e417_11eb_b02e_c8d9d2062ce0level0_row0\" class=\"row_heading level0 row0\" >Notional Weights (Billions)</th>\n",
       "                        <td id=\"T_e55b563b_e417_11eb_b02e_c8d9d2062ce0row0_col0\" class=\"data row0 col0\" >$19.00</td>\n",
       "                        <td id=\"T_e55b563b_e417_11eb_b02e_c8d9d2062ce0row0_col1\" class=\"data row0 col1\" >$1.00</td>\n",
       "                        <td id=\"T_e55b563b_e417_11eb_b02e_c8d9d2062ce0row0_col2\" class=\"data row0 col2\" >$1.00</td>\n",
       "                        <td id=\"T_e55b563b_e417_11eb_b02e_c8d9d2062ce0row0_col3\" class=\"data row0 col3\" >$1.00</td>\n",
       "                        <td id=\"T_e55b563b_e417_11eb_b02e_c8d9d2062ce0row0_col4\" class=\"data row0 col4\" >$1.00</td>\n",
       "                        <td id=\"T_e55b563b_e417_11eb_b02e_c8d9d2062ce0row0_col5\" class=\"data row0 col5\" >$1.00</td>\n",
       "                        <td id=\"T_e55b563b_e417_11eb_b02e_c8d9d2062ce0row0_col6\" class=\"data row0 col6\" >$0.25</td>\n",
       "                        <td id=\"T_e55b563b_e417_11eb_b02e_c8d9d2062ce0row0_col7\" class=\"data row0 col7\" >$1.00</td>\n",
       "            </tr>\n",
       "            <tr>\n",
       "                        <th id=\"T_e55b563b_e417_11eb_b02e_c8d9d2062ce0level0_row1\" class=\"row_heading level0 row1\" >Percentage Weights</th>\n",
       "                        <td id=\"T_e55b563b_e417_11eb_b02e_c8d9d2062ce0row1_col0\" class=\"data row1 col0\" >100.00%</td>\n",
       "                        <td id=\"T_e55b563b_e417_11eb_b02e_c8d9d2062ce0row1_col1\" class=\"data row1 col1\" >5.26%</td>\n",
       "                        <td id=\"T_e55b563b_e417_11eb_b02e_c8d9d2062ce0row1_col2\" class=\"data row1 col2\" >5.26%</td>\n",
       "                        <td id=\"T_e55b563b_e417_11eb_b02e_c8d9d2062ce0row1_col3\" class=\"data row1 col3\" >5.26%</td>\n",
       "                        <td id=\"T_e55b563b_e417_11eb_b02e_c8d9d2062ce0row1_col4\" class=\"data row1 col4\" >5.26%</td>\n",
       "                        <td id=\"T_e55b563b_e417_11eb_b02e_c8d9d2062ce0row1_col5\" class=\"data row1 col5\" >5.26%</td>\n",
       "                        <td id=\"T_e55b563b_e417_11eb_b02e_c8d9d2062ce0row1_col6\" class=\"data row1 col6\" >1.32%</td>\n",
       "                        <td id=\"T_e55b563b_e417_11eb_b02e_c8d9d2062ce0row1_col7\" class=\"data row1 col7\" >5.26%</td>\n",
       "            </tr>\n",
       "            <tr>\n",
       "                        <th id=\"T_e55b563b_e417_11eb_b02e_c8d9d2062ce0level0_row2\" class=\"row_heading level0 row2\" >Strategy Weights</th>\n",
       "                        <td id=\"T_e55b563b_e417_11eb_b02e_c8d9d2062ce0row2_col0\" class=\"data row2 col0\" >0.00%</td>\n",
       "                        <td id=\"T_e55b563b_e417_11eb_b02e_c8d9d2062ce0row2_col1\" class=\"data row2 col1\" >16.00%</td>\n",
       "                        <td id=\"T_e55b563b_e417_11eb_b02e_c8d9d2062ce0row2_col2\" class=\"data row2 col2\" >16.00%</td>\n",
       "                        <td id=\"T_e55b563b_e417_11eb_b02e_c8d9d2062ce0row2_col3\" class=\"data row2 col3\" >16.00%</td>\n",
       "                        <td id=\"T_e55b563b_e417_11eb_b02e_c8d9d2062ce0row2_col4\" class=\"data row2 col4\" >16.00%</td>\n",
       "                        <td id=\"T_e55b563b_e417_11eb_b02e_c8d9d2062ce0row2_col5\" class=\"data row2 col5\" >16.00%</td>\n",
       "                        <td id=\"T_e55b563b_e417_11eb_b02e_c8d9d2062ce0row2_col6\" class=\"data row2 col6\" >4.00%</td>\n",
       "                        <td id=\"T_e55b563b_e417_11eb_b02e_c8d9d2062ce0row2_col7\" class=\"data row2 col7\" >16.00%</td>\n",
       "            </tr>\n",
       "    </tbody></table>"
      ],
      "text/plain": [
       "<pandas.io.formats.style.Styler at 0x1cc071a1880>"
      ]
     },
     "execution_count": 3,
     "metadata": {},
     "output_type": "execute_result"
    }
   ],
   "source": [
    "#notional_weights = dm.get_notional_weights(returns['Monthly'])\n",
    "notional_weights = [19.0, 1.0, 1.0, 1.0, 1.0, 1.0, 0.25, 1.0]\n",
    "df_weights = get_df_weights(notional_weights, list(returns['Monthly'].columns), include_fi)\n",
    "fmt.get_notional_styler(df_weights)"
   ]
  },
  {
   "cell_type": "code",
   "execution_count": 23,
   "metadata": {},
   "outputs": [
    {
     "data": {
      "text/html": [
       "<div>\n",
       "<style scoped>\n",
       "    .dataframe tbody tr th:only-of-type {\n",
       "        vertical-align: middle;\n",
       "    }\n",
       "\n",
       "    .dataframe tbody tr th {\n",
       "        vertical-align: top;\n",
       "    }\n",
       "\n",
       "    .dataframe thead th {\n",
       "        text-align: right;\n",
       "    }\n",
       "</style>\n",
       "<table border=\"1\" class=\"dataframe\">\n",
       "  <thead>\n",
       "    <tr style=\"text-align: right;\">\n",
       "      <th></th>\n",
       "      <th>Benefit</th>\n",
       "      <th>Down Reliability</th>\n",
       "      <th>Up Reliability</th>\n",
       "      <th>Convexity</th>\n",
       "      <th>Cost</th>\n",
       "      <th>Decay</th>\n",
       "    </tr>\n",
       "  </thead>\n",
       "  <tbody>\n",
       "    <tr>\n",
       "      <th>Down Var</th>\n",
       "      <td>1.384568</td>\n",
       "      <td>-0.378368</td>\n",
       "      <td>0.245336</td>\n",
       "      <td>0.950600</td>\n",
       "      <td>-2.029530</td>\n",
       "      <td>205.0</td>\n",
       "    </tr>\n",
       "    <tr>\n",
       "      <th>VOLA</th>\n",
       "      <td>0.630722</td>\n",
       "      <td>-0.759925</td>\n",
       "      <td>-0.383986</td>\n",
       "      <td>1.246549</td>\n",
       "      <td>-1.661032</td>\n",
       "      <td>152.0</td>\n",
       "    </tr>\n",
       "    <tr>\n",
       "      <th>Dynamic Put Spread</th>\n",
       "      <td>0.892500</td>\n",
       "      <td>-0.649971</td>\n",
       "      <td>-0.602008</td>\n",
       "      <td>0.259934</td>\n",
       "      <td>-1.260329</td>\n",
       "      <td>123.0</td>\n",
       "    </tr>\n",
       "    <tr>\n",
       "      <th>VRR</th>\n",
       "      <td>2.316304</td>\n",
       "      <td>-0.066891</td>\n",
       "      <td>-0.009208</td>\n",
       "      <td>0.541243</td>\n",
       "      <td>-2.178475</td>\n",
       "      <td>85.0</td>\n",
       "    </tr>\n",
       "    <tr>\n",
       "      <th>GW Dispersion</th>\n",
       "      <td>1.040725</td>\n",
       "      <td>-0.474068</td>\n",
       "      <td>0.030755</td>\n",
       "      <td>0.345939</td>\n",
       "      <td>-1.032908</td>\n",
       "      <td>174.0</td>\n",
       "    </tr>\n",
       "    <tr>\n",
       "      <th>Corr Hedge</th>\n",
       "      <td>1.261181</td>\n",
       "      <td>-0.138395</td>\n",
       "      <td>0.124009</td>\n",
       "      <td>1.087390</td>\n",
       "      <td>-1.202728</td>\n",
       "      <td>303.0</td>\n",
       "    </tr>\n",
       "    <tr>\n",
       "      <th>Def Var</th>\n",
       "      <td>1.343204</td>\n",
       "      <td>-0.047311</td>\n",
       "      <td>-0.077938</td>\n",
       "      <td>0.223392</td>\n",
       "      <td>-0.465385</td>\n",
       "      <td>365.0</td>\n",
       "    </tr>\n",
       "    <tr>\n",
       "      <th>Weighted Hedges</th>\n",
       "      <td>0.642579</td>\n",
       "      <td>-0.680657</td>\n",
       "      <td>-0.121284</td>\n",
       "      <td>0.413746</td>\n",
       "      <td>-0.602808</td>\n",
       "      <td>248.0</td>\n",
       "    </tr>\n",
       "  </tbody>\n",
       "</table>\n",
       "</div>"
      ],
      "text/plain": [
       "                     Benefit  Down Reliability  Up Reliability  Convexity   \\\n",
       "Down Var            1.384568         -0.378368        0.245336    0.950600   \n",
       "VOLA                0.630722         -0.759925       -0.383986    1.246549   \n",
       "Dynamic Put Spread  0.892500         -0.649971       -0.602008    0.259934   \n",
       "VRR                 2.316304         -0.066891       -0.009208    0.541243   \n",
       "GW Dispersion       1.040725         -0.474068        0.030755    0.345939   \n",
       "Corr Hedge          1.261181         -0.138395        0.124009    1.087390   \n",
       "Def Var             1.343204         -0.047311       -0.077938    0.223392   \n",
       "Weighted Hedges     0.642579         -0.680657       -0.121284    0.413746   \n",
       "\n",
       "                       Cost   Decay  \n",
       "Down Var           -2.029530  205.0  \n",
       "VOLA               -1.661032  152.0  \n",
       "Dynamic Put Spread -1.260329  123.0  \n",
       "VRR                -2.178475   85.0  \n",
       "GW Dispersion      -1.032908  174.0  \n",
       "Corr Hedge         -1.202728  303.0  \n",
       "Def Var            -0.465385  365.0  \n",
       "Weighted Hedges    -0.602808  248.0  "
      ]
     },
     "execution_count": 23,
     "metadata": {},
     "output_type": "execute_result"
    }
   ],
   "source": [
    "df = hm.get_hedge_metrics_to_normalize(returns, equity_bmk, notional_weights)\n",
    "df"
   ]
  },
  {
   "cell_type": "code",
   "execution_count": 28,
   "metadata": {},
   "outputs": [
    {
     "data": {
      "text/html": [
       "<div>\n",
       "<style scoped>\n",
       "    .dataframe tbody tr th:only-of-type {\n",
       "        vertical-align: middle;\n",
       "    }\n",
       "\n",
       "    .dataframe tbody tr th {\n",
       "        vertical-align: top;\n",
       "    }\n",
       "\n",
       "    .dataframe thead th {\n",
       "        text-align: right;\n",
       "    }\n",
       "</style>\n",
       "<table border=\"1\" class=\"dataframe\">\n",
       "  <thead>\n",
       "    <tr style=\"text-align: right;\">\n",
       "      <th></th>\n",
       "      <th>Benefit</th>\n",
       "      <th>Down Reliability</th>\n",
       "      <th>Up Reliability</th>\n",
       "      <th>Convexity</th>\n",
       "      <th>Cost</th>\n",
       "      <th>Decay</th>\n",
       "    </tr>\n",
       "  </thead>\n",
       "  <tbody>\n",
       "    <tr>\n",
       "      <th>Down Var</th>\n",
       "      <td>1.384568</td>\n",
       "      <td>0.378368</td>\n",
       "      <td>0.245336</td>\n",
       "      <td>0.950600</td>\n",
       "      <td>-2.029530</td>\n",
       "      <td>205.0</td>\n",
       "    </tr>\n",
       "    <tr>\n",
       "      <th>VOLA</th>\n",
       "      <td>0.630722</td>\n",
       "      <td>0.759925</td>\n",
       "      <td>-0.383986</td>\n",
       "      <td>1.246549</td>\n",
       "      <td>-1.661032</td>\n",
       "      <td>152.0</td>\n",
       "    </tr>\n",
       "    <tr>\n",
       "      <th>Dynamic Put Spread</th>\n",
       "      <td>0.892500</td>\n",
       "      <td>0.649971</td>\n",
       "      <td>-0.602008</td>\n",
       "      <td>0.259934</td>\n",
       "      <td>-1.260329</td>\n",
       "      <td>123.0</td>\n",
       "    </tr>\n",
       "    <tr>\n",
       "      <th>VRR</th>\n",
       "      <td>2.316304</td>\n",
       "      <td>0.066891</td>\n",
       "      <td>-0.009208</td>\n",
       "      <td>0.541243</td>\n",
       "      <td>-2.178475</td>\n",
       "      <td>85.0</td>\n",
       "    </tr>\n",
       "    <tr>\n",
       "      <th>GW Dispersion</th>\n",
       "      <td>1.040725</td>\n",
       "      <td>0.474068</td>\n",
       "      <td>0.030755</td>\n",
       "      <td>0.345939</td>\n",
       "      <td>-1.032908</td>\n",
       "      <td>174.0</td>\n",
       "    </tr>\n",
       "    <tr>\n",
       "      <th>Corr Hedge</th>\n",
       "      <td>1.261181</td>\n",
       "      <td>0.138395</td>\n",
       "      <td>0.124009</td>\n",
       "      <td>1.087390</td>\n",
       "      <td>-1.202728</td>\n",
       "      <td>303.0</td>\n",
       "    </tr>\n",
       "    <tr>\n",
       "      <th>Def Var</th>\n",
       "      <td>1.343204</td>\n",
       "      <td>0.047311</td>\n",
       "      <td>-0.077938</td>\n",
       "      <td>0.223392</td>\n",
       "      <td>-0.465385</td>\n",
       "      <td>365.0</td>\n",
       "    </tr>\n",
       "    <tr>\n",
       "      <th>Weighted Hedges</th>\n",
       "      <td>0.642579</td>\n",
       "      <td>0.680657</td>\n",
       "      <td>-0.121284</td>\n",
       "      <td>0.413746</td>\n",
       "      <td>-0.602808</td>\n",
       "      <td>248.0</td>\n",
       "    </tr>\n",
       "  </tbody>\n",
       "</table>\n",
       "</div>"
      ],
      "text/plain": [
       "                     Benefit  Down Reliability  Up Reliability  Convexity   \\\n",
       "Down Var            1.384568          0.378368        0.245336    0.950600   \n",
       "VOLA                0.630722          0.759925       -0.383986    1.246549   \n",
       "Dynamic Put Spread  0.892500          0.649971       -0.602008    0.259934   \n",
       "VRR                 2.316304          0.066891       -0.009208    0.541243   \n",
       "GW Dispersion       1.040725          0.474068        0.030755    0.345939   \n",
       "Corr Hedge          1.261181          0.138395        0.124009    1.087390   \n",
       "Def Var             1.343204          0.047311       -0.077938    0.223392   \n",
       "Weighted Hedges     0.642579          0.680657       -0.121284    0.413746   \n",
       "\n",
       "                       Cost   Decay  \n",
       "Down Var           -2.029530  205.0  \n",
       "VOLA               -1.661032  152.0  \n",
       "Dynamic Put Spread -1.260329  123.0  \n",
       "VRR                -2.178475   85.0  \n",
       "GW Dispersion      -1.032908  174.0  \n",
       "Corr Hedge         -1.202728  303.0  \n",
       "Def Var            -0.465385  365.0  \n",
       "Weighted Hedges    -0.602808  248.0  "
      ]
     },
     "execution_count": 28,
     "metadata": {},
     "output_type": "execute_result"
    }
   ],
   "source": [
    "#create new function in util with the following and call in get normalized data\n",
    "#this function will convert the down reliability to positive\n",
    "if 'Down Reliability' in df.columns:\n",
    "    df_1 = df.copy()\n",
    "    for x in df.index:\n",
    "        df_1['Down Reliability'][x] = -(df['Down Reliability'][x])\n",
    "df_1"
   ]
  },
  {
   "cell_type": "code",
   "execution_count": 30,
   "metadata": {},
   "outputs": [
    {
     "data": {
      "text/html": [
       "<div>\n",
       "<style scoped>\n",
       "    .dataframe tbody tr th:only-of-type {\n",
       "        vertical-align: middle;\n",
       "    }\n",
       "\n",
       "    .dataframe tbody tr th {\n",
       "        vertical-align: top;\n",
       "    }\n",
       "\n",
       "    .dataframe thead th {\n",
       "        text-align: right;\n",
       "    }\n",
       "</style>\n",
       "<table border=\"1\" class=\"dataframe\">\n",
       "  <thead>\n",
       "    <tr style=\"text-align: right;\">\n",
       "      <th></th>\n",
       "      <th>Down Var</th>\n",
       "      <th>VOLA</th>\n",
       "      <th>Dynamic Put Spread</th>\n",
       "      <th>VRR</th>\n",
       "      <th>GW Dispersion</th>\n",
       "      <th>Corr Hedge</th>\n",
       "      <th>Def Var</th>\n",
       "      <th>Weighted Hedges</th>\n",
       "    </tr>\n",
       "  </thead>\n",
       "  <tbody>\n",
       "    <tr>\n",
       "      <th>Benefit</th>\n",
       "      <td>0.447231</td>\n",
       "      <td>0.000000</td>\n",
       "      <td>0.155304</td>\n",
       "      <td>1.000000</td>\n",
       "      <td>0.243241</td>\n",
       "      <td>0.374030</td>\n",
       "      <td>0.422692</td>\n",
       "      <td>0.007034</td>\n",
       "    </tr>\n",
       "    <tr>\n",
       "      <th>Down Reliability</th>\n",
       "      <td>0.535432</td>\n",
       "      <td>0.000000</td>\n",
       "      <td>0.154297</td>\n",
       "      <td>0.972523</td>\n",
       "      <td>0.401138</td>\n",
       "      <td>0.872183</td>\n",
       "      <td>1.000000</td>\n",
       "      <td>0.111236</td>\n",
       "    </tr>\n",
       "    <tr>\n",
       "      <th>Up Reliability</th>\n",
       "      <td>1.000000</td>\n",
       "      <td>0.257301</td>\n",
       "      <td>0.000000</td>\n",
       "      <td>0.699599</td>\n",
       "      <td>0.746761</td>\n",
       "      <td>0.856815</td>\n",
       "      <td>0.618485</td>\n",
       "      <td>0.567331</td>\n",
       "    </tr>\n",
       "    <tr>\n",
       "      <th>Convexity</th>\n",
       "      <td>0.710750</td>\n",
       "      <td>1.000000</td>\n",
       "      <td>0.035714</td>\n",
       "      <td>0.310656</td>\n",
       "      <td>0.119773</td>\n",
       "      <td>0.844444</td>\n",
       "      <td>0.000000</td>\n",
       "      <td>0.186045</td>\n",
       "    </tr>\n",
       "    <tr>\n",
       "      <th>Cost</th>\n",
       "      <td>0.086945</td>\n",
       "      <td>0.302052</td>\n",
       "      <td>0.535959</td>\n",
       "      <td>0.000000</td>\n",
       "      <td>0.668714</td>\n",
       "      <td>0.569583</td>\n",
       "      <td>1.000000</td>\n",
       "      <td>0.919781</td>\n",
       "    </tr>\n",
       "    <tr>\n",
       "      <th>Decay</th>\n",
       "      <td>0.428571</td>\n",
       "      <td>0.239286</td>\n",
       "      <td>0.135714</td>\n",
       "      <td>0.000000</td>\n",
       "      <td>0.317857</td>\n",
       "      <td>0.778571</td>\n",
       "      <td>1.000000</td>\n",
       "      <td>0.582143</td>\n",
       "    </tr>\n",
       "  </tbody>\n",
       "</table>\n",
       "</div>"
      ],
      "text/plain": [
       "                  Down Var      VOLA  Dynamic Put Spread       VRR  \\\n",
       "Benefit           0.447231  0.000000            0.155304  1.000000   \n",
       "Down Reliability  0.535432  0.000000            0.154297  0.972523   \n",
       "Up Reliability    1.000000  0.257301            0.000000  0.699599   \n",
       "Convexity         0.710750  1.000000            0.035714  0.310656   \n",
       "Cost              0.086945  0.302052            0.535959  0.000000   \n",
       "Decay             0.428571  0.239286            0.135714  0.000000   \n",
       "\n",
       "                  GW Dispersion  Corr Hedge   Def Var  Weighted Hedges  \n",
       "Benefit                0.243241    0.374030  0.422692         0.007034  \n",
       "Down Reliability       0.401138    0.872183  1.000000         0.111236  \n",
       "Up Reliability         0.746761    0.856815  0.618485         0.567331  \n",
       "Convexity              0.119773    0.844444  0.000000         0.186045  \n",
       "Cost                   0.668714    0.569583  1.000000         0.919781  \n",
       "Decay                  0.317857    0.778571  1.000000         0.582143  "
      ]
     },
     "execution_count": 30,
     "metadata": {},
     "output_type": "execute_result"
    }
   ],
   "source": [
    "df_normal= summary.get_normalized_data(df)\n",
    "df_normal\n"
   ]
  },
  {
   "cell_type": "code",
   "execution_count": 44,
   "metadata": {},
   "outputs": [],
   "source": [
    "n=len(df_normal.columns)\n",
    "c=list(df_normal.columns)\n",
    "\n",
    "import random\n",
    "import numpy as np\n",
    "r=random.sample(range(0,35),n)\n",
    "\n",
    "symbols=pd.DataFrame(columns=c,index=[0])\n",
    "symbols.iloc[0] = r\n",
    "#TODO: make a list of symbols [0-32 and 46-52] and then call first n of list to assign symbols to strategy"
   ]
  },
  {
   "cell_type": "code",
   "execution_count": 45,
   "metadata": {},
   "outputs": [
    {
     "data": {
      "application/vnd.plotly.v1+json": {
       "config": {
        "plotlyServerURL": "https://plot.ly"
       },
       "data": [
        {
         "marker": {
          "size": 20,
          "symbol": [
           4
          ]
         },
         "mode": "markers",
         "name": "Down Var",
         "type": "scatter",
         "x": [
          "Benefit",
          "Down Reliability",
          "Up Reliability",
          "Convexity ",
          "Cost ",
          "Decay"
         ],
         "y": [
          0.4472314786279992,
          0.5354323745021641,
          1,
          0.7107495292356351,
          0.08694487848927679,
          0.42857142857142855
         ]
        },
        {
         "marker": {
          "size": 20,
          "symbol": [
           3
          ]
         },
         "mode": "markers",
         "name": "VOLA",
         "type": "scatter",
         "x": [
          "Benefit",
          "Down Reliability",
          "Up Reliability",
          "Convexity ",
          "Cost ",
          "Decay"
         ],
         "y": [
          0,
          0,
          0.25730082845688945,
          0.9999999999999999,
          0.3020522779099146,
          0.23928571428571427
         ]
        },
        {
         "marker": {
          "size": 20,
          "symbol": [
           25
          ]
         },
         "mode": "markers",
         "name": "Dynamic Put Spread",
         "type": "scatter",
         "x": [
          "Benefit",
          "Down Reliability",
          "Up Reliability",
          "Convexity ",
          "Cost ",
          "Decay"
         ],
         "y": [
          0.15530415590960528,
          0.15429690077939284,
          0,
          0.03571408241693266,
          0.5359585805127027,
          0.13571428571428573
         ]
        },
        {
         "marker": {
          "size": 20,
          "symbol": [
           33
          ]
         },
         "mode": "markers",
         "name": "VRR",
         "type": "scatter",
         "x": [
          "Benefit",
          "Down Reliability",
          "Up Reliability",
          "Convexity ",
          "Cost ",
          "Decay"
         ],
         "y": [
          1,
          0.9725234856309576,
          0.6995986990489536,
          0.31065635395797486,
          0,
          0
         ]
        },
        {
         "marker": {
          "size": 20,
          "symbol": [
           9
          ]
         },
         "mode": "markers",
         "name": "GW Dispersion",
         "type": "scatter",
         "x": [
          "Benefit",
          "Down Reliability",
          "Up Reliability",
          "Convexity ",
          "Cost ",
          "Decay"
         ],
         "y": [
          0.2432411259193607,
          0.40113783258912916,
          0.7467610870345425,
          0.11977283386455281,
          0.668713742780199,
          0.3178571428571429
         ]
        },
        {
         "marker": {
          "size": 20,
          "symbol": [
           29
          ]
         },
         "mode": "markers",
         "name": "Corr Hedge",
         "type": "scatter",
         "x": [
          "Benefit",
          "Down Reliability",
          "Up Reliability",
          "Convexity ",
          "Cost ",
          "Decay"
         ],
         "y": [
          0.37403040765746604,
          0.8721830825472546,
          0.8568153255610644,
          0.8444435502207138,
          0.5695830354239291,
          0.7785714285714285
         ]
        },
        {
         "marker": {
          "size": 20,
          "symbol": [
           15
          ]
         },
         "mode": "markers",
         "name": "Def Var",
         "type": "scatter",
         "x": [
          "Benefit",
          "Down Reliability",
          "Up Reliability",
          "Convexity ",
          "Cost ",
          "Decay"
         ],
         "y": [
          0.4226920768695212,
          0.9999999999999999,
          0.6184854940741311,
          0,
          0.9999999999999999,
          1
         ]
        },
        {
         "marker": {
          "size": 20,
          "symbol": [
           31
          ]
         },
         "mode": "markers",
         "name": "Weighted Hedges",
         "type": "scatter",
         "x": [
          "Benefit",
          "Down Reliability",
          "Up Reliability",
          "Convexity ",
          "Cost ",
          "Decay"
         ],
         "y": [
          0.007034221945504959,
          0.11123565426847326,
          0.5673305282290827,
          0.1860451682737608,
          0.919780589242708,
          0.5821428571428571
         ]
        }
       ],
       "layout": {
        "template": {
         "data": {
          "bar": [
           {
            "error_x": {
             "color": "#2a3f5f"
            },
            "error_y": {
             "color": "#2a3f5f"
            },
            "marker": {
             "line": {
              "color": "#E5ECF6",
              "width": 0.5
             },
             "pattern": {
              "fillmode": "overlay",
              "size": 10,
              "solidity": 0.2
             }
            },
            "type": "bar"
           }
          ],
          "barpolar": [
           {
            "marker": {
             "line": {
              "color": "#E5ECF6",
              "width": 0.5
             },
             "pattern": {
              "fillmode": "overlay",
              "size": 10,
              "solidity": 0.2
             }
            },
            "type": "barpolar"
           }
          ],
          "carpet": [
           {
            "aaxis": {
             "endlinecolor": "#2a3f5f",
             "gridcolor": "white",
             "linecolor": "white",
             "minorgridcolor": "white",
             "startlinecolor": "#2a3f5f"
            },
            "baxis": {
             "endlinecolor": "#2a3f5f",
             "gridcolor": "white",
             "linecolor": "white",
             "minorgridcolor": "white",
             "startlinecolor": "#2a3f5f"
            },
            "type": "carpet"
           }
          ],
          "choropleth": [
           {
            "colorbar": {
             "outlinewidth": 0,
             "ticks": ""
            },
            "type": "choropleth"
           }
          ],
          "contour": [
           {
            "colorbar": {
             "outlinewidth": 0,
             "ticks": ""
            },
            "colorscale": [
             [
              0,
              "#0d0887"
             ],
             [
              0.1111111111111111,
              "#46039f"
             ],
             [
              0.2222222222222222,
              "#7201a8"
             ],
             [
              0.3333333333333333,
              "#9c179e"
             ],
             [
              0.4444444444444444,
              "#bd3786"
             ],
             [
              0.5555555555555556,
              "#d8576b"
             ],
             [
              0.6666666666666666,
              "#ed7953"
             ],
             [
              0.7777777777777778,
              "#fb9f3a"
             ],
             [
              0.8888888888888888,
              "#fdca26"
             ],
             [
              1,
              "#f0f921"
             ]
            ],
            "type": "contour"
           }
          ],
          "contourcarpet": [
           {
            "colorbar": {
             "outlinewidth": 0,
             "ticks": ""
            },
            "type": "contourcarpet"
           }
          ],
          "heatmap": [
           {
            "colorbar": {
             "outlinewidth": 0,
             "ticks": ""
            },
            "colorscale": [
             [
              0,
              "#0d0887"
             ],
             [
              0.1111111111111111,
              "#46039f"
             ],
             [
              0.2222222222222222,
              "#7201a8"
             ],
             [
              0.3333333333333333,
              "#9c179e"
             ],
             [
              0.4444444444444444,
              "#bd3786"
             ],
             [
              0.5555555555555556,
              "#d8576b"
             ],
             [
              0.6666666666666666,
              "#ed7953"
             ],
             [
              0.7777777777777778,
              "#fb9f3a"
             ],
             [
              0.8888888888888888,
              "#fdca26"
             ],
             [
              1,
              "#f0f921"
             ]
            ],
            "type": "heatmap"
           }
          ],
          "heatmapgl": [
           {
            "colorbar": {
             "outlinewidth": 0,
             "ticks": ""
            },
            "colorscale": [
             [
              0,
              "#0d0887"
             ],
             [
              0.1111111111111111,
              "#46039f"
             ],
             [
              0.2222222222222222,
              "#7201a8"
             ],
             [
              0.3333333333333333,
              "#9c179e"
             ],
             [
              0.4444444444444444,
              "#bd3786"
             ],
             [
              0.5555555555555556,
              "#d8576b"
             ],
             [
              0.6666666666666666,
              "#ed7953"
             ],
             [
              0.7777777777777778,
              "#fb9f3a"
             ],
             [
              0.8888888888888888,
              "#fdca26"
             ],
             [
              1,
              "#f0f921"
             ]
            ],
            "type": "heatmapgl"
           }
          ],
          "histogram": [
           {
            "marker": {
             "pattern": {
              "fillmode": "overlay",
              "size": 10,
              "solidity": 0.2
             }
            },
            "type": "histogram"
           }
          ],
          "histogram2d": [
           {
            "colorbar": {
             "outlinewidth": 0,
             "ticks": ""
            },
            "colorscale": [
             [
              0,
              "#0d0887"
             ],
             [
              0.1111111111111111,
              "#46039f"
             ],
             [
              0.2222222222222222,
              "#7201a8"
             ],
             [
              0.3333333333333333,
              "#9c179e"
             ],
             [
              0.4444444444444444,
              "#bd3786"
             ],
             [
              0.5555555555555556,
              "#d8576b"
             ],
             [
              0.6666666666666666,
              "#ed7953"
             ],
             [
              0.7777777777777778,
              "#fb9f3a"
             ],
             [
              0.8888888888888888,
              "#fdca26"
             ],
             [
              1,
              "#f0f921"
             ]
            ],
            "type": "histogram2d"
           }
          ],
          "histogram2dcontour": [
           {
            "colorbar": {
             "outlinewidth": 0,
             "ticks": ""
            },
            "colorscale": [
             [
              0,
              "#0d0887"
             ],
             [
              0.1111111111111111,
              "#46039f"
             ],
             [
              0.2222222222222222,
              "#7201a8"
             ],
             [
              0.3333333333333333,
              "#9c179e"
             ],
             [
              0.4444444444444444,
              "#bd3786"
             ],
             [
              0.5555555555555556,
              "#d8576b"
             ],
             [
              0.6666666666666666,
              "#ed7953"
             ],
             [
              0.7777777777777778,
              "#fb9f3a"
             ],
             [
              0.8888888888888888,
              "#fdca26"
             ],
             [
              1,
              "#f0f921"
             ]
            ],
            "type": "histogram2dcontour"
           }
          ],
          "mesh3d": [
           {
            "colorbar": {
             "outlinewidth": 0,
             "ticks": ""
            },
            "type": "mesh3d"
           }
          ],
          "parcoords": [
           {
            "line": {
             "colorbar": {
              "outlinewidth": 0,
              "ticks": ""
             }
            },
            "type": "parcoords"
           }
          ],
          "pie": [
           {
            "automargin": true,
            "type": "pie"
           }
          ],
          "scatter": [
           {
            "marker": {
             "colorbar": {
              "outlinewidth": 0,
              "ticks": ""
             }
            },
            "type": "scatter"
           }
          ],
          "scatter3d": [
           {
            "line": {
             "colorbar": {
              "outlinewidth": 0,
              "ticks": ""
             }
            },
            "marker": {
             "colorbar": {
              "outlinewidth": 0,
              "ticks": ""
             }
            },
            "type": "scatter3d"
           }
          ],
          "scattercarpet": [
           {
            "marker": {
             "colorbar": {
              "outlinewidth": 0,
              "ticks": ""
             }
            },
            "type": "scattercarpet"
           }
          ],
          "scattergeo": [
           {
            "marker": {
             "colorbar": {
              "outlinewidth": 0,
              "ticks": ""
             }
            },
            "type": "scattergeo"
           }
          ],
          "scattergl": [
           {
            "marker": {
             "colorbar": {
              "outlinewidth": 0,
              "ticks": ""
             }
            },
            "type": "scattergl"
           }
          ],
          "scattermapbox": [
           {
            "marker": {
             "colorbar": {
              "outlinewidth": 0,
              "ticks": ""
             }
            },
            "type": "scattermapbox"
           }
          ],
          "scatterpolar": [
           {
            "marker": {
             "colorbar": {
              "outlinewidth": 0,
              "ticks": ""
             }
            },
            "type": "scatterpolar"
           }
          ],
          "scatterpolargl": [
           {
            "marker": {
             "colorbar": {
              "outlinewidth": 0,
              "ticks": ""
             }
            },
            "type": "scatterpolargl"
           }
          ],
          "scatterternary": [
           {
            "marker": {
             "colorbar": {
              "outlinewidth": 0,
              "ticks": ""
             }
            },
            "type": "scatterternary"
           }
          ],
          "surface": [
           {
            "colorbar": {
             "outlinewidth": 0,
             "ticks": ""
            },
            "colorscale": [
             [
              0,
              "#0d0887"
             ],
             [
              0.1111111111111111,
              "#46039f"
             ],
             [
              0.2222222222222222,
              "#7201a8"
             ],
             [
              0.3333333333333333,
              "#9c179e"
             ],
             [
              0.4444444444444444,
              "#bd3786"
             ],
             [
              0.5555555555555556,
              "#d8576b"
             ],
             [
              0.6666666666666666,
              "#ed7953"
             ],
             [
              0.7777777777777778,
              "#fb9f3a"
             ],
             [
              0.8888888888888888,
              "#fdca26"
             ],
             [
              1,
              "#f0f921"
             ]
            ],
            "type": "surface"
           }
          ],
          "table": [
           {
            "cells": {
             "fill": {
              "color": "#EBF0F8"
             },
             "line": {
              "color": "white"
             }
            },
            "header": {
             "fill": {
              "color": "#C8D4E3"
             },
             "line": {
              "color": "white"
             }
            },
            "type": "table"
           }
          ]
         },
         "layout": {
          "annotationdefaults": {
           "arrowcolor": "#2a3f5f",
           "arrowhead": 0,
           "arrowwidth": 1
          },
          "autotypenumbers": "strict",
          "coloraxis": {
           "colorbar": {
            "outlinewidth": 0,
            "ticks": ""
           }
          },
          "colorscale": {
           "diverging": [
            [
             0,
             "#8e0152"
            ],
            [
             0.1,
             "#c51b7d"
            ],
            [
             0.2,
             "#de77ae"
            ],
            [
             0.3,
             "#f1b6da"
            ],
            [
             0.4,
             "#fde0ef"
            ],
            [
             0.5,
             "#f7f7f7"
            ],
            [
             0.6,
             "#e6f5d0"
            ],
            [
             0.7,
             "#b8e186"
            ],
            [
             0.8,
             "#7fbc41"
            ],
            [
             0.9,
             "#4d9221"
            ],
            [
             1,
             "#276419"
            ]
           ],
           "sequential": [
            [
             0,
             "#0d0887"
            ],
            [
             0.1111111111111111,
             "#46039f"
            ],
            [
             0.2222222222222222,
             "#7201a8"
            ],
            [
             0.3333333333333333,
             "#9c179e"
            ],
            [
             0.4444444444444444,
             "#bd3786"
            ],
            [
             0.5555555555555556,
             "#d8576b"
            ],
            [
             0.6666666666666666,
             "#ed7953"
            ],
            [
             0.7777777777777778,
             "#fb9f3a"
            ],
            [
             0.8888888888888888,
             "#fdca26"
            ],
            [
             1,
             "#f0f921"
            ]
           ],
           "sequentialminus": [
            [
             0,
             "#0d0887"
            ],
            [
             0.1111111111111111,
             "#46039f"
            ],
            [
             0.2222222222222222,
             "#7201a8"
            ],
            [
             0.3333333333333333,
             "#9c179e"
            ],
            [
             0.4444444444444444,
             "#bd3786"
            ],
            [
             0.5555555555555556,
             "#d8576b"
            ],
            [
             0.6666666666666666,
             "#ed7953"
            ],
            [
             0.7777777777777778,
             "#fb9f3a"
            ],
            [
             0.8888888888888888,
             "#fdca26"
            ],
            [
             1,
             "#f0f921"
            ]
           ]
          },
          "colorway": [
           "#636efa",
           "#EF553B",
           "#00cc96",
           "#ab63fa",
           "#FFA15A",
           "#19d3f3",
           "#FF6692",
           "#B6E880",
           "#FF97FF",
           "#FECB52"
          ],
          "font": {
           "color": "#2a3f5f"
          },
          "geo": {
           "bgcolor": "white",
           "lakecolor": "white",
           "landcolor": "#E5ECF6",
           "showlakes": true,
           "showland": true,
           "subunitcolor": "white"
          },
          "hoverlabel": {
           "align": "left"
          },
          "hovermode": "closest",
          "mapbox": {
           "style": "light"
          },
          "paper_bgcolor": "white",
          "plot_bgcolor": "#E5ECF6",
          "polar": {
           "angularaxis": {
            "gridcolor": "white",
            "linecolor": "white",
            "ticks": ""
           },
           "bgcolor": "#E5ECF6",
           "radialaxis": {
            "gridcolor": "white",
            "linecolor": "white",
            "ticks": ""
           }
          },
          "scene": {
           "xaxis": {
            "backgroundcolor": "#E5ECF6",
            "gridcolor": "white",
            "gridwidth": 2,
            "linecolor": "white",
            "showbackground": true,
            "ticks": "",
            "zerolinecolor": "white"
           },
           "yaxis": {
            "backgroundcolor": "#E5ECF6",
            "gridcolor": "white",
            "gridwidth": 2,
            "linecolor": "white",
            "showbackground": true,
            "ticks": "",
            "zerolinecolor": "white"
           },
           "zaxis": {
            "backgroundcolor": "#E5ECF6",
            "gridcolor": "white",
            "gridwidth": 2,
            "linecolor": "white",
            "showbackground": true,
            "ticks": "",
            "zerolinecolor": "white"
           }
          },
          "shapedefaults": {
           "line": {
            "color": "#2a3f5f"
           }
          },
          "ternary": {
           "aaxis": {
            "gridcolor": "white",
            "linecolor": "white",
            "ticks": ""
           },
           "baxis": {
            "gridcolor": "white",
            "linecolor": "white",
            "ticks": ""
           },
           "bgcolor": "#E5ECF6",
           "caxis": {
            "gridcolor": "white",
            "linecolor": "white",
            "ticks": ""
           }
          },
          "title": {
           "x": 0.05
          },
          "xaxis": {
           "automargin": true,
           "gridcolor": "white",
           "linecolor": "white",
           "ticks": "",
           "title": {
            "standoff": 15
           },
           "zerolinecolor": "white",
           "zerolinewidth": 2
          },
          "yaxis": {
           "automargin": true,
           "gridcolor": "white",
           "linecolor": "white",
           "ticks": "",
           "title": {
            "standoff": 15
           },
           "zerolinecolor": "white",
           "zerolinewidth": 2
          }
         }
        },
        "title": {
         "text": ""
        },
        "xaxis": {
         "title": {
          "text": "Hedge Metric"
         }
        },
        "yaxis": {
         "title": {
          "text": "Higher the Better"
         }
        }
       }
      },
      "text/html": [
       "<div>                            <div id=\"c4168960-a75b-441b-88e8-500e326d764b\" class=\"plotly-graph-div\" style=\"height:525px; width:100%;\"></div>            <script type=\"text/javascript\">                require([\"plotly\"], function(Plotly) {                    window.PLOTLYENV=window.PLOTLYENV || {};                                    if (document.getElementById(\"c4168960-a75b-441b-88e8-500e326d764b\")) {                    Plotly.newPlot(                        \"c4168960-a75b-441b-88e8-500e326d764b\",                        [{\"marker\":{\"size\":20,\"symbol\":[4]},\"mode\":\"markers\",\"name\":\"Down Var\",\"type\":\"scatter\",\"x\":[\"Benefit\",\"Down Reliability\",\"Up Reliability\",\"Convexity \",\"Cost \",\"Decay\"],\"y\":[0.4472314786279992,0.5354323745021641,1.0,0.7107495292356351,0.08694487848927679,0.42857142857142855]},{\"marker\":{\"size\":20,\"symbol\":[3]},\"mode\":\"markers\",\"name\":\"VOLA\",\"type\":\"scatter\",\"x\":[\"Benefit\",\"Down Reliability\",\"Up Reliability\",\"Convexity \",\"Cost \",\"Decay\"],\"y\":[0.0,0.0,0.25730082845688945,0.9999999999999999,0.3020522779099146,0.23928571428571427]},{\"marker\":{\"size\":20,\"symbol\":[25]},\"mode\":\"markers\",\"name\":\"Dynamic Put Spread\",\"type\":\"scatter\",\"x\":[\"Benefit\",\"Down Reliability\",\"Up Reliability\",\"Convexity \",\"Cost \",\"Decay\"],\"y\":[0.15530415590960528,0.15429690077939284,0.0,0.03571408241693266,0.5359585805127027,0.13571428571428573]},{\"marker\":{\"size\":20,\"symbol\":[33]},\"mode\":\"markers\",\"name\":\"VRR\",\"type\":\"scatter\",\"x\":[\"Benefit\",\"Down Reliability\",\"Up Reliability\",\"Convexity \",\"Cost \",\"Decay\"],\"y\":[1.0,0.9725234856309576,0.6995986990489536,0.31065635395797486,0.0,0.0]},{\"marker\":{\"size\":20,\"symbol\":[9]},\"mode\":\"markers\",\"name\":\"GW Dispersion\",\"type\":\"scatter\",\"x\":[\"Benefit\",\"Down Reliability\",\"Up Reliability\",\"Convexity \",\"Cost \",\"Decay\"],\"y\":[0.2432411259193607,0.40113783258912916,0.7467610870345425,0.11977283386455281,0.668713742780199,0.3178571428571429]},{\"marker\":{\"size\":20,\"symbol\":[29]},\"mode\":\"markers\",\"name\":\"Corr Hedge\",\"type\":\"scatter\",\"x\":[\"Benefit\",\"Down Reliability\",\"Up Reliability\",\"Convexity \",\"Cost \",\"Decay\"],\"y\":[0.37403040765746604,0.8721830825472546,0.8568153255610644,0.8444435502207138,0.5695830354239291,0.7785714285714285]},{\"marker\":{\"size\":20,\"symbol\":[15]},\"mode\":\"markers\",\"name\":\"Def Var\",\"type\":\"scatter\",\"x\":[\"Benefit\",\"Down Reliability\",\"Up Reliability\",\"Convexity \",\"Cost \",\"Decay\"],\"y\":[0.4226920768695212,0.9999999999999999,0.6184854940741311,0.0,0.9999999999999999,1.0]},{\"marker\":{\"size\":20,\"symbol\":[31]},\"mode\":\"markers\",\"name\":\"Weighted Hedges\",\"type\":\"scatter\",\"x\":[\"Benefit\",\"Down Reliability\",\"Up Reliability\",\"Convexity \",\"Cost \",\"Decay\"],\"y\":[0.007034221945504959,0.11123565426847326,0.5673305282290827,0.1860451682737608,0.919780589242708,0.5821428571428571]}],                        {\"template\":{\"data\":{\"bar\":[{\"error_x\":{\"color\":\"#2a3f5f\"},\"error_y\":{\"color\":\"#2a3f5f\"},\"marker\":{\"line\":{\"color\":\"#E5ECF6\",\"width\":0.5},\"pattern\":{\"fillmode\":\"overlay\",\"size\":10,\"solidity\":0.2}},\"type\":\"bar\"}],\"barpolar\":[{\"marker\":{\"line\":{\"color\":\"#E5ECF6\",\"width\":0.5},\"pattern\":{\"fillmode\":\"overlay\",\"size\":10,\"solidity\":0.2}},\"type\":\"barpolar\"}],\"carpet\":[{\"aaxis\":{\"endlinecolor\":\"#2a3f5f\",\"gridcolor\":\"white\",\"linecolor\":\"white\",\"minorgridcolor\":\"white\",\"startlinecolor\":\"#2a3f5f\"},\"baxis\":{\"endlinecolor\":\"#2a3f5f\",\"gridcolor\":\"white\",\"linecolor\":\"white\",\"minorgridcolor\":\"white\",\"startlinecolor\":\"#2a3f5f\"},\"type\":\"carpet\"}],\"choropleth\":[{\"colorbar\":{\"outlinewidth\":0,\"ticks\":\"\"},\"type\":\"choropleth\"}],\"contour\":[{\"colorbar\":{\"outlinewidth\":0,\"ticks\":\"\"},\"colorscale\":[[0.0,\"#0d0887\"],[0.1111111111111111,\"#46039f\"],[0.2222222222222222,\"#7201a8\"],[0.3333333333333333,\"#9c179e\"],[0.4444444444444444,\"#bd3786\"],[0.5555555555555556,\"#d8576b\"],[0.6666666666666666,\"#ed7953\"],[0.7777777777777778,\"#fb9f3a\"],[0.8888888888888888,\"#fdca26\"],[1.0,\"#f0f921\"]],\"type\":\"contour\"}],\"contourcarpet\":[{\"colorbar\":{\"outlinewidth\":0,\"ticks\":\"\"},\"type\":\"contourcarpet\"}],\"heatmap\":[{\"colorbar\":{\"outlinewidth\":0,\"ticks\":\"\"},\"colorscale\":[[0.0,\"#0d0887\"],[0.1111111111111111,\"#46039f\"],[0.2222222222222222,\"#7201a8\"],[0.3333333333333333,\"#9c179e\"],[0.4444444444444444,\"#bd3786\"],[0.5555555555555556,\"#d8576b\"],[0.6666666666666666,\"#ed7953\"],[0.7777777777777778,\"#fb9f3a\"],[0.8888888888888888,\"#fdca26\"],[1.0,\"#f0f921\"]],\"type\":\"heatmap\"}],\"heatmapgl\":[{\"colorbar\":{\"outlinewidth\":0,\"ticks\":\"\"},\"colorscale\":[[0.0,\"#0d0887\"],[0.1111111111111111,\"#46039f\"],[0.2222222222222222,\"#7201a8\"],[0.3333333333333333,\"#9c179e\"],[0.4444444444444444,\"#bd3786\"],[0.5555555555555556,\"#d8576b\"],[0.6666666666666666,\"#ed7953\"],[0.7777777777777778,\"#fb9f3a\"],[0.8888888888888888,\"#fdca26\"],[1.0,\"#f0f921\"]],\"type\":\"heatmapgl\"}],\"histogram\":[{\"marker\":{\"pattern\":{\"fillmode\":\"overlay\",\"size\":10,\"solidity\":0.2}},\"type\":\"histogram\"}],\"histogram2d\":[{\"colorbar\":{\"outlinewidth\":0,\"ticks\":\"\"},\"colorscale\":[[0.0,\"#0d0887\"],[0.1111111111111111,\"#46039f\"],[0.2222222222222222,\"#7201a8\"],[0.3333333333333333,\"#9c179e\"],[0.4444444444444444,\"#bd3786\"],[0.5555555555555556,\"#d8576b\"],[0.6666666666666666,\"#ed7953\"],[0.7777777777777778,\"#fb9f3a\"],[0.8888888888888888,\"#fdca26\"],[1.0,\"#f0f921\"]],\"type\":\"histogram2d\"}],\"histogram2dcontour\":[{\"colorbar\":{\"outlinewidth\":0,\"ticks\":\"\"},\"colorscale\":[[0.0,\"#0d0887\"],[0.1111111111111111,\"#46039f\"],[0.2222222222222222,\"#7201a8\"],[0.3333333333333333,\"#9c179e\"],[0.4444444444444444,\"#bd3786\"],[0.5555555555555556,\"#d8576b\"],[0.6666666666666666,\"#ed7953\"],[0.7777777777777778,\"#fb9f3a\"],[0.8888888888888888,\"#fdca26\"],[1.0,\"#f0f921\"]],\"type\":\"histogram2dcontour\"}],\"mesh3d\":[{\"colorbar\":{\"outlinewidth\":0,\"ticks\":\"\"},\"type\":\"mesh3d\"}],\"parcoords\":[{\"line\":{\"colorbar\":{\"outlinewidth\":0,\"ticks\":\"\"}},\"type\":\"parcoords\"}],\"pie\":[{\"automargin\":true,\"type\":\"pie\"}],\"scatter\":[{\"marker\":{\"colorbar\":{\"outlinewidth\":0,\"ticks\":\"\"}},\"type\":\"scatter\"}],\"scatter3d\":[{\"line\":{\"colorbar\":{\"outlinewidth\":0,\"ticks\":\"\"}},\"marker\":{\"colorbar\":{\"outlinewidth\":0,\"ticks\":\"\"}},\"type\":\"scatter3d\"}],\"scattercarpet\":[{\"marker\":{\"colorbar\":{\"outlinewidth\":0,\"ticks\":\"\"}},\"type\":\"scattercarpet\"}],\"scattergeo\":[{\"marker\":{\"colorbar\":{\"outlinewidth\":0,\"ticks\":\"\"}},\"type\":\"scattergeo\"}],\"scattergl\":[{\"marker\":{\"colorbar\":{\"outlinewidth\":0,\"ticks\":\"\"}},\"type\":\"scattergl\"}],\"scattermapbox\":[{\"marker\":{\"colorbar\":{\"outlinewidth\":0,\"ticks\":\"\"}},\"type\":\"scattermapbox\"}],\"scatterpolar\":[{\"marker\":{\"colorbar\":{\"outlinewidth\":0,\"ticks\":\"\"}},\"type\":\"scatterpolar\"}],\"scatterpolargl\":[{\"marker\":{\"colorbar\":{\"outlinewidth\":0,\"ticks\":\"\"}},\"type\":\"scatterpolargl\"}],\"scatterternary\":[{\"marker\":{\"colorbar\":{\"outlinewidth\":0,\"ticks\":\"\"}},\"type\":\"scatterternary\"}],\"surface\":[{\"colorbar\":{\"outlinewidth\":0,\"ticks\":\"\"},\"colorscale\":[[0.0,\"#0d0887\"],[0.1111111111111111,\"#46039f\"],[0.2222222222222222,\"#7201a8\"],[0.3333333333333333,\"#9c179e\"],[0.4444444444444444,\"#bd3786\"],[0.5555555555555556,\"#d8576b\"],[0.6666666666666666,\"#ed7953\"],[0.7777777777777778,\"#fb9f3a\"],[0.8888888888888888,\"#fdca26\"],[1.0,\"#f0f921\"]],\"type\":\"surface\"}],\"table\":[{\"cells\":{\"fill\":{\"color\":\"#EBF0F8\"},\"line\":{\"color\":\"white\"}},\"header\":{\"fill\":{\"color\":\"#C8D4E3\"},\"line\":{\"color\":\"white\"}},\"type\":\"table\"}]},\"layout\":{\"annotationdefaults\":{\"arrowcolor\":\"#2a3f5f\",\"arrowhead\":0,\"arrowwidth\":1},\"autotypenumbers\":\"strict\",\"coloraxis\":{\"colorbar\":{\"outlinewidth\":0,\"ticks\":\"\"}},\"colorscale\":{\"diverging\":[[0,\"#8e0152\"],[0.1,\"#c51b7d\"],[0.2,\"#de77ae\"],[0.3,\"#f1b6da\"],[0.4,\"#fde0ef\"],[0.5,\"#f7f7f7\"],[0.6,\"#e6f5d0\"],[0.7,\"#b8e186\"],[0.8,\"#7fbc41\"],[0.9,\"#4d9221\"],[1,\"#276419\"]],\"sequential\":[[0.0,\"#0d0887\"],[0.1111111111111111,\"#46039f\"],[0.2222222222222222,\"#7201a8\"],[0.3333333333333333,\"#9c179e\"],[0.4444444444444444,\"#bd3786\"],[0.5555555555555556,\"#d8576b\"],[0.6666666666666666,\"#ed7953\"],[0.7777777777777778,\"#fb9f3a\"],[0.8888888888888888,\"#fdca26\"],[1.0,\"#f0f921\"]],\"sequentialminus\":[[0.0,\"#0d0887\"],[0.1111111111111111,\"#46039f\"],[0.2222222222222222,\"#7201a8\"],[0.3333333333333333,\"#9c179e\"],[0.4444444444444444,\"#bd3786\"],[0.5555555555555556,\"#d8576b\"],[0.6666666666666666,\"#ed7953\"],[0.7777777777777778,\"#fb9f3a\"],[0.8888888888888888,\"#fdca26\"],[1.0,\"#f0f921\"]]},\"colorway\":[\"#636efa\",\"#EF553B\",\"#00cc96\",\"#ab63fa\",\"#FFA15A\",\"#19d3f3\",\"#FF6692\",\"#B6E880\",\"#FF97FF\",\"#FECB52\"],\"font\":{\"color\":\"#2a3f5f\"},\"geo\":{\"bgcolor\":\"white\",\"lakecolor\":\"white\",\"landcolor\":\"#E5ECF6\",\"showlakes\":true,\"showland\":true,\"subunitcolor\":\"white\"},\"hoverlabel\":{\"align\":\"left\"},\"hovermode\":\"closest\",\"mapbox\":{\"style\":\"light\"},\"paper_bgcolor\":\"white\",\"plot_bgcolor\":\"#E5ECF6\",\"polar\":{\"angularaxis\":{\"gridcolor\":\"white\",\"linecolor\":\"white\",\"ticks\":\"\"},\"bgcolor\":\"#E5ECF6\",\"radialaxis\":{\"gridcolor\":\"white\",\"linecolor\":\"white\",\"ticks\":\"\"}},\"scene\":{\"xaxis\":{\"backgroundcolor\":\"#E5ECF6\",\"gridcolor\":\"white\",\"gridwidth\":2,\"linecolor\":\"white\",\"showbackground\":true,\"ticks\":\"\",\"zerolinecolor\":\"white\"},\"yaxis\":{\"backgroundcolor\":\"#E5ECF6\",\"gridcolor\":\"white\",\"gridwidth\":2,\"linecolor\":\"white\",\"showbackground\":true,\"ticks\":\"\",\"zerolinecolor\":\"white\"},\"zaxis\":{\"backgroundcolor\":\"#E5ECF6\",\"gridcolor\":\"white\",\"gridwidth\":2,\"linecolor\":\"white\",\"showbackground\":true,\"ticks\":\"\",\"zerolinecolor\":\"white\"}},\"shapedefaults\":{\"line\":{\"color\":\"#2a3f5f\"}},\"ternary\":{\"aaxis\":{\"gridcolor\":\"white\",\"linecolor\":\"white\",\"ticks\":\"\"},\"baxis\":{\"gridcolor\":\"white\",\"linecolor\":\"white\",\"ticks\":\"\"},\"bgcolor\":\"#E5ECF6\",\"caxis\":{\"gridcolor\":\"white\",\"linecolor\":\"white\",\"ticks\":\"\"}},\"title\":{\"x\":0.05},\"xaxis\":{\"automargin\":true,\"gridcolor\":\"white\",\"linecolor\":\"white\",\"ticks\":\"\",\"title\":{\"standoff\":15},\"zerolinecolor\":\"white\",\"zerolinewidth\":2},\"yaxis\":{\"automargin\":true,\"gridcolor\":\"white\",\"linecolor\":\"white\",\"ticks\":\"\",\"title\":{\"standoff\":15},\"zerolinecolor\":\"white\",\"zerolinewidth\":2}}},\"title\":{\"text\":\"\"},\"xaxis\":{\"title\":{\"text\":\"Hedge Metric\"}},\"yaxis\":{\"title\":{\"text\":\"Higher the Better\"}}},                        {\"responsive\": true}                    ).then(function(){\n",
       "                            \n",
       "var gd = document.getElementById('c4168960-a75b-441b-88e8-500e326d764b');\n",
       "var x = new MutationObserver(function (mutations, observer) {{\n",
       "        var display = window.getComputedStyle(gd).display;\n",
       "        if (!display || display === 'none') {{\n",
       "            console.log([gd, 'removed!']);\n",
       "            Plotly.purge(gd);\n",
       "            observer.disconnect();\n",
       "        }}\n",
       "}});\n",
       "\n",
       "// Listen for the removal of the full notebook cells\n",
       "var notebookContainer = gd.closest('#notebook-container');\n",
       "if (notebookContainer) {{\n",
       "    x.observe(notebookContainer, {childList: true});\n",
       "}}\n",
       "\n",
       "// Listen for the clearing of the current output cell\n",
       "var outputEl = gd.closest('.output');\n",
       "if (outputEl) {{\n",
       "    x.observe(outputEl, {childList: true});\n",
       "}}\n",
       "\n",
       "                        })                };                });            </script>        </div>"
      ]
     },
     "metadata": {},
     "output_type": "display_data"
    }
   ],
   "source": [
    "met= list(df_normal.index)\n",
    "n=len(df_normal.columns)\n",
    "fig = go.Figure()\n",
    "col=0\n",
    "for col in df_normal.columns:\n",
    "    fig.add_trace(go.Scatter(\n",
    "        x=met,\n",
    "        y=df_normal[col],\n",
    "        marker=dict(size = 20),\n",
    "        marker_symbol = symbols[col],\n",
    "        mode= \"markers\",\n",
    "        name=col\n",
    "        ))\n",
    "fig.update_layout(title=\"\",\n",
    "                xaxis_title=\"Hedge Metric\",\n",
    "                yaxis_title=\"Higher the Better\")\n",
    "fig.show()"
   ]
  },
  {
   "cell_type": "code",
   "execution_count": null,
   "metadata": {},
   "outputs": [],
   "source": []
  }
 ],
 "metadata": {
  "kernelspec": {
   "display_name": "Python 3",
   "language": "python",
   "name": "python3"
  },
  "language_info": {
   "codemirror_mode": {
    "name": "ipython",
    "version": 3
   },
   "file_extension": ".py",
   "mimetype": "text/x-python",
   "name": "python",
   "nbconvert_exporter": "python",
   "pygments_lexer": "ipython3",
   "version": "3.8.3"
  }
 },
 "nbformat": 4,
 "nbformat_minor": 5
}
