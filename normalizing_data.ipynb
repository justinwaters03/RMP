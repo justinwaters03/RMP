{
 "cells": [
  {
   "cell_type": "markdown",
   "id": "1678ac7b",
   "metadata": {},
   "source": [
    "# Ranking Strategies Notebook\n",
    "This notebook normalized cumulative, reliability, and decay metrics and ranks strategies highest to lowest based on these metrics."
   ]
  },
  {
   "cell_type": "markdown",
   "id": "acc2f03b",
   "metadata": {},
   "source": [
    "## Import Libraries"
   ]
  },
  {
   "cell_type": "code",
   "execution_count": null,
   "id": "da6b098c",
   "metadata": {},
   "outputs": [],
   "source": [
    "from ipywidgets import interact, interact_manual\n",
    "from EquityHedging.datamanager import data_manager as dm\n",
    "from EquityHedging.analytics import  util\n",
    "from EquityHedging.analytics import summary \n",
    "from EquityHedging.reporting.excel import reports as rp\n",
    "from EquityHedging.reporting import formatter as fmt, plots\n",
    "from EquityHedging.analytics import hedge_metrics as hm\n",
    "import pandas as pd\n",
    "import plotly.graph_objects as go\n"
   ]
  },
  {
   "cell_type": "markdown",
   "id": "92878fe4",
   "metadata": {},
   "source": [
    "## Import returns data\n",
    "\n",
    "### Imports Daily, Weekly, Monthly, Quarterly and Yearly returns data\n",
    "\n",
    "To import the returns data:\n",
    "* Select an Equity Benchmark (**equity_bmk**) - SPTR, M1WD, SX5T\n",
    "* Decide if you want a Fixed Income Benchmark (**include_fi**) - True, False\n",
    "* Select what equity hedging strategies to exclude (**strat_drop_list**). Below is the list of strategies:\n",
    "\n",
    "    * 99%/90% Put Spread, Down Var, Vortex, VOLA , Dynamic Put Spread, VRR, GW Dispersion, Corr Hedge, Def Var"
   ]
  },
  {
   "cell_type": "code",
   "execution_count": null,
   "id": "2a01c64d",
   "metadata": {},
   "outputs": [],
   "source": [
    "equity_bmk = 'SPTR'\n",
    "strat_drop_list = ['99%/90% Put Spread', 'Vortex']\n",
    "returns = dm.get_equity_hedge_returns(equity_bmk, strat_drop_list = strat_drop_list)\n",
    "weekly_ret=returns['Weekly'].copy()"
   ]
  },
  {
   "cell_type": "markdown",
   "id": "7053f888",
   "metadata": {},
   "source": [
    "##  Get Notional Weights "
   ]
  },
  {
   "cell_type": "code",
   "execution_count": null,
   "id": "02bf436d",
   "metadata": {},
   "outputs": [],
   "source": [
    "#notional_weights = dm.get_notional_weights(returns['Weekly'])\n",
    "notional_weights = [19.0, 1.0, 1.0, 1.0, 1.0, 1.0, 0.25, 1.0]\n",
    "df_weights = util.get_df_weights(notional_weights, list(returns['Weekly'].columns))\n",
    "fmt.get_notional_styler(df_weights)"
   ]
  },
  {
   "cell_type": "markdown",
   "id": "6f565722",
   "metadata": {},
   "source": [
    "## Get Raw Scores and Normalized Hedge Metrics"
   ]
  },
  {
   "cell_type": "code",
   "execution_count": null,
   "id": "73f1c9bb",
   "metadata": {},
   "outputs": [],
   "source": [
    "hm_dict = summary.get_norm_hedge_metrics(weekly_ret, notional_weights, weighted=True)"
   ]
  },
  {
   "cell_type": "markdown",
   "id": "d04b3d18",
   "metadata": {},
   "source": [
    "\n",
    "## Display Data\n",
    "To display data:\n",
    "* Select which statistics you want to view **(stats)** -  Hedge Metrics or Normalized Data"
   ]
  },
  {
   "cell_type": "code",
   "execution_count": null,
   "id": "b24fc823",
   "metadata": {},
   "outputs": [],
   "source": [
    "@interact\n",
    "def display_hedge_metrics_or_normal( stats = ['Hedge Metrics','Normalized Data']):\n",
    "    if stats == 'Hedge Metrics':\n",
    "        return fmt.format_hm_to_normalize(hm_dict[stats])    \n",
    "    else:\n",
    "        return fmt.format_normalized_data(hm_dict[stats])\n"
   ]
  },
  {
   "cell_type": "markdown",
   "id": "550a0175",
   "metadata": {},
   "source": [
    "## Display Ranked Strategies vs Normalized Data"
   ]
  },
  {
   "cell_type": "code",
   "execution_count": null,
   "id": "df41e010",
   "metadata": {},
   "outputs": [],
   "source": [
    "df_norm = hm_dict['Normalized Data']\n",
    "df_normal = df_norm.transpose()\n",
    "\n",
    "#assign each strategy a symbol\n",
    "symbols = plots.get_symbols(df_normal, unique=True)\n",
    "color = plots.get_colors(df_normal, grey=False)\n",
    "\n",
    "index = list(df_normal.index)\n",
    "fig = go.Figure()\n",
    "#loops through eaach column and plots each metric for the given strategy\n",
    "for col in df_normal.columns:\n",
    "    fig.add_trace(go.Scatter(\n",
    "        x=index,\n",
    "        y=df_normal[col],\n",
    "        marker=dict(size = 20, color = color[col]),\n",
    "        marker_symbol = symbols[col],\n",
    "        mode= \"markers\",\n",
    "        name=col\n",
    "        ))\n",
    "fig.update_layout(title=\"\",\n",
    "                xaxis_title=\"Hedge Metric\",\n",
    "                yaxis_title=\"Higher the Better\",\n",
    "                  plot_bgcolor='White')\n",
    "fig.update_xaxes(showline=True, linewidth=2, linecolor='black', mirror=False)\n",
    "fig.update_yaxes(showline=True, linewidth=2, linecolor='black', mirror=False)\n",
    "fig.show()"
   ]
  },
  {
   "cell_type": "markdown",
   "id": "ac6ac2be",
   "metadata": {},
   "source": [
    "# Ranked Stratagies with Defensive Universe"
   ]
  },
  {
   "cell_type": "markdown",
   "id": "1afd9e16",
   "metadata": {},
   "source": [
    "## Import Defensive Universe Returns Data"
   ]
  },
  {
   "cell_type": "code",
   "execution_count": null,
   "id": "949e9376",
   "metadata": {},
   "outputs": [],
   "source": [
    "def_uni = pd.read_excel(dm.EQUITY_HEDGE_DATA+'def_uni.xlsx',sheet_name='Weekly', index_col=0)\n",
    "df_weighted_hedges = util.get_weighted_hedges(weekly_ret, notional_weights)\n",
    "def_data = dm.merge_data_frames(def_uni, df_weighted_hedges)"
   ]
  },
  {
   "cell_type": "markdown",
   "id": "64add74a",
   "metadata": {},
   "source": [
    "## Get Defensive Universe Raw Scores and Normalized Hedge Metrics "
   ]
  },
  {
   "cell_type": "code",
   "execution_count": null,
   "id": "bf0da261",
   "metadata": {},
   "outputs": [],
   "source": [
    "#def_dict = summary.get_norm_hedge_metrics(def_data)\n",
    "def_dict = {}\n",
    "for key in hm_dict:\n",
    "    def_dict[key] = pd.read_excel(dm.EQUITY_HEDGE_DATA+'def_uni_hedge_metrics.xlsx', sheet_name=key, index_col=0)"
   ]
  },
  {
   "cell_type": "markdown",
   "id": "76fb5175",
   "metadata": {},
   "source": [
    "## Display Hedge Metrics and Normalized Data"
   ]
  },
  {
   "cell_type": "code",
   "execution_count": null,
   "id": "9381970b",
   "metadata": {},
   "outputs": [],
   "source": [
    "@interact\n",
    "def display_hedge_metrics_or_normal( stats = ['Hedge Metrics','Normalized Data']):\n",
    "    if stats == 'Hedge Metrics':\n",
    "        return fmt.format_hm_to_normalize(def_dict[stats])    \n",
    "    else:\n",
    "        return fmt.format_normalized_data(def_dict[stats])"
   ]
  },
  {
   "cell_type": "markdown",
   "id": "bc084234",
   "metadata": {},
   "source": [
    "## Display Ranked Strategies vs Normalized Data"
   ]
  },
  {
   "cell_type": "code",
   "execution_count": null,
   "id": "416331fd",
   "metadata": {},
   "outputs": [],
   "source": [
    "#get normalized data\n",
    "def_normal = def_dict['Normalized Data']\n",
    "def_normal = def_normal.transpose()\n",
    "\n",
    "#rearrange columns so thatdefensive universe columns are before our strategies\n",
    "def_universe_only = def_normal[def_uni.columns]\n",
    "strategies_only = def_normal[df_normal.columns]\n",
    "def_normal=dm.merge_data_frames(universe, portfolio)\n",
    "\n",
    "#get symbols for defensive universe\n",
    "def_symbols = plots.get_symbols(def_universe_only, unique=False)\n",
    "\n",
    "#merge defensive universe symbols with strategy symbols from above\n",
    "new_symbols= dm.merge_data_frames( def_symbols, symbols)\n",
    "\n",
    "#get colors for defensive universe as grey\n",
    "def_color = plots.get_colors(def_universe_only, grey=True)\n",
    "\n",
    "#merge defensive universe colors with strategy colors\n",
    "new_color= dm.merge_data_frames( def_color, color)\n",
    "\n",
    "\n",
    "index = list(def_normal.index)\n",
    "fig = go.Figure()\n",
    "#loops through eaach column and plots each metric for the given strategy\n",
    "for col in def_normal.columns:\n",
    "    fig.add_trace(go.Scatter(\n",
    "        x=index,\n",
    "        y=def_normal[col],\n",
    "        marker=dict(size = 20, color = new_color[col]),\n",
    "        marker_symbol = new_symbols[col],\n",
    "        mode= \"markers\",\n",
    "        name=col\n",
    "        ))\n",
    "fig.update_layout(title=\"\",\n",
    "                xaxis_title=\"Hedge Metric\",\n",
    "                yaxis_title=\"Higher the Better\",\n",
    "                  plot_bgcolor='White')\n",
    "fig.update_xaxes(showline=True, linewidth=2, linecolor='black', mirror=False)\n",
    "fig.update_yaxes(showline=True, linewidth=2, linecolor='black', mirror=False)\n",
    "fig.show()"
   ]
  },
  {
   "cell_type": "code",
   "execution_count": null,
   "id": "1fda5d66",
   "metadata": {},
   "outputs": [],
   "source": []
  }
 ],
 "metadata": {
  "kernelspec": {
   "display_name": "Python 3",
   "language": "python",
   "name": "python3"
  },
  "language_info": {
   "codemirror_mode": {
    "name": "ipython",
    "version": 3
   },
   "file_extension": ".py",
   "mimetype": "text/x-python",
   "name": "python",
   "nbconvert_exporter": "python",
   "pygments_lexer": "ipython3",
   "version": "3.8.8"
  }
 },
 "nbformat": 4,
 "nbformat_minor": 5
}
