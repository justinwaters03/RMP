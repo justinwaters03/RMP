{
 "cells": [
  {
   "cell_type": "markdown",
   "metadata": {},
   "source": [
    "# Ranking Strategies Notebook\n",
    "This notebook normalized cumulative, reliability, and decay metrics and ranks strategies highest to lowest based on these metrics."
   ]
  },
  {
   "cell_type": "markdown",
   "metadata": {},
   "source": [
    "## Import Libraries"
   ]
  },
  {
   "cell_type": "code",
   "execution_count": 1,
   "metadata": {},
   "outputs": [],
   "source": [
    "from EquityHedging.datamanager import data_manager as dm\n",
    "from EquityHedging.analytics import  util\n",
    "from EquityHedging.analytics.util import get_df_weights\n",
    "from EquityHedging.analytics import summary\n",
    "from EquityHedging.reporting.excel import reports as rp\n",
    "from EquityHedging.reporting import formatter as fmt, plots\n",
    "from EquityHedging.analytics import hedge_metrics as hm\n",
    "import pandas as pd\n",
    "from sklearn.preprocessing import MinMaxScaler\n",
    "import plotly.graph_objects as go\n",
    "    \n"
   ]
  },
  {
   "cell_type": "markdown",
   "metadata": {},
   "source": [
    "## Import returns data\n",
    "\n",
    "### Imports Daily, Weekly, Monthly, Quarterly and Yearly returns data\n",
    "\n",
    "To import the returns data:\n",
    "* Select an Equity Benchmark (**equity_bmk**) - SPTR, M1WD, SX5T\n",
    "* Decide if you want a Fixed Income Benchmark (**include_fi**) - True, False\n",
    "* Select what equity hedging strategies to exclude (**strat_drop_list**). Below is the list of strategies:\n",
    "\n",
    "    * 99%/90% Put Spread, Down Var, Vortex, VOLA , Dynamic Put Spread, VRR, GW Dispersion, Corr Hedge"
   ]
  },
  {
   "cell_type": "code",
   "execution_count": 25,
   "metadata": {},
   "outputs": [],
   "source": [
    "equity_bmk = 'M1WD'\n",
    "include_fi = False\n",
    "weighted = [True, False]\n",
    "strat_drop_list = ['99%/90% Put Spread', 'Vortex']\n",
    "new_strat = True\n",
    "returns = dm.get_equity_hedge_returns(equity_bmk, include_fi, strat_drop_list)"
   ]
  },
  {
   "cell_type": "markdown",
   "metadata": {},
   "source": [
    "##  Get Notional Weights "
   ]
  },
  {
   "cell_type": "code",
   "execution_count": 3,
   "metadata": {},
   "outputs": [
    {
     "data": {
      "text/html": [
       "<style  type=\"text/css\" >\n",
       "</style><table id=\"T_4fef1889_e4e5_11eb_943f_c8d9d2062ce0\" ><thead>    <tr>        <th class=\"blank level0\" ></th>        <th class=\"col_heading level0 col0\" >M1WD</th>        <th class=\"col_heading level0 col1\" >Down Var</th>        <th class=\"col_heading level0 col2\" >VOLA</th>        <th class=\"col_heading level0 col3\" >Dynamic Put Spread</th>        <th class=\"col_heading level0 col4\" >VRR</th>        <th class=\"col_heading level0 col5\" >GW Dispersion</th>        <th class=\"col_heading level0 col6\" >Corr Hedge</th>        <th class=\"col_heading level0 col7\" >Def Var</th>    </tr></thead><tbody>\n",
       "                <tr>\n",
       "                        <th id=\"T_4fef1889_e4e5_11eb_943f_c8d9d2062ce0level0_row0\" class=\"row_heading level0 row0\" >Notional Weights (Billions)</th>\n",
       "                        <td id=\"T_4fef1889_e4e5_11eb_943f_c8d9d2062ce0row0_col0\" class=\"data row0 col0\" >$19.00</td>\n",
       "                        <td id=\"T_4fef1889_e4e5_11eb_943f_c8d9d2062ce0row0_col1\" class=\"data row0 col1\" >$1.00</td>\n",
       "                        <td id=\"T_4fef1889_e4e5_11eb_943f_c8d9d2062ce0row0_col2\" class=\"data row0 col2\" >$1.00</td>\n",
       "                        <td id=\"T_4fef1889_e4e5_11eb_943f_c8d9d2062ce0row0_col3\" class=\"data row0 col3\" >$1.00</td>\n",
       "                        <td id=\"T_4fef1889_e4e5_11eb_943f_c8d9d2062ce0row0_col4\" class=\"data row0 col4\" >$1.00</td>\n",
       "                        <td id=\"T_4fef1889_e4e5_11eb_943f_c8d9d2062ce0row0_col5\" class=\"data row0 col5\" >$1.00</td>\n",
       "                        <td id=\"T_4fef1889_e4e5_11eb_943f_c8d9d2062ce0row0_col6\" class=\"data row0 col6\" >$0.25</td>\n",
       "                        <td id=\"T_4fef1889_e4e5_11eb_943f_c8d9d2062ce0row0_col7\" class=\"data row0 col7\" >$1.00</td>\n",
       "            </tr>\n",
       "            <tr>\n",
       "                        <th id=\"T_4fef1889_e4e5_11eb_943f_c8d9d2062ce0level0_row1\" class=\"row_heading level0 row1\" >Percentage Weights</th>\n",
       "                        <td id=\"T_4fef1889_e4e5_11eb_943f_c8d9d2062ce0row1_col0\" class=\"data row1 col0\" >100.00%</td>\n",
       "                        <td id=\"T_4fef1889_e4e5_11eb_943f_c8d9d2062ce0row1_col1\" class=\"data row1 col1\" >5.26%</td>\n",
       "                        <td id=\"T_4fef1889_e4e5_11eb_943f_c8d9d2062ce0row1_col2\" class=\"data row1 col2\" >5.26%</td>\n",
       "                        <td id=\"T_4fef1889_e4e5_11eb_943f_c8d9d2062ce0row1_col3\" class=\"data row1 col3\" >5.26%</td>\n",
       "                        <td id=\"T_4fef1889_e4e5_11eb_943f_c8d9d2062ce0row1_col4\" class=\"data row1 col4\" >5.26%</td>\n",
       "                        <td id=\"T_4fef1889_e4e5_11eb_943f_c8d9d2062ce0row1_col5\" class=\"data row1 col5\" >5.26%</td>\n",
       "                        <td id=\"T_4fef1889_e4e5_11eb_943f_c8d9d2062ce0row1_col6\" class=\"data row1 col6\" >1.32%</td>\n",
       "                        <td id=\"T_4fef1889_e4e5_11eb_943f_c8d9d2062ce0row1_col7\" class=\"data row1 col7\" >5.26%</td>\n",
       "            </tr>\n",
       "            <tr>\n",
       "                        <th id=\"T_4fef1889_e4e5_11eb_943f_c8d9d2062ce0level0_row2\" class=\"row_heading level0 row2\" >Strategy Weights</th>\n",
       "                        <td id=\"T_4fef1889_e4e5_11eb_943f_c8d9d2062ce0row2_col0\" class=\"data row2 col0\" >0.00%</td>\n",
       "                        <td id=\"T_4fef1889_e4e5_11eb_943f_c8d9d2062ce0row2_col1\" class=\"data row2 col1\" >16.00%</td>\n",
       "                        <td id=\"T_4fef1889_e4e5_11eb_943f_c8d9d2062ce0row2_col2\" class=\"data row2 col2\" >16.00%</td>\n",
       "                        <td id=\"T_4fef1889_e4e5_11eb_943f_c8d9d2062ce0row2_col3\" class=\"data row2 col3\" >16.00%</td>\n",
       "                        <td id=\"T_4fef1889_e4e5_11eb_943f_c8d9d2062ce0row2_col4\" class=\"data row2 col4\" >16.00%</td>\n",
       "                        <td id=\"T_4fef1889_e4e5_11eb_943f_c8d9d2062ce0row2_col5\" class=\"data row2 col5\" >16.00%</td>\n",
       "                        <td id=\"T_4fef1889_e4e5_11eb_943f_c8d9d2062ce0row2_col6\" class=\"data row2 col6\" >4.00%</td>\n",
       "                        <td id=\"T_4fef1889_e4e5_11eb_943f_c8d9d2062ce0row2_col7\" class=\"data row2 col7\" >16.00%</td>\n",
       "            </tr>\n",
       "    </tbody></table>"
      ],
      "text/plain": [
       "<pandas.io.formats.style.Styler at 0x202c9315400>"
      ]
     },
     "execution_count": 3,
     "metadata": {},
     "output_type": "execute_result"
    }
   ],
   "source": [
    "#notional_weights = dm.get_notional_weights(returns['Monthly'])\n",
    "notional_weights = [19.0, 1.0, 1.0, 1.0, 1.0, 1.0, 0.25, 1.0]\n",
    "df_weights = get_df_weights(notional_weights, list(returns['Monthly'].columns), include_fi)\n",
    "fmt.get_notional_styler(df_weights)"
   ]
  },
  {
   "cell_type": "code",
   "execution_count": 26,
   "metadata": {},
   "outputs": [],
   "source": [
    "temp_ret = returns['Weekly'].copy()"
   ]
  },
  {
   "cell_type": "code",
   "execution_count": 29,
   "metadata": {},
   "outputs": [],
   "source": [
    "returns['Weekly'] = temp_ret.copy()\n",
    "returns['Weekly']['VOLA 3'] = returns['Weekly']['VOLA'] *.3\n",
    "returns['Weekly']['Def Var 3'] = returns['Weekly']['Def Var'] *.3\n",
    "returns['Weekly'] = returns['Weekly'][['M1WD','Down Var', 'VOLA', 'Dynamic Put Spread', 'VRR', 'GW Dispersion',\n",
    "       'Corr Hedge', 'Def Var','VOLA 3', 'Def Var 3']]\n",
    "notional_weights = [19.0, 1.0, 1.0, 1.0, 1.0, 1.0, 0.25, 1.0,1.0,1.0]"
   ]
  },
  {
   "cell_type": "code",
   "execution_count": null,
   "metadata": {},
   "outputs": [],
   "source": []
  },
  {
   "cell_type": "code",
   "execution_count": 30,
   "metadata": {},
   "outputs": [],
   "source": [
    "df_sample = hm.get_hedge_metrics_to_normalize(returns, equity_bmk, notional_weights, weighted_hedge = True)\n",
    "#format hedge metrics\n",
    "#show hedge metrics"
   ]
  },
  {
   "cell_type": "code",
   "execution_count": 31,
   "metadata": {},
   "outputs": [
    {
     "data": {
      "text/html": [
       "<div>\n",
       "<style scoped>\n",
       "    .dataframe tbody tr th:only-of-type {\n",
       "        vertical-align: middle;\n",
       "    }\n",
       "\n",
       "    .dataframe tbody tr th {\n",
       "        vertical-align: top;\n",
       "    }\n",
       "\n",
       "    .dataframe thead th {\n",
       "        text-align: right;\n",
       "    }\n",
       "</style>\n",
       "<table border=\"1\" class=\"dataframe\">\n",
       "  <thead>\n",
       "    <tr style=\"text-align: right;\">\n",
       "      <th></th>\n",
       "      <th>Benefit</th>\n",
       "      <th>Downside Reliability</th>\n",
       "      <th>Upside Reliability</th>\n",
       "      <th>Convexity</th>\n",
       "      <th>Cost</th>\n",
       "      <th>Decay</th>\n",
       "    </tr>\n",
       "  </thead>\n",
       "  <tbody>\n",
       "    <tr>\n",
       "      <th>Down Var</th>\n",
       "      <td>1.384568</td>\n",
       "      <td>-0.378368</td>\n",
       "      <td>0.245336</td>\n",
       "      <td>0.950600</td>\n",
       "      <td>-2.029530</td>\n",
       "      <td>210.0</td>\n",
       "    </tr>\n",
       "    <tr>\n",
       "      <th>VOLA</th>\n",
       "      <td>0.630722</td>\n",
       "      <td>-0.759925</td>\n",
       "      <td>-0.383986</td>\n",
       "      <td>1.246549</td>\n",
       "      <td>-1.661032</td>\n",
       "      <td>322.0</td>\n",
       "    </tr>\n",
       "    <tr>\n",
       "      <th>Dynamic Put Spread</th>\n",
       "      <td>0.892500</td>\n",
       "      <td>-0.649971</td>\n",
       "      <td>-0.602008</td>\n",
       "      <td>0.259934</td>\n",
       "      <td>-1.260329</td>\n",
       "      <td>200.0</td>\n",
       "    </tr>\n",
       "    <tr>\n",
       "      <th>VRR</th>\n",
       "      <td>2.316304</td>\n",
       "      <td>-0.066891</td>\n",
       "      <td>-0.009208</td>\n",
       "      <td>0.541243</td>\n",
       "      <td>-2.178475</td>\n",
       "      <td>133.0</td>\n",
       "    </tr>\n",
       "    <tr>\n",
       "      <th>GW Dispersion</th>\n",
       "      <td>1.040725</td>\n",
       "      <td>-0.474068</td>\n",
       "      <td>0.030755</td>\n",
       "      <td>0.345939</td>\n",
       "      <td>-1.032908</td>\n",
       "      <td>361.0</td>\n",
       "    </tr>\n",
       "    <tr>\n",
       "      <th>Corr Hedge</th>\n",
       "      <td>1.261181</td>\n",
       "      <td>-0.138395</td>\n",
       "      <td>0.124009</td>\n",
       "      <td>1.087390</td>\n",
       "      <td>-1.202728</td>\n",
       "      <td>333.0</td>\n",
       "    </tr>\n",
       "    <tr>\n",
       "      <th>Def Var</th>\n",
       "      <td>1.343204</td>\n",
       "      <td>-0.047311</td>\n",
       "      <td>-0.077938</td>\n",
       "      <td>0.223392</td>\n",
       "      <td>-0.465385</td>\n",
       "      <td>308.0</td>\n",
       "    </tr>\n",
       "    <tr>\n",
       "      <th>VOLA 3</th>\n",
       "      <td>0.189217</td>\n",
       "      <td>-0.759925</td>\n",
       "      <td>-0.383986</td>\n",
       "      <td>0.373965</td>\n",
       "      <td>-0.498310</td>\n",
       "      <td>365.0</td>\n",
       "    </tr>\n",
       "    <tr>\n",
       "      <th>Def Var 3</th>\n",
       "      <td>0.402961</td>\n",
       "      <td>-0.047311</td>\n",
       "      <td>-0.077938</td>\n",
       "      <td>0.067018</td>\n",
       "      <td>-0.139615</td>\n",
       "      <td>365.0</td>\n",
       "    </tr>\n",
       "    <tr>\n",
       "      <th>Weighted Hedges</th>\n",
       "      <td>0.527774</td>\n",
       "      <td>-0.687047</td>\n",
       "      <td>-0.157365</td>\n",
       "      <td>0.356365</td>\n",
       "      <td>-0.492658</td>\n",
       "      <td>365.0</td>\n",
       "    </tr>\n",
       "  </tbody>\n",
       "</table>\n",
       "</div>"
      ],
      "text/plain": [
       "                     Benefit  Downside Reliability  Upside Reliability  \\\n",
       "Down Var            1.384568             -0.378368            0.245336   \n",
       "VOLA                0.630722             -0.759925           -0.383986   \n",
       "Dynamic Put Spread  0.892500             -0.649971           -0.602008   \n",
       "VRR                 2.316304             -0.066891           -0.009208   \n",
       "GW Dispersion       1.040725             -0.474068            0.030755   \n",
       "Corr Hedge          1.261181             -0.138395            0.124009   \n",
       "Def Var             1.343204             -0.047311           -0.077938   \n",
       "VOLA 3              0.189217             -0.759925           -0.383986   \n",
       "Def Var 3           0.402961             -0.047311           -0.077938   \n",
       "Weighted Hedges     0.527774             -0.687047           -0.157365   \n",
       "\n",
       "                    Convexity      Cost  Decay  \n",
       "Down Var             0.950600 -2.029530  210.0  \n",
       "VOLA                 1.246549 -1.661032  322.0  \n",
       "Dynamic Put Spread   0.259934 -1.260329  200.0  \n",
       "VRR                  0.541243 -2.178475  133.0  \n",
       "GW Dispersion        0.345939 -1.032908  361.0  \n",
       "Corr Hedge           1.087390 -1.202728  333.0  \n",
       "Def Var              0.223392 -0.465385  308.0  \n",
       "VOLA 3               0.373965 -0.498310  365.0  \n",
       "Def Var 3            0.067018 -0.139615  365.0  \n",
       "Weighted Hedges      0.356365 -0.492658  365.0  "
      ]
     },
     "execution_count": 31,
     "metadata": {},
     "output_type": "execute_result"
    }
   ],
   "source": [
    "df_sample"
   ]
  },
  {
   "cell_type": "code",
   "execution_count": 32,
   "metadata": {},
   "outputs": [
    {
     "data": {
      "text/html": [
       "<div>\n",
       "<style scoped>\n",
       "    .dataframe tbody tr th:only-of-type {\n",
       "        vertical-align: middle;\n",
       "    }\n",
       "\n",
       "    .dataframe tbody tr th {\n",
       "        vertical-align: top;\n",
       "    }\n",
       "\n",
       "    .dataframe thead th {\n",
       "        text-align: right;\n",
       "    }\n",
       "</style>\n",
       "<table border=\"1\" class=\"dataframe\">\n",
       "  <thead>\n",
       "    <tr style=\"text-align: right;\">\n",
       "      <th></th>\n",
       "      <th>Benefit</th>\n",
       "      <th>Downside Reliability</th>\n",
       "      <th>Upside Reliability</th>\n",
       "      <th>Convexity</th>\n",
       "      <th>Cost</th>\n",
       "      <th>Decay</th>\n",
       "    </tr>\n",
       "  </thead>\n",
       "  <tbody>\n",
       "    <tr>\n",
       "      <th>Down Var</th>\n",
       "      <td>1.384568</td>\n",
       "      <td>0.378368</td>\n",
       "      <td>0.245336</td>\n",
       "      <td>0.950600</td>\n",
       "      <td>-2.029530</td>\n",
       "      <td>210.0</td>\n",
       "    </tr>\n",
       "    <tr>\n",
       "      <th>VOLA</th>\n",
       "      <td>0.630722</td>\n",
       "      <td>0.759925</td>\n",
       "      <td>-0.383986</td>\n",
       "      <td>1.246549</td>\n",
       "      <td>-1.661032</td>\n",
       "      <td>322.0</td>\n",
       "    </tr>\n",
       "    <tr>\n",
       "      <th>Dynamic Put Spread</th>\n",
       "      <td>0.892500</td>\n",
       "      <td>0.649971</td>\n",
       "      <td>-0.602008</td>\n",
       "      <td>0.259934</td>\n",
       "      <td>-1.260329</td>\n",
       "      <td>200.0</td>\n",
       "    </tr>\n",
       "    <tr>\n",
       "      <th>VRR</th>\n",
       "      <td>2.316304</td>\n",
       "      <td>0.066891</td>\n",
       "      <td>-0.009208</td>\n",
       "      <td>0.541243</td>\n",
       "      <td>-2.178475</td>\n",
       "      <td>133.0</td>\n",
       "    </tr>\n",
       "    <tr>\n",
       "      <th>GW Dispersion</th>\n",
       "      <td>1.040725</td>\n",
       "      <td>0.474068</td>\n",
       "      <td>0.030755</td>\n",
       "      <td>0.345939</td>\n",
       "      <td>-1.032908</td>\n",
       "      <td>361.0</td>\n",
       "    </tr>\n",
       "    <tr>\n",
       "      <th>Corr Hedge</th>\n",
       "      <td>1.261181</td>\n",
       "      <td>0.138395</td>\n",
       "      <td>0.124009</td>\n",
       "      <td>1.087390</td>\n",
       "      <td>-1.202728</td>\n",
       "      <td>333.0</td>\n",
       "    </tr>\n",
       "    <tr>\n",
       "      <th>Def Var</th>\n",
       "      <td>1.343204</td>\n",
       "      <td>0.047311</td>\n",
       "      <td>-0.077938</td>\n",
       "      <td>0.223392</td>\n",
       "      <td>-0.465385</td>\n",
       "      <td>308.0</td>\n",
       "    </tr>\n",
       "    <tr>\n",
       "      <th>VOLA 3</th>\n",
       "      <td>0.189217</td>\n",
       "      <td>0.759925</td>\n",
       "      <td>-0.383986</td>\n",
       "      <td>0.373965</td>\n",
       "      <td>-0.498310</td>\n",
       "      <td>365.0</td>\n",
       "    </tr>\n",
       "    <tr>\n",
       "      <th>Def Var 3</th>\n",
       "      <td>0.402961</td>\n",
       "      <td>0.047311</td>\n",
       "      <td>-0.077938</td>\n",
       "      <td>0.067018</td>\n",
       "      <td>-0.139615</td>\n",
       "      <td>365.0</td>\n",
       "    </tr>\n",
       "    <tr>\n",
       "      <th>Weighted Hedges</th>\n",
       "      <td>0.527774</td>\n",
       "      <td>0.687047</td>\n",
       "      <td>-0.157365</td>\n",
       "      <td>0.356365</td>\n",
       "      <td>-0.492658</td>\n",
       "      <td>365.0</td>\n",
       "    </tr>\n",
       "  </tbody>\n",
       "</table>\n",
       "</div>"
      ],
      "text/plain": [
       "                     Benefit  Downside Reliability  Upside Reliability  \\\n",
       "Down Var            1.384568              0.378368            0.245336   \n",
       "VOLA                0.630722              0.759925           -0.383986   \n",
       "Dynamic Put Spread  0.892500              0.649971           -0.602008   \n",
       "VRR                 2.316304              0.066891           -0.009208   \n",
       "GW Dispersion       1.040725              0.474068            0.030755   \n",
       "Corr Hedge          1.261181              0.138395            0.124009   \n",
       "Def Var             1.343204              0.047311           -0.077938   \n",
       "VOLA 3              0.189217              0.759925           -0.383986   \n",
       "Def Var 3           0.402961              0.047311           -0.077938   \n",
       "Weighted Hedges     0.527774              0.687047           -0.157365   \n",
       "\n",
       "                    Convexity      Cost  Decay  \n",
       "Down Var             0.950600 -2.029530  210.0  \n",
       "VOLA                 1.246549 -1.661032  322.0  \n",
       "Dynamic Put Spread   0.259934 -1.260329  200.0  \n",
       "VRR                  0.541243 -2.178475  133.0  \n",
       "GW Dispersion        0.345939 -1.032908  361.0  \n",
       "Corr Hedge           1.087390 -1.202728  333.0  \n",
       "Def Var              0.223392 -0.465385  308.0  \n",
       "VOLA 3               0.373965 -0.498310  365.0  \n",
       "Def Var 3            0.067018 -0.139615  365.0  \n",
       "Weighted Hedges      0.356365 -0.492658  365.0  "
      ]
     },
     "execution_count": 32,
     "metadata": {},
     "output_type": "execute_result"
    }
   ],
   "source": [
    "x = util.reverse_signs_in_col(df_sample,'Downside Reliability')\n",
    "x"
   ]
  },
  {
   "cell_type": "code",
   "execution_count": 33,
   "metadata": {},
   "outputs": [
    {
     "data": {
      "text/html": [
       "<div>\n",
       "<style scoped>\n",
       "    .dataframe tbody tr th:only-of-type {\n",
       "        vertical-align: middle;\n",
       "    }\n",
       "\n",
       "    .dataframe tbody tr th {\n",
       "        vertical-align: top;\n",
       "    }\n",
       "\n",
       "    .dataframe thead th {\n",
       "        text-align: right;\n",
       "    }\n",
       "</style>\n",
       "<table border=\"1\" class=\"dataframe\">\n",
       "  <thead>\n",
       "    <tr style=\"text-align: right;\">\n",
       "      <th></th>\n",
       "      <th>Benefit</th>\n",
       "      <th>Downside Reliability</th>\n",
       "      <th>Upside Reliability</th>\n",
       "      <th>Convexity</th>\n",
       "      <th>Cost</th>\n",
       "      <th>Decay</th>\n",
       "    </tr>\n",
       "  </thead>\n",
       "  <tbody>\n",
       "    <tr>\n",
       "      <th>Down Var</th>\n",
       "      <td>0.561966</td>\n",
       "      <td>4.645676e-01</td>\n",
       "      <td>1.000000</td>\n",
       "      <td>0.749097</td>\n",
       "      <td>0.073053</td>\n",
       "      <td>0.331897</td>\n",
       "    </tr>\n",
       "    <tr>\n",
       "      <th>VOLA</th>\n",
       "      <td>0.207563</td>\n",
       "      <td>1.000000e+00</td>\n",
       "      <td>0.257301</td>\n",
       "      <td>1.000000</td>\n",
       "      <td>0.253790</td>\n",
       "      <td>0.814655</td>\n",
       "    </tr>\n",
       "    <tr>\n",
       "      <th>Dynamic Put Spread</th>\n",
       "      <td>0.330632</td>\n",
       "      <td>8.457031e-01</td>\n",
       "      <td>0.000000</td>\n",
       "      <td>0.163553</td>\n",
       "      <td>0.450323</td>\n",
       "      <td>0.288793</td>\n",
       "    </tr>\n",
       "    <tr>\n",
       "      <th>VRR</th>\n",
       "      <td>1.000000</td>\n",
       "      <td>2.747651e-02</td>\n",
       "      <td>0.699599</td>\n",
       "      <td>0.402045</td>\n",
       "      <td>0.000000</td>\n",
       "      <td>0.000000</td>\n",
       "    </tr>\n",
       "    <tr>\n",
       "      <th>GW Dispersion</th>\n",
       "      <td>0.400317</td>\n",
       "      <td>5.988622e-01</td>\n",
       "      <td>0.746761</td>\n",
       "      <td>0.236468</td>\n",
       "      <td>0.561867</td>\n",
       "      <td>0.982759</td>\n",
       "    </tr>\n",
       "    <tr>\n",
       "      <th>Corr Hedge</th>\n",
       "      <td>0.503959</td>\n",
       "      <td>1.278169e-01</td>\n",
       "      <td>0.856815</td>\n",
       "      <td>0.865066</td>\n",
       "      <td>0.478575</td>\n",
       "      <td>0.862069</td>\n",
       "    </tr>\n",
       "    <tr>\n",
       "      <th>Def Var</th>\n",
       "      <td>0.542520</td>\n",
       "      <td>0.000000e+00</td>\n",
       "      <td>0.618485</td>\n",
       "      <td>0.132574</td>\n",
       "      <td>0.840220</td>\n",
       "      <td>0.754310</td>\n",
       "    </tr>\n",
       "    <tr>\n",
       "      <th>VOLA 3</th>\n",
       "      <td>0.000000</td>\n",
       "      <td>1.000000e+00</td>\n",
       "      <td>0.257301</td>\n",
       "      <td>0.260228</td>\n",
       "      <td>0.824071</td>\n",
       "      <td>1.000000</td>\n",
       "    </tr>\n",
       "    <tr>\n",
       "      <th>Def Var 3</th>\n",
       "      <td>0.100487</td>\n",
       "      <td>3.053113e-16</td>\n",
       "      <td>0.618485</td>\n",
       "      <td>0.000000</td>\n",
       "      <td>1.000000</td>\n",
       "      <td>1.000000</td>\n",
       "    </tr>\n",
       "    <tr>\n",
       "      <th>Weighted Hedges</th>\n",
       "      <td>0.159165</td>\n",
       "      <td>8.977311e-01</td>\n",
       "      <td>0.524749</td>\n",
       "      <td>0.245307</td>\n",
       "      <td>0.826843</td>\n",
       "      <td>1.000000</td>\n",
       "    </tr>\n",
       "  </tbody>\n",
       "</table>\n",
       "</div>"
      ],
      "text/plain": [
       "                     Benefit  Downside Reliability  Upside Reliability  \\\n",
       "Down Var            0.561966          4.645676e-01            1.000000   \n",
       "VOLA                0.207563          1.000000e+00            0.257301   \n",
       "Dynamic Put Spread  0.330632          8.457031e-01            0.000000   \n",
       "VRR                 1.000000          2.747651e-02            0.699599   \n",
       "GW Dispersion       0.400317          5.988622e-01            0.746761   \n",
       "Corr Hedge          0.503959          1.278169e-01            0.856815   \n",
       "Def Var             0.542520          0.000000e+00            0.618485   \n",
       "VOLA 3              0.000000          1.000000e+00            0.257301   \n",
       "Def Var 3           0.100487          3.053113e-16            0.618485   \n",
       "Weighted Hedges     0.159165          8.977311e-01            0.524749   \n",
       "\n",
       "                    Convexity      Cost     Decay  \n",
       "Down Var             0.749097  0.073053  0.331897  \n",
       "VOLA                 1.000000  0.253790  0.814655  \n",
       "Dynamic Put Spread   0.163553  0.450323  0.288793  \n",
       "VRR                  0.402045  0.000000  0.000000  \n",
       "GW Dispersion        0.236468  0.561867  0.982759  \n",
       "Corr Hedge           0.865066  0.478575  0.862069  \n",
       "Def Var              0.132574  0.840220  0.754310  \n",
       "VOLA 3               0.260228  0.824071  1.000000  \n",
       "Def Var 3            0.000000  1.000000  1.000000  \n",
       "Weighted Hedges      0.245307  0.826843  1.000000  "
      ]
     },
     "execution_count": 33,
     "metadata": {},
     "output_type": "execute_result"
    }
   ],
   "source": [
    "df_normal = util.get_normalized_data(x)\n",
    "df_normal.transpose()"
   ]
  },
  {
   "cell_type": "markdown",
   "metadata": {},
   "source": [
    "## Get Normalized Data"
   ]
  },
  {
   "cell_type": "code",
   "execution_count": 4,
   "metadata": {},
   "outputs": [
    {
     "data": {
      "text/html": [
       "<div>\n",
       "<style scoped>\n",
       "    .dataframe tbody tr th:only-of-type {\n",
       "        vertical-align: middle;\n",
       "    }\n",
       "\n",
       "    .dataframe tbody tr th {\n",
       "        vertical-align: top;\n",
       "    }\n",
       "\n",
       "    .dataframe thead th {\n",
       "        text-align: right;\n",
       "    }\n",
       "</style>\n",
       "<table border=\"1\" class=\"dataframe\">\n",
       "  <thead>\n",
       "    <tr style=\"text-align: right;\">\n",
       "      <th></th>\n",
       "      <th>Down Var</th>\n",
       "      <th>VOLA</th>\n",
       "      <th>Dynamic Put Spread</th>\n",
       "      <th>VRR</th>\n",
       "      <th>GW Dispersion</th>\n",
       "      <th>Corr Hedge</th>\n",
       "      <th>Def Var</th>\n",
       "      <th>Weighted Hedges</th>\n",
       "    </tr>\n",
       "  </thead>\n",
       "  <tbody>\n",
       "    <tr>\n",
       "      <th>Benefit</th>\n",
       "      <td>0.447231</td>\n",
       "      <td>0.000000</td>\n",
       "      <td>0.155304</td>\n",
       "      <td>1.000000</td>\n",
       "      <td>0.243241</td>\n",
       "      <td>0.374030</td>\n",
       "      <td>0.422692</td>\n",
       "      <td>0.007034</td>\n",
       "    </tr>\n",
       "    <tr>\n",
       "      <th>Downside Reliability</th>\n",
       "      <td>0.464568</td>\n",
       "      <td>1.000000</td>\n",
       "      <td>0.845703</td>\n",
       "      <td>0.027477</td>\n",
       "      <td>0.598862</td>\n",
       "      <td>0.127817</td>\n",
       "      <td>0.000000</td>\n",
       "      <td>0.888764</td>\n",
       "    </tr>\n",
       "    <tr>\n",
       "      <th>Upside Reliability</th>\n",
       "      <td>1.000000</td>\n",
       "      <td>0.257301</td>\n",
       "      <td>0.000000</td>\n",
       "      <td>0.699599</td>\n",
       "      <td>0.746761</td>\n",
       "      <td>0.856815</td>\n",
       "      <td>0.618485</td>\n",
       "      <td>0.567331</td>\n",
       "    </tr>\n",
       "    <tr>\n",
       "      <th>Convexity</th>\n",
       "      <td>0.710750</td>\n",
       "      <td>1.000000</td>\n",
       "      <td>0.035714</td>\n",
       "      <td>0.310656</td>\n",
       "      <td>0.119773</td>\n",
       "      <td>0.844444</td>\n",
       "      <td>0.000000</td>\n",
       "      <td>0.186045</td>\n",
       "    </tr>\n",
       "    <tr>\n",
       "      <th>Cost</th>\n",
       "      <td>0.086945</td>\n",
       "      <td>0.302052</td>\n",
       "      <td>0.535959</td>\n",
       "      <td>0.000000</td>\n",
       "      <td>0.668714</td>\n",
       "      <td>0.569583</td>\n",
       "      <td>1.000000</td>\n",
       "      <td>0.919781</td>\n",
       "    </tr>\n",
       "    <tr>\n",
       "      <th>Decay</th>\n",
       "      <td>0.337719</td>\n",
       "      <td>0.828947</td>\n",
       "      <td>0.293860</td>\n",
       "      <td>0.000000</td>\n",
       "      <td>1.000000</td>\n",
       "      <td>0.877193</td>\n",
       "      <td>0.767544</td>\n",
       "      <td>0.951754</td>\n",
       "    </tr>\n",
       "  </tbody>\n",
       "</table>\n",
       "</div>"
      ],
      "text/plain": [
       "                      Down Var      VOLA  Dynamic Put Spread       VRR  \\\n",
       "Benefit               0.447231  0.000000            0.155304  1.000000   \n",
       "Downside Reliability  0.464568  1.000000            0.845703  0.027477   \n",
       "Upside Reliability    1.000000  0.257301            0.000000  0.699599   \n",
       "Convexity             0.710750  1.000000            0.035714  0.310656   \n",
       "Cost                  0.086945  0.302052            0.535959  0.000000   \n",
       "Decay                 0.337719  0.828947            0.293860  0.000000   \n",
       "\n",
       "                      GW Dispersion  Corr Hedge   Def Var  Weighted Hedges  \n",
       "Benefit                    0.243241    0.374030  0.422692         0.007034  \n",
       "Downside Reliability       0.598862    0.127817  0.000000         0.888764  \n",
       "Upside Reliability         0.746761    0.856815  0.618485         0.567331  \n",
       "Convexity                  0.119773    0.844444  0.000000         0.186045  \n",
       "Cost                       0.668714    0.569583  1.000000         0.919781  \n",
       "Decay                      1.000000    0.877193  0.767544         0.951754  "
      ]
     },
     "execution_count": 4,
     "metadata": {},
     "output_type": "execute_result"
    }
   ],
   "source": [
    "df_normal= summary.get_normalized_hedge_metrics(returns, equity_bmk, notional_weights, weighted_hedge = True)\n",
    "df_normal\n",
    "#TODO: format the data to only have 2 decimal"
   ]
  },
  {
   "cell_type": "code",
   "execution_count": 5,
   "metadata": {},
   "outputs": [
    {
     "data": {
      "text/html": [
       "<div>\n",
       "<style scoped>\n",
       "    .dataframe tbody tr th:only-of-type {\n",
       "        vertical-align: middle;\n",
       "    }\n",
       "\n",
       "    .dataframe tbody tr th {\n",
       "        vertical-align: top;\n",
       "    }\n",
       "\n",
       "    .dataframe thead th {\n",
       "        text-align: right;\n",
       "    }\n",
       "</style>\n",
       "<table border=\"1\" class=\"dataframe\">\n",
       "  <thead>\n",
       "    <tr style=\"text-align: right;\">\n",
       "      <th></th>\n",
       "      <th>Benefit</th>\n",
       "      <th>Downside Reliability</th>\n",
       "      <th>Upside Reliability</th>\n",
       "      <th>Convexity</th>\n",
       "      <th>Cost</th>\n",
       "      <th>Decay</th>\n",
       "    </tr>\n",
       "  </thead>\n",
       "  <tbody>\n",
       "    <tr>\n",
       "      <th>Down Var</th>\n",
       "      <td>0.447231</td>\n",
       "      <td>0.464568</td>\n",
       "      <td>1.000000</td>\n",
       "      <td>0.710750</td>\n",
       "      <td>0.086945</td>\n",
       "      <td>0.337719</td>\n",
       "    </tr>\n",
       "    <tr>\n",
       "      <th>VOLA</th>\n",
       "      <td>0.000000</td>\n",
       "      <td>1.000000</td>\n",
       "      <td>0.257301</td>\n",
       "      <td>1.000000</td>\n",
       "      <td>0.302052</td>\n",
       "      <td>0.828947</td>\n",
       "    </tr>\n",
       "    <tr>\n",
       "      <th>Dynamic Put Spread</th>\n",
       "      <td>0.155304</td>\n",
       "      <td>0.845703</td>\n",
       "      <td>0.000000</td>\n",
       "      <td>0.035714</td>\n",
       "      <td>0.535959</td>\n",
       "      <td>0.293860</td>\n",
       "    </tr>\n",
       "    <tr>\n",
       "      <th>VRR</th>\n",
       "      <td>1.000000</td>\n",
       "      <td>0.027477</td>\n",
       "      <td>0.699599</td>\n",
       "      <td>0.310656</td>\n",
       "      <td>0.000000</td>\n",
       "      <td>0.000000</td>\n",
       "    </tr>\n",
       "    <tr>\n",
       "      <th>GW Dispersion</th>\n",
       "      <td>0.243241</td>\n",
       "      <td>0.598862</td>\n",
       "      <td>0.746761</td>\n",
       "      <td>0.119773</td>\n",
       "      <td>0.668714</td>\n",
       "      <td>1.000000</td>\n",
       "    </tr>\n",
       "    <tr>\n",
       "      <th>Corr Hedge</th>\n",
       "      <td>0.374030</td>\n",
       "      <td>0.127817</td>\n",
       "      <td>0.856815</td>\n",
       "      <td>0.844444</td>\n",
       "      <td>0.569583</td>\n",
       "      <td>0.877193</td>\n",
       "    </tr>\n",
       "    <tr>\n",
       "      <th>Def Var</th>\n",
       "      <td>0.422692</td>\n",
       "      <td>0.000000</td>\n",
       "      <td>0.618485</td>\n",
       "      <td>0.000000</td>\n",
       "      <td>1.000000</td>\n",
       "      <td>0.767544</td>\n",
       "    </tr>\n",
       "    <tr>\n",
       "      <th>Weighted Hedges</th>\n",
       "      <td>0.007034</td>\n",
       "      <td>0.888764</td>\n",
       "      <td>0.567331</td>\n",
       "      <td>0.186045</td>\n",
       "      <td>0.919781</td>\n",
       "      <td>0.951754</td>\n",
       "    </tr>\n",
       "  </tbody>\n",
       "</table>\n",
       "</div>"
      ],
      "text/plain": [
       "                     Benefit  Downside Reliability  Upside Reliability  \\\n",
       "Down Var            0.447231              0.464568            1.000000   \n",
       "VOLA                0.000000              1.000000            0.257301   \n",
       "Dynamic Put Spread  0.155304              0.845703            0.000000   \n",
       "VRR                 1.000000              0.027477            0.699599   \n",
       "GW Dispersion       0.243241              0.598862            0.746761   \n",
       "Corr Hedge          0.374030              0.127817            0.856815   \n",
       "Def Var             0.422692              0.000000            0.618485   \n",
       "Weighted Hedges     0.007034              0.888764            0.567331   \n",
       "\n",
       "                    Convexity      Cost     Decay  \n",
       "Down Var             0.710750  0.086945  0.337719  \n",
       "VOLA                 1.000000  0.302052  0.828947  \n",
       "Dynamic Put Spread   0.035714  0.535959  0.293860  \n",
       "VRR                  0.310656  0.000000  0.000000  \n",
       "GW Dispersion        0.119773  0.668714  1.000000  \n",
       "Corr Hedge           0.844444  0.569583  0.877193  \n",
       "Def Var              0.000000  1.000000  0.767544  \n",
       "Weighted Hedges      0.186045  0.919781  0.951754  "
      ]
     },
     "execution_count": 5,
     "metadata": {},
     "output_type": "execute_result"
    }
   ],
   "source": [
    "df_normal.transpose()"
   ]
  },
  {
   "cell_type": "code",
   "execution_count": 12,
   "metadata": {},
   "outputs": [],
   "source": [
    "df_normal=d.copy()\n",
    "df_normal.drop(['Weighted Hedges'], axis=1, inplace=True)\n"
   ]
  },
  {
   "cell_type": "code",
   "execution_count": 13,
   "metadata": {},
   "outputs": [
    {
     "data": {
      "text/plain": [
       "Index(['Down Var', 'VOLA', 'Dynamic Put Spread', 'VRR', 'GW Dispersion',\n",
       "       'Corr Hedge', 'Def Var', 'Weighted Hedges', 'vola 3', 'def var 3'],\n",
       "      dtype='object')"
      ]
     },
     "execution_count": 13,
     "metadata": {},
     "output_type": "execute_result"
    }
   ],
   "source": [
    "df_normal.columns"
   ]
  },
  {
   "cell_type": "markdown",
   "metadata": {},
   "source": [
    "## Creates a List of Symbols "
   ]
  },
  {
   "cell_type": "code",
   "execution_count": 34,
   "metadata": {},
   "outputs": [],
   "source": [
    "#get length of columns\n",
    "n=len(df_normal.columns)\n",
    "\n",
    "#get column names of df_normal\n",
    "c=list(df_normal.columns)\n",
    "\n",
    "#creates a list of the corresponding number of the symbols we want\n",
    "a=list(range(0,33))\n",
    "b=list(range(46,53))\n",
    "for i in b:\n",
    "    a.append(i)\n",
    "    \n",
    "#Creates a data frame that assigns each strategy with a symbol\n",
    "symbols=pd.DataFrame(columns=c,index=[0])\n",
    "symbols.iloc[0] = a[0:n]\n",
    "\n",
    "#create new method in util\n",
    "#make weighted hedges fixed symbol\n"
   ]
  },
  {
   "cell_type": "markdown",
   "metadata": {},
   "source": [
    "## Graph Normalized Data and Ranking Each Strategy"
   ]
  },
  {
   "cell_type": "code",
   "execution_count": 35,
   "metadata": {},
   "outputs": [
    {
     "data": {
      "application/vnd.plotly.v1+json": {
       "config": {
        "plotlyServerURL": "https://plot.ly"
       },
       "data": [
        {
         "marker": {
          "size": 20,
          "symbol": [
           0
          ]
         },
         "mode": "markers",
         "name": "Down Var",
         "type": "scatter",
         "x": [
          "Benefit",
          "Downside Reliability",
          "Upside Reliability",
          "Convexity",
          "Cost",
          "Decay"
         ],
         "y": [
          0.5619660335315445,
          0.4645676254978358,
          1,
          0.7490965147670056,
          0.07305281498754923,
          0.3318965517241379
         ]
        },
        {
         "marker": {
          "size": 20,
          "symbol": [
           1
          ]
         },
         "mode": "markers",
         "name": "VOLA",
         "type": "scatter",
         "x": [
          "Benefit",
          "Downside Reliability",
          "Upside Reliability",
          "Convexity",
          "Cost",
          "Decay"
         ],
         "y": [
          0.20756347452414262,
          0.9999999999999999,
          0.25730082845688945,
          1,
          0.2537903273674966,
          0.8146551724137931
         ]
        },
        {
         "marker": {
          "size": 20,
          "symbol": [
           2
          ]
         },
         "mode": "markers",
         "name": "Dynamic Put Spread",
         "type": "scatter",
         "x": [
          "Benefit",
          "Downside Reliability",
          "Upside Reliability",
          "Convexity",
          "Cost",
          "Decay"
         ],
         "y": [
          0.3306321602251111,
          0.845703099220607,
          0,
          0.16355296901216126,
          0.4503230518404008,
          0.2887931034482758
         ]
        },
        {
         "marker": {
          "size": 20,
          "symbol": [
           3
          ]
         },
         "mode": "markers",
         "name": "VRR",
         "type": "scatter",
         "x": [
          "Benefit",
          "Downside Reliability",
          "Upside Reliability",
          "Convexity",
          "Cost",
          "Decay"
         ],
         "y": [
          0.9999999999999999,
          0.027476514369042304,
          0.6995986990489536,
          0.40204514496343563,
          0,
          0
         ]
        },
        {
         "marker": {
          "size": 20,
          "symbol": [
           4
          ]
         },
         "mode": "markers",
         "name": "GW Dispersion",
         "type": "scatter",
         "x": [
          "Benefit",
          "Downside Reliability",
          "Upside Reliability",
          "Convexity",
          "Cost",
          "Decay"
         ],
         "y": [
          0.4003166272005163,
          0.5988621674108707,
          0.7467610870345425,
          0.23646774646026164,
          0.5618665777648815,
          0.9827586206896552
         ]
        },
        {
         "marker": {
          "size": 20,
          "symbol": [
           5
          ]
         },
         "mode": "markers",
         "name": "Corr Hedge",
         "type": "scatter",
         "x": [
          "Benefit",
          "Downside Reliability",
          "Upside Reliability",
          "Convexity",
          "Cost",
          "Decay"
         ],
         "y": [
          0.5039588311905435,
          0.12781691745274526,
          0.8568153255610644,
          0.8650662337836288,
          0.47857498716273217,
          0.8620689655172413
         ]
        },
        {
         "marker": {
          "size": 20,
          "symbol": [
           6
          ]
         },
         "mode": "markers",
         "name": "Def Var",
         "type": "scatter",
         "x": [
          "Benefit",
          "Downside Reliability",
          "Upside Reliability",
          "Convexity",
          "Cost",
          "Decay"
         ],
         "y": [
          0.5425201152648,
          0,
          0.6184854940741311,
          0.13257363222274382,
          0.8402198755911654,
          0.7543103448275861
         ]
        },
        {
         "marker": {
          "size": 20,
          "symbol": [
           7
          ]
         },
         "mode": "markers",
         "name": "VOLA 3",
         "type": "scatter",
         "x": [
          "Benefit",
          "Downside Reliability",
          "Upside Reliability",
          "Convexity",
          "Cost",
          "Decay"
         ],
         "y": [
          0,
          1.0000000000000002,
          0.2573008284568893,
          0.26022791033317677,
          0.8240711355328997,
          1
         ]
        },
        {
         "marker": {
          "size": 20,
          "symbol": [
           8
          ]
         },
         "mode": "markers",
         "name": "Def Var 3",
         "type": "scatter",
         "x": [
          "Benefit",
          "Downside Reliability",
          "Upside Reliability",
          "Convexity",
          "Cost",
          "Decay"
         ],
         "y": [
          0.10048699222219701,
          3.0531133177191805e-16,
          0.6184854940741311,
          0,
          1,
          1
         ]
        },
        {
         "marker": {
          "size": 20,
          "symbol": [
           9
          ]
         },
         "mode": "markers",
         "name": "Weighted Hedges",
         "type": "scatter",
         "x": [
          "Benefit",
          "Downside Reliability",
          "Upside Reliability",
          "Convexity",
          "Cost",
          "Decay"
         ],
         "y": [
          0.15916456553435174,
          0.8977311018442616,
          0.5247494421312855,
          0.24530686935196522,
          0.8268433203444094,
          1
         ]
        }
       ],
       "layout": {
        "template": {
         "data": {
          "bar": [
           {
            "error_x": {
             "color": "#2a3f5f"
            },
            "error_y": {
             "color": "#2a3f5f"
            },
            "marker": {
             "line": {
              "color": "#E5ECF6",
              "width": 0.5
             },
             "pattern": {
              "fillmode": "overlay",
              "size": 10,
              "solidity": 0.2
             }
            },
            "type": "bar"
           }
          ],
          "barpolar": [
           {
            "marker": {
             "line": {
              "color": "#E5ECF6",
              "width": 0.5
             },
             "pattern": {
              "fillmode": "overlay",
              "size": 10,
              "solidity": 0.2
             }
            },
            "type": "barpolar"
           }
          ],
          "carpet": [
           {
            "aaxis": {
             "endlinecolor": "#2a3f5f",
             "gridcolor": "white",
             "linecolor": "white",
             "minorgridcolor": "white",
             "startlinecolor": "#2a3f5f"
            },
            "baxis": {
             "endlinecolor": "#2a3f5f",
             "gridcolor": "white",
             "linecolor": "white",
             "minorgridcolor": "white",
             "startlinecolor": "#2a3f5f"
            },
            "type": "carpet"
           }
          ],
          "choropleth": [
           {
            "colorbar": {
             "outlinewidth": 0,
             "ticks": ""
            },
            "type": "choropleth"
           }
          ],
          "contour": [
           {
            "colorbar": {
             "outlinewidth": 0,
             "ticks": ""
            },
            "colorscale": [
             [
              0,
              "#0d0887"
             ],
             [
              0.1111111111111111,
              "#46039f"
             ],
             [
              0.2222222222222222,
              "#7201a8"
             ],
             [
              0.3333333333333333,
              "#9c179e"
             ],
             [
              0.4444444444444444,
              "#bd3786"
             ],
             [
              0.5555555555555556,
              "#d8576b"
             ],
             [
              0.6666666666666666,
              "#ed7953"
             ],
             [
              0.7777777777777778,
              "#fb9f3a"
             ],
             [
              0.8888888888888888,
              "#fdca26"
             ],
             [
              1,
              "#f0f921"
             ]
            ],
            "type": "contour"
           }
          ],
          "contourcarpet": [
           {
            "colorbar": {
             "outlinewidth": 0,
             "ticks": ""
            },
            "type": "contourcarpet"
           }
          ],
          "heatmap": [
           {
            "colorbar": {
             "outlinewidth": 0,
             "ticks": ""
            },
            "colorscale": [
             [
              0,
              "#0d0887"
             ],
             [
              0.1111111111111111,
              "#46039f"
             ],
             [
              0.2222222222222222,
              "#7201a8"
             ],
             [
              0.3333333333333333,
              "#9c179e"
             ],
             [
              0.4444444444444444,
              "#bd3786"
             ],
             [
              0.5555555555555556,
              "#d8576b"
             ],
             [
              0.6666666666666666,
              "#ed7953"
             ],
             [
              0.7777777777777778,
              "#fb9f3a"
             ],
             [
              0.8888888888888888,
              "#fdca26"
             ],
             [
              1,
              "#f0f921"
             ]
            ],
            "type": "heatmap"
           }
          ],
          "heatmapgl": [
           {
            "colorbar": {
             "outlinewidth": 0,
             "ticks": ""
            },
            "colorscale": [
             [
              0,
              "#0d0887"
             ],
             [
              0.1111111111111111,
              "#46039f"
             ],
             [
              0.2222222222222222,
              "#7201a8"
             ],
             [
              0.3333333333333333,
              "#9c179e"
             ],
             [
              0.4444444444444444,
              "#bd3786"
             ],
             [
              0.5555555555555556,
              "#d8576b"
             ],
             [
              0.6666666666666666,
              "#ed7953"
             ],
             [
              0.7777777777777778,
              "#fb9f3a"
             ],
             [
              0.8888888888888888,
              "#fdca26"
             ],
             [
              1,
              "#f0f921"
             ]
            ],
            "type": "heatmapgl"
           }
          ],
          "histogram": [
           {
            "marker": {
             "pattern": {
              "fillmode": "overlay",
              "size": 10,
              "solidity": 0.2
             }
            },
            "type": "histogram"
           }
          ],
          "histogram2d": [
           {
            "colorbar": {
             "outlinewidth": 0,
             "ticks": ""
            },
            "colorscale": [
             [
              0,
              "#0d0887"
             ],
             [
              0.1111111111111111,
              "#46039f"
             ],
             [
              0.2222222222222222,
              "#7201a8"
             ],
             [
              0.3333333333333333,
              "#9c179e"
             ],
             [
              0.4444444444444444,
              "#bd3786"
             ],
             [
              0.5555555555555556,
              "#d8576b"
             ],
             [
              0.6666666666666666,
              "#ed7953"
             ],
             [
              0.7777777777777778,
              "#fb9f3a"
             ],
             [
              0.8888888888888888,
              "#fdca26"
             ],
             [
              1,
              "#f0f921"
             ]
            ],
            "type": "histogram2d"
           }
          ],
          "histogram2dcontour": [
           {
            "colorbar": {
             "outlinewidth": 0,
             "ticks": ""
            },
            "colorscale": [
             [
              0,
              "#0d0887"
             ],
             [
              0.1111111111111111,
              "#46039f"
             ],
             [
              0.2222222222222222,
              "#7201a8"
             ],
             [
              0.3333333333333333,
              "#9c179e"
             ],
             [
              0.4444444444444444,
              "#bd3786"
             ],
             [
              0.5555555555555556,
              "#d8576b"
             ],
             [
              0.6666666666666666,
              "#ed7953"
             ],
             [
              0.7777777777777778,
              "#fb9f3a"
             ],
             [
              0.8888888888888888,
              "#fdca26"
             ],
             [
              1,
              "#f0f921"
             ]
            ],
            "type": "histogram2dcontour"
           }
          ],
          "mesh3d": [
           {
            "colorbar": {
             "outlinewidth": 0,
             "ticks": ""
            },
            "type": "mesh3d"
           }
          ],
          "parcoords": [
           {
            "line": {
             "colorbar": {
              "outlinewidth": 0,
              "ticks": ""
             }
            },
            "type": "parcoords"
           }
          ],
          "pie": [
           {
            "automargin": true,
            "type": "pie"
           }
          ],
          "scatter": [
           {
            "marker": {
             "colorbar": {
              "outlinewidth": 0,
              "ticks": ""
             }
            },
            "type": "scatter"
           }
          ],
          "scatter3d": [
           {
            "line": {
             "colorbar": {
              "outlinewidth": 0,
              "ticks": ""
             }
            },
            "marker": {
             "colorbar": {
              "outlinewidth": 0,
              "ticks": ""
             }
            },
            "type": "scatter3d"
           }
          ],
          "scattercarpet": [
           {
            "marker": {
             "colorbar": {
              "outlinewidth": 0,
              "ticks": ""
             }
            },
            "type": "scattercarpet"
           }
          ],
          "scattergeo": [
           {
            "marker": {
             "colorbar": {
              "outlinewidth": 0,
              "ticks": ""
             }
            },
            "type": "scattergeo"
           }
          ],
          "scattergl": [
           {
            "marker": {
             "colorbar": {
              "outlinewidth": 0,
              "ticks": ""
             }
            },
            "type": "scattergl"
           }
          ],
          "scattermapbox": [
           {
            "marker": {
             "colorbar": {
              "outlinewidth": 0,
              "ticks": ""
             }
            },
            "type": "scattermapbox"
           }
          ],
          "scatterpolar": [
           {
            "marker": {
             "colorbar": {
              "outlinewidth": 0,
              "ticks": ""
             }
            },
            "type": "scatterpolar"
           }
          ],
          "scatterpolargl": [
           {
            "marker": {
             "colorbar": {
              "outlinewidth": 0,
              "ticks": ""
             }
            },
            "type": "scatterpolargl"
           }
          ],
          "scatterternary": [
           {
            "marker": {
             "colorbar": {
              "outlinewidth": 0,
              "ticks": ""
             }
            },
            "type": "scatterternary"
           }
          ],
          "surface": [
           {
            "colorbar": {
             "outlinewidth": 0,
             "ticks": ""
            },
            "colorscale": [
             [
              0,
              "#0d0887"
             ],
             [
              0.1111111111111111,
              "#46039f"
             ],
             [
              0.2222222222222222,
              "#7201a8"
             ],
             [
              0.3333333333333333,
              "#9c179e"
             ],
             [
              0.4444444444444444,
              "#bd3786"
             ],
             [
              0.5555555555555556,
              "#d8576b"
             ],
             [
              0.6666666666666666,
              "#ed7953"
             ],
             [
              0.7777777777777778,
              "#fb9f3a"
             ],
             [
              0.8888888888888888,
              "#fdca26"
             ],
             [
              1,
              "#f0f921"
             ]
            ],
            "type": "surface"
           }
          ],
          "table": [
           {
            "cells": {
             "fill": {
              "color": "#EBF0F8"
             },
             "line": {
              "color": "white"
             }
            },
            "header": {
             "fill": {
              "color": "#C8D4E3"
             },
             "line": {
              "color": "white"
             }
            },
            "type": "table"
           }
          ]
         },
         "layout": {
          "annotationdefaults": {
           "arrowcolor": "#2a3f5f",
           "arrowhead": 0,
           "arrowwidth": 1
          },
          "autotypenumbers": "strict",
          "coloraxis": {
           "colorbar": {
            "outlinewidth": 0,
            "ticks": ""
           }
          },
          "colorscale": {
           "diverging": [
            [
             0,
             "#8e0152"
            ],
            [
             0.1,
             "#c51b7d"
            ],
            [
             0.2,
             "#de77ae"
            ],
            [
             0.3,
             "#f1b6da"
            ],
            [
             0.4,
             "#fde0ef"
            ],
            [
             0.5,
             "#f7f7f7"
            ],
            [
             0.6,
             "#e6f5d0"
            ],
            [
             0.7,
             "#b8e186"
            ],
            [
             0.8,
             "#7fbc41"
            ],
            [
             0.9,
             "#4d9221"
            ],
            [
             1,
             "#276419"
            ]
           ],
           "sequential": [
            [
             0,
             "#0d0887"
            ],
            [
             0.1111111111111111,
             "#46039f"
            ],
            [
             0.2222222222222222,
             "#7201a8"
            ],
            [
             0.3333333333333333,
             "#9c179e"
            ],
            [
             0.4444444444444444,
             "#bd3786"
            ],
            [
             0.5555555555555556,
             "#d8576b"
            ],
            [
             0.6666666666666666,
             "#ed7953"
            ],
            [
             0.7777777777777778,
             "#fb9f3a"
            ],
            [
             0.8888888888888888,
             "#fdca26"
            ],
            [
             1,
             "#f0f921"
            ]
           ],
           "sequentialminus": [
            [
             0,
             "#0d0887"
            ],
            [
             0.1111111111111111,
             "#46039f"
            ],
            [
             0.2222222222222222,
             "#7201a8"
            ],
            [
             0.3333333333333333,
             "#9c179e"
            ],
            [
             0.4444444444444444,
             "#bd3786"
            ],
            [
             0.5555555555555556,
             "#d8576b"
            ],
            [
             0.6666666666666666,
             "#ed7953"
            ],
            [
             0.7777777777777778,
             "#fb9f3a"
            ],
            [
             0.8888888888888888,
             "#fdca26"
            ],
            [
             1,
             "#f0f921"
            ]
           ]
          },
          "colorway": [
           "#636efa",
           "#EF553B",
           "#00cc96",
           "#ab63fa",
           "#FFA15A",
           "#19d3f3",
           "#FF6692",
           "#B6E880",
           "#FF97FF",
           "#FECB52"
          ],
          "font": {
           "color": "#2a3f5f"
          },
          "geo": {
           "bgcolor": "white",
           "lakecolor": "white",
           "landcolor": "#E5ECF6",
           "showlakes": true,
           "showland": true,
           "subunitcolor": "white"
          },
          "hoverlabel": {
           "align": "left"
          },
          "hovermode": "closest",
          "mapbox": {
           "style": "light"
          },
          "paper_bgcolor": "white",
          "plot_bgcolor": "#E5ECF6",
          "polar": {
           "angularaxis": {
            "gridcolor": "white",
            "linecolor": "white",
            "ticks": ""
           },
           "bgcolor": "#E5ECF6",
           "radialaxis": {
            "gridcolor": "white",
            "linecolor": "white",
            "ticks": ""
           }
          },
          "scene": {
           "xaxis": {
            "backgroundcolor": "#E5ECF6",
            "gridcolor": "white",
            "gridwidth": 2,
            "linecolor": "white",
            "showbackground": true,
            "ticks": "",
            "zerolinecolor": "white"
           },
           "yaxis": {
            "backgroundcolor": "#E5ECF6",
            "gridcolor": "white",
            "gridwidth": 2,
            "linecolor": "white",
            "showbackground": true,
            "ticks": "",
            "zerolinecolor": "white"
           },
           "zaxis": {
            "backgroundcolor": "#E5ECF6",
            "gridcolor": "white",
            "gridwidth": 2,
            "linecolor": "white",
            "showbackground": true,
            "ticks": "",
            "zerolinecolor": "white"
           }
          },
          "shapedefaults": {
           "line": {
            "color": "#2a3f5f"
           }
          },
          "ternary": {
           "aaxis": {
            "gridcolor": "white",
            "linecolor": "white",
            "ticks": ""
           },
           "baxis": {
            "gridcolor": "white",
            "linecolor": "white",
            "ticks": ""
           },
           "bgcolor": "#E5ECF6",
           "caxis": {
            "gridcolor": "white",
            "linecolor": "white",
            "ticks": ""
           }
          },
          "title": {
           "x": 0.05
          },
          "xaxis": {
           "automargin": true,
           "gridcolor": "white",
           "linecolor": "white",
           "ticks": "",
           "title": {
            "standoff": 15
           },
           "zerolinecolor": "white",
           "zerolinewidth": 2
          },
          "yaxis": {
           "automargin": true,
           "gridcolor": "white",
           "linecolor": "white",
           "ticks": "",
           "title": {
            "standoff": 15
           },
           "zerolinecolor": "white",
           "zerolinewidth": 2
          }
         }
        },
        "title": {
         "text": ""
        },
        "xaxis": {
         "title": {
          "text": "Hedge Metric"
         }
        },
        "yaxis": {
         "title": {
          "text": "Higher the Better"
         }
        }
       }
      },
      "text/html": [
       "<div>                            <div id=\"a03b6e8d-8f36-4d76-a3ee-3bb961112f40\" class=\"plotly-graph-div\" style=\"height:525px; width:100%;\"></div>            <script type=\"text/javascript\">                require([\"plotly\"], function(Plotly) {                    window.PLOTLYENV=window.PLOTLYENV || {};                                    if (document.getElementById(\"a03b6e8d-8f36-4d76-a3ee-3bb961112f40\")) {                    Plotly.newPlot(                        \"a03b6e8d-8f36-4d76-a3ee-3bb961112f40\",                        [{\"marker\":{\"size\":20,\"symbol\":[0]},\"mode\":\"markers\",\"name\":\"Down Var\",\"type\":\"scatter\",\"x\":[\"Benefit\",\"Downside Reliability\",\"Upside Reliability\",\"Convexity\",\"Cost\",\"Decay\"],\"y\":[0.5619660335315445,0.4645676254978358,1.0,0.7490965147670056,0.07305281498754923,0.3318965517241379]},{\"marker\":{\"size\":20,\"symbol\":[1]},\"mode\":\"markers\",\"name\":\"VOLA\",\"type\":\"scatter\",\"x\":[\"Benefit\",\"Downside Reliability\",\"Upside Reliability\",\"Convexity\",\"Cost\",\"Decay\"],\"y\":[0.20756347452414262,0.9999999999999999,0.25730082845688945,1.0,0.2537903273674966,0.8146551724137931]},{\"marker\":{\"size\":20,\"symbol\":[2]},\"mode\":\"markers\",\"name\":\"Dynamic Put Spread\",\"type\":\"scatter\",\"x\":[\"Benefit\",\"Downside Reliability\",\"Upside Reliability\",\"Convexity\",\"Cost\",\"Decay\"],\"y\":[0.3306321602251111,0.845703099220607,0.0,0.16355296901216126,0.4503230518404008,0.2887931034482758]},{\"marker\":{\"size\":20,\"symbol\":[3]},\"mode\":\"markers\",\"name\":\"VRR\",\"type\":\"scatter\",\"x\":[\"Benefit\",\"Downside Reliability\",\"Upside Reliability\",\"Convexity\",\"Cost\",\"Decay\"],\"y\":[0.9999999999999999,0.027476514369042304,0.6995986990489536,0.40204514496343563,0.0,0.0]},{\"marker\":{\"size\":20,\"symbol\":[4]},\"mode\":\"markers\",\"name\":\"GW Dispersion\",\"type\":\"scatter\",\"x\":[\"Benefit\",\"Downside Reliability\",\"Upside Reliability\",\"Convexity\",\"Cost\",\"Decay\"],\"y\":[0.4003166272005163,0.5988621674108707,0.7467610870345425,0.23646774646026164,0.5618665777648815,0.9827586206896552]},{\"marker\":{\"size\":20,\"symbol\":[5]},\"mode\":\"markers\",\"name\":\"Corr Hedge\",\"type\":\"scatter\",\"x\":[\"Benefit\",\"Downside Reliability\",\"Upside Reliability\",\"Convexity\",\"Cost\",\"Decay\"],\"y\":[0.5039588311905435,0.12781691745274526,0.8568153255610644,0.8650662337836288,0.47857498716273217,0.8620689655172413]},{\"marker\":{\"size\":20,\"symbol\":[6]},\"mode\":\"markers\",\"name\":\"Def Var\",\"type\":\"scatter\",\"x\":[\"Benefit\",\"Downside Reliability\",\"Upside Reliability\",\"Convexity\",\"Cost\",\"Decay\"],\"y\":[0.5425201152648,0.0,0.6184854940741311,0.13257363222274382,0.8402198755911654,0.7543103448275861]},{\"marker\":{\"size\":20,\"symbol\":[7]},\"mode\":\"markers\",\"name\":\"VOLA 3\",\"type\":\"scatter\",\"x\":[\"Benefit\",\"Downside Reliability\",\"Upside Reliability\",\"Convexity\",\"Cost\",\"Decay\"],\"y\":[0.0,1.0000000000000002,0.2573008284568893,0.26022791033317677,0.8240711355328997,1.0]},{\"marker\":{\"size\":20,\"symbol\":[8]},\"mode\":\"markers\",\"name\":\"Def Var 3\",\"type\":\"scatter\",\"x\":[\"Benefit\",\"Downside Reliability\",\"Upside Reliability\",\"Convexity\",\"Cost\",\"Decay\"],\"y\":[0.10048699222219701,3.0531133177191805e-16,0.6184854940741311,0.0,1.0,1.0]},{\"marker\":{\"size\":20,\"symbol\":[9]},\"mode\":\"markers\",\"name\":\"Weighted Hedges\",\"type\":\"scatter\",\"x\":[\"Benefit\",\"Downside Reliability\",\"Upside Reliability\",\"Convexity\",\"Cost\",\"Decay\"],\"y\":[0.15916456553435174,0.8977311018442616,0.5247494421312855,0.24530686935196522,0.8268433203444094,1.0]}],                        {\"template\":{\"data\":{\"bar\":[{\"error_x\":{\"color\":\"#2a3f5f\"},\"error_y\":{\"color\":\"#2a3f5f\"},\"marker\":{\"line\":{\"color\":\"#E5ECF6\",\"width\":0.5},\"pattern\":{\"fillmode\":\"overlay\",\"size\":10,\"solidity\":0.2}},\"type\":\"bar\"}],\"barpolar\":[{\"marker\":{\"line\":{\"color\":\"#E5ECF6\",\"width\":0.5},\"pattern\":{\"fillmode\":\"overlay\",\"size\":10,\"solidity\":0.2}},\"type\":\"barpolar\"}],\"carpet\":[{\"aaxis\":{\"endlinecolor\":\"#2a3f5f\",\"gridcolor\":\"white\",\"linecolor\":\"white\",\"minorgridcolor\":\"white\",\"startlinecolor\":\"#2a3f5f\"},\"baxis\":{\"endlinecolor\":\"#2a3f5f\",\"gridcolor\":\"white\",\"linecolor\":\"white\",\"minorgridcolor\":\"white\",\"startlinecolor\":\"#2a3f5f\"},\"type\":\"carpet\"}],\"choropleth\":[{\"colorbar\":{\"outlinewidth\":0,\"ticks\":\"\"},\"type\":\"choropleth\"}],\"contour\":[{\"colorbar\":{\"outlinewidth\":0,\"ticks\":\"\"},\"colorscale\":[[0.0,\"#0d0887\"],[0.1111111111111111,\"#46039f\"],[0.2222222222222222,\"#7201a8\"],[0.3333333333333333,\"#9c179e\"],[0.4444444444444444,\"#bd3786\"],[0.5555555555555556,\"#d8576b\"],[0.6666666666666666,\"#ed7953\"],[0.7777777777777778,\"#fb9f3a\"],[0.8888888888888888,\"#fdca26\"],[1.0,\"#f0f921\"]],\"type\":\"contour\"}],\"contourcarpet\":[{\"colorbar\":{\"outlinewidth\":0,\"ticks\":\"\"},\"type\":\"contourcarpet\"}],\"heatmap\":[{\"colorbar\":{\"outlinewidth\":0,\"ticks\":\"\"},\"colorscale\":[[0.0,\"#0d0887\"],[0.1111111111111111,\"#46039f\"],[0.2222222222222222,\"#7201a8\"],[0.3333333333333333,\"#9c179e\"],[0.4444444444444444,\"#bd3786\"],[0.5555555555555556,\"#d8576b\"],[0.6666666666666666,\"#ed7953\"],[0.7777777777777778,\"#fb9f3a\"],[0.8888888888888888,\"#fdca26\"],[1.0,\"#f0f921\"]],\"type\":\"heatmap\"}],\"heatmapgl\":[{\"colorbar\":{\"outlinewidth\":0,\"ticks\":\"\"},\"colorscale\":[[0.0,\"#0d0887\"],[0.1111111111111111,\"#46039f\"],[0.2222222222222222,\"#7201a8\"],[0.3333333333333333,\"#9c179e\"],[0.4444444444444444,\"#bd3786\"],[0.5555555555555556,\"#d8576b\"],[0.6666666666666666,\"#ed7953\"],[0.7777777777777778,\"#fb9f3a\"],[0.8888888888888888,\"#fdca26\"],[1.0,\"#f0f921\"]],\"type\":\"heatmapgl\"}],\"histogram\":[{\"marker\":{\"pattern\":{\"fillmode\":\"overlay\",\"size\":10,\"solidity\":0.2}},\"type\":\"histogram\"}],\"histogram2d\":[{\"colorbar\":{\"outlinewidth\":0,\"ticks\":\"\"},\"colorscale\":[[0.0,\"#0d0887\"],[0.1111111111111111,\"#46039f\"],[0.2222222222222222,\"#7201a8\"],[0.3333333333333333,\"#9c179e\"],[0.4444444444444444,\"#bd3786\"],[0.5555555555555556,\"#d8576b\"],[0.6666666666666666,\"#ed7953\"],[0.7777777777777778,\"#fb9f3a\"],[0.8888888888888888,\"#fdca26\"],[1.0,\"#f0f921\"]],\"type\":\"histogram2d\"}],\"histogram2dcontour\":[{\"colorbar\":{\"outlinewidth\":0,\"ticks\":\"\"},\"colorscale\":[[0.0,\"#0d0887\"],[0.1111111111111111,\"#46039f\"],[0.2222222222222222,\"#7201a8\"],[0.3333333333333333,\"#9c179e\"],[0.4444444444444444,\"#bd3786\"],[0.5555555555555556,\"#d8576b\"],[0.6666666666666666,\"#ed7953\"],[0.7777777777777778,\"#fb9f3a\"],[0.8888888888888888,\"#fdca26\"],[1.0,\"#f0f921\"]],\"type\":\"histogram2dcontour\"}],\"mesh3d\":[{\"colorbar\":{\"outlinewidth\":0,\"ticks\":\"\"},\"type\":\"mesh3d\"}],\"parcoords\":[{\"line\":{\"colorbar\":{\"outlinewidth\":0,\"ticks\":\"\"}},\"type\":\"parcoords\"}],\"pie\":[{\"automargin\":true,\"type\":\"pie\"}],\"scatter\":[{\"marker\":{\"colorbar\":{\"outlinewidth\":0,\"ticks\":\"\"}},\"type\":\"scatter\"}],\"scatter3d\":[{\"line\":{\"colorbar\":{\"outlinewidth\":0,\"ticks\":\"\"}},\"marker\":{\"colorbar\":{\"outlinewidth\":0,\"ticks\":\"\"}},\"type\":\"scatter3d\"}],\"scattercarpet\":[{\"marker\":{\"colorbar\":{\"outlinewidth\":0,\"ticks\":\"\"}},\"type\":\"scattercarpet\"}],\"scattergeo\":[{\"marker\":{\"colorbar\":{\"outlinewidth\":0,\"ticks\":\"\"}},\"type\":\"scattergeo\"}],\"scattergl\":[{\"marker\":{\"colorbar\":{\"outlinewidth\":0,\"ticks\":\"\"}},\"type\":\"scattergl\"}],\"scattermapbox\":[{\"marker\":{\"colorbar\":{\"outlinewidth\":0,\"ticks\":\"\"}},\"type\":\"scattermapbox\"}],\"scatterpolar\":[{\"marker\":{\"colorbar\":{\"outlinewidth\":0,\"ticks\":\"\"}},\"type\":\"scatterpolar\"}],\"scatterpolargl\":[{\"marker\":{\"colorbar\":{\"outlinewidth\":0,\"ticks\":\"\"}},\"type\":\"scatterpolargl\"}],\"scatterternary\":[{\"marker\":{\"colorbar\":{\"outlinewidth\":0,\"ticks\":\"\"}},\"type\":\"scatterternary\"}],\"surface\":[{\"colorbar\":{\"outlinewidth\":0,\"ticks\":\"\"},\"colorscale\":[[0.0,\"#0d0887\"],[0.1111111111111111,\"#46039f\"],[0.2222222222222222,\"#7201a8\"],[0.3333333333333333,\"#9c179e\"],[0.4444444444444444,\"#bd3786\"],[0.5555555555555556,\"#d8576b\"],[0.6666666666666666,\"#ed7953\"],[0.7777777777777778,\"#fb9f3a\"],[0.8888888888888888,\"#fdca26\"],[1.0,\"#f0f921\"]],\"type\":\"surface\"}],\"table\":[{\"cells\":{\"fill\":{\"color\":\"#EBF0F8\"},\"line\":{\"color\":\"white\"}},\"header\":{\"fill\":{\"color\":\"#C8D4E3\"},\"line\":{\"color\":\"white\"}},\"type\":\"table\"}]},\"layout\":{\"annotationdefaults\":{\"arrowcolor\":\"#2a3f5f\",\"arrowhead\":0,\"arrowwidth\":1},\"autotypenumbers\":\"strict\",\"coloraxis\":{\"colorbar\":{\"outlinewidth\":0,\"ticks\":\"\"}},\"colorscale\":{\"diverging\":[[0,\"#8e0152\"],[0.1,\"#c51b7d\"],[0.2,\"#de77ae\"],[0.3,\"#f1b6da\"],[0.4,\"#fde0ef\"],[0.5,\"#f7f7f7\"],[0.6,\"#e6f5d0\"],[0.7,\"#b8e186\"],[0.8,\"#7fbc41\"],[0.9,\"#4d9221\"],[1,\"#276419\"]],\"sequential\":[[0.0,\"#0d0887\"],[0.1111111111111111,\"#46039f\"],[0.2222222222222222,\"#7201a8\"],[0.3333333333333333,\"#9c179e\"],[0.4444444444444444,\"#bd3786\"],[0.5555555555555556,\"#d8576b\"],[0.6666666666666666,\"#ed7953\"],[0.7777777777777778,\"#fb9f3a\"],[0.8888888888888888,\"#fdca26\"],[1.0,\"#f0f921\"]],\"sequentialminus\":[[0.0,\"#0d0887\"],[0.1111111111111111,\"#46039f\"],[0.2222222222222222,\"#7201a8\"],[0.3333333333333333,\"#9c179e\"],[0.4444444444444444,\"#bd3786\"],[0.5555555555555556,\"#d8576b\"],[0.6666666666666666,\"#ed7953\"],[0.7777777777777778,\"#fb9f3a\"],[0.8888888888888888,\"#fdca26\"],[1.0,\"#f0f921\"]]},\"colorway\":[\"#636efa\",\"#EF553B\",\"#00cc96\",\"#ab63fa\",\"#FFA15A\",\"#19d3f3\",\"#FF6692\",\"#B6E880\",\"#FF97FF\",\"#FECB52\"],\"font\":{\"color\":\"#2a3f5f\"},\"geo\":{\"bgcolor\":\"white\",\"lakecolor\":\"white\",\"landcolor\":\"#E5ECF6\",\"showlakes\":true,\"showland\":true,\"subunitcolor\":\"white\"},\"hoverlabel\":{\"align\":\"left\"},\"hovermode\":\"closest\",\"mapbox\":{\"style\":\"light\"},\"paper_bgcolor\":\"white\",\"plot_bgcolor\":\"#E5ECF6\",\"polar\":{\"angularaxis\":{\"gridcolor\":\"white\",\"linecolor\":\"white\",\"ticks\":\"\"},\"bgcolor\":\"#E5ECF6\",\"radialaxis\":{\"gridcolor\":\"white\",\"linecolor\":\"white\",\"ticks\":\"\"}},\"scene\":{\"xaxis\":{\"backgroundcolor\":\"#E5ECF6\",\"gridcolor\":\"white\",\"gridwidth\":2,\"linecolor\":\"white\",\"showbackground\":true,\"ticks\":\"\",\"zerolinecolor\":\"white\"},\"yaxis\":{\"backgroundcolor\":\"#E5ECF6\",\"gridcolor\":\"white\",\"gridwidth\":2,\"linecolor\":\"white\",\"showbackground\":true,\"ticks\":\"\",\"zerolinecolor\":\"white\"},\"zaxis\":{\"backgroundcolor\":\"#E5ECF6\",\"gridcolor\":\"white\",\"gridwidth\":2,\"linecolor\":\"white\",\"showbackground\":true,\"ticks\":\"\",\"zerolinecolor\":\"white\"}},\"shapedefaults\":{\"line\":{\"color\":\"#2a3f5f\"}},\"ternary\":{\"aaxis\":{\"gridcolor\":\"white\",\"linecolor\":\"white\",\"ticks\":\"\"},\"baxis\":{\"gridcolor\":\"white\",\"linecolor\":\"white\",\"ticks\":\"\"},\"bgcolor\":\"#E5ECF6\",\"caxis\":{\"gridcolor\":\"white\",\"linecolor\":\"white\",\"ticks\":\"\"}},\"title\":{\"x\":0.05},\"xaxis\":{\"automargin\":true,\"gridcolor\":\"white\",\"linecolor\":\"white\",\"ticks\":\"\",\"title\":{\"standoff\":15},\"zerolinecolor\":\"white\",\"zerolinewidth\":2},\"yaxis\":{\"automargin\":true,\"gridcolor\":\"white\",\"linecolor\":\"white\",\"ticks\":\"\",\"title\":{\"standoff\":15},\"zerolinecolor\":\"white\",\"zerolinewidth\":2}}},\"title\":{\"text\":\"\"},\"xaxis\":{\"title\":{\"text\":\"Hedge Metric\"}},\"yaxis\":{\"title\":{\"text\":\"Higher the Better\"}}},                        {\"responsive\": true}                    ).then(function(){\n",
       "                            \n",
       "var gd = document.getElementById('a03b6e8d-8f36-4d76-a3ee-3bb961112f40');\n",
       "var x = new MutationObserver(function (mutations, observer) {{\n",
       "        var display = window.getComputedStyle(gd).display;\n",
       "        if (!display || display === 'none') {{\n",
       "            console.log([gd, 'removed!']);\n",
       "            Plotly.purge(gd);\n",
       "            observer.disconnect();\n",
       "        }}\n",
       "}});\n",
       "\n",
       "// Listen for the removal of the full notebook cells\n",
       "var notebookContainer = gd.closest('#notebook-container');\n",
       "if (notebookContainer) {{\n",
       "    x.observe(notebookContainer, {childList: true});\n",
       "}}\n",
       "\n",
       "// Listen for the clearing of the current output cell\n",
       "var outputEl = gd.closest('.output');\n",
       "if (outputEl) {{\n",
       "    x.observe(outputEl, {childList: true});\n",
       "}}\n",
       "\n",
       "                        })                };                });            </script>        </div>"
      ]
     },
     "metadata": {},
     "output_type": "display_data"
    }
   ],
   "source": [
    "#transpose normal data here instead of in method\n",
    "index = list(df_normal.index)\n",
    "fig = go.Figure()\n",
    "#loops through eaach column and plots each metric for the given strategy\n",
    "for col in df_normal.columns:\n",
    "    fig.add_trace(go.Scatter(\n",
    "        x=index,\n",
    "        y=df_normal[col],\n",
    "        marker=dict(size = 20),\n",
    "        marker_symbol = symbols[col],\n",
    "        mode= \"markers\",\n",
    "        name=col\n",
    "        ))\n",
    "fig.update_layout(title=\"\",\n",
    "                xaxis_title=\"Hedge Metric\",\n",
    "                yaxis_title=\"Higher the Better\")\n",
    "fig.show()"
   ]
  },
  {
   "cell_type": "code",
   "execution_count": null,
   "metadata": {},
   "outputs": [],
   "source": []
  }
 ],
 "metadata": {
  "kernelspec": {
   "display_name": "Python 3",
   "language": "python",
   "name": "python3"
  },
  "language_info": {
   "codemirror_mode": {
    "name": "ipython",
    "version": 3
   },
   "file_extension": ".py",
   "mimetype": "text/x-python",
   "name": "python",
   "nbconvert_exporter": "python",
   "pygments_lexer": "ipython3",
   "version": "3.8.3"
  }
 },
 "nbformat": 4,
 "nbformat_minor": 5
}
