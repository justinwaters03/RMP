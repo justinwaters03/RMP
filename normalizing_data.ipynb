{
 "cells": [
  {
   "cell_type": "markdown",
   "metadata": {},
   "source": [
    "# Ranking Strategies Notebook\n",
    "This notebook normalized cumulative, reliability, and decay metrics and ranks strategies highest to lowest based on these metrics."
   ]
  },
  {
   "cell_type": "markdown",
   "metadata": {},
   "source": [
    "## Import Libraries"
   ]
  },
  {
   "cell_type": "code",
   "execution_count": 1,
   "metadata": {},
   "outputs": [],
   "source": [
    "from EquityHedging.datamanager import data_manager as dm\n",
    "from EquityHedging.analytics import  util\n",
    "from EquityHedging.analytics.util import get_df_weights\n",
    "from EquityHedging.analytics import summary\n",
    "from EquityHedging.reporting.excel import reports as rp\n",
    "from EquityHedging.reporting import formatter as fmt, plots\n",
    "from EquityHedging.analytics import hedge_metrics as hm\n",
    "import pandas as pd\n",
    "from sklearn.preprocessing import MinMaxScaler\n",
    "import plotly.graph_objects as go\n",
    "    \n"
   ]
  },
  {
   "cell_type": "markdown",
   "metadata": {},
   "source": [
    "## Import returns data\n",
    "\n",
    "### Imports Daily, Weekly, Monthly, Quarterly and Yearly returns data\n",
    "\n",
    "To import the returns data:\n",
    "* Select an Equity Benchmark (**equity_bmk**) - SPTR, M1WD, SX5T\n",
    "* Decide if you want a Fixed Income Benchmark (**include_fi**) - True, False\n",
    "* Select what equity hedging strategies to exclude (**strat_drop_list**). Below is the list of strategies:\n",
    "\n",
    "    * 99%/90% Put Spread, Down Var, Vortex, VOLA , Dynamic Put Spread, VRR, GW Dispersion, Corr Hedge"
   ]
  },
  {
   "cell_type": "code",
   "execution_count": 2,
   "metadata": {},
   "outputs": [],
   "source": [
    "equity_bmk = 'M1WD'\n",
    "include_fi = False\n",
    "weighted = [True, False]\n",
    "strat_drop_list = ['99%/90% Put Spread', 'Vortex']\n",
    "new_strat = True\n",
    "returns = dm.get_equity_hedge_returns(equity_bmk, include_fi, strat_drop_list)"
   ]
  },
  {
   "cell_type": "markdown",
   "metadata": {},
   "source": [
    "##  Get Notional Weights "
   ]
  },
  {
   "cell_type": "code",
   "execution_count": 3,
   "metadata": {},
   "outputs": [
    {
     "data": {
      "text/html": [
       "<style  type=\"text/css\" >\n",
       "</style><table id=\"T_6084b840_e4cd_11eb_8432_c8d9d2062ce0\" ><thead>    <tr>        <th class=\"blank level0\" ></th>        <th class=\"col_heading level0 col0\" >M1WD</th>        <th class=\"col_heading level0 col1\" >Down Var</th>        <th class=\"col_heading level0 col2\" >VOLA</th>        <th class=\"col_heading level0 col3\" >Dynamic Put Spread</th>        <th class=\"col_heading level0 col4\" >VRR</th>        <th class=\"col_heading level0 col5\" >GW Dispersion</th>        <th class=\"col_heading level0 col6\" >Corr Hedge</th>        <th class=\"col_heading level0 col7\" >Def Var</th>    </tr></thead><tbody>\n",
       "                <tr>\n",
       "                        <th id=\"T_6084b840_e4cd_11eb_8432_c8d9d2062ce0level0_row0\" class=\"row_heading level0 row0\" >Notional Weights (Billions)</th>\n",
       "                        <td id=\"T_6084b840_e4cd_11eb_8432_c8d9d2062ce0row0_col0\" class=\"data row0 col0\" >$19.00</td>\n",
       "                        <td id=\"T_6084b840_e4cd_11eb_8432_c8d9d2062ce0row0_col1\" class=\"data row0 col1\" >$1.00</td>\n",
       "                        <td id=\"T_6084b840_e4cd_11eb_8432_c8d9d2062ce0row0_col2\" class=\"data row0 col2\" >$1.00</td>\n",
       "                        <td id=\"T_6084b840_e4cd_11eb_8432_c8d9d2062ce0row0_col3\" class=\"data row0 col3\" >$1.00</td>\n",
       "                        <td id=\"T_6084b840_e4cd_11eb_8432_c8d9d2062ce0row0_col4\" class=\"data row0 col4\" >$1.00</td>\n",
       "                        <td id=\"T_6084b840_e4cd_11eb_8432_c8d9d2062ce0row0_col5\" class=\"data row0 col5\" >$1.00</td>\n",
       "                        <td id=\"T_6084b840_e4cd_11eb_8432_c8d9d2062ce0row0_col6\" class=\"data row0 col6\" >$0.25</td>\n",
       "                        <td id=\"T_6084b840_e4cd_11eb_8432_c8d9d2062ce0row0_col7\" class=\"data row0 col7\" >$1.00</td>\n",
       "            </tr>\n",
       "            <tr>\n",
       "                        <th id=\"T_6084b840_e4cd_11eb_8432_c8d9d2062ce0level0_row1\" class=\"row_heading level0 row1\" >Percentage Weights</th>\n",
       "                        <td id=\"T_6084b840_e4cd_11eb_8432_c8d9d2062ce0row1_col0\" class=\"data row1 col0\" >100.00%</td>\n",
       "                        <td id=\"T_6084b840_e4cd_11eb_8432_c8d9d2062ce0row1_col1\" class=\"data row1 col1\" >5.26%</td>\n",
       "                        <td id=\"T_6084b840_e4cd_11eb_8432_c8d9d2062ce0row1_col2\" class=\"data row1 col2\" >5.26%</td>\n",
       "                        <td id=\"T_6084b840_e4cd_11eb_8432_c8d9d2062ce0row1_col3\" class=\"data row1 col3\" >5.26%</td>\n",
       "                        <td id=\"T_6084b840_e4cd_11eb_8432_c8d9d2062ce0row1_col4\" class=\"data row1 col4\" >5.26%</td>\n",
       "                        <td id=\"T_6084b840_e4cd_11eb_8432_c8d9d2062ce0row1_col5\" class=\"data row1 col5\" >5.26%</td>\n",
       "                        <td id=\"T_6084b840_e4cd_11eb_8432_c8d9d2062ce0row1_col6\" class=\"data row1 col6\" >1.32%</td>\n",
       "                        <td id=\"T_6084b840_e4cd_11eb_8432_c8d9d2062ce0row1_col7\" class=\"data row1 col7\" >5.26%</td>\n",
       "            </tr>\n",
       "            <tr>\n",
       "                        <th id=\"T_6084b840_e4cd_11eb_8432_c8d9d2062ce0level0_row2\" class=\"row_heading level0 row2\" >Strategy Weights</th>\n",
       "                        <td id=\"T_6084b840_e4cd_11eb_8432_c8d9d2062ce0row2_col0\" class=\"data row2 col0\" >0.00%</td>\n",
       "                        <td id=\"T_6084b840_e4cd_11eb_8432_c8d9d2062ce0row2_col1\" class=\"data row2 col1\" >16.00%</td>\n",
       "                        <td id=\"T_6084b840_e4cd_11eb_8432_c8d9d2062ce0row2_col2\" class=\"data row2 col2\" >16.00%</td>\n",
       "                        <td id=\"T_6084b840_e4cd_11eb_8432_c8d9d2062ce0row2_col3\" class=\"data row2 col3\" >16.00%</td>\n",
       "                        <td id=\"T_6084b840_e4cd_11eb_8432_c8d9d2062ce0row2_col4\" class=\"data row2 col4\" >16.00%</td>\n",
       "                        <td id=\"T_6084b840_e4cd_11eb_8432_c8d9d2062ce0row2_col5\" class=\"data row2 col5\" >16.00%</td>\n",
       "                        <td id=\"T_6084b840_e4cd_11eb_8432_c8d9d2062ce0row2_col6\" class=\"data row2 col6\" >4.00%</td>\n",
       "                        <td id=\"T_6084b840_e4cd_11eb_8432_c8d9d2062ce0row2_col7\" class=\"data row2 col7\" >16.00%</td>\n",
       "            </tr>\n",
       "    </tbody></table>"
      ],
      "text/plain": [
       "<pandas.io.formats.style.Styler at 0x18b4d074be0>"
      ]
     },
     "execution_count": 3,
     "metadata": {},
     "output_type": "execute_result"
    }
   ],
   "source": [
    "#notional_weights = dm.get_notional_weights(returns['Monthly'])\n",
    "notional_weights = [19.0, 1.0, 1.0, 1.0, 1.0, 1.0, 0.25, 1.0]\n",
    "df_weights = get_df_weights(notional_weights, list(returns['Monthly'].columns), include_fi)\n",
    "fmt.get_notional_styler(df_weights)"
   ]
  },
  {
   "cell_type": "markdown",
   "metadata": {},
   "source": [
    "## Get Normalized Data"
   ]
  },
  {
   "cell_type": "code",
   "execution_count": 4,
   "metadata": {},
   "outputs": [
    {
     "data": {
      "text/html": [
       "<div>\n",
       "<style scoped>\n",
       "    .dataframe tbody tr th:only-of-type {\n",
       "        vertical-align: middle;\n",
       "    }\n",
       "\n",
       "    .dataframe tbody tr th {\n",
       "        vertical-align: top;\n",
       "    }\n",
       "\n",
       "    .dataframe thead th {\n",
       "        text-align: right;\n",
       "    }\n",
       "</style>\n",
       "<table border=\"1\" class=\"dataframe\">\n",
       "  <thead>\n",
       "    <tr style=\"text-align: right;\">\n",
       "      <th></th>\n",
       "      <th>Down Var</th>\n",
       "      <th>VOLA</th>\n",
       "      <th>Dynamic Put Spread</th>\n",
       "      <th>VRR</th>\n",
       "      <th>GW Dispersion</th>\n",
       "      <th>Corr Hedge</th>\n",
       "      <th>Def Var</th>\n",
       "      <th>Weighted Hedges</th>\n",
       "    </tr>\n",
       "  </thead>\n",
       "  <tbody>\n",
       "    <tr>\n",
       "      <th>Benefit</th>\n",
       "      <td>0.447231</td>\n",
       "      <td>0.000000</td>\n",
       "      <td>0.155304</td>\n",
       "      <td>1.000000</td>\n",
       "      <td>0.243241</td>\n",
       "      <td>0.374030</td>\n",
       "      <td>0.422692</td>\n",
       "      <td>0.007034</td>\n",
       "    </tr>\n",
       "    <tr>\n",
       "      <th>Down Reliability</th>\n",
       "      <td>0.535432</td>\n",
       "      <td>0.000000</td>\n",
       "      <td>0.154297</td>\n",
       "      <td>0.972523</td>\n",
       "      <td>0.401138</td>\n",
       "      <td>0.872183</td>\n",
       "      <td>1.000000</td>\n",
       "      <td>0.111236</td>\n",
       "    </tr>\n",
       "    <tr>\n",
       "      <th>Up Reliability</th>\n",
       "      <td>1.000000</td>\n",
       "      <td>0.257301</td>\n",
       "      <td>0.000000</td>\n",
       "      <td>0.699599</td>\n",
       "      <td>0.746761</td>\n",
       "      <td>0.856815</td>\n",
       "      <td>0.618485</td>\n",
       "      <td>0.567331</td>\n",
       "    </tr>\n",
       "    <tr>\n",
       "      <th>Convexity</th>\n",
       "      <td>0.710750</td>\n",
       "      <td>1.000000</td>\n",
       "      <td>0.035714</td>\n",
       "      <td>0.310656</td>\n",
       "      <td>0.119773</td>\n",
       "      <td>0.844444</td>\n",
       "      <td>0.000000</td>\n",
       "      <td>0.186045</td>\n",
       "    </tr>\n",
       "    <tr>\n",
       "      <th>Cost</th>\n",
       "      <td>0.086945</td>\n",
       "      <td>0.302052</td>\n",
       "      <td>0.535959</td>\n",
       "      <td>0.000000</td>\n",
       "      <td>0.668714</td>\n",
       "      <td>0.569583</td>\n",
       "      <td>1.000000</td>\n",
       "      <td>0.919781</td>\n",
       "    </tr>\n",
       "    <tr>\n",
       "      <th>Decay</th>\n",
       "      <td>0.337719</td>\n",
       "      <td>0.828947</td>\n",
       "      <td>0.293860</td>\n",
       "      <td>0.000000</td>\n",
       "      <td>1.000000</td>\n",
       "      <td>0.877193</td>\n",
       "      <td>0.767544</td>\n",
       "      <td>0.951754</td>\n",
       "    </tr>\n",
       "  </tbody>\n",
       "</table>\n",
       "</div>"
      ],
      "text/plain": [
       "                  Down Var      VOLA  Dynamic Put Spread       VRR  \\\n",
       "Benefit           0.447231  0.000000            0.155304  1.000000   \n",
       "Down Reliability  0.535432  0.000000            0.154297  0.972523   \n",
       "Up Reliability    1.000000  0.257301            0.000000  0.699599   \n",
       "Convexity         0.710750  1.000000            0.035714  0.310656   \n",
       "Cost              0.086945  0.302052            0.535959  0.000000   \n",
       "Decay             0.337719  0.828947            0.293860  0.000000   \n",
       "\n",
       "                  GW Dispersion  Corr Hedge   Def Var  Weighted Hedges  \n",
       "Benefit                0.243241    0.374030  0.422692         0.007034  \n",
       "Down Reliability       0.401138    0.872183  1.000000         0.111236  \n",
       "Up Reliability         0.746761    0.856815  0.618485         0.567331  \n",
       "Convexity              0.119773    0.844444  0.000000         0.186045  \n",
       "Cost                   0.668714    0.569583  1.000000         0.919781  \n",
       "Decay                  1.000000    0.877193  0.767544         0.951754  "
      ]
     },
     "execution_count": 4,
     "metadata": {},
     "output_type": "execute_result"
    }
   ],
   "source": [
    "df_normal= summary.get_normalized_hedge_metrics(returns, equity_bmk, notional_weights, weighted_hedge = True)\n",
    "df_normal\n"
   ]
  },
  {
   "cell_type": "markdown",
   "metadata": {},
   "source": [
    "## Creates a List of Symbols "
   ]
  },
  {
   "cell_type": "code",
   "execution_count": 5,
   "metadata": {},
   "outputs": [],
   "source": [
    "#get length of columns\n",
    "n=len(df_normal.columns)\n",
    "\n",
    "#get column names of df_normal\n",
    "c=list(df_normal.columns)\n",
    "\n",
    "#creates a list of the corresponding number of the symbols we want\n",
    "a=list(range(0,33))\n",
    "b=list(range(46,53))\n",
    "for i in b:\n",
    "    a.append(i)\n",
    "    \n",
    "#Creates a data frame that assigns each strategy with a symbol\n",
    "symbols=pd.DataFrame(columns=c,index=[0])\n",
    "symbols.iloc[0] = a[0:n]\n"
   ]
  },
  {
   "cell_type": "markdown",
   "metadata": {},
   "source": [
    "## Graph Normalized Data and Ranking Each Strategy"
   ]
  },
  {
   "cell_type": "code",
   "execution_count": 11,
   "metadata": {},
   "outputs": [
    {
     "data": {
      "application/vnd.plotly.v1+json": {
       "config": {
        "plotlyServerURL": "https://plot.ly"
       },
       "data": [
        {
         "marker": {
          "size": 20,
          "symbol": [
           0
          ]
         },
         "mode": "markers",
         "name": "Down Var",
         "type": "scatter",
         "x": [
          "Benefit",
          "Down Reliability",
          "Up Reliability",
          "Convexity",
          "Cost",
          "Decay"
         ],
         "y": [
          0.4472314786279992,
          0.5354323745021641,
          1,
          0.7107495292356351,
          0.08694487848927679,
          0.3377192982456141
         ]
        },
        {
         "marker": {
          "size": 20,
          "symbol": [
           1
          ]
         },
         "mode": "markers",
         "name": "VOLA",
         "type": "scatter",
         "x": [
          "Benefit",
          "Down Reliability",
          "Up Reliability",
          "Convexity",
          "Cost",
          "Decay"
         ],
         "y": [
          0,
          0,
          0.25730082845688945,
          0.9999999999999999,
          0.3020522779099146,
          0.8289473684210527
         ]
        },
        {
         "marker": {
          "size": 20,
          "symbol": [
           2
          ]
         },
         "mode": "markers",
         "name": "Dynamic Put Spread",
         "type": "scatter",
         "x": [
          "Benefit",
          "Down Reliability",
          "Up Reliability",
          "Convexity",
          "Cost",
          "Decay"
         ],
         "y": [
          0.15530415590960528,
          0.15429690077939284,
          0,
          0.03571408241693266,
          0.5359585805127027,
          0.29385964912280704
         ]
        },
        {
         "marker": {
          "size": 20,
          "symbol": [
           3
          ]
         },
         "mode": "markers",
         "name": "VRR",
         "type": "scatter",
         "x": [
          "Benefit",
          "Down Reliability",
          "Up Reliability",
          "Convexity",
          "Cost",
          "Decay"
         ],
         "y": [
          1,
          0.9725234856309576,
          0.6995986990489536,
          0.31065635395797486,
          0,
          0
         ]
        },
        {
         "marker": {
          "size": 20,
          "symbol": [
           4
          ]
         },
         "mode": "markers",
         "name": "GW Dispersion",
         "type": "scatter",
         "x": [
          "Benefit",
          "Down Reliability",
          "Up Reliability",
          "Convexity",
          "Cost",
          "Decay"
         ],
         "y": [
          0.2432411259193607,
          0.40113783258912916,
          0.7467610870345425,
          0.11977283386455281,
          0.668713742780199,
          1
         ]
        },
        {
         "marker": {
          "size": 20,
          "symbol": [
           5
          ]
         },
         "mode": "markers",
         "name": "Corr Hedge",
         "type": "scatter",
         "x": [
          "Benefit",
          "Down Reliability",
          "Up Reliability",
          "Convexity",
          "Cost",
          "Decay"
         ],
         "y": [
          0.37403040765746604,
          0.8721830825472546,
          0.8568153255610644,
          0.8444435502207138,
          0.5695830354239291,
          0.8771929824561404
         ]
        },
        {
         "marker": {
          "size": 20,
          "symbol": [
           6
          ]
         },
         "mode": "markers",
         "name": "Def Var",
         "type": "scatter",
         "x": [
          "Benefit",
          "Down Reliability",
          "Up Reliability",
          "Convexity",
          "Cost",
          "Decay"
         ],
         "y": [
          0.4226920768695212,
          0.9999999999999999,
          0.6184854940741311,
          0,
          0.9999999999999999,
          0.7675438596491229
         ]
        },
        {
         "marker": {
          "size": 20,
          "symbol": [
           7
          ]
         },
         "mode": "markers",
         "name": "Weighted Hedges",
         "type": "scatter",
         "x": [
          "Benefit",
          "Down Reliability",
          "Up Reliability",
          "Convexity",
          "Cost",
          "Decay"
         ],
         "y": [
          0.007034221945504959,
          0.11123565426847326,
          0.5673305282290827,
          0.1860451682737608,
          0.919780589242708,
          0.9517543859649122
         ]
        }
       ],
       "layout": {
        "template": {
         "data": {
          "bar": [
           {
            "error_x": {
             "color": "#2a3f5f"
            },
            "error_y": {
             "color": "#2a3f5f"
            },
            "marker": {
             "line": {
              "color": "#E5ECF6",
              "width": 0.5
             },
             "pattern": {
              "fillmode": "overlay",
              "size": 10,
              "solidity": 0.2
             }
            },
            "type": "bar"
           }
          ],
          "barpolar": [
           {
            "marker": {
             "line": {
              "color": "#E5ECF6",
              "width": 0.5
             },
             "pattern": {
              "fillmode": "overlay",
              "size": 10,
              "solidity": 0.2
             }
            },
            "type": "barpolar"
           }
          ],
          "carpet": [
           {
            "aaxis": {
             "endlinecolor": "#2a3f5f",
             "gridcolor": "white",
             "linecolor": "white",
             "minorgridcolor": "white",
             "startlinecolor": "#2a3f5f"
            },
            "baxis": {
             "endlinecolor": "#2a3f5f",
             "gridcolor": "white",
             "linecolor": "white",
             "minorgridcolor": "white",
             "startlinecolor": "#2a3f5f"
            },
            "type": "carpet"
           }
          ],
          "choropleth": [
           {
            "colorbar": {
             "outlinewidth": 0,
             "ticks": ""
            },
            "type": "choropleth"
           }
          ],
          "contour": [
           {
            "colorbar": {
             "outlinewidth": 0,
             "ticks": ""
            },
            "colorscale": [
             [
              0,
              "#0d0887"
             ],
             [
              0.1111111111111111,
              "#46039f"
             ],
             [
              0.2222222222222222,
              "#7201a8"
             ],
             [
              0.3333333333333333,
              "#9c179e"
             ],
             [
              0.4444444444444444,
              "#bd3786"
             ],
             [
              0.5555555555555556,
              "#d8576b"
             ],
             [
              0.6666666666666666,
              "#ed7953"
             ],
             [
              0.7777777777777778,
              "#fb9f3a"
             ],
             [
              0.8888888888888888,
              "#fdca26"
             ],
             [
              1,
              "#f0f921"
             ]
            ],
            "type": "contour"
           }
          ],
          "contourcarpet": [
           {
            "colorbar": {
             "outlinewidth": 0,
             "ticks": ""
            },
            "type": "contourcarpet"
           }
          ],
          "heatmap": [
           {
            "colorbar": {
             "outlinewidth": 0,
             "ticks": ""
            },
            "colorscale": [
             [
              0,
              "#0d0887"
             ],
             [
              0.1111111111111111,
              "#46039f"
             ],
             [
              0.2222222222222222,
              "#7201a8"
             ],
             [
              0.3333333333333333,
              "#9c179e"
             ],
             [
              0.4444444444444444,
              "#bd3786"
             ],
             [
              0.5555555555555556,
              "#d8576b"
             ],
             [
              0.6666666666666666,
              "#ed7953"
             ],
             [
              0.7777777777777778,
              "#fb9f3a"
             ],
             [
              0.8888888888888888,
              "#fdca26"
             ],
             [
              1,
              "#f0f921"
             ]
            ],
            "type": "heatmap"
           }
          ],
          "heatmapgl": [
           {
            "colorbar": {
             "outlinewidth": 0,
             "ticks": ""
            },
            "colorscale": [
             [
              0,
              "#0d0887"
             ],
             [
              0.1111111111111111,
              "#46039f"
             ],
             [
              0.2222222222222222,
              "#7201a8"
             ],
             [
              0.3333333333333333,
              "#9c179e"
             ],
             [
              0.4444444444444444,
              "#bd3786"
             ],
             [
              0.5555555555555556,
              "#d8576b"
             ],
             [
              0.6666666666666666,
              "#ed7953"
             ],
             [
              0.7777777777777778,
              "#fb9f3a"
             ],
             [
              0.8888888888888888,
              "#fdca26"
             ],
             [
              1,
              "#f0f921"
             ]
            ],
            "type": "heatmapgl"
           }
          ],
          "histogram": [
           {
            "marker": {
             "pattern": {
              "fillmode": "overlay",
              "size": 10,
              "solidity": 0.2
             }
            },
            "type": "histogram"
           }
          ],
          "histogram2d": [
           {
            "colorbar": {
             "outlinewidth": 0,
             "ticks": ""
            },
            "colorscale": [
             [
              0,
              "#0d0887"
             ],
             [
              0.1111111111111111,
              "#46039f"
             ],
             [
              0.2222222222222222,
              "#7201a8"
             ],
             [
              0.3333333333333333,
              "#9c179e"
             ],
             [
              0.4444444444444444,
              "#bd3786"
             ],
             [
              0.5555555555555556,
              "#d8576b"
             ],
             [
              0.6666666666666666,
              "#ed7953"
             ],
             [
              0.7777777777777778,
              "#fb9f3a"
             ],
             [
              0.8888888888888888,
              "#fdca26"
             ],
             [
              1,
              "#f0f921"
             ]
            ],
            "type": "histogram2d"
           }
          ],
          "histogram2dcontour": [
           {
            "colorbar": {
             "outlinewidth": 0,
             "ticks": ""
            },
            "colorscale": [
             [
              0,
              "#0d0887"
             ],
             [
              0.1111111111111111,
              "#46039f"
             ],
             [
              0.2222222222222222,
              "#7201a8"
             ],
             [
              0.3333333333333333,
              "#9c179e"
             ],
             [
              0.4444444444444444,
              "#bd3786"
             ],
             [
              0.5555555555555556,
              "#d8576b"
             ],
             [
              0.6666666666666666,
              "#ed7953"
             ],
             [
              0.7777777777777778,
              "#fb9f3a"
             ],
             [
              0.8888888888888888,
              "#fdca26"
             ],
             [
              1,
              "#f0f921"
             ]
            ],
            "type": "histogram2dcontour"
           }
          ],
          "mesh3d": [
           {
            "colorbar": {
             "outlinewidth": 0,
             "ticks": ""
            },
            "type": "mesh3d"
           }
          ],
          "parcoords": [
           {
            "line": {
             "colorbar": {
              "outlinewidth": 0,
              "ticks": ""
             }
            },
            "type": "parcoords"
           }
          ],
          "pie": [
           {
            "automargin": true,
            "type": "pie"
           }
          ],
          "scatter": [
           {
            "marker": {
             "colorbar": {
              "outlinewidth": 0,
              "ticks": ""
             }
            },
            "type": "scatter"
           }
          ],
          "scatter3d": [
           {
            "line": {
             "colorbar": {
              "outlinewidth": 0,
              "ticks": ""
             }
            },
            "marker": {
             "colorbar": {
              "outlinewidth": 0,
              "ticks": ""
             }
            },
            "type": "scatter3d"
           }
          ],
          "scattercarpet": [
           {
            "marker": {
             "colorbar": {
              "outlinewidth": 0,
              "ticks": ""
             }
            },
            "type": "scattercarpet"
           }
          ],
          "scattergeo": [
           {
            "marker": {
             "colorbar": {
              "outlinewidth": 0,
              "ticks": ""
             }
            },
            "type": "scattergeo"
           }
          ],
          "scattergl": [
           {
            "marker": {
             "colorbar": {
              "outlinewidth": 0,
              "ticks": ""
             }
            },
            "type": "scattergl"
           }
          ],
          "scattermapbox": [
           {
            "marker": {
             "colorbar": {
              "outlinewidth": 0,
              "ticks": ""
             }
            },
            "type": "scattermapbox"
           }
          ],
          "scatterpolar": [
           {
            "marker": {
             "colorbar": {
              "outlinewidth": 0,
              "ticks": ""
             }
            },
            "type": "scatterpolar"
           }
          ],
          "scatterpolargl": [
           {
            "marker": {
             "colorbar": {
              "outlinewidth": 0,
              "ticks": ""
             }
            },
            "type": "scatterpolargl"
           }
          ],
          "scatterternary": [
           {
            "marker": {
             "colorbar": {
              "outlinewidth": 0,
              "ticks": ""
             }
            },
            "type": "scatterternary"
           }
          ],
          "surface": [
           {
            "colorbar": {
             "outlinewidth": 0,
             "ticks": ""
            },
            "colorscale": [
             [
              0,
              "#0d0887"
             ],
             [
              0.1111111111111111,
              "#46039f"
             ],
             [
              0.2222222222222222,
              "#7201a8"
             ],
             [
              0.3333333333333333,
              "#9c179e"
             ],
             [
              0.4444444444444444,
              "#bd3786"
             ],
             [
              0.5555555555555556,
              "#d8576b"
             ],
             [
              0.6666666666666666,
              "#ed7953"
             ],
             [
              0.7777777777777778,
              "#fb9f3a"
             ],
             [
              0.8888888888888888,
              "#fdca26"
             ],
             [
              1,
              "#f0f921"
             ]
            ],
            "type": "surface"
           }
          ],
          "table": [
           {
            "cells": {
             "fill": {
              "color": "#EBF0F8"
             },
             "line": {
              "color": "white"
             }
            },
            "header": {
             "fill": {
              "color": "#C8D4E3"
             },
             "line": {
              "color": "white"
             }
            },
            "type": "table"
           }
          ]
         },
         "layout": {
          "annotationdefaults": {
           "arrowcolor": "#2a3f5f",
           "arrowhead": 0,
           "arrowwidth": 1
          },
          "autotypenumbers": "strict",
          "coloraxis": {
           "colorbar": {
            "outlinewidth": 0,
            "ticks": ""
           }
          },
          "colorscale": {
           "diverging": [
            [
             0,
             "#8e0152"
            ],
            [
             0.1,
             "#c51b7d"
            ],
            [
             0.2,
             "#de77ae"
            ],
            [
             0.3,
             "#f1b6da"
            ],
            [
             0.4,
             "#fde0ef"
            ],
            [
             0.5,
             "#f7f7f7"
            ],
            [
             0.6,
             "#e6f5d0"
            ],
            [
             0.7,
             "#b8e186"
            ],
            [
             0.8,
             "#7fbc41"
            ],
            [
             0.9,
             "#4d9221"
            ],
            [
             1,
             "#276419"
            ]
           ],
           "sequential": [
            [
             0,
             "#0d0887"
            ],
            [
             0.1111111111111111,
             "#46039f"
            ],
            [
             0.2222222222222222,
             "#7201a8"
            ],
            [
             0.3333333333333333,
             "#9c179e"
            ],
            [
             0.4444444444444444,
             "#bd3786"
            ],
            [
             0.5555555555555556,
             "#d8576b"
            ],
            [
             0.6666666666666666,
             "#ed7953"
            ],
            [
             0.7777777777777778,
             "#fb9f3a"
            ],
            [
             0.8888888888888888,
             "#fdca26"
            ],
            [
             1,
             "#f0f921"
            ]
           ],
           "sequentialminus": [
            [
             0,
             "#0d0887"
            ],
            [
             0.1111111111111111,
             "#46039f"
            ],
            [
             0.2222222222222222,
             "#7201a8"
            ],
            [
             0.3333333333333333,
             "#9c179e"
            ],
            [
             0.4444444444444444,
             "#bd3786"
            ],
            [
             0.5555555555555556,
             "#d8576b"
            ],
            [
             0.6666666666666666,
             "#ed7953"
            ],
            [
             0.7777777777777778,
             "#fb9f3a"
            ],
            [
             0.8888888888888888,
             "#fdca26"
            ],
            [
             1,
             "#f0f921"
            ]
           ]
          },
          "colorway": [
           "#636efa",
           "#EF553B",
           "#00cc96",
           "#ab63fa",
           "#FFA15A",
           "#19d3f3",
           "#FF6692",
           "#B6E880",
           "#FF97FF",
           "#FECB52"
          ],
          "font": {
           "color": "#2a3f5f"
          },
          "geo": {
           "bgcolor": "white",
           "lakecolor": "white",
           "landcolor": "#E5ECF6",
           "showlakes": true,
           "showland": true,
           "subunitcolor": "white"
          },
          "hoverlabel": {
           "align": "left"
          },
          "hovermode": "closest",
          "mapbox": {
           "style": "light"
          },
          "paper_bgcolor": "white",
          "plot_bgcolor": "#E5ECF6",
          "polar": {
           "angularaxis": {
            "gridcolor": "white",
            "linecolor": "white",
            "ticks": ""
           },
           "bgcolor": "#E5ECF6",
           "radialaxis": {
            "gridcolor": "white",
            "linecolor": "white",
            "ticks": ""
           }
          },
          "scene": {
           "xaxis": {
            "backgroundcolor": "#E5ECF6",
            "gridcolor": "white",
            "gridwidth": 2,
            "linecolor": "white",
            "showbackground": true,
            "ticks": "",
            "zerolinecolor": "white"
           },
           "yaxis": {
            "backgroundcolor": "#E5ECF6",
            "gridcolor": "white",
            "gridwidth": 2,
            "linecolor": "white",
            "showbackground": true,
            "ticks": "",
            "zerolinecolor": "white"
           },
           "zaxis": {
            "backgroundcolor": "#E5ECF6",
            "gridcolor": "white",
            "gridwidth": 2,
            "linecolor": "white",
            "showbackground": true,
            "ticks": "",
            "zerolinecolor": "white"
           }
          },
          "shapedefaults": {
           "line": {
            "color": "#2a3f5f"
           }
          },
          "ternary": {
           "aaxis": {
            "gridcolor": "white",
            "linecolor": "white",
            "ticks": ""
           },
           "baxis": {
            "gridcolor": "white",
            "linecolor": "white",
            "ticks": ""
           },
           "bgcolor": "#E5ECF6",
           "caxis": {
            "gridcolor": "white",
            "linecolor": "white",
            "ticks": ""
           }
          },
          "title": {
           "x": 0.05
          },
          "xaxis": {
           "automargin": true,
           "gridcolor": "white",
           "linecolor": "white",
           "ticks": "",
           "title": {
            "standoff": 15
           },
           "zerolinecolor": "white",
           "zerolinewidth": 2
          },
          "yaxis": {
           "automargin": true,
           "gridcolor": "white",
           "linecolor": "white",
           "ticks": "",
           "title": {
            "standoff": 15
           },
           "zerolinecolor": "white",
           "zerolinewidth": 2
          }
         }
        },
        "title": {
         "text": ""
        },
        "xaxis": {
         "title": {
          "text": "Hedge Metric"
         }
        },
        "yaxis": {
         "title": {
          "text": "Higher the Better"
         }
        }
       }
      },
      "text/html": [
       "<div>                            <div id=\"1072e0f1-c12d-4d67-8a8f-601231c943ff\" class=\"plotly-graph-div\" style=\"height:525px; width:100%;\"></div>            <script type=\"text/javascript\">                require([\"plotly\"], function(Plotly) {                    window.PLOTLYENV=window.PLOTLYENV || {};                                    if (document.getElementById(\"1072e0f1-c12d-4d67-8a8f-601231c943ff\")) {                    Plotly.newPlot(                        \"1072e0f1-c12d-4d67-8a8f-601231c943ff\",                        [{\"marker\":{\"size\":20,\"symbol\":[0]},\"mode\":\"markers\",\"name\":\"Down Var\",\"type\":\"scatter\",\"x\":[\"Benefit\",\"Down Reliability\",\"Up Reliability\",\"Convexity\",\"Cost\",\"Decay\"],\"y\":[0.4472314786279992,0.5354323745021641,1.0,0.7107495292356351,0.08694487848927679,0.3377192982456141]},{\"marker\":{\"size\":20,\"symbol\":[1]},\"mode\":\"markers\",\"name\":\"VOLA\",\"type\":\"scatter\",\"x\":[\"Benefit\",\"Down Reliability\",\"Up Reliability\",\"Convexity\",\"Cost\",\"Decay\"],\"y\":[0.0,0.0,0.25730082845688945,0.9999999999999999,0.3020522779099146,0.8289473684210527]},{\"marker\":{\"size\":20,\"symbol\":[2]},\"mode\":\"markers\",\"name\":\"Dynamic Put Spread\",\"type\":\"scatter\",\"x\":[\"Benefit\",\"Down Reliability\",\"Up Reliability\",\"Convexity\",\"Cost\",\"Decay\"],\"y\":[0.15530415590960528,0.15429690077939284,0.0,0.03571408241693266,0.5359585805127027,0.29385964912280704]},{\"marker\":{\"size\":20,\"symbol\":[3]},\"mode\":\"markers\",\"name\":\"VRR\",\"type\":\"scatter\",\"x\":[\"Benefit\",\"Down Reliability\",\"Up Reliability\",\"Convexity\",\"Cost\",\"Decay\"],\"y\":[1.0,0.9725234856309576,0.6995986990489536,0.31065635395797486,0.0,0.0]},{\"marker\":{\"size\":20,\"symbol\":[4]},\"mode\":\"markers\",\"name\":\"GW Dispersion\",\"type\":\"scatter\",\"x\":[\"Benefit\",\"Down Reliability\",\"Up Reliability\",\"Convexity\",\"Cost\",\"Decay\"],\"y\":[0.2432411259193607,0.40113783258912916,0.7467610870345425,0.11977283386455281,0.668713742780199,1.0]},{\"marker\":{\"size\":20,\"symbol\":[5]},\"mode\":\"markers\",\"name\":\"Corr Hedge\",\"type\":\"scatter\",\"x\":[\"Benefit\",\"Down Reliability\",\"Up Reliability\",\"Convexity\",\"Cost\",\"Decay\"],\"y\":[0.37403040765746604,0.8721830825472546,0.8568153255610644,0.8444435502207138,0.5695830354239291,0.8771929824561404]},{\"marker\":{\"size\":20,\"symbol\":[6]},\"mode\":\"markers\",\"name\":\"Def Var\",\"type\":\"scatter\",\"x\":[\"Benefit\",\"Down Reliability\",\"Up Reliability\",\"Convexity\",\"Cost\",\"Decay\"],\"y\":[0.4226920768695212,0.9999999999999999,0.6184854940741311,0.0,0.9999999999999999,0.7675438596491229]},{\"marker\":{\"size\":20,\"symbol\":[7]},\"mode\":\"markers\",\"name\":\"Weighted Hedges\",\"type\":\"scatter\",\"x\":[\"Benefit\",\"Down Reliability\",\"Up Reliability\",\"Convexity\",\"Cost\",\"Decay\"],\"y\":[0.007034221945504959,0.11123565426847326,0.5673305282290827,0.1860451682737608,0.919780589242708,0.9517543859649122]}],                        {\"template\":{\"data\":{\"bar\":[{\"error_x\":{\"color\":\"#2a3f5f\"},\"error_y\":{\"color\":\"#2a3f5f\"},\"marker\":{\"line\":{\"color\":\"#E5ECF6\",\"width\":0.5},\"pattern\":{\"fillmode\":\"overlay\",\"size\":10,\"solidity\":0.2}},\"type\":\"bar\"}],\"barpolar\":[{\"marker\":{\"line\":{\"color\":\"#E5ECF6\",\"width\":0.5},\"pattern\":{\"fillmode\":\"overlay\",\"size\":10,\"solidity\":0.2}},\"type\":\"barpolar\"}],\"carpet\":[{\"aaxis\":{\"endlinecolor\":\"#2a3f5f\",\"gridcolor\":\"white\",\"linecolor\":\"white\",\"minorgridcolor\":\"white\",\"startlinecolor\":\"#2a3f5f\"},\"baxis\":{\"endlinecolor\":\"#2a3f5f\",\"gridcolor\":\"white\",\"linecolor\":\"white\",\"minorgridcolor\":\"white\",\"startlinecolor\":\"#2a3f5f\"},\"type\":\"carpet\"}],\"choropleth\":[{\"colorbar\":{\"outlinewidth\":0,\"ticks\":\"\"},\"type\":\"choropleth\"}],\"contour\":[{\"colorbar\":{\"outlinewidth\":0,\"ticks\":\"\"},\"colorscale\":[[0.0,\"#0d0887\"],[0.1111111111111111,\"#46039f\"],[0.2222222222222222,\"#7201a8\"],[0.3333333333333333,\"#9c179e\"],[0.4444444444444444,\"#bd3786\"],[0.5555555555555556,\"#d8576b\"],[0.6666666666666666,\"#ed7953\"],[0.7777777777777778,\"#fb9f3a\"],[0.8888888888888888,\"#fdca26\"],[1.0,\"#f0f921\"]],\"type\":\"contour\"}],\"contourcarpet\":[{\"colorbar\":{\"outlinewidth\":0,\"ticks\":\"\"},\"type\":\"contourcarpet\"}],\"heatmap\":[{\"colorbar\":{\"outlinewidth\":0,\"ticks\":\"\"},\"colorscale\":[[0.0,\"#0d0887\"],[0.1111111111111111,\"#46039f\"],[0.2222222222222222,\"#7201a8\"],[0.3333333333333333,\"#9c179e\"],[0.4444444444444444,\"#bd3786\"],[0.5555555555555556,\"#d8576b\"],[0.6666666666666666,\"#ed7953\"],[0.7777777777777778,\"#fb9f3a\"],[0.8888888888888888,\"#fdca26\"],[1.0,\"#f0f921\"]],\"type\":\"heatmap\"}],\"heatmapgl\":[{\"colorbar\":{\"outlinewidth\":0,\"ticks\":\"\"},\"colorscale\":[[0.0,\"#0d0887\"],[0.1111111111111111,\"#46039f\"],[0.2222222222222222,\"#7201a8\"],[0.3333333333333333,\"#9c179e\"],[0.4444444444444444,\"#bd3786\"],[0.5555555555555556,\"#d8576b\"],[0.6666666666666666,\"#ed7953\"],[0.7777777777777778,\"#fb9f3a\"],[0.8888888888888888,\"#fdca26\"],[1.0,\"#f0f921\"]],\"type\":\"heatmapgl\"}],\"histogram\":[{\"marker\":{\"pattern\":{\"fillmode\":\"overlay\",\"size\":10,\"solidity\":0.2}},\"type\":\"histogram\"}],\"histogram2d\":[{\"colorbar\":{\"outlinewidth\":0,\"ticks\":\"\"},\"colorscale\":[[0.0,\"#0d0887\"],[0.1111111111111111,\"#46039f\"],[0.2222222222222222,\"#7201a8\"],[0.3333333333333333,\"#9c179e\"],[0.4444444444444444,\"#bd3786\"],[0.5555555555555556,\"#d8576b\"],[0.6666666666666666,\"#ed7953\"],[0.7777777777777778,\"#fb9f3a\"],[0.8888888888888888,\"#fdca26\"],[1.0,\"#f0f921\"]],\"type\":\"histogram2d\"}],\"histogram2dcontour\":[{\"colorbar\":{\"outlinewidth\":0,\"ticks\":\"\"},\"colorscale\":[[0.0,\"#0d0887\"],[0.1111111111111111,\"#46039f\"],[0.2222222222222222,\"#7201a8\"],[0.3333333333333333,\"#9c179e\"],[0.4444444444444444,\"#bd3786\"],[0.5555555555555556,\"#d8576b\"],[0.6666666666666666,\"#ed7953\"],[0.7777777777777778,\"#fb9f3a\"],[0.8888888888888888,\"#fdca26\"],[1.0,\"#f0f921\"]],\"type\":\"histogram2dcontour\"}],\"mesh3d\":[{\"colorbar\":{\"outlinewidth\":0,\"ticks\":\"\"},\"type\":\"mesh3d\"}],\"parcoords\":[{\"line\":{\"colorbar\":{\"outlinewidth\":0,\"ticks\":\"\"}},\"type\":\"parcoords\"}],\"pie\":[{\"automargin\":true,\"type\":\"pie\"}],\"scatter\":[{\"marker\":{\"colorbar\":{\"outlinewidth\":0,\"ticks\":\"\"}},\"type\":\"scatter\"}],\"scatter3d\":[{\"line\":{\"colorbar\":{\"outlinewidth\":0,\"ticks\":\"\"}},\"marker\":{\"colorbar\":{\"outlinewidth\":0,\"ticks\":\"\"}},\"type\":\"scatter3d\"}],\"scattercarpet\":[{\"marker\":{\"colorbar\":{\"outlinewidth\":0,\"ticks\":\"\"}},\"type\":\"scattercarpet\"}],\"scattergeo\":[{\"marker\":{\"colorbar\":{\"outlinewidth\":0,\"ticks\":\"\"}},\"type\":\"scattergeo\"}],\"scattergl\":[{\"marker\":{\"colorbar\":{\"outlinewidth\":0,\"ticks\":\"\"}},\"type\":\"scattergl\"}],\"scattermapbox\":[{\"marker\":{\"colorbar\":{\"outlinewidth\":0,\"ticks\":\"\"}},\"type\":\"scattermapbox\"}],\"scatterpolar\":[{\"marker\":{\"colorbar\":{\"outlinewidth\":0,\"ticks\":\"\"}},\"type\":\"scatterpolar\"}],\"scatterpolargl\":[{\"marker\":{\"colorbar\":{\"outlinewidth\":0,\"ticks\":\"\"}},\"type\":\"scatterpolargl\"}],\"scatterternary\":[{\"marker\":{\"colorbar\":{\"outlinewidth\":0,\"ticks\":\"\"}},\"type\":\"scatterternary\"}],\"surface\":[{\"colorbar\":{\"outlinewidth\":0,\"ticks\":\"\"},\"colorscale\":[[0.0,\"#0d0887\"],[0.1111111111111111,\"#46039f\"],[0.2222222222222222,\"#7201a8\"],[0.3333333333333333,\"#9c179e\"],[0.4444444444444444,\"#bd3786\"],[0.5555555555555556,\"#d8576b\"],[0.6666666666666666,\"#ed7953\"],[0.7777777777777778,\"#fb9f3a\"],[0.8888888888888888,\"#fdca26\"],[1.0,\"#f0f921\"]],\"type\":\"surface\"}],\"table\":[{\"cells\":{\"fill\":{\"color\":\"#EBF0F8\"},\"line\":{\"color\":\"white\"}},\"header\":{\"fill\":{\"color\":\"#C8D4E3\"},\"line\":{\"color\":\"white\"}},\"type\":\"table\"}]},\"layout\":{\"annotationdefaults\":{\"arrowcolor\":\"#2a3f5f\",\"arrowhead\":0,\"arrowwidth\":1},\"autotypenumbers\":\"strict\",\"coloraxis\":{\"colorbar\":{\"outlinewidth\":0,\"ticks\":\"\"}},\"colorscale\":{\"diverging\":[[0,\"#8e0152\"],[0.1,\"#c51b7d\"],[0.2,\"#de77ae\"],[0.3,\"#f1b6da\"],[0.4,\"#fde0ef\"],[0.5,\"#f7f7f7\"],[0.6,\"#e6f5d0\"],[0.7,\"#b8e186\"],[0.8,\"#7fbc41\"],[0.9,\"#4d9221\"],[1,\"#276419\"]],\"sequential\":[[0.0,\"#0d0887\"],[0.1111111111111111,\"#46039f\"],[0.2222222222222222,\"#7201a8\"],[0.3333333333333333,\"#9c179e\"],[0.4444444444444444,\"#bd3786\"],[0.5555555555555556,\"#d8576b\"],[0.6666666666666666,\"#ed7953\"],[0.7777777777777778,\"#fb9f3a\"],[0.8888888888888888,\"#fdca26\"],[1.0,\"#f0f921\"]],\"sequentialminus\":[[0.0,\"#0d0887\"],[0.1111111111111111,\"#46039f\"],[0.2222222222222222,\"#7201a8\"],[0.3333333333333333,\"#9c179e\"],[0.4444444444444444,\"#bd3786\"],[0.5555555555555556,\"#d8576b\"],[0.6666666666666666,\"#ed7953\"],[0.7777777777777778,\"#fb9f3a\"],[0.8888888888888888,\"#fdca26\"],[1.0,\"#f0f921\"]]},\"colorway\":[\"#636efa\",\"#EF553B\",\"#00cc96\",\"#ab63fa\",\"#FFA15A\",\"#19d3f3\",\"#FF6692\",\"#B6E880\",\"#FF97FF\",\"#FECB52\"],\"font\":{\"color\":\"#2a3f5f\"},\"geo\":{\"bgcolor\":\"white\",\"lakecolor\":\"white\",\"landcolor\":\"#E5ECF6\",\"showlakes\":true,\"showland\":true,\"subunitcolor\":\"white\"},\"hoverlabel\":{\"align\":\"left\"},\"hovermode\":\"closest\",\"mapbox\":{\"style\":\"light\"},\"paper_bgcolor\":\"white\",\"plot_bgcolor\":\"#E5ECF6\",\"polar\":{\"angularaxis\":{\"gridcolor\":\"white\",\"linecolor\":\"white\",\"ticks\":\"\"},\"bgcolor\":\"#E5ECF6\",\"radialaxis\":{\"gridcolor\":\"white\",\"linecolor\":\"white\",\"ticks\":\"\"}},\"scene\":{\"xaxis\":{\"backgroundcolor\":\"#E5ECF6\",\"gridcolor\":\"white\",\"gridwidth\":2,\"linecolor\":\"white\",\"showbackground\":true,\"ticks\":\"\",\"zerolinecolor\":\"white\"},\"yaxis\":{\"backgroundcolor\":\"#E5ECF6\",\"gridcolor\":\"white\",\"gridwidth\":2,\"linecolor\":\"white\",\"showbackground\":true,\"ticks\":\"\",\"zerolinecolor\":\"white\"},\"zaxis\":{\"backgroundcolor\":\"#E5ECF6\",\"gridcolor\":\"white\",\"gridwidth\":2,\"linecolor\":\"white\",\"showbackground\":true,\"ticks\":\"\",\"zerolinecolor\":\"white\"}},\"shapedefaults\":{\"line\":{\"color\":\"#2a3f5f\"}},\"ternary\":{\"aaxis\":{\"gridcolor\":\"white\",\"linecolor\":\"white\",\"ticks\":\"\"},\"baxis\":{\"gridcolor\":\"white\",\"linecolor\":\"white\",\"ticks\":\"\"},\"bgcolor\":\"#E5ECF6\",\"caxis\":{\"gridcolor\":\"white\",\"linecolor\":\"white\",\"ticks\":\"\"}},\"title\":{\"x\":0.05},\"xaxis\":{\"automargin\":true,\"gridcolor\":\"white\",\"linecolor\":\"white\",\"ticks\":\"\",\"title\":{\"standoff\":15},\"zerolinecolor\":\"white\",\"zerolinewidth\":2},\"yaxis\":{\"automargin\":true,\"gridcolor\":\"white\",\"linecolor\":\"white\",\"ticks\":\"\",\"title\":{\"standoff\":15},\"zerolinecolor\":\"white\",\"zerolinewidth\":2}}},\"title\":{\"text\":\"\"},\"xaxis\":{\"title\":{\"text\":\"Hedge Metric\"}},\"yaxis\":{\"title\":{\"text\":\"Higher the Better\"}}},                        {\"responsive\": true}                    ).then(function(){\n",
       "                            \n",
       "var gd = document.getElementById('1072e0f1-c12d-4d67-8a8f-601231c943ff');\n",
       "var x = new MutationObserver(function (mutations, observer) {{\n",
       "        var display = window.getComputedStyle(gd).display;\n",
       "        if (!display || display === 'none') {{\n",
       "            console.log([gd, 'removed!']);\n",
       "            Plotly.purge(gd);\n",
       "            observer.disconnect();\n",
       "        }}\n",
       "}});\n",
       "\n",
       "// Listen for the removal of the full notebook cells\n",
       "var notebookContainer = gd.closest('#notebook-container');\n",
       "if (notebookContainer) {{\n",
       "    x.observe(notebookContainer, {childList: true});\n",
       "}}\n",
       "\n",
       "// Listen for the clearing of the current output cell\n",
       "var outputEl = gd.closest('.output');\n",
       "if (outputEl) {{\n",
       "    x.observe(outputEl, {childList: true});\n",
       "}}\n",
       "\n",
       "                        })                };                });            </script>        </div>"
      ]
     },
     "metadata": {},
     "output_type": "display_data"
    }
   ],
   "source": [
    "index = list(df_normal.index)\n",
    "\n",
    "fig = go.Figure()\n",
    "#loops through eaach column and plots each metric for the given strategy\n",
    "for col in df_normal.columns:\n",
    "    fig.add_trace(go.Scatter(\n",
    "        x=index,\n",
    "        y=df_normal[col],\n",
    "        marker=dict(size = 20),\n",
    "        marker_symbol = symbols[col],\n",
    "        mode= \"markers\",\n",
    "        name=col\n",
    "        ))\n",
    "fig.update_layout(title=\"\",\n",
    "                xaxis_title=\"Hedge Metric\",\n",
    "                yaxis_title=\"Higher the Better\")\n",
    "fig.show()"
   ]
  },
  {
   "cell_type": "code",
   "execution_count": null,
   "metadata": {},
   "outputs": [],
   "source": []
  }
 ],
 "metadata": {
  "kernelspec": {
   "display_name": "Python 3",
   "language": "python",
   "name": "python3"
  },
  "language_info": {
   "codemirror_mode": {
    "name": "ipython",
    "version": 3
   },
   "file_extension": ".py",
   "mimetype": "text/x-python",
   "name": "python",
   "nbconvert_exporter": "python",
   "pygments_lexer": "ipython3",
   "version": "3.8.3"
  }
 },
 "nbformat": 4,
 "nbformat_minor": 5
}
