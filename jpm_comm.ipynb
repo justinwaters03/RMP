{
 "cells": [
  {
   "cell_type": "markdown",
   "id": "c8efc831",
   "metadata": {},
   "source": [
    "# Strategy Report Notebook\n",
    "This notebok runs analysis on a given strategy."
   ]
  },
  {
   "cell_type": "markdown",
   "id": "9b9a2a56",
   "metadata": {},
   "source": [
    "## Import Libraries"
   ]
  },
  {
   "cell_type": "code",
   "execution_count": null,
   "id": "b5afcd8f",
   "metadata": {},
   "outputs": [],
   "source": [
    "import plotly.express as px\n",
    "from EquityHedging.datamanager import data_manager as dm\n",
    "from EquityHedging.analytics import summary\n",
    "from EquityHedging.reporting.excel import reports as rp\n",
    "from EquityHedging.reporting import formatter as fmt, plots\n",
    "from ipywidgets import interact, interact_manual\n",
    "from xbbg import blp\n"
   ]
  },
  {
   "cell_type": "markdown",
   "id": "a344d57a",
   "metadata": {},
   "source": [
    "## Import Daily, Weekly, Monthly, Quarterly and Yearly Returns Data for Equity Benchmark\n",
    "\n",
    "To import the returns data:\n",
    "* Select an Equity Benchmark (**equity_bmk**):  SPTR, M1WD, SX5T"
   ]
  },
  {
   "cell_type": "code",
   "execution_count": null,
   "id": "d12c51fd",
   "metadata": {},
   "outputs": [],
   "source": [
    "equity_bmk = 'SPTR'\n",
    "# strat_drop_list = ['99%/90% Put Spread','Down Var', 'VOLA', 'Dynamic Put Spread', 'VRR',\n",
    "#        'GW Dispersion', 'Corr Hedge', 'Def Var']\n",
    "# include_fi = False\n",
    "#create returns data dictionary for equity benchmark\n",
    "sptr_dict= dm.get_equity_hedge_returns(equity_bmk, only_equity=True)"
   ]
  },
  {
   "cell_type": "code",
   "execution_count": null,
   "id": "08a3fee8",
   "metadata": {},
   "outputs": [],
   "source": [
    "jpm_comm_list = ['JMABAB3E Index','JMABDBSE Index','JMABSEAS Index','JMABNEO1 Index','JMABNCMF Index',\n",
    "                 'JMABCIDR Index','JMABCID2 Index','JCOPCF Index','JCOPCF2 Index',\n",
    "                 'JMABSSPE Index','JMABMCV1 Index','JMABNEO2 Index','JMABJH01 Index',\n",
    "                 'JMABNCC1 Index','JMABNCL1 Index','JMABNCM1 Index','JMABNCV1 Index']\n",
    "jpm_comd_uni = blp.bdh(tickers=jpm_comm_list, flds='PX_LAST', start_date='2007-12-31', end_date='2021-08-31', Per='D', Fill='P', Days='T')\n",
    "# .get_data(jpm_comm_list, start_date='2007-12-31', end_date='2021-08-31')\n",
    "jpm_comd_uni.drop(['JMABMCV1 Index'], axis = 1, inplace=True)\n",
    "jpm_comd_uni.dropna(inplace=True)\n",
    "jpm_comd_uni.columns = ['JMABDBSE Index', 'JMABSEAS Index', 'JMABNEO1 Index', 'JMABNCMF Index', 'JMABCIDR Index', 'JMABCID2 Index', 'JCOPCF Index',\n",
    " 'JCOPCF2 Index', 'JMABSSPE Index', 'JMABNCC1 Index', 'JMABNCL1 Index', 'JMABNCM1 Index', 'JMABNCV1 Index']\n",
    "jpm_comd_uni.head()"
   ]
  },
  {
   "cell_type": "code",
   "execution_count": null,
   "id": "8aa95d48",
   "metadata": {},
   "outputs": [],
   "source": [
    "# list(jpm_comd_uni.columns)\n",
    "# ['JMABDBSE Index', 'JMABSEAS Index', 'JMABNEO1 Index', 'JMABNCMF Index', 'JMABCIDR Index', 'JMABCID2 Index', 'JCOPCF Index',\n",
    "#  'JCOPCF2 Index', 'JMABSSPE Index', 'JMABNCC1 Index', 'JMABNCL1 Index', 'JMABNCM1 Index', 'JMABNCV1 Index']"
   ]
  },
  {
   "cell_type": "code",
   "execution_count": null,
   "id": "6062de5e",
   "metadata": {},
   "outputs": [],
   "source": []
  },
  {
   "cell_type": "markdown",
   "id": "6987c181",
   "metadata": {},
   "source": [
    "## Import Daily, Weekly, Monthly, Quarterly and Yearly Returns Data for a Strategy\n",
    "To import the returns data:\n",
    "* In **new_data = get_new_strategy_returns_data( report_name= , sheet_name = )**\n",
    "    * Add File Name to **report_name** \n",
    "    * Add sheet name to **sheet_name**"
   ]
  },
  {
   "cell_type": "code",
   "execution_count": null,
   "id": "fccadab0",
   "metadata": {},
   "outputs": [],
   "source": [
    "# ubs_vortex= dm.get_new_strategy_returns_data( dm.NEW_DATA+'Convixity Timeseries_8.5.21.xlsx'\n",
    "#                                            sheet_name = \"Series\")\n",
    "# barclays_vortex= dm.get_new_strategy_returns_data( dm.NEW_DATA+'Barclays_Volatility_Convexity_New_Iterations_08042021.xlsx'\n",
    "#                                            sheet_name = \"New Iterations\")\n",
    "\n",
    "#create returns data dictionary for strategy\n",
    "new_data_dict = dm.get_data_dict(jpm_comd_uni)\n",
    "\n",
    "#merge dictionaries\n",
    "ret_data_dict = dm.merge_dicts(sptr_dict,new_data_dict)"
   ]
  },
  {
   "cell_type": "markdown",
   "id": "2abac9d5",
   "metadata": {},
   "source": [
    "## View Returns Data\n",
    "Select frequency (Daily, Weekly, Monthly, Yearly) to view data"
   ]
  },
  {
   "cell_type": "code",
   "execution_count": null,
   "id": "416b71a0",
   "metadata": {},
   "outputs": [],
   "source": [
    "freq_list = ['Daily', 'Weekly', 'Monthly','Quarterly', 'Yearly']\n",
    "@interact\n",
    "def display_returns(frequency = freq_list):\n",
    "    return fmt.get_returns_styler(ret_data_dict[frequency])"
   ]
  },
  {
   "cell_type": "markdown",
   "id": "f97de090",
   "metadata": {},
   "source": [
    "# Compute Correlations"
   ]
  },
  {
   "cell_type": "code",
   "execution_count": null,
   "id": "97a9e12e",
   "metadata": {},
   "outputs": [],
   "source": [
    "corr_freq_list = ['Weekly', 'Monthly']\n",
    "corr_dict = summary.get_corr_data(ret_data_dict)"
   ]
  },
  {
   "cell_type": "markdown",
   "id": "ee85050c",
   "metadata": {},
   "source": [
    "# Display Correlations\n",
    "\n",
    "Display Correlations of returns data by:\n",
    "* **frequency (Monthly or Weekly)** - Show correlations of Monthly or Weekly returns\n",
    "* **corr** - Show:\n",
    "    * **corr** - full history correaltions\n",
    "    * **corr_down** - risk seeking benchmark downside returns correlations or \n",
    "    * **corr_up** - risk seeking benchmark upside returns correlations\n",
    "* **plot_type (corrplot or heatmap)** - Show a map with magnitude or just heatmap"
   ]
  },
  {
   "cell_type": "code",
   "execution_count": null,
   "id": "e06ba4db",
   "metadata": {},
   "outputs": [],
   "source": [
    "@interact\n",
    "def display_correlations(frequency=corr_freq_list,\n",
    "                         corr=['corr', 'corr_down', 'corr_up'], plot_type=['heatmap', 'corrplot']):\n",
    "    data = corr_dict[frequency]\n",
    "    corr_df = data[False][corr][0]\n",
    "    if plot_type == 'heatmap':\n",
    "        return plots.draw_heatmap(corr_df, half=False)\n",
    "    else:\n",
    "        return plots.draw_corrplot(corr_df)"
   ]
  },
  {
   "cell_type": "markdown",
   "id": "614c7916",
   "metadata": {},
   "source": [
    "## Compute Return Stats and hedge Metrics"
   ]
  },
  {
   "cell_type": "code",
   "execution_count": null,
   "id": "a5600ab0",
   "metadata": {},
   "outputs": [],
   "source": [
    "analytics_freq_list = ['Weekly', 'Monthly']\n",
    "analytics_dict = summary.get_analytics_data(ret_data_dict)"
   ]
  },
  {
   "cell_type": "markdown",
   "id": "6154a94c",
   "metadata": {},
   "source": [
    "## Display Return Stats and Hedge Metrics\n",
    "Display Returns Analytics data by:\n",
    "* **frequency (Monthly or Weekly)** - Show Monthly or Weekly returns\n",
    "* **stats (return_stats, hedge_metrics)** - Show:\n",
    "    * Return Statistics or \n",
    "    * Hedge Metrics"
   ]
  },
  {
   "cell_type": "code",
   "execution_count": null,
   "id": "ebb173f2",
   "metadata": {},
   "outputs": [],
   "source": [
    "@interact\n",
    "def display_analytics(frequency=analytics_freq_list, stats=['return_stats', 'hedge_metrics']):\n",
    "    data = analytics_dict[frequency]\n",
    "    analytics = data[False]\n",
    "    if stats == 'return_stats':\n",
    "        return fmt.get_analytics_styler(analytics)\n",
    "    if stats == 'hedge_metrics':\n",
    "        if frequency == 'Weekly':\n",
    "            return fmt.get_analytics_styler(analytics, stats, '1W')\n",
    "        else:\n",
    "            return fmt.get_analytics_styler(analytics, stats)"
   ]
  },
  {
   "cell_type": "markdown",
   "id": "78d6a3e9",
   "metadata": {},
   "source": [
    "## Compute Historical Sell Offs"
   ]
  },
  {
   "cell_type": "code",
   "execution_count": null,
   "id": "1a6ca4b3",
   "metadata": {},
   "outputs": [],
   "source": [
    "hist_dict = summary.get_hist_data(ret_data_dict)"
   ]
  },
  {
   "cell_type": "markdown",
   "id": "1424dc6b",
   "metadata": {},
   "source": [
    "## Display Historical Sell Offs"
   ]
  },
  {
   "cell_type": "code",
   "execution_count": null,
   "id": "c3677d36",
   "metadata": {},
   "outputs": [],
   "source": [
    "@interact\n",
    "def display_selloffs():\n",
    "    df_hist = hist_dict[False]\n",
    "    return fmt.get_hist_styler(df_hist)"
   ]
  },
  {
   "cell_type": "markdown",
   "id": "45dd267a",
   "metadata": {},
   "source": [
    "## Compute Quintile or Decile Analysis\n",
    "Display grouped data by:\n",
    "* **group (Quintile or Decile)** - Show returns data in quintiles or deciles"
   ]
  },
  {
   "cell_type": "code",
   "execution_count": null,
   "id": "70018c07",
   "metadata": {},
   "outputs": [],
   "source": [
    "group_list=['Quintile','Decile']\n",
    "@interact\n",
    "def display_returns(group = group_list):\n",
    "    quintile_df = summary.get_grouped_data(ret_data_dict, group = group)\n",
    "    return(quintile_df.style.format(\"{:.2%}\"))"
   ]
  },
  {
   "cell_type": "markdown",
   "id": "a6c5c302",
   "metadata": {},
   "source": [
    "## Display Quintile or Decile Analysis\n",
    "Display Quintile Analysis Bar Chart:\n",
    "* **group (Quintile or Decile)** - Show returns data in quintiles or deciles\n",
    "* **strat** - Show quintile or decile for selected strategy"
   ]
  },
  {
   "cell_type": "code",
   "execution_count": null,
   "id": "3bec240d",
   "metadata": {},
   "outputs": [],
   "source": [
    "group_list=['Quintile','Decile']\n",
    "@interact\n",
    "\n",
    "def display_quintile_analysis(group = group_list, strat=list(ret_data_dict['Monthly'].select_dtypes('float').columns)[1:]):    \n",
    "    df = summary.get_grouped_data(ret_data_dict, group = group)\n",
    "    \n",
    "    for col in df.columns:\n",
    "        if not (col == equity_bmk or col ==strat):\n",
    "            df.drop([col], axis=1, inplace=True)\n",
    "    if group == \"Quintile\":\n",
    "        title ='Quintile Analysis'\n",
    "    else:\n",
    "        title = 'Decile Analysis'\n",
    "        \n",
    "    fig = px.bar(df,barmode='group',title = title)\n",
    "    fig.show()\n",
    "    "
   ]
  },
  {
   "cell_type": "markdown",
   "id": "fd2d66dd",
   "metadata": {},
   "source": [
    "# Create Report\n",
    "\n",
    "Run this code below to export analysis into excel spreadsheet\n",
    "* **strat_report (string)**: provide a name for the excel file\n",
    "* **selloffs (boolean)**:\n",
    "    * **True**: if you want historical selloff data in the spreadsheet\n",
    "    * **False**: if you do not want historical selloff data in the spreadsheet"
   ]
  },
  {
   "cell_type": "code",
   "execution_count": null,
   "id": "9637c5b9",
   "metadata": {},
   "outputs": [],
   "source": [
    "strat_report = 'Vortex_analysis_08_16_2021'\n",
    "selloffs = True\n",
    "rp.generate_strat_report(strat_report, ret_data_dict, selloffs)"
   ]
  },
  {
   "cell_type": "code",
   "execution_count": null,
   "id": "c6546526",
   "metadata": {},
   "outputs": [],
   "source": []
  }
 ],
 "metadata": {
  "kernelspec": {
   "display_name": "Python 3",
   "language": "python",
   "name": "python3"
  },
  "language_info": {
   "codemirror_mode": {
    "name": "ipython",
    "version": 3
   },
   "file_extension": ".py",
   "mimetype": "text/x-python",
   "name": "python",
   "nbconvert_exporter": "python",
   "pygments_lexer": "ipython3",
   "version": "3.8.5"
  },
  "varInspector": {
   "cols": {
    "lenName": 16,
    "lenType": 16,
    "lenVar": 40
   },
   "kernels_config": {
    "python": {
     "delete_cmd_postfix": "",
     "delete_cmd_prefix": "del ",
     "library": "var_list.py",
     "varRefreshCmd": "print(var_dic_list())"
    },
    "r": {
     "delete_cmd_postfix": ") ",
     "delete_cmd_prefix": "rm(",
     "library": "var_list.r",
     "varRefreshCmd": "cat(var_dic_list()) "
    }
   },
   "types_to_exclude": [
    "module",
    "function",
    "builtin_function_or_method",
    "instance",
    "_Feature"
   ],
   "window_display": false
  }
 },
 "nbformat": 4,
 "nbformat_minor": 5
}
