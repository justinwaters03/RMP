{
 "cells": [
  {
   "cell_type": "markdown",
   "metadata": {},
   "source": [
    "# Things To Do"
   ]
  },
  {
   "cell_type": "markdown",
   "metadata": {},
   "source": [
    "1. **Get code to github**:\n",
    "    * Create new repository with code base and test to make sure it can work successfully on a separate machine (Done)"
   ]
  },
  {
   "cell_type": "markdown",
   "metadata": {},
   "source": [
    "2. **Write down instructions to get correct environment**:\n",
    "    * How to install Anaconda (Done)\n",
    "    * What libraries to import (Done)\n",
    "    * Any trouble shooting info\n",
    "\n"
   ]
  },
  {
   "cell_type": "markdown",
   "metadata": {},
   "source": [
    "3. **Add testing**:\n",
    "    * Create unit tests to ensure project does not break when we add new code (Started)\n",
    "\n"
   ]
  },
  {
   "cell_type": "markdown",
   "metadata": {},
   "source": [
    "4. **Include bloomberg api**:\n",
    "    * Write code to feed bloomberg data directly especialy for new stategies (Done)\n",
    "    * Maybe find ways to incorpoate bloomberg analytics (BQUANT)\n",
    "\n"
   ]
  },
  {
   "cell_type": "markdown",
   "metadata": {},
   "source": [
    "5. **Add more analytics and visuals**:\n",
    "    * Rolling Correlations\n",
    "    * Improve hedge Metrics (Started)\n",
    "    * Add bottom SPTR 10 quarters bar chart (Done)\n",
    "    * Look into different weighting (not just notional, 1/k variance etc.)\n",
    "    \n"
   ]
  },
  {
   "cell_type": "markdown",
   "metadata": {},
   "source": [
    "6. **Add more notebooks**:\n",
    "    * Notebook comparing similar strategies from different banks (Done)\n",
    "    * Derivatives Notebook\n",
    "    * Hedging Frmaework Model Notebook (Started)\n"
   ]
  },
  {
   "cell_type": "markdown",
   "metadata": {},
   "source": [
    "\n",
    "7. **Link notebooks (if possible)**\n",
    "    * Look into jupyter labs"
   ]
  },
  {
   "cell_type": "markdown",
   "metadata": {},
   "source": [
    "\n",
    "8. **Add database**"
   ]
  },
  {
   "cell_type": "markdown",
   "metadata": {},
   "source": [
    "9. **Feed from BOA for data**"
   ]
  }
 ],
 "metadata": {
  "kernelspec": {
   "display_name": "Python 3",
   "language": "python",
   "name": "python3"
  },
  "language_info": {
   "codemirror_mode": {
    "name": "ipython",
    "version": 3
   },
   "file_extension": ".py",
   "mimetype": "text/x-python",
   "name": "python",
   "nbconvert_exporter": "python",
   "pygments_lexer": "ipython3",
   "version": "3.8.5"
  }
 },
 "nbformat": 4,
 "nbformat_minor": 2
}
