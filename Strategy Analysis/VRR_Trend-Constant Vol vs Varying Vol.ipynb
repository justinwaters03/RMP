{
 "cells": [
  {
   "cell_type": "markdown",
   "id": "c8efc831",
   "metadata": {},
   "source": [
    "# VRR Trend Constant Vol vs Varying Vol\n",
    "This notebok runs analysis on the VRR Trend strategy."
   ]
  },
  {
   "cell_type": "markdown",
   "id": "9b9a2a56",
   "metadata": {},
   "source": [
    "## Import Libraries"
   ]
  },
  {
   "cell_type": "code",
   "execution_count": null,
   "id": "b5afcd8f",
   "metadata": {},
   "outputs": [],
   "source": [
    "import os\n",
    "os.chdir('..')\n",
    "\n",
    "import plotly.express as px\n",
    "import plotly.graph_objects as go\n",
    "from EquityHedging.datamanager import data_manager as dm\n",
    "from EquityHedging.analytics import summary\n",
    "from EquityHedging.reporting.excel import reports as rp\n",
    "from EquityHedging.reporting import formatter as fmt, plots\n",
    "from ipywidgets import interact, interact_manual\n",
    "import pandas as pd"
   ]
  },
  {
   "cell_type": "markdown",
   "id": "a344d57a",
   "metadata": {},
   "source": [
    "## Import Equity & FI Benchmark Data"
   ]
  },
  {
   "cell_type": "code",
   "execution_count": null,
   "id": "d12c51fd",
   "metadata": {},
   "outputs": [],
   "source": [
    "equity_bmk = 'SPTR'\n",
    "include_fi = True\n",
    "strat_drop_list = ['99%/90% Put Spread','Down Var', 'Vortex','VOLA', 'Dynamic Put Spread', 'VRR',\n",
    "       'GW Dispersion', 'Corr Hedge', 'Def Var']\n",
    "\n",
    "#create returns data dictionary for equity benchmark\n",
    "ret_dict= dm.get_equity_hedge_returns(equity_bmk, include_fi, strat_drop_list)"
   ]
  },
  {
   "cell_type": "markdown",
   "id": "f3003426",
   "metadata": {},
   "source": [
    "## Import VRR Trend iterations and Display Historical Performance"
   ]
  },
  {
   "cell_type": "code",
   "execution_count": null,
   "id": "08a3fee8",
   "metadata": {},
   "outputs": [],
   "source": [
    "vrr_trend = pd.read_excel(dm.NEW_DATA+'VRR Trend with Constant Vol.xlsx', sheet_name='data', index_col=0)\n",
    "vrr_trend_dict = dm.merge_dicts(ret_dict, dm.get_data_dict(vrr_trend))\n",
    "fig = go.Figure()\n",
    "for strat in vrr_trend.columns:\n",
    "    fig.add_trace(go.Scatter(x = pd.to_datetime(vrr_trend.index, format = '%m/%d/%Y'),\n",
    "                             y = vrr_trend[strat],mode = 'lines',name = strat))\n",
    "fig.update_layout(\n",
    "    title={\n",
    "        'text': \"<b>Historical Performance</b>\",\n",
    "        'y':0.9,\n",
    "        'x':0.5,'xanchor': 'center','yanchor': 'top'\n",
    "    },\n",
    "    title_font_family=\"Calibri\",\n",
    "    titlefont = {\"size\":20},\n",
    "    xaxis = dict(tickfont = dict(size=14)),\n",
    "    showlegend=True,\n",
    "    plot_bgcolor='White'\n",
    "    )\n",
    "fig.update_xaxes(showline=True,linewidth=2,linecolor='black',mirror=False)\n",
    "fig.update_yaxes(showline=True,linewidth=2,linecolor='black',mirror=False)\n",
    "fig.show()"
   ]
  },
  {
   "cell_type": "markdown",
   "id": "c746c333",
   "metadata": {},
   "source": [
    "# Compute Correlations"
   ]
  },
  {
   "cell_type": "code",
   "execution_count": null,
   "id": "3ceec0c3",
   "metadata": {},
   "outputs": [],
   "source": [
    "corr_freq_list = ['Weekly', 'Monthly']\n",
    "corr_dict_trend = summary.get_corr_data(vrr_trend_dict, include_fi=include_fi)"
   ]
  },
  {
   "cell_type": "markdown",
   "id": "b3c98ebd",
   "metadata": {},
   "source": [
    "# Display Correlations\n",
    "\n",
    "Display Correlations of returns data by:\n",
    "* **frequency (Monthly or Weekly)** - Show correlations of Monthly or Weekly returns\n",
    "* **corr** - Show:\n",
    "    * **full** - full history correaltions\n",
    "    * **equity_down** - risk seeking benchmark downside returns correlations or \n",
    "    * **equity_up** - risk seeking benchmark upside returns correlations\n",
    "* **plot_type (corrplot or heatmap)** - Show a map with magnitude or just heatmap"
   ]
  },
  {
   "cell_type": "code",
   "execution_count": null,
   "id": "5b87bb72",
   "metadata": {
    "scrolled": false
   },
   "outputs": [],
   "source": [
    "@interact\n",
    "def display_correlations(frequency=corr_freq_list,\n",
    "                         corr=['full', 'equity_down', 'equity_up'], plot_type=['heatmap', 'corrplot']):\n",
    "    data = corr_dict_trend[frequency]\n",
    "    corr_df = data[False][corr][0]\n",
    "    if plot_type == 'heatmap':\n",
    "        return plots.draw_heatmap(corr_df, half=False)\n",
    "    else:\n",
    "        return plots.draw_corrplot(corr_df)"
   ]
  },
  {
   "cell_type": "markdown",
   "id": "3b91782e",
   "metadata": {},
   "source": [
    "## Compute Return Stats and Hedge Metrics"
   ]
  },
  {
   "cell_type": "code",
   "execution_count": null,
   "id": "7c2859f1",
   "metadata": {},
   "outputs": [],
   "source": [
    "analytics_freq_list = ['Weekly', 'Monthly']\n",
    "analytics_dict_trend = summary.get_analytics_data(vrr_trend_dict, include_fi=True)"
   ]
  },
  {
   "cell_type": "markdown",
   "id": "7e886b56",
   "metadata": {},
   "source": [
    "## Display Return Stats and Hedge Metrics\n",
    "Display Returns Analytics data by:\n",
    "* **frequency (Monthly or Weekly)** - Show Monthly or Weekly returns\n",
    "* **stats (return_stats, hedge_metrics)** - Show:\n",
    "    * Return Statistics or \n",
    "    * Hedge Metrics"
   ]
  },
  {
   "cell_type": "code",
   "execution_count": null,
   "id": "07c838d2",
   "metadata": {},
   "outputs": [],
   "source": [
    "@interact\n",
    "def display_analytics(frequency=analytics_freq_list, stats=['return_stats', 'hedge_metrics']):\n",
    "    data = analytics_dict_trend[frequency]\n",
    "    analytics = data[False]\n",
    "    if stats == 'return_stats':\n",
    "        return fmt.get_analytics_styler(analytics)\n",
    "    if stats == 'hedge_metrics':\n",
    "        if frequency == 'Weekly':\n",
    "            return fmt.get_analytics_styler(analytics, stats, '1W')\n",
    "        else:\n",
    "            return fmt.get_analytics_styler(analytics, stats)"
   ]
  },
  {
   "cell_type": "markdown",
   "id": "7a0d1c26",
   "metadata": {},
   "source": [
    "## Compute Historical Sell Offs"
   ]
  },
  {
   "cell_type": "code",
   "execution_count": null,
   "id": "f4a0d08a",
   "metadata": {},
   "outputs": [],
   "source": [
    "hist_dict_trend = summary.get_hist_data(vrr_trend_dict)"
   ]
  },
  {
   "cell_type": "markdown",
   "id": "f73e390f",
   "metadata": {},
   "source": [
    "## Display Historical Sell Offs"
   ]
  },
  {
   "cell_type": "code",
   "execution_count": null,
   "id": "74cd476c",
   "metadata": {},
   "outputs": [],
   "source": [
    "@interact\n",
    "def display_selloffs():\n",
    "    df_hist = hist_dict_trend[False]\n",
    "    return fmt.get_hist_styler(df_hist)"
   ]
  },
  {
   "cell_type": "markdown",
   "id": "883497c0",
   "metadata": {},
   "source": [
    "## Compute Quintile or Decile Analysis\n",
    "Display grouped data by:\n",
    "* **group (Quintile or Decile)** - Show returns data in quintiles or deciles\n",
    "* **bmk** - Equity or FI bmk"
   ]
  },
  {
   "cell_type": "code",
   "execution_count": null,
   "id": "04dca534",
   "metadata": {},
   "outputs": [],
   "source": [
    "group_list=['Quintile','Decile']\n",
    "bmk_list = list(vrr_trend_dict['Monthly'].select_dtypes('float').columns)[0:2]\n",
    "@interact\n",
    "def display_returns(group = group_list, bmk = bmk_list):\n",
    "    quintile_df = summary.get_grouped_data(vrr_trend_dict, group = group, strat = bmk)\n",
    "    return(quintile_df.style.format(\"{:.2%}\"))"
   ]
  },
  {
   "cell_type": "markdown",
   "id": "b7f104d4",
   "metadata": {},
   "source": [
    "## Display Quintile or Decile Analysis\n",
    "Display Quintile Analysis Bar Chart:\n",
    "* **group (Quintile or Decile)** - Show returns data in quintiles or deciles\n",
    "* **strat** - Show quintile or decile for selected strategy"
   ]
  },
  {
   "cell_type": "code",
   "execution_count": null,
   "id": "b1f41a8d",
   "metadata": {},
   "outputs": [],
   "source": [
    "group_list=['Quintile','Decile']\n",
    "@interact\n",
    "\n",
    "def display_quintile_analysis(group = group_list,bmk = bmk_list, strat=list(vrr_trend_dict['Monthly'].select_dtypes('float').columns)[2:]):    \n",
    "    df = summary.get_grouped_data(vrr_trend_dict, group = group, strat=bmk)\n",
    "    \n",
    "    for col in df.columns:\n",
    "        if not (col == bmk or col ==strat):\n",
    "            df.drop([col], axis=1, inplace=True)\n",
    "    if group == \"Quintile\":\n",
    "        title ='Quintile Analysis'\n",
    "    else:\n",
    "        title = 'Decile Analysis'\n",
    "        \n",
    "    fig = px.bar(df,barmode='group',title = title)\n",
    "    fig.show()\n",
    "    "
   ]
  },
  {
   "cell_type": "markdown",
   "id": "51c0366f",
   "metadata": {},
   "source": [
    "## VRR+Trend"
   ]
  },
  {
   "cell_type": "markdown",
   "id": "6c2036cb",
   "metadata": {},
   "source": [
    "## Add VRR+Trend tracks and merge to Bmk"
   ]
  },
  {
   "cell_type": "code",
   "execution_count": null,
   "id": "2e9040fa",
   "metadata": {},
   "outputs": [],
   "source": [
    "vrr_w_trend = vrr_trend.copy()\n",
    "vrr_weight = .75\n",
    "vrr_trend_weight = .25\n",
    "\n",
    "vrr_w_trend['VRR+Trend-50% const'] = vrr_w_trend['VRR']*vrr_weight + vrr_w_trend['Constant vol at entry (ER)']*vrr_trend_weight\n",
    "vrr_w_trend['VRR+Trend-50% vary'] = vrr_w_trend['VRR']*vrr_weight + vrr_w_trend['VRR Trend (ER)']*vrr_trend_weight\n",
    "vrr_w_trend['VRR+Trend-25% const'] = vrr_w_trend['VRR']*vrr_weight + vrr_w_trend['25% vol - constant (ER)']*vrr_trend_weight\n",
    "vrr_w_trend['VRR+Trend-25% vary'] = vrr_w_trend['VRR']*vrr_weight + vrr_w_trend['25% vol - varying (ER)']*vrr_trend_weight\n",
    "vrr_w_trend['VRR+Trend-75% const'] = vrr_w_trend['VRR']*vrr_weight + vrr_w_trend['75% vol - constant (ER)']*vrr_trend_weight\n",
    "vrr_w_trend['VRR+Trend-75% vary'] = vrr_w_trend['VRR']*vrr_weight + vrr_w_trend['75% vol - varying (ER)']*vrr_trend_weight\n",
    "vrr_w_trend = vrr_w_trend[['VRR+Trend-50% const','VRR+Trend-50% vary','VRR+Trend-25% const','VRR+Trend-25% vary',\n",
    "                           'VRR+Trend-75% const','VRR+Trend-75% vary']]\n",
    "vrr_w_trend_dict = dm.get_data_dict(vrr_w_trend)\n",
    "vrr_w_trend_dict = dm.merge_dicts(ret_dict, vrr_w_trend_dict)"
   ]
  },
  {
   "cell_type": "markdown",
   "id": "0244ba05",
   "metadata": {},
   "source": [
    "# Compute Correlations"
   ]
  },
  {
   "cell_type": "code",
   "execution_count": null,
   "id": "0e303d65",
   "metadata": {},
   "outputs": [],
   "source": [
    "corr_freq_list = ['Weekly', 'Monthly']\n",
    "corr_dict = summary.get_corr_data(vrr_w_trend_dict, include_fi=include_fi)"
   ]
  },
  {
   "cell_type": "markdown",
   "id": "c647db02",
   "metadata": {},
   "source": [
    "# Display Correlations\n",
    "\n",
    "Display Correlations of returns data by:\n",
    "* **frequency (Monthly or Weekly)** - Show correlations of Monthly or Weekly returns\n",
    "* **corr** - Show:\n",
    "    * **full** - full history correaltions\n",
    "    * **equity_down** - risk seeking benchmark downside returns correlations or \n",
    "    * **equity_up** - risk seeking benchmark upside returns correlations\n",
    "* **plot_type (corrplot or heatmap)** - Show a map with magnitude or just heatmap"
   ]
  },
  {
   "cell_type": "code",
   "execution_count": null,
   "id": "d5fb0537",
   "metadata": {
    "scrolled": false
   },
   "outputs": [],
   "source": [
    "@interact\n",
    "def display_correlations(frequency=corr_freq_list,\n",
    "                         corr=['full', 'equity_down', 'equity_up'], plot_type=['heatmap', 'corrplot']):\n",
    "    data = corr_dict[frequency]\n",
    "    corr_df = data[False][corr][0]\n",
    "    if plot_type == 'heatmap':\n",
    "        return plots.draw_heatmap(corr_df, half=False)\n",
    "    else:\n",
    "        return plots.draw_corrplot(corr_df)"
   ]
  },
  {
   "cell_type": "markdown",
   "id": "ad602a90",
   "metadata": {},
   "source": [
    "## Compute Return Stats and Hedge Metrics"
   ]
  },
  {
   "cell_type": "code",
   "execution_count": null,
   "id": "21ec1e2a",
   "metadata": {},
   "outputs": [],
   "source": [
    "analytics_freq_list = ['Weekly', 'Monthly']\n",
    "analytics_dict = summary.get_analytics_data(vrr_w_trend_dict,include_fi=True)"
   ]
  },
  {
   "cell_type": "markdown",
   "id": "503c3484",
   "metadata": {},
   "source": [
    "## Display Return Stats and Hedge Metrics\n",
    "Display Returns Analytics data by:\n",
    "* **frequency (Monthly or Weekly)** - Show Monthly or Weekly returns\n",
    "* **stats (return_stats, hedge_metrics)** - Show:\n",
    "    * Return Statistics or \n",
    "    * Hedge Metrics"
   ]
  },
  {
   "cell_type": "code",
   "execution_count": null,
   "id": "caa590a7",
   "metadata": {},
   "outputs": [],
   "source": [
    "@interact\n",
    "def display_analytics(frequency=analytics_freq_list, stats=['return_stats', 'hedge_metrics']):\n",
    "    data = analytics_dict[frequency]\n",
    "    analytics = data[False]\n",
    "    if stats == 'return_stats':\n",
    "        return fmt.get_analytics_styler(analytics)\n",
    "    if stats == 'hedge_metrics':\n",
    "        if frequency == 'Weekly':\n",
    "            return fmt.get_analytics_styler(analytics, stats, '1W')\n",
    "        else:\n",
    "            return fmt.get_analytics_styler(analytics, stats)"
   ]
  },
  {
   "cell_type": "markdown",
   "id": "d34054b1",
   "metadata": {},
   "source": [
    "## Compute Historical Sell Offs"
   ]
  },
  {
   "cell_type": "code",
   "execution_count": null,
   "id": "99e7a66d",
   "metadata": {},
   "outputs": [],
   "source": [
    "hist_dict = summary.get_hist_data(vrr_w_trend_dict)"
   ]
  },
  {
   "cell_type": "markdown",
   "id": "3599f749",
   "metadata": {},
   "source": [
    "## Display Historical Sell Offs"
   ]
  },
  {
   "cell_type": "code",
   "execution_count": null,
   "id": "58df4ab5",
   "metadata": {},
   "outputs": [],
   "source": [
    "@interact\n",
    "def display_selloffs():\n",
    "    df_hist = hist_dict[False]\n",
    "    return fmt.get_hist_styler(df_hist)"
   ]
  },
  {
   "cell_type": "markdown",
   "id": "fa43b444",
   "metadata": {},
   "source": [
    "## Compute Quintile or Decile Analysis\n",
    "Display grouped data by:\n",
    "* **group (Quintile or Decile)** - Show returns data in quintiles or deciles\n",
    "* **bmk** - Equity or FI bmk"
   ]
  },
  {
   "cell_type": "code",
   "execution_count": null,
   "id": "9564db4a",
   "metadata": {},
   "outputs": [],
   "source": [
    "group_list=['Quintile','Decile']\n",
    "bmk_list = list(vrr_w_trend_dict['Monthly'].select_dtypes('float').columns)[0:2]\n",
    "@interact\n",
    "def display_returns(group = group_list, bmk = bmk_list):\n",
    "    quintile_df = summary.get_grouped_data(vrr_w_trend_dict, group = group, strat = bmk)\n",
    "    return(quintile_df.style.format(\"{:.2%}\"))"
   ]
  },
  {
   "cell_type": "markdown",
   "id": "d8e17577",
   "metadata": {},
   "source": [
    "## Display Quintile or Decile Analysis\n",
    "Display Quintile Analysis Bar Chart:\n",
    "* **group (Quintile or Decile)** - Show returns data in quintiles or deciles\n",
    "* **strat** - Show quintile or decile for selected strategy"
   ]
  },
  {
   "cell_type": "code",
   "execution_count": null,
   "id": "c8331ab5",
   "metadata": {},
   "outputs": [],
   "source": [
    "group_list=['Quintile','Decile']\n",
    "@interact\n",
    "\n",
    "def display_quintile_analysis(group = group_list,bmk = bmk_list, strat=list(vrr_w_trend_dict['Monthly'].select_dtypes('float').columns)[2:]):    \n",
    "    df = summary.get_grouped_data(vrr_w_trend_dict, group = group, strat=bmk)\n",
    "    \n",
    "    for col in df.columns:\n",
    "        if not (col == bmk or col ==strat):\n",
    "            df.drop([col], axis=1, inplace=True)\n",
    "    if group == \"Quintile\":\n",
    "        title ='Quintile Analysis'\n",
    "    else:\n",
    "        title = 'Decile Analysis'\n",
    "        \n",
    "    fig = px.bar(df,barmode='group',title = title)\n",
    "    fig.show()\n",
    "    "
   ]
  },
  {
   "cell_type": "code",
   "execution_count": null,
   "id": "c9382e95",
   "metadata": {},
   "outputs": [],
   "source": []
  }
 ],
 "metadata": {
  "kernelspec": {
   "display_name": "Python 3",
   "language": "python",
   "name": "python3"
  },
  "language_info": {
   "codemirror_mode": {
    "name": "ipython",
    "version": 3
   },
   "file_extension": ".py",
   "mimetype": "text/x-python",
   "name": "python",
   "nbconvert_exporter": "python",
   "pygments_lexer": "ipython3",
   "version": "3.7.10"
  },
  "varInspector": {
   "cols": {
    "lenName": 16,
    "lenType": 16,
    "lenVar": 40
   },
   "kernels_config": {
    "python": {
     "delete_cmd_postfix": "",
     "delete_cmd_prefix": "del ",
     "library": "var_list.py",
     "varRefreshCmd": "print(var_dic_list())"
    },
    "r": {
     "delete_cmd_postfix": ") ",
     "delete_cmd_prefix": "rm(",
     "library": "var_list.r",
     "varRefreshCmd": "cat(var_dic_list()) "
    }
   },
   "types_to_exclude": [
    "module",
    "function",
    "builtin_function_or_method",
    "instance",
    "_Feature"
   ],
   "window_display": false
  }
 },
 "nbformat": 4,
 "nbformat_minor": 5
}
