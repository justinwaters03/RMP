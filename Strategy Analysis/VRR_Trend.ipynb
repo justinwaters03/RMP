{
 "cells": [
  {
   "cell_type": "markdown",
   "id": "c8efc831",
   "metadata": {},
   "source": [
    "# VRR Trend Analysis\n",
    "This notebok runs analysis on the VRR Trend strategy."
   ]
  },
  {
   "cell_type": "markdown",
   "id": "9b9a2a56",
   "metadata": {},
   "source": [
    "## Import Libraries"
   ]
  },
  {
   "cell_type": "code",
   "execution_count": null,
   "id": "b5afcd8f",
   "metadata": {},
   "outputs": [],
   "source": [
    "import os\n",
    "os.chdir('..')\n",
    "\n",
    "import plotly.express as px\n",
    "import plotly.graph_objects as go\n",
    "from EquityHedging.datamanager import data_manager as dm\n",
    "from EquityHedging.analytics import summary\n",
    "from EquityHedging.reporting.excel import reports as rp\n",
    "from EquityHedging.reporting import formatter as fmt, plots\n",
    "from ipywidgets import interact, interact_manual\n",
    "import pandas as pd"
   ]
  },
  {
   "cell_type": "markdown",
   "id": "a344d57a",
   "metadata": {},
   "source": [
    "## Import Equity & FI Benchmark Data"
   ]
  },
  {
   "cell_type": "code",
   "execution_count": null,
   "id": "d12c51fd",
   "metadata": {},
   "outputs": [],
   "source": [
    "equity_bmk = 'SPTR'\n",
    "include_fi = True\n",
    "strat_drop_list = ['99%/90% Put Spread','Down Var', 'Vortex','VOLA', 'Dynamic Put Spread', 'VRR',\n",
    "       'GW Dispersion', 'Corr Hedge', 'Def Var']\n",
    "\n",
    "#create returns data dictionary for equity benchmark\n",
    "ret_dict= dm.get_equity_hedge_returns(equity_bmk, include_fi, strat_drop_list)"
   ]
  },
  {
   "cell_type": "markdown",
   "id": "f3003426",
   "metadata": {},
   "source": [
    "## Import VRR, VRR2, VRR Trend Data and Display Historical Performance"
   ]
  },
  {
   "cell_type": "code",
   "execution_count": null,
   "id": "08a3fee8",
   "metadata": {},
   "outputs": [],
   "source": [
    "vrr = pd.read_excel(dm.NEW_DATA+'vrr_data.xlsx', sheet_name='data', index_col=0)\n",
    "fig = go.Figure()\n",
    "for strat in vrr.columns:\n",
    "    fig.add_trace(go.Scatter(x = pd.to_datetime(vrr.index, format = '%m/%d/%Y'),\n",
    "                             y = vrr[strat],mode = 'lines',name = strat))\n",
    "fig.update_layout(\n",
    "    title={\n",
    "        'text': \"<b>Historical Performance</b>\",\n",
    "        'y':0.9,\n",
    "        'x':0.5,'xanchor': 'center','yanchor': 'top'\n",
    "    },\n",
    "    title_font_family=\"Calibri\",\n",
    "    titlefont = {\"size\":20},\n",
    "    xaxis = dict(tickfont = dict(size=14)),\n",
    "    showlegend=True,\n",
    "    plot_bgcolor='White'\n",
    "    )\n",
    "fig.update_xaxes(showline=True,linewidth=2,linecolor='black',mirror=False)\n",
    "fig.update_yaxes(showline=True,linewidth=2,linecolor='black',mirror=False)\n",
    "fig.show()"
   ]
  },
  {
   "cell_type": "markdown",
   "id": "e28d40d5",
   "metadata": {},
   "source": [
    "## Add VRR+Trend tracks and merge to Bmk"
   ]
  },
  {
   "cell_type": "code",
   "execution_count": null,
   "id": "b66110fb",
   "metadata": {},
   "outputs": [],
   "source": [
    "vrr['VRR+Trend (25/75)'] = vrr['VRR']*0.25 + vrr['VRR Trend']*0.75\n",
    "vrr['VRR+Trend (50/50)'] = vrr['VRR']*0.5 + vrr['VRR Trend']*0.5\n",
    "vrr['VRR+Trend (67/33)'] = vrr['VRR']*(2/3) + vrr['VRR Trend']*(1/3)\n",
    "vrr['VRR+Trend (75/25)'] = vrr['VRR']*.75 + vrr['VRR Trend']*.25\n",
    "vrr['VRR+Trend (100/25)'] = vrr['VRR'] + vrr['VRR Trend']*.25\n",
    "vrr['VRR+Trend (100/50)'] = vrr['VRR'] + vrr['VRR Trend']*.5\n",
    "vrr_dict = dm.get_data_dict(vrr)\n",
    "ret_data_dict = dm.merge_dicts(ret_dict, vrr_dict)"
   ]
  },
  {
   "cell_type": "markdown",
   "id": "f97de090",
   "metadata": {},
   "source": [
    "# Compute Correlations"
   ]
  },
  {
   "cell_type": "code",
   "execution_count": null,
   "id": "97a9e12e",
   "metadata": {},
   "outputs": [],
   "source": [
    "corr_freq_list = ['Weekly', 'Monthly']\n",
    "corr_dict = summary.get_corr_data(ret_data_dict, include_fi=include_fi)"
   ]
  },
  {
   "cell_type": "markdown",
   "id": "ee85050c",
   "metadata": {},
   "source": [
    "# Display Correlations\n",
    "\n",
    "Display Correlations of returns data by:\n",
    "* **frequency (Monthly or Weekly)** - Show correlations of Monthly or Weekly returns\n",
    "* **corr** - Show:\n",
    "    * **full** - full history correaltions\n",
    "    * **equity_down** - risk seeking benchmark downside returns correlations or \n",
    "    * **equity_up** - risk seeking benchmark upside returns correlations\n",
    "* **plot_type (corrplot or heatmap)** - Show a map with magnitude or just heatmap"
   ]
  },
  {
   "cell_type": "code",
   "execution_count": null,
   "id": "e06ba4db",
   "metadata": {
    "scrolled": false
   },
   "outputs": [],
   "source": [
    "@interact\n",
    "def display_correlations(frequency=corr_freq_list,\n",
    "                         corr=['full', 'equity_down', 'equity_up'], plot_type=['heatmap', 'corrplot']):\n",
    "    data = corr_dict[frequency]\n",
    "    corr_df = data[False][corr][0]\n",
    "    if plot_type == 'heatmap':\n",
    "        return plots.draw_heatmap(corr_df, half=False)\n",
    "    else:\n",
    "        return plots.draw_corrplot(corr_df)"
   ]
  },
  {
   "cell_type": "markdown",
   "id": "614c7916",
   "metadata": {},
   "source": [
    "## Compute Return Stats and hedge Metrics"
   ]
  },
  {
   "cell_type": "code",
   "execution_count": null,
   "id": "a5600ab0",
   "metadata": {},
   "outputs": [],
   "source": [
    "analytics_freq_list = ['Weekly', 'Monthly']\n",
    "analytics_dict = summary.get_analytics_data(ret_data_dict)"
   ]
  },
  {
   "cell_type": "markdown",
   "id": "6154a94c",
   "metadata": {},
   "source": [
    "## Display Return Stats and Hedge Metrics\n",
    "Display Returns Analytics data by:\n",
    "* **frequency (Monthly or Weekly)** - Show Monthly or Weekly returns\n",
    "* **stats (return_stats, hedge_metrics)** - Show:\n",
    "    * Return Statistics or \n",
    "    * Hedge Metrics"
   ]
  },
  {
   "cell_type": "code",
   "execution_count": null,
   "id": "ebb173f2",
   "metadata": {},
   "outputs": [],
   "source": [
    "@interact\n",
    "def display_analytics(frequency=analytics_freq_list, stats=['return_stats', 'hedge_metrics']):\n",
    "    data = analytics_dict[frequency]\n",
    "    analytics = data[False]\n",
    "    if stats == 'return_stats':\n",
    "        return fmt.get_analytics_styler(analytics)\n",
    "    if stats == 'hedge_metrics':\n",
    "        if frequency == 'Weekly':\n",
    "            return fmt.get_analytics_styler(analytics, stats, '1W')\n",
    "        else:\n",
    "            return fmt.get_analytics_styler(analytics, stats)"
   ]
  },
  {
   "cell_type": "markdown",
   "id": "78d6a3e9",
   "metadata": {},
   "source": [
    "## Compute Historical Sell Offs"
   ]
  },
  {
   "cell_type": "code",
   "execution_count": null,
   "id": "1a6ca4b3",
   "metadata": {},
   "outputs": [],
   "source": [
    "hist_dict = summary.get_hist_data(ret_data_dict)"
   ]
  },
  {
   "cell_type": "markdown",
   "id": "1424dc6b",
   "metadata": {},
   "source": [
    "## Display Historical Sell Offs"
   ]
  },
  {
   "cell_type": "code",
   "execution_count": null,
   "id": "c3677d36",
   "metadata": {},
   "outputs": [],
   "source": [
    "@interact\n",
    "def display_selloffs():\n",
    "    df_hist = hist_dict[False]\n",
    "    return fmt.get_hist_styler(df_hist)"
   ]
  },
  {
   "cell_type": "markdown",
   "id": "45dd267a",
   "metadata": {},
   "source": [
    "## Compute Quintile or Decile Analysis\n",
    "Display grouped data by:\n",
    "* **group (Quintile or Decile)** - Show returns data in quintiles or deciles\n",
    "* **bmk** - Equity or FI bmk"
   ]
  },
  {
   "cell_type": "code",
   "execution_count": null,
   "id": "70018c07",
   "metadata": {},
   "outputs": [],
   "source": [
    "group_list=['Quintile','Decile']\n",
    "bmk_list = list(ret_data_dict['Monthly'].select_dtypes('float').columns)[0:2]\n",
    "@interact\n",
    "def display_returns(group = group_list, bmk = bmk_list):\n",
    "    quintile_df = summary.get_grouped_data(ret_data_dict, group = group, strat = bmk)\n",
    "    return(quintile_df.style.format(\"{:.2%}\"))"
   ]
  },
  {
   "cell_type": "markdown",
   "id": "a6c5c302",
   "metadata": {},
   "source": [
    "## Display Quintile or Decile Analysis\n",
    "Display Quintile Analysis Bar Chart:\n",
    "* **group (Quintile or Decile)** - Show returns data in quintiles or deciles\n",
    "* **strat** - Show quintile or decile for selected strategy"
   ]
  },
  {
   "cell_type": "code",
   "execution_count": null,
   "id": "3bec240d",
   "metadata": {},
   "outputs": [],
   "source": [
    "group_list=['Quintile','Decile']\n",
    "@interact\n",
    "\n",
    "def display_quintile_analysis(group = group_list,bmk = bmk_list, strat=list(ret_data_dict['Monthly'].select_dtypes('float').columns)[2:]):    \n",
    "    df = summary.get_grouped_data(ret_data_dict, group = group, strat=bmk)\n",
    "    \n",
    "    for col in df.columns:\n",
    "        if not (col == bmk or col ==strat):\n",
    "            df.drop([col], axis=1, inplace=True)\n",
    "    if group == \"Quintile\":\n",
    "        title ='Quintile Analysis'\n",
    "    else:\n",
    "        title = 'Decile Analysis'\n",
    "        \n",
    "    fig = px.bar(df,barmode='group',title = title)\n",
    "    fig.show()\n",
    "    "
   ]
  },
  {
   "cell_type": "markdown",
   "id": "80ec6442",
   "metadata": {},
   "source": [
    "# Create Reports\n",
    "\n",
    "Run this code below to export analysis into excel spreadsheet\n",
    "* **strat_report (string)**: provide a name for the excel file\n",
    "* **selloffs (boolean)**:\n",
    "    * **True**: if you want historical selloff data in the spreadsheet\n",
    "    * **False**: if you do not want historical selloff data in the spreadsheet"
   ]
  },
  {
   "cell_type": "code",
   "execution_count": null,
   "id": "e29a5081",
   "metadata": {},
   "outputs": [],
   "source": [
    "strat_report = 'vrr_trend'\n",
    "selloffs = True\n",
    "rp.generate_strat_report(strat_report, ret_data_dict, selloffs)"
   ]
  },
  {
   "cell_type": "markdown",
   "id": "01e22184",
   "metadata": {},
   "source": [
    "# Equity Hedging Analysis\n",
    "## Comparing with overal equity portfolio\n"
   ]
  },
  {
   "cell_type": "markdown",
   "id": "3d326493",
   "metadata": {},
   "source": [
    "\n",
    "## Import returns data\n",
    "\n",
    "### Imports Daily, Weekly, Monthly, Quarterly and Yearly returns data\n",
    "\n",
    "To import the returns data:\n",
    "* Select an Equity Benchmark (**equity_bmk**) - SPTR, M1WD, SX5T\n",
    "* Decide if you want a Fixed Income Benchmark (**include_fi**) - True, False\n",
    "* Select what equity hedging strategies to exclude (**strat_drop_list**). Below is the list of strategies:\n",
    "\n",
    "    * 99%/90% Put Spread, Down Var, Vortex, VOLA , Dynamic Put Spread, VRR, GW Dispersion, Corr Hedge"
   ]
  },
  {
   "cell_type": "code",
   "execution_count": null,
   "id": "b7fbda07",
   "metadata": {},
   "outputs": [],
   "source": [
    "equity_bmk = 'SPTR'\n",
    "include_fi = False\n",
    "strat_drop_list = ['Vortex','VRR','99%/90% Put Spread']\n",
    "returns = dm.get_equity_hedge_returns(equity_bmk, include_fi, strat_drop_list)"
   ]
  },
  {
   "cell_type": "markdown",
   "id": "cfc2c828",
   "metadata": {},
   "source": [
    "## Add VRR data"
   ]
  },
  {
   "cell_type": "code",
   "execution_count": null,
   "id": "3d89a2f2",
   "metadata": {},
   "outputs": [],
   "source": [
    "returns = dm.merge_dicts(returns, vrr_dict)\n",
    "for key in returns:\n",
    "    returns[key] = returns[key][['SPTR', 'Down Var', 'VOLA', 'Dynamic Put Spread', 'VRR','VRR Trend', 'GW Dispersion',\n",
    "       'Corr Hedge', 'Def Var']]"
   ]
  },
  {
   "cell_type": "markdown",
   "id": "0c074e1c",
   "metadata": {},
   "source": [
    "## Create notional dict to compute different weighted hedges returns"
   ]
  },
  {
   "cell_type": "code",
   "execution_count": null,
   "id": "465e009a",
   "metadata": {},
   "outputs": [],
   "source": [
    "notional_dict = {\n",
    "    'VRR':[19.0, 1.0, 1.0, 1.0, 1.0, 0.0, 1.0, 0.25, 1.0],\n",
    "    'VRR Trend':[19.0, 1.0, 1.0, 1.0, 1.0, 1.0, 1.0, 0.25, 1.0],\n",
    "    'VRR+Trend (25/75)':[19.0, 1.0, 1.0, 1.0, 0.25, 0.75, 1.0, 0.25, 1.0],\n",
    "    'VRR+Trend (50/50)':[19.0, 1.0, 1.0, 1.0, 0.5, 0.5, 1.0, 0.25, 1.0],\n",
    "    'VRR+Trend (67/33)':[19.0, 1.0, 1.0, 1.0, .67, 0.33, 1.0, 0.25, 1.0],\n",
    "    'VRR+Trend (75/25)':[19.0, 1.0, 1.0, 1.0, 0.75, 0.25, 1.0, 0.25, 1.0],\n",
    "    'VRR+Trend (100/25)':[19.0, 1.0, 1.0, 1.0, 1.0, 0.25, 1.0, 0.25, 1.0],\n",
    "    'VRR+Trend (100/50)':[19.0, 1.0, 1.0, 1.0, 1.0, 0.5, 1.0, 0.25, 1.0],\n",
    "}"
   ]
  },
  {
   "cell_type": "markdown",
   "id": "1354213a",
   "metadata": {},
   "source": [
    "## Create Weighted Hedges Dict"
   ]
  },
  {
   "cell_type": "code",
   "execution_count": null,
   "id": "612b5573",
   "metadata": {},
   "outputs": [],
   "source": [
    "wh_ret = {}\n",
    "for key  in returns:\n",
    "    temp_df = returns[key].copy()\n",
    "    temp_df = temp_df[[equity_bmk]]\n",
    "    for notional in notional_dict:\n",
    "        temp_wh = summary.util.get_weighted_hedges(returns[key], notional_dict[notional], include_fi,weight_col='WH_'+notional)\n",
    "        temp_wh = temp_wh[['WH_'+notional]]\n",
    "        temp_df = dm.merge_data_frames(temp_df, temp_wh)\n",
    "    wh_ret[key] = temp_df"
   ]
  },
  {
   "cell_type": "markdown",
   "id": "f3935cfa",
   "metadata": {},
   "source": [
    "## View Returns data\n",
    "\n",
    "Select frequency (Daily, Weekly, Monthly, Yearly) to view data"
   ]
  },
  {
   "cell_type": "code",
   "execution_count": null,
   "id": "6cdab0ed",
   "metadata": {},
   "outputs": [],
   "source": [
    "freq_list = ['Daily', 'Weekly', 'Monthly','Quarterly', 'Yearly']\n",
    "@interact\n",
    "def display_returns(frequency = freq_list):\n",
    "    return fmt.get_returns_styler(wh_ret[frequency])"
   ]
  },
  {
   "cell_type": "markdown",
   "id": "fe8666ea",
   "metadata": {},
   "source": [
    "## Compute Correlations"
   ]
  },
  {
   "cell_type": "code",
   "execution_count": null,
   "id": "83a8d6ee",
   "metadata": {},
   "outputs": [],
   "source": [
    "corr_freq_list = ['Weekly', 'Monthly']\n",
    "corr_dict = summary.get_corr_data(wh_ret, corr_freq_list)"
   ]
  },
  {
   "cell_type": "markdown",
   "id": "7e1cbf30",
   "metadata": {},
   "source": [
    "## Display Correlations"
   ]
  },
  {
   "cell_type": "code",
   "execution_count": null,
   "id": "79db1a2f",
   "metadata": {},
   "outputs": [],
   "source": [
    "@interact\n",
    "def display_correlations(frequency=corr_freq_list,\n",
    "                         corr=['full', 'equity_down', 'equity_up'], plot_type=['heatmap', 'corrplot']):\n",
    "    data = corr_dict[frequency]\n",
    "    corr_df = data[False][corr][0]\n",
    "    if plot_type == 'heatmap':\n",
    "        return plots.draw_heatmap(corr_df, half=False)\n",
    "    else:\n",
    "        return plots.draw_corrplot(corr_df)"
   ]
  },
  {
   "cell_type": "markdown",
   "id": "e3f8f751",
   "metadata": {},
   "source": [
    "## Compute Return Stats and Hedge Metrics"
   ]
  },
  {
   "cell_type": "code",
   "execution_count": null,
   "id": "9c854944",
   "metadata": {},
   "outputs": [],
   "source": [
    "analytics_freq_list = ['Weekly', 'Monthly']\n",
    "analytics_dict = summary.get_analytics_data(wh_ret,analytics_freq_list)"
   ]
  },
  {
   "cell_type": "markdown",
   "id": "9a13a8da",
   "metadata": {},
   "source": [
    "## Display Analytics"
   ]
  },
  {
   "cell_type": "code",
   "execution_count": null,
   "id": "d9f832b9",
   "metadata": {
    "scrolled": false
   },
   "outputs": [],
   "source": [
    "@interact\n",
    "def display_analytics(frequency=analytics_freq_list, stats=['return_stats', 'hedge_metrics']):\n",
    "    data = analytics_dict[frequency]\n",
    "    analytics = data[False]\n",
    "    if stats == 'return_stats':\n",
    "        return fmt.get_analytics_styler(analytics)\n",
    "    if stats == 'hedge_metrics':\n",
    "        if frequency == 'Weekly':\n",
    "            return fmt.get_analytics_styler(analytics, stats, '1W')\n",
    "        else:\n",
    "            return fmt.get_analytics_styler(analytics, stats)"
   ]
  },
  {
   "cell_type": "markdown",
   "id": "d0bd8b80",
   "metadata": {},
   "source": [
    "## Compute Historical Sell Offs"
   ]
  },
  {
   "cell_type": "code",
   "execution_count": null,
   "id": "6326ef23",
   "metadata": {},
   "outputs": [],
   "source": [
    "hist_dict = summary.get_hist_data(wh_ret)"
   ]
  },
  {
   "cell_type": "markdown",
   "id": "78d66777",
   "metadata": {},
   "source": [
    "## Display Historical Sell Offs"
   ]
  },
  {
   "cell_type": "code",
   "execution_count": null,
   "id": "7ac7cdda",
   "metadata": {},
   "outputs": [],
   "source": [
    "@interact\n",
    "def display_selloffs():\n",
    "    df_hist = hist_dict[False]\n",
    "    return fmt.get_hist_styler(df_hist)"
   ]
  },
  {
   "cell_type": "markdown",
   "id": "db0b6512",
   "metadata": {},
   "source": [
    "## Compute Quintile/Decile Analysis"
   ]
  },
  {
   "cell_type": "code",
   "execution_count": null,
   "id": "03befeec",
   "metadata": {},
   "outputs": [],
   "source": [
    "group_list=['Quintile','Decile']\n",
    "@interact\n",
    "def display_returns(group = group_list):\n",
    "    quintile_df = summary.get_grouped_data(wh_ret, group = group)\n",
    "    return(quintile_df.style.format(\"{:.2%}\"))"
   ]
  },
  {
   "cell_type": "markdown",
   "id": "7f569103",
   "metadata": {},
   "source": [
    "## Display Quintile/Decile Analysis"
   ]
  },
  {
   "cell_type": "code",
   "execution_count": null,
   "id": "c06c2084",
   "metadata": {},
   "outputs": [],
   "source": [
    "group_list=['Quintile','Decile']\n",
    "@interact\n",
    "\n",
    "def display_quintile_analysis(group = group_list, strat=list(wh_ret['Monthly'].select_dtypes('float').columns)[1:]):    \n",
    "    df = summary.get_grouped_data(wh_ret, group = group)\n",
    "    \n",
    "    for col in df.columns:\n",
    "        if not (col == equity_bmk or col ==strat):\n",
    "            df.drop([col], axis=1, inplace=True)\n",
    "    if group == \"Quintile\":\n",
    "        title ='Quintile Analysis'\n",
    "    else:\n",
    "        title = 'Decile Analysis'\n",
    "        \n",
    "    fig = px.bar(df,barmode='group',title = title)\n",
    "    fig.show()"
   ]
  },
  {
   "cell_type": "markdown",
   "id": "fd2d66dd",
   "metadata": {},
   "source": [
    "# Create Reports\n",
    "\n",
    "Run this code below to export analysis into excel spreadsheet\n",
    "* **strat_report (string)**: provide a name for the excel file\n",
    "* **selloffs (boolean)**:\n",
    "    * **True**: if you want historical selloff data in the spreadsheet\n",
    "    * **False**: if you do not want historical selloff data in the spreadsheet"
   ]
  },
  {
   "cell_type": "code",
   "execution_count": null,
   "id": "9637c5b9",
   "metadata": {},
   "outputs": [],
   "source": [
    "strat_report = 'weighted_hedges_vrr'\n",
    "selloffs = True\n",
    "rp.generate_strat_report(strat_report, wh_ret, selloffs)"
   ]
  }
 ],
 "metadata": {
  "kernelspec": {
   "display_name": "Python 3",
   "language": "python",
   "name": "python3"
  },
  "language_info": {
   "codemirror_mode": {
    "name": "ipython",
    "version": 3
   },
   "file_extension": ".py",
   "mimetype": "text/x-python",
   "name": "python",
   "nbconvert_exporter": "python",
   "pygments_lexer": "ipython3",
   "version": "3.7.3"
  },
  "varInspector": {
   "cols": {
    "lenName": 16,
    "lenType": 16,
    "lenVar": 40
   },
   "kernels_config": {
    "python": {
     "delete_cmd_postfix": "",
     "delete_cmd_prefix": "del ",
     "library": "var_list.py",
     "varRefreshCmd": "print(var_dic_list())"
    },
    "r": {
     "delete_cmd_postfix": ") ",
     "delete_cmd_prefix": "rm(",
     "library": "var_list.r",
     "varRefreshCmd": "cat(var_dic_list()) "
    }
   },
   "types_to_exclude": [
    "module",
    "function",
    "builtin_function_or_method",
    "instance",
    "_Feature"
   ],
   "window_display": false
  }
 },
 "nbformat": 4,
 "nbformat_minor": 5
}
