{
 "cells": [
  {
   "cell_type": "markdown",
   "id": "c8efc831",
   "metadata": {},
   "source": [
    "# Barclays Analysis - Base, Barc, and Barc 2 Portfolio Iterations"
   ]
  },
  {
   "cell_type": "markdown",
   "id": "9b9a2a56",
   "metadata": {},
   "source": [
    "## Import Libraries"
   ]
  },
  {
   "cell_type": "code",
   "execution_count": 1,
   "id": "b5afcd8f",
   "metadata": {},
   "outputs": [],
   "source": [
    "import os\n",
    "os.chdir('..')\n",
    "\n",
    "import plotly.express as px\n",
    "from EquityHedging.datamanager import data_manager as dm\n",
    "from EquityHedging.analytics import summary, util\n",
    "from EquityHedging.reporting.excel import reports as rp\n",
    "from EquityHedging.reporting import formatter as fmt\n",
    "#,plots\n",
    "from ipywidgets import interact, interact_manual\n",
    "import pandas as pd\n",
    "import plotly.graph_objects as go\n"
   ]
  },
  {
   "cell_type": "markdown",
   "id": "a344d57a",
   "metadata": {},
   "source": [
    "## Import Equity Benchmark & Vortex Data"
   ]
  },
  {
   "cell_type": "code",
   "execution_count": 2,
   "id": "d12c51fd",
   "metadata": {},
   "outputs": [],
   "source": [
    "equity_bmk = 'SPTR'\n",
    "strat_drop_list = ['99%/90% Put Spread','Down Var', 'VOLA', 'Dynamic Put Spread', 'VRR',\n",
    "       'GW Dispersion', 'Corr Hedge', 'Def Var']\n",
    "include_fi = False\n",
    "#create returns data dictionary for equity benchmark\n",
    "returns= dm.get_equity_hedge_returns(equity_bmk, include_fi, strat_drop_list)"
   ]
  },
  {
   "cell_type": "markdown",
   "id": "6987c181",
   "metadata": {},
   "source": [
    "## Import Barclays data"
   ]
  },
  {
   "cell_type": "code",
   "execution_count": 3,
   "id": "93114651",
   "metadata": {},
   "outputs": [
    {
     "data": {
      "application/vnd.jupyter.widget-view+json": {
       "model_id": "821bfe258e2f41fd8ff1030efc1e6046",
       "version_major": 2,
       "version_minor": 0
      },
      "text/plain": [
       "interactive(children=(Output(),), _dom_classes=('widget-interact',))"
      ]
     },
     "metadata": {},
     "output_type": "display_data"
    }
   ],
   "source": [
    "full_data= pd.read_excel(dm.NEW_DATA+'barclays.xlsx',\n",
    "                                           sheet_name = 'data', index_col=0)\n",
    "\n",
    "@interact\n",
    "def display_performance():\n",
    "    fig = go.Figure()\n",
    "    for strat in full_data.columns:\n",
    "        fig.add_trace(go.Scatter(x = pd.to_datetime(full_data.index, format = '%m/%d/%Y'),\n",
    "                                 y = full_data[strat],mode = 'lines',name = strat))\n",
    "    fig.update_layout(showlegend=True,plot_bgcolor='White')\n",
    "    fig.update_xaxes(showline=True,linecolor='black')\n",
    "    fig.update_yaxes(showline=True,linecolor='black')\n",
    "    fig.show()"
   ]
  },
  {
   "cell_type": "markdown",
   "id": "261510a4",
   "metadata": {},
   "source": [
    "## Compute Analytics (Return Stats and Hedge Metrics)"
   ]
  },
  {
   "cell_type": "code",
   "execution_count": 7,
   "id": "9f8548f4",
   "metadata": {},
   "outputs": [],
   "source": [
    "#create returns data dictionary for strategy\n",
    "full_data_dict = dm.get_data_dict(full_data, data_type = 'returns')\n",
    "\n",
    "#merge dictionaries\n",
    "full_data_dict = dm.merge_dicts(returns,full_data_dict, False)\n",
    "\n",
    "#compute analytics\n",
    "analytics_freq_list = ['Weekly', 'Monthly']\n",
    "full_data_analytics_dict = summary.get_analytics_data(full_data_dict)"
   ]
  },
  {
   "cell_type": "markdown",
   "id": "83bb6f8e",
   "metadata": {},
   "source": [
    "## Display Analytics"
   ]
  },
  {
   "cell_type": "code",
   "execution_count": 8,
   "id": "cdd4434f",
   "metadata": {},
   "outputs": [
    {
     "data": {
      "application/vnd.jupyter.widget-view+json": {
       "model_id": "f07c82d726294711a47720a892df9766",
       "version_major": 2,
       "version_minor": 0
      },
      "text/plain": [
       "interactive(children=(Dropdown(description='frequency', options=('Weekly', 'Monthly'), value='Weekly'), Dropdo…"
      ]
     },
     "metadata": {},
     "output_type": "display_data"
    }
   ],
   "source": [
    "@interact\n",
    "def display_analytics(frequency=analytics_freq_list, stats=['return_stats', 'hedge_metrics']):\n",
    "    data = full_data_analytics_dict[frequency]\n",
    "    analytics = data[False]\n",
    "    if stats == 'return_stats':\n",
    "        return fmt.get_analytics_styler(analytics)\n",
    "    if stats == 'hedge_metrics':\n",
    "        if frequency == 'Weekly':\n",
    "            return fmt.get_analytics_styler(analytics, stats, '1W')\n",
    "        else:\n",
    "            return fmt.get_analytics_styler(analytics, stats)"
   ]
  },
  {
   "cell_type": "markdown",
   "id": "6af8046d",
   "metadata": {},
   "source": [
    "## Compute Historical Selloffs"
   ]
  },
  {
   "cell_type": "code",
   "execution_count": 9,
   "id": "60ad2eeb",
   "metadata": {},
   "outputs": [],
   "source": [
    "full_data_hist_dict = summary.get_hist_data(full_data_dict)"
   ]
  },
  {
   "cell_type": "markdown",
   "id": "daeda6e6",
   "metadata": {},
   "source": [
    "## Display Historical Selloffs"
   ]
  },
  {
   "cell_type": "code",
   "execution_count": 10,
   "id": "be7c7ef3",
   "metadata": {},
   "outputs": [
    {
     "data": {
      "application/vnd.jupyter.widget-view+json": {
       "model_id": "72729185f949419b90d279aececf1643",
       "version_major": 2,
       "version_minor": 0
      },
      "text/plain": [
       "interactive(children=(Output(),), _dom_classes=('widget-interact',))"
      ]
     },
     "metadata": {},
     "output_type": "display_data"
    }
   ],
   "source": [
    "@interact\n",
    "def display_selloffs():\n",
    "    df_hist = full_data_hist_dict[False]\n",
    "    return fmt.get_hist_styler(df_hist)"
   ]
  },
  {
   "cell_type": "markdown",
   "id": "2da1176c",
   "metadata": {},
   "source": [
    "## Create Report"
   ]
  },
  {
   "cell_type": "code",
   "execution_count": 12,
   "id": "3f424c4f",
   "metadata": {},
   "outputs": [
    {
     "name": "stdout",
     "output_type": "stream",
     "text": [
      "Computing Monthly Analytics...\n",
      "Computing Weekly Analytics...\n",
      "Computing Historical SellOffs...\n",
      "\"barc_analysis.xlsx\" report generated in \"C:\\Users\\RRQ1FYQ\\Documents\\RMP\\EquityHedging\\reports\\\" folder\n"
     ]
    }
   ],
   "source": [
    "strat_report = 'barc_analysis'\n",
    "selloffs = True\n",
    "rp.generate_strat_report(strat_report, full_data_dict, selloffs)"
   ]
  },
  {
   "cell_type": "markdown",
   "id": "1a9b4bfb",
   "metadata": {},
   "source": [
    "# Equity Hedging Analysis\n",
    "## Comparing with overal equity portfolio"
   ]
  },
  {
   "cell_type": "markdown",
   "id": "b194d86c",
   "metadata": {},
   "source": [
    "## Import returns data\n",
    "\n",
    "### Imports Daily, Weekly, Monthly, Quarterly and Yearly returns data\n",
    "\n",
    "To import the returns data:\n",
    "* Select an Equity Benchmark (**equity_bmk**) - SPTR, M1WD, SX5T\n",
    "* Decide if you want a Fixed Income Benchmark (**include_fi**) - True, False\n",
    "* Select what equity hedging strategies to exclude (**strat_drop_list**). Below is the list of strategies:\n",
    "\n",
    "    * 99%/90% Put Spread, Down Var, Vortex, VOLA , Dynamic Put Spread, VRR, GW Dispersion, Corr Hedge"
   ]
  },
  {
   "cell_type": "code",
   "execution_count": 31,
   "id": "ec1c9954",
   "metadata": {},
   "outputs": [],
   "source": [
    "equity_bmk = 'SPTR'\n",
    "include_fi = False\n",
    "strat_drop_list = ['Vortex','99%/90% Put Spread']\n",
    "returns = dm.get_equity_hedge_returns(equity_bmk, include_fi, strat_drop_list)"
   ]
  },
  {
   "cell_type": "markdown",
   "id": "d7d09766",
   "metadata": {},
   "source": [
    "## Add Barclays Data"
   ]
  },
  {
   "cell_type": "code",
   "execution_count": 32,
   "id": "56563606",
   "metadata": {},
   "outputs": [],
   "source": [
    "new_strategy = full_data[['Barc2']]\n",
    "new_strategy_dict = dm.get_data_dict(new_strategy, data_type = 'returns')\n",
    "returns = dm.merge_dicts(returns, new_strategy_dict,False)\n",
    "new_strat=True\n",
    "weighted = [True, False]"
   ]
  },
  {
   "cell_type": "markdown",
   "id": "209be73c",
   "metadata": {},
   "source": [
    "## Get and display Notional Weights"
   ]
  },
  {
   "cell_type": "code",
   "execution_count": 33,
   "id": "cb32d9b7",
   "metadata": {},
   "outputs": [
    {
     "data": {
      "text/html": [
       "<style type=\"text/css\">\n",
       "</style>\n",
       "<table id=\"T_41fd9_\">\n",
       "  <thead>\n",
       "    <tr>\n",
       "      <th class=\"blank level0\" >&nbsp;</th>\n",
       "      <th class=\"col_heading level0 col0\" >SPTR</th>\n",
       "      <th class=\"col_heading level0 col1\" >Down Var</th>\n",
       "      <th class=\"col_heading level0 col2\" >VOLA</th>\n",
       "      <th class=\"col_heading level0 col3\" >Dynamic Put Spread</th>\n",
       "      <th class=\"col_heading level0 col4\" >VRR</th>\n",
       "      <th class=\"col_heading level0 col5\" >GW Dispersion</th>\n",
       "      <th class=\"col_heading level0 col6\" >Corr Hedge</th>\n",
       "      <th class=\"col_heading level0 col7\" >Def Var</th>\n",
       "      <th class=\"col_heading level0 col8\" >Barc2</th>\n",
       "    </tr>\n",
       "  </thead>\n",
       "  <tbody>\n",
       "    <tr>\n",
       "      <th id=\"T_41fd9_level0_row0\" class=\"row_heading level0 row0\" >Notional Weights (Billions)</th>\n",
       "      <td id=\"T_41fd9_row0_col0\" class=\"data row0 col0\" >$19.00</td>\n",
       "      <td id=\"T_41fd9_row0_col1\" class=\"data row0 col1\" >$1.00</td>\n",
       "      <td id=\"T_41fd9_row0_col2\" class=\"data row0 col2\" >$1.25</td>\n",
       "      <td id=\"T_41fd9_row0_col3\" class=\"data row0 col3\" >$1.00</td>\n",
       "      <td id=\"T_41fd9_row0_col4\" class=\"data row0 col4\" >$1.00</td>\n",
       "      <td id=\"T_41fd9_row0_col5\" class=\"data row0 col5\" >$1.00</td>\n",
       "      <td id=\"T_41fd9_row0_col6\" class=\"data row0 col6\" >$0.25</td>\n",
       "      <td id=\"T_41fd9_row0_col7\" class=\"data row0 col7\" >$1.00</td>\n",
       "      <td id=\"T_41fd9_row0_col8\" class=\"data row0 col8\" >$0.25</td>\n",
       "    </tr>\n",
       "    <tr>\n",
       "      <th id=\"T_41fd9_level0_row1\" class=\"row_heading level0 row1\" >Percentage Weights</th>\n",
       "      <td id=\"T_41fd9_row1_col0\" class=\"data row1 col0\" >100.00%</td>\n",
       "      <td id=\"T_41fd9_row1_col1\" class=\"data row1 col1\" >5.26%</td>\n",
       "      <td id=\"T_41fd9_row1_col2\" class=\"data row1 col2\" >6.58%</td>\n",
       "      <td id=\"T_41fd9_row1_col3\" class=\"data row1 col3\" >5.26%</td>\n",
       "      <td id=\"T_41fd9_row1_col4\" class=\"data row1 col4\" >5.26%</td>\n",
       "      <td id=\"T_41fd9_row1_col5\" class=\"data row1 col5\" >5.26%</td>\n",
       "      <td id=\"T_41fd9_row1_col6\" class=\"data row1 col6\" >1.32%</td>\n",
       "      <td id=\"T_41fd9_row1_col7\" class=\"data row1 col7\" >5.26%</td>\n",
       "      <td id=\"T_41fd9_row1_col8\" class=\"data row1 col8\" >1.32%</td>\n",
       "    </tr>\n",
       "    <tr>\n",
       "      <th id=\"T_41fd9_level0_row2\" class=\"row_heading level0 row2\" >Strategy Weights</th>\n",
       "      <td id=\"T_41fd9_row2_col0\" class=\"data row2 col0\" >0.00%</td>\n",
       "      <td id=\"T_41fd9_row2_col1\" class=\"data row2 col1\" >14.81%</td>\n",
       "      <td id=\"T_41fd9_row2_col2\" class=\"data row2 col2\" >18.52%</td>\n",
       "      <td id=\"T_41fd9_row2_col3\" class=\"data row2 col3\" >14.81%</td>\n",
       "      <td id=\"T_41fd9_row2_col4\" class=\"data row2 col4\" >14.81%</td>\n",
       "      <td id=\"T_41fd9_row2_col5\" class=\"data row2 col5\" >14.81%</td>\n",
       "      <td id=\"T_41fd9_row2_col6\" class=\"data row2 col6\" >3.70%</td>\n",
       "      <td id=\"T_41fd9_row2_col7\" class=\"data row2 col7\" >14.81%</td>\n",
       "      <td id=\"T_41fd9_row2_col8\" class=\"data row2 col8\" >3.70%</td>\n",
       "    </tr>\n",
       "  </tbody>\n",
       "</table>\n"
      ],
      "text/plain": [
       "<pandas.io.formats.style.Styler at 0x1ded457b040>"
      ]
     },
     "execution_count": 33,
     "metadata": {},
     "output_type": "execute_result"
    }
   ],
   "source": [
    "notional_weights = [19,1,1.25,1,1,1,.25,1,.25]\n",
    "df_weights = util.get_df_weights(notional_weights, list(returns['Monthly'].columns), include_fi)\n",
    "fmt.get_notional_styler(df_weights)"
   ]
  },
  {
   "cell_type": "markdown",
   "id": "9d44c7a1",
   "metadata": {},
   "source": [
    "## Compute Correlations"
   ]
  },
  {
   "cell_type": "code",
   "execution_count": 22,
   "id": "e779a861",
   "metadata": {},
   "outputs": [],
   "source": [
    "corr_freq_list = ['Weekly', 'Monthly']\n",
    "corr_dict_1 = summary.get_corr_data(returns)"
   ]
  },
  {
   "cell_type": "markdown",
   "id": "a73cf507",
   "metadata": {},
   "source": [
    "## Display Correlations"
   ]
  },
  {
   "cell_type": "code",
   "execution_count": 17,
   "id": "70c4d212",
   "metadata": {},
   "outputs": [
    {
     "data": {
      "application/vnd.jupyter.widget-view+json": {
       "model_id": "d75093c98ceb459f95b779ae4cc6be44",
       "version_major": 2,
       "version_minor": 0
      },
      "text/plain": [
       "interactive(children=(Dropdown(description='frequency', options=('Weekly', 'Monthly'), value='Weekly'), Dropdo…"
      ]
     },
     "metadata": {},
     "output_type": "display_data"
    }
   ],
   "source": [
    "@interact\n",
    "def display_correlations(frequency=corr_freq_list,\n",
    "                         corr=['full', 'equity_down', 'equity_up'], plot_type=['heatmap', 'corrplot']):\n",
    "    data = corr_dict_1[frequency]\n",
    "    corr_df = data[False][corr][0]\n",
    "    if plot_type == 'heatmap':\n",
    "        return plots.draw_heatmap(corr_df, half=False)\n",
    "    else:\n",
    "        return plots.draw_corrplot(corr_df)"
   ]
  },
  {
   "cell_type": "markdown",
   "id": "27501d42",
   "metadata": {},
   "source": [
    "## Compute Analytics (Return Stats and Hedge Metrics)"
   ]
  },
  {
   "cell_type": "code",
   "execution_count": 23,
   "id": "94586f33",
   "metadata": {},
   "outputs": [],
   "source": [
    "analytics_freq_list = ['Weekly', 'Monthly']\n",
    "analytics_dict = summary.get_analytics_data(returns,analytics_freq_list,weighted,notional_weights,include_fi,new_strat)"
   ]
  },
  {
   "cell_type": "markdown",
   "id": "2e5df08c",
   "metadata": {},
   "source": [
    "## Display Analytics"
   ]
  },
  {
   "cell_type": "code",
   "execution_count": 24,
   "id": "f532454e",
   "metadata": {},
   "outputs": [
    {
     "data": {
      "application/vnd.jupyter.widget-view+json": {
       "model_id": "773fb12d059349be8addffcad868391e",
       "version_major": 2,
       "version_minor": 0
      },
      "text/plain": [
       "interactive(children=(Dropdown(description='frequency', options=('Weekly', 'Monthly'), value='Weekly'), Dropdo…"
      ]
     },
     "metadata": {},
     "output_type": "display_data"
    }
   ],
   "source": [
    "@interact\n",
    "def display_analytics(frequency=analytics_freq_list, weighted=weighted, stats=['return_stats', 'hedge_metrics']):\n",
    "    data = analytics_dict[frequency]\n",
    "    analytics = data[weighted]\n",
    "    if stats == 'return_stats':\n",
    "        return fmt.get_analytics_styler(analytics)\n",
    "    if stats == 'hedge_metrics':\n",
    "        if frequency == 'Weekly':\n",
    "            return fmt.get_analytics_styler(analytics, stats, '1W')\n",
    "        else:\n",
    "            return fmt.get_analytics_styler(analytics, stats)"
   ]
  },
  {
   "cell_type": "markdown",
   "id": "6d07b26c",
   "metadata": {},
   "source": [
    "## Compute Historical Selloffs"
   ]
  },
  {
   "cell_type": "code",
   "execution_count": 25,
   "id": "13c85398",
   "metadata": {},
   "outputs": [],
   "source": [
    "hist_dict = summary.get_hist_data(returns,notional_weights=notional_weights, weighted=weighted)"
   ]
  },
  {
   "cell_type": "markdown",
   "id": "1026fa67",
   "metadata": {},
   "source": [
    "## Display Historical Selloffs"
   ]
  },
  {
   "cell_type": "code",
   "execution_count": null,
   "id": "7491d12f",
   "metadata": {},
   "outputs": [],
   "source": [
    "@interact\n",
    "def display_selloffs(weighted=weighted):\n",
    "    df_hist = hist_dict[weighted]\n",
    "    return fmt.get_hist_styler(df_hist)"
   ]
  },
  {
   "cell_type": "markdown",
   "id": "e4b00782",
   "metadata": {},
   "source": [
    "## Compute Quintile or Decile Analysis"
   ]
  },
  {
   "cell_type": "code",
   "execution_count": null,
   "id": "8e553610",
   "metadata": {},
   "outputs": [],
   "source": [
    "group_list=['Quintile','Decile']\n",
    "@interact\n",
    "def display_returns(group = group_list):\n",
    "    quintile_df = summary.get_grouped_data(returns, group = group)\n",
    "    return(quintile_df.style.format(\"{:.2%}\"))"
   ]
  },
  {
   "cell_type": "markdown",
   "id": "e0f27caa",
   "metadata": {},
   "source": [
    "## Display Quintile or Decile Analysis"
   ]
  },
  {
   "cell_type": "code",
   "execution_count": null,
   "id": "b431e87c",
   "metadata": {},
   "outputs": [],
   "source": [
    "@interact\n",
    "def display_quintile_analysis(group = ['Quintile','Decile'], strat=list(returns['Monthly'].select_dtypes('float').columns)[1:]):    \n",
    "    df = summary.get_grouped_data(returns, group = group)\n",
    "    \n",
    "    for col in df.columns:\n",
    "        df[col] *= 100\n",
    "        if not (col == equity_bmk or col ==strat):\n",
    "            df.drop([col], axis=1, inplace=True)\n",
    "    if group == \"Quintile\":\n",
    "        title ='Quintile Analysis'\n",
    "    else:\n",
    "        title = 'Decile Analysis'\n",
    "        \n",
    "    fig = px.bar(df,barmode='group',title = title)\n",
    "    fig.update_layout(\n",
    "        title = {'text':\"<b>{}</b>\".format(title),'y':0.95,'x':0.5,'xanchor': 'center','yanchor': 'top'},\n",
    "        title_font_family = \"Calibri\",\n",
    "        titlefont = {\"size\":24},\n",
    "        xaxis = dict(tickfont = dict(size=12)),\n",
    "        yaxis = dict(ticksuffix=\"%\"),\n",
    "        legend_title=\"Strategies\",\n",
    "        plot_bgcolor='White'\n",
    "    )\n",
    "    fig.update_xaxes(title_font_family = \"Calibri\",title_text = \"<b>SPTR Monthly Returns Ranking</b>\",\n",
    "        title_font = {\"size\": 20},showline=False,linewidth=2,linecolor='black',mirror=False)\n",
    "    fig.update_yaxes(title_font_family = \"Calibri\",title_text = \"<b></b>\",title_font = {\"size\": 20},\n",
    "        showline=True,linewidth=1,linecolor='black',mirror=False)\n",
    "    fig.show()"
   ]
  },
  {
   "cell_type": "markdown",
   "id": "ab7a6a8a",
   "metadata": {},
   "source": [
    "## Create Report"
   ]
  },
  {
   "cell_type": "code",
   "execution_count": 34,
   "id": "48470508",
   "metadata": {},
   "outputs": [
    {
     "name": "stdout",
     "output_type": "stream",
     "text": [
      "Computing Monthly Analytics...\n",
      "Computing Weekly Analytics...\n",
      "Computing Historical SellOffs...\n",
      "\"equity_hedge_analysis_barclays_barc2.xlsx\" report generated in \"C:\\Users\\RRQ1FYQ\\Documents\\RMP\\EquityHedging\\reports\\\" folder\n"
     ]
    }
   ],
   "source": [
    "equity_hedge_report = 'equity_hedge_analysis_barclays_barc2'\n",
    "selloffs = True\n",
    "rp.get_equity_hedge_report(equity_hedge_report, returns, notional_weights, include_fi, new_strat, weighted[0], selloffs)"
   ]
  },
  {
   "cell_type": "code",
   "execution_count": null,
   "id": "e5b9732d",
   "metadata": {},
   "outputs": [],
   "source": []
  }
 ],
 "metadata": {
  "kernelspec": {
   "display_name": "Python 3 (ipykernel)",
   "language": "python",
   "name": "python3"
  },
  "language_info": {
   "codemirror_mode": {
    "name": "ipython",
    "version": 3
   },
   "file_extension": ".py",
   "mimetype": "text/x-python",
   "name": "python",
   "nbconvert_exporter": "python",
   "pygments_lexer": "ipython3",
   "version": "3.9.7"
  },
  "varInspector": {
   "cols": {
    "lenName": 16,
    "lenType": 16,
    "lenVar": 40
   },
   "kernels_config": {
    "python": {
     "delete_cmd_postfix": "",
     "delete_cmd_prefix": "del ",
     "library": "var_list.py",
     "varRefreshCmd": "print(var_dic_list())"
    },
    "r": {
     "delete_cmd_postfix": ") ",
     "delete_cmd_prefix": "rm(",
     "library": "var_list.r",
     "varRefreshCmd": "cat(var_dic_list()) "
    }
   },
   "types_to_exclude": [
    "module",
    "function",
    "builtin_function_or_method",
    "instance",
    "_Feature"
   ],
   "window_display": false
  }
 },
 "nbformat": 4,
 "nbformat_minor": 5
}
