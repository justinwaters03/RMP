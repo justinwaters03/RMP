{
 "cells": [
  {
   "cell_type": "markdown",
   "id": "c8efc831",
   "metadata": {},
   "source": [
    "# Macquarie VRP Analysis\n",
    "This notebok runs analysis on Macquaries VRP strategies.\n",
    "\n",
    "## Import Libraries"
   ]
  },
  {
   "cell_type": "code",
   "execution_count": 24,
   "id": "b5afcd8f",
   "metadata": {},
   "outputs": [],
   "source": [
    "import os\n",
    "os.chdir('..')\n",
    "\n",
    "import plotly.express as px\n",
    "from EquityHedging.datamanager import data_manager as dm\n",
    "from EquityHedging.analytics import summary\n",
    "from EquityHedging.reporting.excel import reports as rp\n",
    "from EquityHedging.reporting import formatter as fmt, plots\n",
    "from ipywidgets import interact, interact_manual\n",
    "import pandas as pd\n",
    "import plotly.graph_objects as go\n"
   ]
  },
  {
   "cell_type": "markdown",
   "id": "a344d57a",
   "metadata": {},
   "source": [
    "## Import Equity Benchmark & UBS Def Var Data"
   ]
  },
  {
   "cell_type": "code",
   "execution_count": 29,
   "id": "d12c51fd",
   "metadata": {},
   "outputs": [],
   "source": [
    "equity_bmk = 'SPTR'\n",
    "#create returns data dictionary for equity benchmark\n",
    "returns= dm.get_equity_hedge_returns(equity_bmk, all_data=True)\n",
    "for key in returns:\n",
    "    returns[key] = returns[key][[equity_bmk,'Def Var (Fri)', 'Def Var (Mon)','Def Var (Wed)']]"
   ]
  },
  {
   "attachments": {},
   "cell_type": "markdown",
   "id": "b4cbca6e",
   "metadata": {},
   "source": [
    "# VRP + TRP Analysis\n",
    "Strats:\n",
    "* VMAQWSP4\n",
    "* VMAQDSP4\n",
    "* VMAQWSP4 extended + Deferred TRP (“always on”)\n",
    "* VMAQWSP4 extended + Front TRP (subject to VIX Signal)\n",
    "* VMAQWSP4 extended + Combined TRP (Deferred + Front with dynamic VIX Signal)\n",
    "* VMAQDSP4 extended + VMAQWSP4 extended + Deferred TRP (“always on”)\n",
    "* VMAQDSP4 extended + VMAQWSP4 extended + Front TRP (subject to VIX Signal)\n",
    "* VMAQDSP4 extended + VMAQWSP4 extended + Combined TRP (Deferred + Front with dynamic VIX Signal)"
   ]
  },
  {
   "cell_type": "markdown",
   "id": "6987c181",
   "metadata": {},
   "source": [
    "## Import data"
   ]
  },
  {
   "cell_type": "code",
   "execution_count": 35,
   "id": "fccadab0",
   "metadata": {},
   "outputs": [],
   "source": [
    "vrp_trp = dm.get_new_strategy_returns_data('vrp_macq_data.xlsx', sheet_name='trp')\n",
    "# vrp_trp = pd.read_excel(dm.NEW_DATA+'Barclays_new3_robustness.xlsx',\n",
    "#                                            sheet_name = 'data', index_col=0)\n",
    "# new_3_robust['rd_4+3'] = 0.5*new_3_robust['rollDates=-20,-15,-10,-5']+0.5*new_3_robust['rollDates=-15,-10,-5,0']"
   ]
  },
  {
   "cell_type": "markdown",
   "id": "06501bcc",
   "metadata": {},
   "source": [
    "# Max VIX Delta Parameter"
   ]
  },
  {
   "cell_type": "markdown",
   "id": "ba5f6816",
   "metadata": {},
   "source": [
    "## Display Historical Performance"
   ]
  },
  {
   "cell_type": "code",
   "execution_count": 36,
   "id": "f725bd0a",
   "metadata": {},
   "outputs": [
    {
     "data": {
      "application/vnd.jupyter.widget-view+json": {
       "model_id": "659a0464d13b4214b298e87a2721f5f7",
       "version_major": 2,
       "version_minor": 0
      },
      "text/plain": [
       "interactive(children=(Output(),), _dom_classes=('widget-interact',))"
      ]
     },
     "metadata": {},
     "output_type": "display_data"
    }
   ],
   "source": [
    "# params_df = params_dict['max_vix'].copy()\n",
    "\n",
    "@interact\n",
    "def display_performance():\n",
    "    fig = go.Figure()\n",
    "    for strat in vrp_trp.columns:\n",
    "        fig.add_trace(go.Scatter(x = pd.to_datetime(vrp_trp.index, format = '%m/%d/%Y'),\n",
    "                                 y = vrp_trp[strat],mode = 'lines',name = strat))\n",
    "    fig.update_layout(showlegend=True,plot_bgcolor='White')\n",
    "    fig.update_xaxes(showline=True,linecolor='black')\n",
    "    fig.update_yaxes(showline=True,linecolor='black')\n",
    "    fig.show()"
   ]
  },
  {
   "cell_type": "markdown",
   "id": "614c7916",
   "metadata": {},
   "source": [
    "## Compute Max VIX Delta Analytics (Return Stats and Hedge Metrics)"
   ]
  },
  {
   "cell_type": "code",
   "execution_count": 6,
   "id": "a5600ab0",
   "metadata": {},
   "outputs": [],
   "source": [
    "#create returns data dictionary for strategy\n",
    "max_vix_dict = dm.get_data_dict(params_dict['max_vix'])\n",
    "\n",
    "#merge dictionaries\n",
    "max_vix_dict = dm.merge_dicts(returns,max_vix_dict)\n",
    "\n",
    "#compute analytics\n",
    "analytics_freq_list = ['Weekly', 'Monthly']\n",
    "max_vix_analytics_dict = summary.get_analytics_data(max_vix_dict)"
   ]
  },
  {
   "cell_type": "markdown",
   "id": "6154a94c",
   "metadata": {},
   "source": [
    "## Display Max VIX Delta Analytics"
   ]
  },
  {
   "cell_type": "code",
   "execution_count": 7,
   "id": "ebb173f2",
   "metadata": {},
   "outputs": [
    {
     "data": {
      "application/vnd.jupyter.widget-view+json": {
       "model_id": "12b15c162873420199482d7e2131964a",
       "version_major": 2,
       "version_minor": 0
      },
      "text/plain": [
       "interactive(children=(Dropdown(description='frequency', options=('Weekly', 'Monthly'), value='Weekly'), Dropdo…"
      ]
     },
     "metadata": {},
     "output_type": "display_data"
    }
   ],
   "source": [
    "@interact\n",
    "def display_analytics(frequency=analytics_freq_list, stats=['return_stats', 'hedge_metrics']):\n",
    "    data = max_vix_analytics_dict[frequency]\n",
    "    analytics = data[False]\n",
    "    if stats == 'return_stats':\n",
    "        return fmt.get_analytics_styler(analytics)\n",
    "    if stats == 'hedge_metrics':\n",
    "        if frequency == 'Weekly':\n",
    "            return fmt.get_analytics_styler(analytics, stats, '1W')\n",
    "        else:\n",
    "            return fmt.get_analytics_styler(analytics, stats)"
   ]
  },
  {
   "cell_type": "markdown",
   "id": "e9c55f0f",
   "metadata": {},
   "source": [
    "# Short Put Strike Parameter"
   ]
  },
  {
   "cell_type": "markdown",
   "id": "10d3a6b7",
   "metadata": {},
   "source": [
    "## Display Historical Performance"
   ]
  },
  {
   "cell_type": "code",
   "execution_count": 8,
   "id": "db2a13a6",
   "metadata": {},
   "outputs": [
    {
     "data": {
      "application/vnd.jupyter.widget-view+json": {
       "model_id": "676fa43e96f54e6fa497f1128eea21a0",
       "version_major": 2,
       "version_minor": 0
      },
      "text/plain": [
       "interactive(children=(Output(),), _dom_classes=('widget-interact',))"
      ]
     },
     "metadata": {},
     "output_type": "display_data"
    }
   ],
   "source": [
    "params_df =params_dict['short_put_strike'].copy()\n",
    "\n",
    "@interact\n",
    "def display_performance():\n",
    "    fig = go.Figure()\n",
    "    for strat in params_df.columns:\n",
    "        fig.add_trace(go.Scatter(x = pd.to_datetime(params_df.index, format = '%m/%d/%Y'),\n",
    "                                 y = params_df[strat],mode = 'lines',name = strat))\n",
    "    fig.update_layout(showlegend=True,plot_bgcolor='White')\n",
    "    fig.update_xaxes(showline=True,linecolor='black')\n",
    "    fig.update_yaxes(showline=True,linecolor='black')\n",
    "    fig.show()"
   ]
  },
  {
   "cell_type": "markdown",
   "id": "e752e5ff",
   "metadata": {},
   "source": [
    "## Compute Short Put Strike Analytics"
   ]
  },
  {
   "cell_type": "code",
   "execution_count": 9,
   "id": "4eb81f14",
   "metadata": {},
   "outputs": [],
   "source": [
    "#create returns data dictionary for strategy\n",
    "sp_dict = dm.get_data_dict(params_dict['short_put_strike'])\n",
    "\n",
    "#merge dictionaries\n",
    "sp_dict = dm.merge_dicts(returns,sp_dict)\n",
    "\n",
    "#compute analytics\n",
    "analytics_freq_list = ['Weekly', 'Monthly']\n",
    "sp_analytics_dict = summary.get_analytics_data(sp_dict)\n"
   ]
  },
  {
   "cell_type": "markdown",
   "id": "3c409c84",
   "metadata": {},
   "source": [
    "## Display Short Put Strike Analytics"
   ]
  },
  {
   "cell_type": "code",
   "execution_count": 10,
   "id": "8eca9a59",
   "metadata": {},
   "outputs": [
    {
     "data": {
      "application/vnd.jupyter.widget-view+json": {
       "model_id": "8ebddf45395d4c8db86439221ed5db92",
       "version_major": 2,
       "version_minor": 0
      },
      "text/plain": [
       "interactive(children=(Dropdown(description='frequency', options=('Weekly', 'Monthly'), value='Weekly'), Dropdo…"
      ]
     },
     "metadata": {},
     "output_type": "display_data"
    }
   ],
   "source": [
    "@interact\n",
    "def display_analytics(frequency=analytics_freq_list, stats=['return_stats', 'hedge_metrics']):\n",
    "    data = sp_analytics_dict[frequency]\n",
    "    analytics = data[False]\n",
    "    if stats == 'return_stats':\n",
    "        return fmt.get_analytics_styler(analytics)\n",
    "    if stats == 'hedge_metrics':\n",
    "        if frequency == 'Weekly':\n",
    "            return fmt.get_analytics_styler(analytics, stats, '1W')\n",
    "        else:\n",
    "            return fmt.get_analytics_styler(analytics, stats)"
   ]
  },
  {
   "cell_type": "markdown",
   "id": "e0465e5c",
   "metadata": {},
   "source": [
    "# Long Put Strike Analytics"
   ]
  },
  {
   "cell_type": "markdown",
   "id": "3b8fcb6d",
   "metadata": {},
   "source": [
    "## Display Historical Performance"
   ]
  },
  {
   "cell_type": "code",
   "execution_count": 11,
   "id": "1f2cd2ef",
   "metadata": {},
   "outputs": [
    {
     "data": {
      "application/vnd.jupyter.widget-view+json": {
       "model_id": "399971b14adc4b3fb8c9329c1237f00d",
       "version_major": 2,
       "version_minor": 0
      },
      "text/plain": [
       "interactive(children=(Output(),), _dom_classes=('widget-interact',))"
      ]
     },
     "metadata": {},
     "output_type": "display_data"
    }
   ],
   "source": [
    "params_df =params_dict['long_put_strike'].copy()\n",
    "\n",
    "@interact\n",
    "def display_performance():\n",
    "    fig = go.Figure()\n",
    "    for strat in params_df.columns:\n",
    "        fig.add_trace(go.Scatter(x = pd.to_datetime(params_df.index, format = '%m/%d/%Y'),\n",
    "                                 y = params_df[strat],mode = 'lines',name = strat))\n",
    "    fig.update_layout(showlegend=True,plot_bgcolor='White')\n",
    "    fig.update_xaxes(showline=True,linecolor='black')\n",
    "    fig.update_yaxes(showline=True,linecolor='black')\n",
    "    fig.show()"
   ]
  },
  {
   "cell_type": "markdown",
   "id": "b8685580",
   "metadata": {},
   "source": [
    "## Compute Long Put Strike Analytics"
   ]
  },
  {
   "cell_type": "code",
   "execution_count": 12,
   "id": "0252b959",
   "metadata": {},
   "outputs": [],
   "source": [
    "#create returns data dictionary for strategy\n",
    "lp_dict = dm.get_data_dict(params_dict['long_put_strike'])\n",
    "\n",
    "#merge dictionaries\n",
    "lp_dict = dm.merge_dicts(returns,lp_dict)\n",
    "\n",
    "#compute analytics\n",
    "analytics_freq_list = ['Weekly', 'Monthly']\n",
    "lp_analytics_dict = summary.get_analytics_data(lp_dict)\n"
   ]
  },
  {
   "cell_type": "markdown",
   "id": "7e928db2",
   "metadata": {},
   "source": [
    "## Display Long Put Strike Analytics"
   ]
  },
  {
   "cell_type": "code",
   "execution_count": 13,
   "id": "65c8610d",
   "metadata": {},
   "outputs": [
    {
     "data": {
      "application/vnd.jupyter.widget-view+json": {
       "model_id": "61c5ca7543b843719ccc8e3cfb9d3e21",
       "version_major": 2,
       "version_minor": 0
      },
      "text/plain": [
       "interactive(children=(Dropdown(description='frequency', options=('Weekly', 'Monthly'), value='Weekly'), Dropdo…"
      ]
     },
     "metadata": {},
     "output_type": "display_data"
    }
   ],
   "source": [
    "@interact\n",
    "def display_analytics(frequency=analytics_freq_list, stats=['return_stats', 'hedge_metrics']):\n",
    "    data = lp_analytics_dict[frequency]\n",
    "    analytics = data[False]\n",
    "    if stats == 'return_stats':\n",
    "        return fmt.get_analytics_styler(analytics)\n",
    "    if stats == 'hedge_metrics':\n",
    "        if frequency == 'Weekly':\n",
    "            return fmt.get_analytics_styler(analytics, stats, '1W')\n",
    "        else:\n",
    "            return fmt.get_analytics_styler(analytics, stats)"
   ]
  },
  {
   "cell_type": "markdown",
   "id": "5ab7c3df",
   "metadata": {},
   "source": [
    "# VIX Strike Parameter"
   ]
  },
  {
   "cell_type": "markdown",
   "id": "915471a9",
   "metadata": {},
   "source": [
    "## Display Historical Performance"
   ]
  },
  {
   "cell_type": "code",
   "execution_count": 14,
   "id": "38082c19",
   "metadata": {},
   "outputs": [
    {
     "data": {
      "application/vnd.jupyter.widget-view+json": {
       "model_id": "6b0beda577c843ebbcb3d7e9ac40e74a",
       "version_major": 2,
       "version_minor": 0
      },
      "text/plain": [
       "interactive(children=(Output(),), _dom_classes=('widget-interact',))"
      ]
     },
     "metadata": {},
     "output_type": "display_data"
    }
   ],
   "source": [
    "params_df =params_dict['vix_strike'].copy()\n",
    "\n",
    "@interact\n",
    "def display_performance():\n",
    "    fig = go.Figure()\n",
    "    for strat in params_df.columns:\n",
    "        fig.add_trace(go.Scatter(x = pd.to_datetime(params_df.index, format = '%m/%d/%Y'),\n",
    "                                 y = params_df[strat],mode = 'lines',name = strat))\n",
    "    fig.update_layout(showlegend=True,plot_bgcolor='White')\n",
    "    fig.update_xaxes(showline=True,linecolor='black')\n",
    "    fig.update_yaxes(showline=True,linecolor='black')\n",
    "    fig.show()"
   ]
  },
  {
   "cell_type": "markdown",
   "id": "e9e0013b",
   "metadata": {},
   "source": [
    "## Compute VIX Strike Analytics"
   ]
  },
  {
   "cell_type": "code",
   "execution_count": 15,
   "id": "0ab1f8c9",
   "metadata": {},
   "outputs": [],
   "source": [
    "#create returns data dictionary for strategy\n",
    "vix_k_dict = dm.get_data_dict(params_dict['vix_strike'])\n",
    "\n",
    "#merge dictionaries\n",
    "vix_k_dict = dm.merge_dicts(returns,vix_k_dict)\n",
    "\n",
    "#compute analytics\n",
    "analytics_freq_list = ['Weekly', 'Monthly']\n",
    "vix_k_analytics_dict = summary.get_analytics_data(vix_k_dict)"
   ]
  },
  {
   "cell_type": "markdown",
   "id": "15ce6350",
   "metadata": {},
   "source": [
    "## Display VIX Strike Analytics"
   ]
  },
  {
   "cell_type": "code",
   "execution_count": 16,
   "id": "0fc4d24d",
   "metadata": {},
   "outputs": [
    {
     "data": {
      "application/vnd.jupyter.widget-view+json": {
       "model_id": "f1de410fb72a48e08c547756ca2677e8",
       "version_major": 2,
       "version_minor": 0
      },
      "text/plain": [
       "interactive(children=(Dropdown(description='frequency', options=('Weekly', 'Monthly'), value='Weekly'), Dropdo…"
      ]
     },
     "metadata": {},
     "output_type": "display_data"
    }
   ],
   "source": [
    "@interact\n",
    "def display_analytics(frequency=analytics_freq_list, stats=['return_stats', 'hedge_metrics']):\n",
    "    data = vix_k_analytics_dict[frequency]\n",
    "    analytics = data[False]\n",
    "    if stats == 'return_stats':\n",
    "        return fmt.get_analytics_styler(analytics)\n",
    "    if stats == 'hedge_metrics':\n",
    "        if frequency == 'Weekly':\n",
    "            return fmt.get_analytics_styler(analytics, stats, '1W')\n",
    "        else:\n",
    "            return fmt.get_analytics_styler(analytics, stats)"
   ]
  },
  {
   "cell_type": "markdown",
   "id": "56b1e1bc",
   "metadata": {},
   "source": [
    "# Roll Dates Parameter"
   ]
  },
  {
   "cell_type": "markdown",
   "id": "393b21f6",
   "metadata": {},
   "source": [
    "## Display Historical Performance"
   ]
  },
  {
   "cell_type": "code",
   "execution_count": 17,
   "id": "e6175196",
   "metadata": {},
   "outputs": [
    {
     "data": {
      "application/vnd.jupyter.widget-view+json": {
       "model_id": "329a6401900b46a7a6fa7f66ba613aa7",
       "version_major": 2,
       "version_minor": 0
      },
      "text/plain": [
       "interactive(children=(Output(),), _dom_classes=('widget-interact',))"
      ]
     },
     "metadata": {},
     "output_type": "display_data"
    }
   ],
   "source": [
    "params_df =params_dict['roll_dates'].copy()\n",
    "\n",
    "@interact\n",
    "def display_performance():\n",
    "    fig = go.Figure()\n",
    "    for strat in params_df.columns:\n",
    "        fig.add_trace(go.Scatter(x = pd.to_datetime(params_df.index, format = '%m/%d/%Y'),\n",
    "                                 y = params_df[strat],mode = 'lines',name = strat))\n",
    "    fig.update_layout(showlegend=True,plot_bgcolor='White')\n",
    "    fig.update_xaxes(showline=True,linecolor='black')\n",
    "    fig.update_yaxes(showline=True,linecolor='black')\n",
    "    fig.show()"
   ]
  },
  {
   "cell_type": "markdown",
   "id": "e5a91e15",
   "metadata": {},
   "source": [
    "## Compute Roll Dates Analytics"
   ]
  },
  {
   "cell_type": "code",
   "execution_count": 18,
   "id": "0dc55085",
   "metadata": {},
   "outputs": [],
   "source": [
    "#create returns data dictionary for strategy\n",
    "rd_dict = dm.get_data_dict(params_dict['roll_dates'])\n",
    "\n",
    "#merge dictionaries\n",
    "rd_dict = dm.merge_dicts(returns,rd_dict)\n",
    "\n",
    "#compute analytics\n",
    "analytics_freq_list = ['Weekly', 'Monthly']\n",
    "rd_analytics_dict = summary.get_analytics_data(rd_dict)"
   ]
  },
  {
   "cell_type": "markdown",
   "id": "c5f80067",
   "metadata": {},
   "source": [
    "## Display Roll Dates Analytics"
   ]
  },
  {
   "cell_type": "code",
   "execution_count": 19,
   "id": "c066ef92",
   "metadata": {},
   "outputs": [
    {
     "data": {
      "application/vnd.jupyter.widget-view+json": {
       "model_id": "289e854d7af6438bb4f1439312baf2e2",
       "version_major": 2,
       "version_minor": 0
      },
      "text/plain": [
       "interactive(children=(Dropdown(description='frequency', options=('Weekly', 'Monthly'), value='Weekly'), Dropdo…"
      ]
     },
     "metadata": {},
     "output_type": "display_data"
    }
   ],
   "source": [
    "@interact\n",
    "def display_analytics(frequency=analytics_freq_list, stats=['return_stats', 'hedge_metrics']):\n",
    "    data = rd_analytics_dict[frequency]\n",
    "    analytics = data[False]\n",
    "    if stats == 'return_stats':\n",
    "        return fmt.get_analytics_styler(analytics)\n",
    "    if stats == 'hedge_metrics':\n",
    "        if frequency == 'Weekly':\n",
    "            return fmt.get_analytics_styler(analytics, stats, '1W')\n",
    "        else:\n",
    "            return fmt.get_analytics_styler(analytics, stats)"
   ]
  },
  {
   "cell_type": "markdown",
   "id": "78d6a3e9",
   "metadata": {},
   "source": [
    "## Compute Historical Sell Offs then slice for different parameters"
   ]
  },
  {
   "cell_type": "code",
   "execution_count": 20,
   "id": "1a6ca4b3",
   "metadata": {},
   "outputs": [],
   "source": [
    "#create returns data dictionary for strategy\n",
    "new_data_dict = dm.get_data_dict(new_3_robust)\n",
    "\n",
    "#merge dictionaries\n",
    "ret_data_dict = dm.merge_dicts(returns,new_data_dict)\n",
    "\n",
    "#compute historical sell offs\n",
    "hist_dict = summary.get_hist_data(ret_data_dict)\n",
    "\n",
    "#slice for diff params\n",
    "hist_list = list(hist_dict[False].columns)[0:3]\n",
    "for key in col_dict:\n",
    "    temp_list = hist_list + col_dict[key]\n",
    "    temp_hs = hist_dict[False].copy()\n",
    "    temp_hs = temp_hs[temp_list]\n",
    "    hist_dict[key] = temp_hs"
   ]
  },
  {
   "cell_type": "markdown",
   "id": "1424dc6b",
   "metadata": {},
   "source": [
    "## Display Historical Sell Offs"
   ]
  },
  {
   "cell_type": "code",
   "execution_count": 21,
   "id": "c3677d36",
   "metadata": {},
   "outputs": [
    {
     "data": {
      "application/vnd.jupyter.widget-view+json": {
       "model_id": "5c6356f4756142f9b28dbd37416a699e",
       "version_major": 2,
       "version_minor": 0
      },
      "text/plain": [
       "interactive(children=(Dropdown(description='params', options=(False, 'max_vix', 'short_put_strike', 'long_put_…"
      ]
     },
     "metadata": {},
     "output_type": "display_data"
    }
   ],
   "source": [
    "@interact\n",
    "def display_selloffs(params = [False]+list(col_dict.keys())):\n",
    "    df_hist = hist_dict[params]\n",
    "    return fmt.get_hist_styler(df_hist)"
   ]
  },
  {
   "cell_type": "code",
   "execution_count": 22,
   "id": "05439911",
   "metadata": {},
   "outputs": [
    {
     "data": {
      "application/vnd.jupyter.widget-view+json": {
       "model_id": "b12f1695a3ca40ed967d9ac2838bfcf1",
       "version_major": 2,
       "version_minor": 0
      },
      "text/plain": [
       "interactive(children=(Output(),), _dom_classes=('widget-interact',))"
      ]
     },
     "metadata": {},
     "output_type": "display_data"
    }
   ],
   "source": [
    "params_df = params_dict['max_vix'].copy()\n",
    "\n",
    "@interact\n",
    "def display_performance():\n",
    "    fig = go.Figure()\n",
    "    for strat in params_df.columns:\n",
    "        fig.add_trace(go.Scatter(x = pd.to_datetime(params_df.index, format = '%m/%d/%Y'),\n",
    "                                 y = params_df[strat],mode = 'lines',name = strat))\n",
    "    fig.update_layout(showlegend=True,plot_bgcolor='White')\n",
    "    fig.update_xaxes(showline=True,linecolor='black')\n",
    "    fig.update_yaxes(showline=True,linecolor='black')\n",
    "    fig.show()"
   ]
  },
  {
   "cell_type": "markdown",
   "id": "fd2d66dd",
   "metadata": {},
   "source": [
    "# Create Report\n",
    "\n",
    "Run this code below to export analysis into excel spreadsheet\n",
    "* **strat_report (string)**: provide a name for the excel file\n",
    "* **selloffs (boolean)**:\n",
    "    * **True**: if you want historical selloff data in the spreadsheet\n",
    "    * **False**: if you do not want historical selloff data in the spreadsheet"
   ]
  },
  {
   "cell_type": "code",
   "execution_count": 23,
   "id": "9637c5b9",
   "metadata": {},
   "outputs": [
    {
     "name": "stdout",
     "output_type": "stream",
     "text": [
      "Computing Monthly Analytics...\n",
      "Computing Weekly Analytics...\n",
      "Computing Historical SellOffs...\n",
      "Computing Normalized Hedge Metrics...\n",
      "\"new_3_robustness.xlsx\" report generated in \"C:\\Users\\NVG9HXP\\Documents\\Projects\\RMP\\EquityHedging\\reports\\\" folder\n"
     ]
    }
   ],
   "source": [
    "strat_report_1 = 'new_3_robustness'\n",
    "selloffs = True\n",
    "rp.generate_strat_report(strat_report_1, ret_data_dict, selloffs)"
   ]
  }
 ],
 "metadata": {
  "kernelspec": {
   "display_name": "Python 3",
   "language": "python",
   "name": "python3"
  },
  "language_info": {
   "codemirror_mode": {
    "name": "ipython",
    "version": 3
   },
   "file_extension": ".py",
   "mimetype": "text/x-python",
   "name": "python",
   "nbconvert_exporter": "python",
   "pygments_lexer": "ipython3",
   "version": "3.7.10"
  },
  "varInspector": {
   "cols": {
    "lenName": 16,
    "lenType": 16,
    "lenVar": 40
   },
   "kernels_config": {
    "python": {
     "delete_cmd_postfix": "",
     "delete_cmd_prefix": "del ",
     "library": "var_list.py",
     "varRefreshCmd": "print(var_dic_list())"
    },
    "r": {
     "delete_cmd_postfix": ") ",
     "delete_cmd_prefix": "rm(",
     "library": "var_list.r",
     "varRefreshCmd": "cat(var_dic_list()) "
    }
   },
   "types_to_exclude": [
    "module",
    "function",
    "builtin_function_or_method",
    "instance",
    "_Feature"
   ],
   "window_display": false
  }
 },
 "nbformat": 4,
 "nbformat_minor": 5
}
