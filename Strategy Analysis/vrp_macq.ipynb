{
 "cells": [
  {
   "cell_type": "markdown",
   "id": "c8efc831",
   "metadata": {},
   "source": [
    "# Macquarie VRP Analysis\n",
    "This notebok runs analysis on Macquaries VRP strategies.\n",
    "\n",
    "## Import Libraries"
   ]
  },
  {
   "cell_type": "code",
   "execution_count": null,
   "id": "b5afcd8f",
   "metadata": {},
   "outputs": [],
   "source": [
    "import os\n",
    "os.chdir('..')\n",
    "\n",
    "import plotly.express as px\n",
    "from EquityHedging.datamanager import data_manager as dm\n",
    "from EquityHedging.analytics import summary\n",
    "from EquityHedging.reporting.excel import reports as rp\n",
    "from EquityHedging.reporting import formatter as fmt, plots\n",
    "from ipywidgets import interact, interact_manual\n",
    "import pandas as pd\n",
    "import plotly.graph_objects as go\n",
    "corr_freq_list = ['Weekly', 'Monthly']\n",
    "analytics_freq_list = ['Weekly', 'Monthly']"
   ]
  },
  {
   "cell_type": "markdown",
   "id": "a344d57a",
   "metadata": {},
   "source": [
    "## Import Equity Benchmark & UBS Def Var Data"
   ]
  },
  {
   "cell_type": "code",
   "execution_count": null,
   "id": "d12c51fd",
   "metadata": {},
   "outputs": [],
   "source": [
    "equity_bmk = 'SPTR'\n",
    "#create returns data dictionary for equity benchmark\n",
    "returns= dm.get_equity_hedge_returns(equity_bmk, all_data=True)\n",
    "for key in returns:\n",
    "    returns[key] = returns[key][[equity_bmk,'Def Var (Fri)', 'Def Var (Mon)','Def Var (Wed)']]"
   ]
  },
  {
   "cell_type": "markdown",
   "id": "b4cbca6e",
   "metadata": {},
   "source": [
    "# VRP + TRP Analysis\n",
    "Strats:\n",
    "* VMAQWSP4\n",
    "* VMAQDSP4\n",
    "* VMAQWSP4 extended + Deferred TRP (“always on”)\n",
    "* VMAQWSP4 extended + Front TRP (subject to VIX Signal)\n",
    "* VMAQWSP4 extended + Combined TRP (Deferred + Front with dynamic VIX Signal)\n",
    "* VMAQDSP4 extended + VMAQWSP4 extended + Deferred TRP (“always on”)\n",
    "* VMAQDSP4 extended + VMAQWSP4 extended + Front TRP (subject to VIX Signal)\n",
    "* VMAQDSP4 extended + VMAQWSP4 extended + Combined TRP (Deferred + Front with dynamic VIX Signal)"
   ]
  },
  {
   "cell_type": "markdown",
   "id": "6987c181",
   "metadata": {},
   "source": [
    "## Import data"
   ]
  },
  {
   "cell_type": "code",
   "execution_count": null,
   "id": "fccadab0",
   "metadata": {},
   "outputs": [],
   "source": [
    "trp = dm.get_new_strategy_returns_data('vrp_macq_data.xlsx', sheet_name='trp')\n",
    "#create returns data dictionary for strategy\n",
    "trp_dict = dm.get_data_dict(trp)\n",
    "#merge dictionaries\n",
    "trp_dict = dm.merge_dicts(returns,trp_dict)"
   ]
  },
  {
   "cell_type": "markdown",
   "id": "ba5f6816",
   "metadata": {},
   "source": [
    "## Display Historical Performance"
   ]
  },
  {
   "cell_type": "code",
   "execution_count": null,
   "id": "f725bd0a",
   "metadata": {},
   "outputs": [],
   "source": [
    "@interact\n",
    "def display_performance():\n",
    "    fig = go.Figure()\n",
    "    for strat in trp.columns:\n",
    "        fig.add_trace(go.Scatter(x = pd.to_datetime(trp.index, format = '%m/%d/%Y'),\n",
    "                                 y = trp[strat],mode = 'lines',name = strat))\n",
    "    fig.update_layout(showlegend=True,plot_bgcolor='White')\n",
    "    fig.update_xaxes(showline=True,linecolor='black')\n",
    "    fig.update_yaxes(showline=True,linecolor='black')\n",
    "    fig.show()"
   ]
  },
  {
   "cell_type": "markdown",
   "id": "b7308816",
   "metadata": {},
   "source": [
    "## Compute and Display TRP Correlations"
   ]
  },
  {
   "cell_type": "code",
   "execution_count": null,
   "id": "143d07da",
   "metadata": {},
   "outputs": [],
   "source": [
    "trp_corr_dict = summary.get_corr_data(trp_dict)\n",
    "@interact\n",
    "def display_correlations(frequency=corr_freq_list,\n",
    "                         corr=['full', 'equity_down', 'equity_up'], plot_type=['heatmap', 'corrplot']):\n",
    "    data = trp_corr_dict[frequency]\n",
    "    corr_df = data[False][corr][0]\n",
    "    if plot_type == 'heatmap':\n",
    "        return plots.draw_heatmap(corr_df, half=False)\n",
    "    else:\n",
    "        return plots.draw_corrplot(corr_df)"
   ]
  },
  {
   "cell_type": "markdown",
   "id": "0145cbce",
   "metadata": {},
   "source": [
    "## Compute and Display TRP Analytics (Return Stats and Hedge Metrics)"
   ]
  },
  {
   "cell_type": "code",
   "execution_count": null,
   "id": "a5600ab0",
   "metadata": {},
   "outputs": [],
   "source": [
    "trp_analytics_dict = summary.get_analytics_data(trp_dict)\n",
    "@interact\n",
    "def display_analytics(frequency=analytics_freq_list, stats=['return_stats', 'hedge_metrics']):\n",
    "    data = trp_analytics_dict[frequency]\n",
    "    analytics = data[False]\n",
    "    if stats == 'return_stats':\n",
    "        return fmt.get_analytics_styler(analytics)\n",
    "    if stats == 'hedge_metrics':\n",
    "        if frequency == 'Weekly':\n",
    "            return fmt.get_analytics_styler(analytics, stats, '1W')\n",
    "        else:\n",
    "            return fmt.get_analytics_styler(analytics, stats)"
   ]
  },
  {
   "cell_type": "markdown",
   "id": "8c3161f0",
   "metadata": {},
   "source": [
    "## Compute and Display Historical Selloffs"
   ]
  },
  {
   "cell_type": "code",
   "execution_count": null,
   "id": "eae676bc",
   "metadata": {},
   "outputs": [],
   "source": [
    "trp_hist_dict = summary.get_hist_data(trp_dict)\n",
    "@interact\n",
    "def display_selloffs():\n",
    "    df_hist = trp_hist_dict[False]\n",
    "    return fmt.get_hist_styler(df_hist)"
   ]
  },
  {
   "cell_type": "markdown",
   "id": "f6c3249f",
   "metadata": {},
   "source": [
    "# VRP (VMAQWSP4 – with/OUT defensive signal) + Long/Short Intraday Basket Analysis\n",
    "Strats:\n",
    "* VMAQWSP4\n",
    "* VMAQWSP4 + Weight of Long/Short Basket ( 0%, 5%, 10..., 95%, 100%)"
   ]
  },
  {
   "cell_type": "markdown",
   "id": "a7c1f8c6",
   "metadata": {},
   "source": [
    "## Import data"
   ]
  },
  {
   "cell_type": "code",
   "execution_count": null,
   "id": "a01f5dac",
   "metadata": {},
   "outputs": [],
   "source": [
    "wsp4_eib = dm.get_new_strategy_returns_data('vrp_macq_data.xlsx', sheet_name='wsp4_eib')\n",
    "#create returns data dictionary for strategy\n",
    "wsp4_eib_dict = dm.get_data_dict(wsp4_eib)\n",
    "#merge dictionaries\n",
    "wsp4_eib_dict = dm.merge_dicts(returns,wsp4_eib_dict)"
   ]
  },
  {
   "cell_type": "markdown",
   "id": "13ddb08c",
   "metadata": {},
   "source": [
    "## Display Historical Performance"
   ]
  },
  {
   "cell_type": "code",
   "execution_count": null,
   "id": "db4309e0",
   "metadata": {},
   "outputs": [],
   "source": [
    "@interact\n",
    "def display_performance():\n",
    "    fig = go.Figure()\n",
    "    for strat in wsp4_eib.columns:\n",
    "        fig.add_trace(go.Scatter(x = pd.to_datetime(wsp4_eib.index, format = '%m/%d/%Y'),\n",
    "                                 y = wsp4_eib[strat],mode = 'lines',name = strat))\n",
    "    fig.update_layout(showlegend=True,plot_bgcolor='White')\n",
    "    fig.update_xaxes(showline=True,linecolor='black')\n",
    "    fig.update_yaxes(showline=True,linecolor='black')\n",
    "    fig.show()"
   ]
  },
  {
   "cell_type": "markdown",
   "id": "1b8157a5",
   "metadata": {},
   "source": [
    "## Compute and Display Correlations"
   ]
  },
  {
   "cell_type": "code",
   "execution_count": null,
   "id": "96cb9613",
   "metadata": {},
   "outputs": [],
   "source": [
    "wsp4_eib_corr_dict = summary.get_corr_data(wsp4_eib_dict)\n",
    "@interact\n",
    "def display_correlations(frequency=corr_freq_list,\n",
    "                         corr=['full', 'equity_down', 'equity_up'], plot_type=['heatmap', 'corrplot']):\n",
    "    data = wsp4_eib_corr_dict[frequency]\n",
    "    corr_df = data[False][corr][0]\n",
    "    if plot_type == 'heatmap':\n",
    "        return plots.draw_heatmap(corr_df, half=False)\n",
    "    else:\n",
    "        return plots.draw_corrplot(corr_df)"
   ]
  },
  {
   "cell_type": "markdown",
   "id": "b945d856",
   "metadata": {},
   "source": [
    "## Compute and Display Analytics (Return Stats and Hedge Metrics)"
   ]
  },
  {
   "cell_type": "code",
   "execution_count": null,
   "id": "69a1f098",
   "metadata": {},
   "outputs": [],
   "source": [
    "wsp4_eib_analytics_dict = summary.get_analytics_data(wsp4_eib_dict)\n",
    "@interact\n",
    "def display_analytics(frequency=analytics_freq_list, stats=['return_stats', 'hedge_metrics']):\n",
    "    data = wsp4_eib_analytics_dict[frequency]\n",
    "    analytics = data[False]\n",
    "    if stats == 'return_stats':\n",
    "        return fmt.get_analytics_styler(analytics)\n",
    "    if stats == 'hedge_metrics':\n",
    "        if frequency == 'Weekly':\n",
    "            return fmt.get_analytics_styler(analytics, stats, '1W')\n",
    "        else:\n",
    "            return fmt.get_analytics_styler(analytics, stats)"
   ]
  },
  {
   "cell_type": "markdown",
   "id": "872ca4e0",
   "metadata": {},
   "source": [
    "## Compute and Display Historical Selloffs"
   ]
  },
  {
   "cell_type": "code",
   "execution_count": null,
   "id": "8a300d9b",
   "metadata": {},
   "outputs": [],
   "source": [
    "wsp4_eib_hist_dict = summary.get_hist_data(wsp4_eib_dict)\n",
    "@interact\n",
    "def display_selloffs():\n",
    "    df_hist = wsp4_eib_hist_dict[False]\n",
    "    return fmt.get_hist_styler(df_hist)"
   ]
  },
  {
   "cell_type": "markdown",
   "id": "db8f5904",
   "metadata": {},
   "source": [
    "# VRP (VMAQWSP4 – with/OUT defensive signal) + Short Intraday Basket Analysis\n",
    "Strats:\n",
    "* VMAQWSP4\n",
    "* VMAQWSP4 + Weight of Short Basket ( 0%, 5%, 10..., 95%, 100%)"
   ]
  },
  {
   "cell_type": "markdown",
   "id": "82b93354",
   "metadata": {},
   "source": [
    "## Import data"
   ]
  },
  {
   "cell_type": "code",
   "execution_count": null,
   "id": "8528d0f7",
   "metadata": {},
   "outputs": [],
   "source": [
    "wsp4_eib_s = dm.get_new_strategy_returns_data('vrp_macq_data.xlsx', sheet_name='wsp4_eib_short')\n",
    "#create returns data dictionary for strategy\n",
    "wsp4_eib_s_dict = dm.get_data_dict(wsp4_eib_s)\n",
    "#merge dictionaries\n",
    "wsp4_eib_s_dict = dm.merge_dicts(returns,wsp4_eib_s_dict)"
   ]
  },
  {
   "cell_type": "markdown",
   "id": "993cf581",
   "metadata": {},
   "source": [
    "## Display Historical Performance"
   ]
  },
  {
   "cell_type": "code",
   "execution_count": null,
   "id": "7d6152ce",
   "metadata": {},
   "outputs": [],
   "source": [
    "@interact\n",
    "def display_performance():\n",
    "    fig = go.Figure()\n",
    "    for strat in wsp4_eib_s.columns:\n",
    "        fig.add_trace(go.Scatter(x = pd.to_datetime(wsp4_eib_s.index, format = '%m/%d/%Y'),\n",
    "                                 y = wsp4_eib_s[strat],mode = 'lines',name = strat))\n",
    "    fig.update_layout(showlegend=True,plot_bgcolor='White')\n",
    "    fig.update_xaxes(showline=True,linecolor='black')\n",
    "    fig.update_yaxes(showline=True,linecolor='black')\n",
    "    fig.show()"
   ]
  },
  {
   "cell_type": "markdown",
   "id": "74d8af9d",
   "metadata": {},
   "source": [
    "## Compute and Display Correlations"
   ]
  },
  {
   "cell_type": "code",
   "execution_count": null,
   "id": "646ee298",
   "metadata": {},
   "outputs": [],
   "source": [
    "wsp4_eib_s_corr_dict = summary.get_corr_data(wsp4_eib_s_dict)\n",
    "@interact\n",
    "def display_correlations(frequency=corr_freq_list,\n",
    "                         corr=['full', 'equity_down', 'equity_up'], plot_type=['heatmap', 'corrplot']):\n",
    "    data = wsp4_eib_s_corr_dict[frequency]\n",
    "    corr_df = data[False][corr][0]\n",
    "    if plot_type == 'heatmap':\n",
    "        return plots.draw_heatmap(corr_df, half=False)\n",
    "    else:\n",
    "        return plots.draw_corrplot(corr_df)"
   ]
  },
  {
   "cell_type": "markdown",
   "id": "a6c1b2c6",
   "metadata": {},
   "source": [
    "## Compute and Display Analytics (Return Stats and Hedge Metrics)"
   ]
  },
  {
   "cell_type": "code",
   "execution_count": null,
   "id": "423428fc",
   "metadata": {},
   "outputs": [],
   "source": [
    "wsp4_eib_s_analytics_dict = summary.get_analytics_data(wsp4_eib_s_dict)\n",
    "@interact\n",
    "def display_analytics(frequency=analytics_freq_list, stats=['return_stats', 'hedge_metrics']):\n",
    "    data = wsp4_eib_s_analytics_dict[frequency]\n",
    "    analytics = data[False]\n",
    "    if stats == 'return_stats':\n",
    "        return fmt.get_analytics_styler(analytics)\n",
    "    if stats == 'hedge_metrics':\n",
    "        if frequency == 'Weekly':\n",
    "            return fmt.get_analytics_styler(analytics, stats, '1W')\n",
    "        else:\n",
    "            return fmt.get_analytics_styler(analytics, stats)"
   ]
  },
  {
   "cell_type": "markdown",
   "id": "7c5918f8",
   "metadata": {},
   "source": [
    "## Compute and Display Historical Selloffs"
   ]
  },
  {
   "cell_type": "code",
   "execution_count": null,
   "id": "14fcb4bb",
   "metadata": {},
   "outputs": [],
   "source": [
    "wsp4_eib_s_hist_dict = summary.get_hist_data(wsp4_eib_s_dict)\n",
    "@interact\n",
    "def display_selloffs():\n",
    "    df_hist = wsp4_eib_s_hist_dict[False]\n",
    "    return fmt.get_hist_styler(df_hist)"
   ]
  },
  {
   "cell_type": "markdown",
   "id": "4c999f0c",
   "metadata": {},
   "source": [
    "# VRP (DSP4 – with/OUT defensive signal) + Long/Short Intraday Basket Analysis\n",
    "Strats:\n",
    "* VMAQDSP4\n",
    "* VMAQDSP4 + Weight of Long/Short Basket ( 0%, 5%, 10..., 95%, 100%)"
   ]
  },
  {
   "cell_type": "markdown",
   "id": "7bceea55",
   "metadata": {},
   "source": [
    "## Import data"
   ]
  },
  {
   "cell_type": "code",
   "execution_count": null,
   "id": "797cc422",
   "metadata": {},
   "outputs": [],
   "source": [
    "dsp4_eib = dm.get_new_strategy_returns_data('vrp_macq_data.xlsx', sheet_name='dsp4_eib')\n",
    "#create returns data dictionary for strategy\n",
    "dsp4_eib_dict = dm.get_data_dict(dsp4_eib)\n",
    "#merge dictionaries\n",
    "dsp4_eib_dict = dm.merge_dicts(returns,dsp4_eib_dict)"
   ]
  },
  {
   "cell_type": "markdown",
   "id": "c875abef",
   "metadata": {},
   "source": [
    "## Display Historical Performance"
   ]
  },
  {
   "cell_type": "code",
   "execution_count": null,
   "id": "666c704b",
   "metadata": {},
   "outputs": [],
   "source": [
    "@interact\n",
    "def display_performance():\n",
    "    fig = go.Figure()\n",
    "    for strat in dsp4_eib.columns:\n",
    "        fig.add_trace(go.Scatter(x = pd.to_datetime(dsp4_eib.index, format = '%m/%d/%Y'),\n",
    "                                 y = dsp4_eib[strat],mode = 'lines',name = strat))\n",
    "    fig.update_layout(showlegend=True,plot_bgcolor='White')\n",
    "    fig.update_xaxes(showline=True,linecolor='black')\n",
    "    fig.update_yaxes(showline=True,linecolor='black')\n",
    "    fig.show()"
   ]
  },
  {
   "cell_type": "markdown",
   "id": "0b943aaf",
   "metadata": {},
   "source": [
    "## Compute and Display Correlations"
   ]
  },
  {
   "cell_type": "code",
   "execution_count": null,
   "id": "2ca99296",
   "metadata": {},
   "outputs": [],
   "source": [
    "dsp4_eib_corr_dict = summary.get_corr_data(dsp4_eib_dict)\n",
    "@interact\n",
    "def display_correlations(frequency=corr_freq_list,\n",
    "                         corr=['full', 'equity_down', 'equity_up'], plot_type=['heatmap', 'corrplot']):\n",
    "    data = dsp4_eib_corr_dict[frequency]\n",
    "    corr_df = data[False][corr][0]\n",
    "    if plot_type == 'heatmap':\n",
    "        return plots.draw_heatmap(corr_df, half=False)\n",
    "    else:\n",
    "        return plots.draw_corrplot(corr_df)"
   ]
  },
  {
   "cell_type": "markdown",
   "id": "85f1982b",
   "metadata": {},
   "source": [
    "## Compute and Display Analytics (Return Stats and Hedge Metrics)"
   ]
  },
  {
   "cell_type": "code",
   "execution_count": null,
   "id": "43ee9cb6",
   "metadata": {},
   "outputs": [],
   "source": [
    "dsp4_eib_analytics_dict = summary.get_analytics_data(dsp4_eib_dict)\n",
    "@interact\n",
    "def display_analytics(frequency=analytics_freq_list, stats=['return_stats', 'hedge_metrics']):\n",
    "    data = dsp4_eib_analytics_dict[frequency]\n",
    "    analytics = data[False]\n",
    "    if stats == 'return_stats':\n",
    "        return fmt.get_analytics_styler(analytics)\n",
    "    if stats == 'hedge_metrics':\n",
    "        if frequency == 'Weekly':\n",
    "            return fmt.get_analytics_styler(analytics, stats, '1W')\n",
    "        else:\n",
    "            return fmt.get_analytics_styler(analytics, stats)"
   ]
  },
  {
   "cell_type": "markdown",
   "id": "0658a466",
   "metadata": {},
   "source": [
    "## Compute and Display Historical Selloffs"
   ]
  },
  {
   "cell_type": "code",
   "execution_count": null,
   "id": "ccf89f74",
   "metadata": {},
   "outputs": [],
   "source": [
    "dsp4_eib_hist_dict = summary.get_hist_data(dsp4_eib_dict)\n",
    "@interact\n",
    "def display_selloffs():\n",
    "    df_hist = dsp4_eib_hist_dict[False]\n",
    "    return fmt.get_hist_styler(df_hist)"
   ]
  },
  {
   "cell_type": "markdown",
   "id": "21ca8438",
   "metadata": {},
   "source": [
    "# VRP (DSP4 – with/OUT defensive signal) + Short Intraday Basket Analysis\n",
    "Strats:\n",
    "* VMAQDSP4\n",
    "* VMAQDSP4 + Weight of Short Basket ( 0%, 5%, 10..., 95%, 100%)"
   ]
  },
  {
   "cell_type": "markdown",
   "id": "80f4ca3a",
   "metadata": {},
   "source": [
    "## Import data"
   ]
  },
  {
   "cell_type": "code",
   "execution_count": null,
   "id": "e4f254ee",
   "metadata": {},
   "outputs": [],
   "source": [
    "dsp4_eib_s = dm.get_new_strategy_returns_data('vrp_macq_data.xlsx', sheet_name='dsp4_eib_short')\n",
    "#create returns data dictionary for strategy\n",
    "dsp4_eib_s_dict = dm.get_data_dict(dsp4_eib_s)\n",
    "#merge dictionaries\n",
    "dsp4_eib_s_dict = dm.merge_dicts(returns,dsp4_eib_s_dict)"
   ]
  },
  {
   "cell_type": "markdown",
   "id": "fdacbc7d",
   "metadata": {},
   "source": [
    "## Display Historical Performance"
   ]
  },
  {
   "cell_type": "code",
   "execution_count": null,
   "id": "ba718490",
   "metadata": {},
   "outputs": [],
   "source": [
    "@interact\n",
    "def display_performance():\n",
    "    fig = go.Figure()\n",
    "    for strat in dsp4_eib_s.columns:\n",
    "        fig.add_trace(go.Scatter(x = pd.to_datetime(dsp4_eib_s.index, format = '%m/%d/%Y'),\n",
    "                                 y = dsp4_eib_s[strat],mode = 'lines',name = strat))\n",
    "    fig.update_layout(showlegend=True,plot_bgcolor='White')\n",
    "    fig.update_xaxes(showline=True,linecolor='black')\n",
    "    fig.update_yaxes(showline=True,linecolor='black')\n",
    "    fig.show()"
   ]
  },
  {
   "cell_type": "markdown",
   "id": "53352588",
   "metadata": {},
   "source": [
    "## Compute and Display Correlations"
   ]
  },
  {
   "cell_type": "code",
   "execution_count": null,
   "id": "02ca1915",
   "metadata": {},
   "outputs": [],
   "source": [
    "dsp4_eib_s_corr_dict = summary.get_corr_data(dsp4_eib_s_dict)\n",
    "@interact\n",
    "def display_correlations(frequency=corr_freq_list,\n",
    "                         corr=['full', 'equity_down', 'equity_up'], plot_type=['heatmap', 'corrplot']):\n",
    "    data = dsp4_eib_s_corr_dict[frequency]\n",
    "    corr_df = data[False][corr][0]\n",
    "    if plot_type == 'heatmap':\n",
    "        return plots.draw_heatmap(corr_df, half=False)\n",
    "    else:\n",
    "        return plots.draw_corrplot(corr_df)"
   ]
  },
  {
   "cell_type": "markdown",
   "id": "f2b144a5",
   "metadata": {},
   "source": [
    "## Compute and Display Analytics (Return Stats and Hedge Metrics)"
   ]
  },
  {
   "cell_type": "code",
   "execution_count": null,
   "id": "60c836f3",
   "metadata": {},
   "outputs": [],
   "source": [
    "dsp4_eib_s_analytics_dict = summary.get_analytics_data(dsp4_eib_s_dict)\n",
    "@interact\n",
    "def display_analytics(frequency=analytics_freq_list, stats=['return_stats', 'hedge_metrics']):\n",
    "    data = dsp4_eib_s_analytics_dict[frequency]\n",
    "    analytics = data[False]\n",
    "    if stats == 'return_stats':\n",
    "        return fmt.get_analytics_styler(analytics)\n",
    "    if stats == 'hedge_metrics':\n",
    "        if frequency == 'Weekly':\n",
    "            return fmt.get_analytics_styler(analytics, stats, '1W')\n",
    "        else:\n",
    "            return fmt.get_analytics_styler(analytics, stats)"
   ]
  },
  {
   "cell_type": "markdown",
   "id": "ca6c1913",
   "metadata": {},
   "source": [
    "## Compute and Display Historical Selloffs"
   ]
  },
  {
   "cell_type": "code",
   "execution_count": null,
   "id": "f191cc0d",
   "metadata": {},
   "outputs": [],
   "source": [
    "dsp4_eib_s_hist_dict = summary.get_hist_data(dsp4_eib_s_dict)\n",
    "@interact\n",
    "def display_selloffs():\n",
    "    df_hist = dsp4_eib_s_hist_dict[False]\n",
    "    return fmt.get_hist_styler(df_hist)"
   ]
  },
  {
   "cell_type": "markdown",
   "id": "0bada44c",
   "metadata": {},
   "source": [
    "# VRP (WSP4 Fri-pre2017 – with/OUT defensive signal) + Long/Short Intraday Basket Analysis\n",
    "Strats:\n",
    "* VMAQWSP4 Fri-pre 2017\n",
    "* VMAQWSP4 Fri-pre 2017 + Weight of Long/Short Basket ( 0%, 5%, 10..., 95%, 100%)"
   ]
  },
  {
   "cell_type": "markdown",
   "id": "9a984a48",
   "metadata": {},
   "source": [
    "## Import data"
   ]
  },
  {
   "cell_type": "code",
   "execution_count": null,
   "id": "9ff286ed",
   "metadata": {},
   "outputs": [],
   "source": [
    "wsp4_eib_pre17 = dm.get_new_strategy_returns_data('vrp_macq_data.xlsx', sheet_name='wsp4_eib_pre17')\n",
    "#create returns data dictionary for strategy\n",
    "wsp4_eib_pre17_dict = dm.get_data_dict(wsp4_eib_pre17)\n",
    "#merge dictionaries\n",
    "wsp4_eib_pre17_dict = dm.merge_dicts(returns,wsp4_eib_pre17_dict)"
   ]
  },
  {
   "cell_type": "markdown",
   "id": "ead5b8af",
   "metadata": {},
   "source": [
    "## Display Historical Performance"
   ]
  },
  {
   "cell_type": "code",
   "execution_count": null,
   "id": "9227d2d0",
   "metadata": {},
   "outputs": [],
   "source": [
    "@interact\n",
    "def display_performance():\n",
    "    fig = go.Figure()\n",
    "    for strat in wsp4_eib_pre17.columns:\n",
    "        fig.add_trace(go.Scatter(x = pd.to_datetime(wsp4_eib_pre17.index, format = '%m/%d/%Y'),\n",
    "                                 y = wsp4_eib_pre17[strat],mode = 'lines',name = strat))\n",
    "    fig.update_layout(showlegend=True,plot_bgcolor='White')\n",
    "    fig.update_xaxes(showline=True,linecolor='black')\n",
    "    fig.update_yaxes(showline=True,linecolor='black')\n",
    "    fig.show()"
   ]
  },
  {
   "cell_type": "markdown",
   "id": "69e786fe",
   "metadata": {},
   "source": [
    "## Compute and Display Correlations"
   ]
  },
  {
   "cell_type": "code",
   "execution_count": null,
   "id": "82fc92cb",
   "metadata": {},
   "outputs": [],
   "source": [
    "wsp4_eib_pre17_corr_dict = summary.get_corr_data(wsp4_eib_pre17_dict)\n",
    "@interact\n",
    "def display_correlations(frequency=corr_freq_list,\n",
    "                         corr=['full', 'equity_down', 'equity_up'], plot_type=['heatmap', 'corrplot']):\n",
    "    data = wsp4_eib_pre17_corr_dict[frequency]\n",
    "    corr_df = data[False][corr][0]\n",
    "    if plot_type == 'heatmap':\n",
    "        return plots.draw_heatmap(corr_df, half=False)\n",
    "    else:\n",
    "        return plots.draw_corrplot(corr_df)"
   ]
  },
  {
   "cell_type": "markdown",
   "id": "716f73d8",
   "metadata": {},
   "source": [
    "## Compute and Display Analytics (Return Stats and Hedge Metrics)"
   ]
  },
  {
   "cell_type": "code",
   "execution_count": null,
   "id": "ff02037e",
   "metadata": {},
   "outputs": [],
   "source": [
    "wsp4_eib_pre17_analytics_dict = summary.get_analytics_data(wsp4_eib_pre17_dict)\n",
    "@interact\n",
    "def display_analytics(frequency=analytics_freq_list, stats=['return_stats', 'hedge_metrics']):\n",
    "    data = wsp4_eib_pre17_analytics_dict[frequency]\n",
    "    analytics = data[False]\n",
    "    if stats == 'return_stats':\n",
    "        return fmt.get_analytics_styler(analytics)\n",
    "    if stats == 'hedge_metrics':\n",
    "        if frequency == 'Weekly':\n",
    "            return fmt.get_analytics_styler(analytics, stats, '1W')\n",
    "        else:\n",
    "            return fmt.get_analytics_styler(analytics, stats)"
   ]
  },
  {
   "cell_type": "markdown",
   "id": "a05de8a8",
   "metadata": {},
   "source": [
    "## Compute and Display Historical Selloffs"
   ]
  },
  {
   "cell_type": "code",
   "execution_count": null,
   "id": "1631debf",
   "metadata": {},
   "outputs": [],
   "source": [
    "wsp4_eib_pre17_hist_dict = summary.get_hist_data(wsp4_eib_pre17_dict)\n",
    "@interact\n",
    "def display_selloffs():\n",
    "    df_hist = wsp4_eib_pre17_hist_dict[False]\n",
    "    return fmt.get_hist_styler(df_hist)"
   ]
  },
  {
   "cell_type": "markdown",
   "id": "0af5b6e1",
   "metadata": {},
   "source": [
    "# VRP (WSP4 Fri-pre2017 – with/OUT defensive signal) + Short Intraday Basket Analysis\n",
    "Strats:\n",
    "* VMAQWSP4 Fri-pre2017\n",
    "* VMAQWSP4 Fri-pre2017 + Weight of Short Basket ( 0%, 5%, 10..., 95%, 100%)"
   ]
  },
  {
   "cell_type": "markdown",
   "id": "0c2b19e5",
   "metadata": {},
   "source": [
    "## Import data"
   ]
  },
  {
   "cell_type": "code",
   "execution_count": null,
   "id": "14c8b8df",
   "metadata": {},
   "outputs": [],
   "source": [
    "wsp4_eib_pre17_s = dm.get_new_strategy_returns_data('vrp_macq_data.xlsx', sheet_name='wsp4_eib_pre17_short')\n",
    "#create returns data dictionary for strategy\n",
    "wsp4_eib_pre17_s_dict = dm.get_data_dict(wsp4_eib_pre17_s)\n",
    "#merge dictionaries\n",
    "wsp4_eib_pre17_s_dict = dm.merge_dicts(returns,wsp4_eib_pre17_s_dict)"
   ]
  },
  {
   "cell_type": "markdown",
   "id": "bcbb392e",
   "metadata": {},
   "source": [
    "## Display Historical Performance"
   ]
  },
  {
   "cell_type": "code",
   "execution_count": null,
   "id": "ff42038e",
   "metadata": {},
   "outputs": [],
   "source": [
    "@interact\n",
    "def display_performance():\n",
    "    fig = go.Figure()\n",
    "    for strat in wsp4_eib_pre17_s.columns:\n",
    "        fig.add_trace(go.Scatter(x = pd.to_datetime(wsp4_eib_pre17_s.index, format = '%m/%d/%Y'),\n",
    "                                 y = wsp4_eib_pre17_s[strat],mode = 'lines',name = strat))\n",
    "    fig.update_layout(showlegend=True,plot_bgcolor='White')\n",
    "    fig.update_xaxes(showline=True,linecolor='black')\n",
    "    fig.update_yaxes(showline=True,linecolor='black')\n",
    "    fig.show()"
   ]
  },
  {
   "cell_type": "markdown",
   "id": "952812ce",
   "metadata": {},
   "source": [
    "## Compute and Display Correlations"
   ]
  },
  {
   "cell_type": "code",
   "execution_count": null,
   "id": "79109f8a",
   "metadata": {},
   "outputs": [],
   "source": [
    "wsp4_eib_pre17_s_corr_dict = summary.get_corr_data(wsp4_eib_pre17_s_dict)\n",
    "@interact\n",
    "def display_correlations(frequency=corr_freq_list,\n",
    "                         corr=['full', 'equity_down', 'equity_up'], plot_type=['heatmap', 'corrplot']):\n",
    "    data = wsp4_eib_pre17_s_corr_dict[frequency]\n",
    "    corr_df = data[False][corr][0]\n",
    "    if plot_type == 'heatmap':\n",
    "        return plots.draw_heatmap(corr_df, half=False)\n",
    "    else:\n",
    "        return plots.draw_corrplot(corr_df)"
   ]
  },
  {
   "cell_type": "markdown",
   "id": "ceb06155",
   "metadata": {},
   "source": [
    "## Compute and Display Analytics (Return Stats and Hedge Metrics)"
   ]
  },
  {
   "cell_type": "code",
   "execution_count": null,
   "id": "4412d129",
   "metadata": {},
   "outputs": [],
   "source": [
    "wsp4_eib_pre17_s_analytics_dict = summary.get_analytics_data(wsp4_eib_pre17_s_dict)\n",
    "@interact\n",
    "def display_analytics(frequency=analytics_freq_list, stats=['return_stats', 'hedge_metrics']):\n",
    "    data = wsp4_eib_pre17_s_analytics_dict[frequency]\n",
    "    analytics = data[False]\n",
    "    if stats == 'return_stats':\n",
    "        return fmt.get_analytics_styler(analytics)\n",
    "    if stats == 'hedge_metrics':\n",
    "        if frequency == 'Weekly':\n",
    "            return fmt.get_analytics_styler(analytics, stats, '1W')\n",
    "        else:\n",
    "            return fmt.get_analytics_styler(analytics, stats)"
   ]
  },
  {
   "cell_type": "markdown",
   "id": "6c13dd0b",
   "metadata": {},
   "source": [
    "## Compute and Display Historical Selloffs"
   ]
  },
  {
   "cell_type": "code",
   "execution_count": null,
   "id": "eae63615",
   "metadata": {},
   "outputs": [],
   "source": [
    "wsp4_eib_pre17_s_hist_dict = summary.get_hist_data(wsp4_eib_pre17_s_dict)\n",
    "@interact\n",
    "def display_selloffs():\n",
    "    df_hist = wsp4_eib_pre17_s_hist_dict[False]\n",
    "    return fmt.get_hist_styler(df_hist)"
   ]
  },
  {
   "cell_type": "markdown",
   "id": "fd2d66dd",
   "metadata": {},
   "source": [
    "# Create Report\n",
    "\n",
    "Run this code below to export analysis into excel spreadsheet\n",
    "* **strat_report (string)**: provide a name for the excel file\n",
    "* **selloffs (boolean)**:\n",
    "    * **True**: if you want historical selloff data in the spreadsheet\n",
    "    * **False**: if you do not want historical selloff data in the spreadsheet"
   ]
  },
  {
   "cell_type": "code",
   "execution_count": null,
   "id": "9637c5b9",
   "metadata": {},
   "outputs": [],
   "source": [
    "strats_dict = {'trp':trp_dict,'wsp4_eib':wsp4_eib_dict,'wsp4_eib_s':wsp4_eib_s_dict,'dsp4_eib':dsp4_eib_dict,\n",
    "               'dsp4_eib_s':dsp4_eib_s_dict,'wsp4_eib_pre17':wsp4_eib_pre17_dict,'wsp4_eib_pre17_s':wsp4_eib_pre17_s_dict}\n",
    "selloffs = True\n",
    "for key in strats_dict:\n",
    "    rp.generate_strat_report(key, strats_dict[key], selloffs)"
   ]
  },
  {
   "cell_type": "code",
   "execution_count": null,
   "id": "7321f528",
   "metadata": {},
   "outputs": [],
   "source": []
  }
 ],
 "metadata": {
  "kernelspec": {
   "display_name": "Python 3",
   "language": "python",
   "name": "python3"
  },
  "language_info": {
   "codemirror_mode": {
    "name": "ipython",
    "version": 3
   },
   "file_extension": ".py",
   "mimetype": "text/x-python",
   "name": "python",
   "nbconvert_exporter": "python",
   "pygments_lexer": "ipython3",
   "version": "3.7.10"
  },
  "varInspector": {
   "cols": {
    "lenName": 16,
    "lenType": 16,
    "lenVar": 40
   },
   "kernels_config": {
    "python": {
     "delete_cmd_postfix": "",
     "delete_cmd_prefix": "del ",
     "library": "var_list.py",
     "varRefreshCmd": "print(var_dic_list())"
    },
    "r": {
     "delete_cmd_postfix": ") ",
     "delete_cmd_prefix": "rm(",
     "library": "var_list.r",
     "varRefreshCmd": "cat(var_dic_list()) "
    }
   },
   "types_to_exclude": [
    "module",
    "function",
    "builtin_function_or_method",
    "instance",
    "_Feature"
   ],
   "window_display": false
  }
 },
 "nbformat": 4,
 "nbformat_minor": 5
}
