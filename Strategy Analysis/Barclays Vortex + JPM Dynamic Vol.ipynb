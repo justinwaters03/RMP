{
 "cells": [
  {
   "cell_type": "markdown",
   "id": "c8efc831",
   "metadata": {},
   "source": [
    "# Barclays Vortex Analysis - Roll Dates and VIX Delta Profit signal\n",
    "\n",
    "* **Fixed Parameters:**\n",
    "    * Short SPX Put Strikes: 30, 25 & 20\n",
    "    * Long SPX Put Strikes: 5\n",
    "    * VIX Call Strikes: 25\n",
    "    * Roll Frequency: Weekly\n",
    "* **Varying Parameters:**\n",
    "    * Early Roll Dates: 4 weeks, 3 weeks, 2 weeks, 1 week\n",
    "    * Max VIX Delta: 75%, 80%, 85%, 90%"
   ]
  },
  {
   "cell_type": "markdown",
   "id": "9b9a2a56",
   "metadata": {},
   "source": [
    "## Import Libraries"
   ]
  },
  {
   "cell_type": "code",
   "execution_count": null,
   "id": "b5afcd8f",
   "metadata": {},
   "outputs": [],
   "source": [
    "import os\n",
    "os.chdir('..')\n",
    "\n",
    "import plotly.express as px\n",
    "from EquityHedging.datamanager import data_manager as dm\n",
    "from EquityHedging.analytics import summary, util\n",
    "from EquityHedging.reporting.excel import reports as rp\n",
    "from EquityHedging.reporting import formatter as fmt, plots\n",
    "from ipywidgets import interact, interact_manual\n",
    "import pandas as pd\n",
    "import plotly.graph_objects as go\n"
   ]
  },
  {
   "cell_type": "markdown",
   "id": "a344d57a",
   "metadata": {},
   "source": [
    "## Import Equity Benchmark & Vortex Data"
   ]
  },
  {
   "cell_type": "code",
   "execution_count": null,
   "id": "d12c51fd",
   "metadata": {},
   "outputs": [],
   "source": [
    "equity_bmk = 'SPTR'\n",
    "strat_drop_list = ['99%/90% Put Spread','Down Var', 'VOLA', 'Dynamic Put Spread', 'VRR',\n",
    "       'GW Dispersion', 'Corr Hedge', 'Def Var']\n",
    "include_fi = False\n",
    "#create returns data dictionary for equity benchmark\n",
    "returns= dm.get_equity_hedge_returns(equity_bmk, include_fi, strat_drop_list)"
   ]
  },
  {
   "cell_type": "markdown",
   "id": "6987c181",
   "metadata": {},
   "source": [
    "## Import Barclays data"
   ]
  },
  {
   "cell_type": "code",
   "execution_count": null,
   "id": "93114651",
   "metadata": {},
   "outputs": [],
   "source": [
    "full_data= pd.read_excel(dm.NEW_DATA+'early_roll_vix_profit_data.xlsx',\n",
    "                                           sheet_name = 'All', index_col=0)\n",
    "\n",
    "@interact\n",
    "def display_performance():\n",
    "    fig = go.Figure()\n",
    "    for strat in full_data.columns:\n",
    "        fig.add_trace(go.Scatter(x = pd.to_datetime(full_data.index, format = '%m/%d/%Y'),\n",
    "                                 y = full_data[strat],mode = 'lines',name = strat))\n",
    "    fig.update_layout(showlegend=True,plot_bgcolor='White')\n",
    "    fig.update_xaxes(showline=True,linecolor='black')\n",
    "    fig.update_yaxes(showline=True,linecolor='black')\n",
    "    fig.show()"
   ]
  },
  {
   "cell_type": "markdown",
   "id": "261510a4",
   "metadata": {},
   "source": [
    "## Compute Analytics (Return Stats and Hedge Metrics)"
   ]
  },
  {
   "cell_type": "code",
   "execution_count": null,
   "id": "9f8548f4",
   "metadata": {},
   "outputs": [],
   "source": [
    "#create returns data dictionary for strategy\n",
    "full_data_dict = dm.get_data_dict(full_data)\n",
    "\n",
    "#merge dictionaries\n",
    "full_data_dict = dm.merge_dicts(returns,full_data_dict)\n",
    "\n",
    "#compute analytics\n",
    "analytics_freq_list = ['Weekly', 'Monthly']\n",
    "full_data_analytics_dict = summary.get_analytics_data(full_data_dict)"
   ]
  },
  {
   "cell_type": "markdown",
   "id": "83bb6f8e",
   "metadata": {},
   "source": [
    "## Display Analytics"
   ]
  },
  {
   "cell_type": "code",
   "execution_count": null,
   "id": "cdd4434f",
   "metadata": {},
   "outputs": [],
   "source": [
    "@interact\n",
    "def display_analytics(frequency=analytics_freq_list, stats=['return_stats', 'hedge_metrics']):\n",
    "    data = full_data_analytics_dict[frequency]\n",
    "    analytics = data[False]\n",
    "    if stats == 'return_stats':\n",
    "        return fmt.get_analytics_styler(analytics)\n",
    "    if stats == 'hedge_metrics':\n",
    "        if frequency == 'Weekly':\n",
    "            return fmt.get_analytics_styler(analytics, stats, '1W')\n",
    "        else:\n",
    "            return fmt.get_analytics_styler(analytics, stats)"
   ]
  },
  {
   "cell_type": "markdown",
   "id": "6af8046d",
   "metadata": {},
   "source": [
    "## Compute Historical Selloffs"
   ]
  },
  {
   "cell_type": "code",
   "execution_count": null,
   "id": "60ad2eeb",
   "metadata": {},
   "outputs": [],
   "source": [
    "full_data_hist_dict = summary.get_hist_data(full_data_dict)"
   ]
  },
  {
   "cell_type": "markdown",
   "id": "daeda6e6",
   "metadata": {},
   "source": [
    "## Display Historical Selloffs"
   ]
  },
  {
   "cell_type": "code",
   "execution_count": null,
   "id": "be7c7ef3",
   "metadata": {},
   "outputs": [],
   "source": [
    "@interact\n",
    "def display_selloffs():\n",
    "    df_hist = full_data_hist_dict[False]\n",
    "    return fmt.get_hist_styler(df_hist)"
   ]
  },
  {
   "cell_type": "markdown",
   "id": "2da1176c",
   "metadata": {},
   "source": [
    "## Create Report"
   ]
  },
  {
   "cell_type": "code",
   "execution_count": null,
   "id": "3f424c4f",
   "metadata": {},
   "outputs": [],
   "source": [
    "strat_report = 'early_roll_vix_profit_data_analysis'\n",
    "selloffs = True\n",
    "rp.generate_strat_report(strat_report, full_data_dict, selloffs)"
   ]
  },
  {
   "cell_type": "markdown",
   "id": "6c7991c8",
   "metadata": {},
   "source": [
    "# JPM Dynamic Vol Analysis"
   ]
  },
  {
   "cell_type": "markdown",
   "id": "b11acacc",
   "metadata": {},
   "source": [
    "## Import & Display JPM data"
   ]
  },
  {
   "cell_type": "code",
   "execution_count": null,
   "id": "f346499c",
   "metadata": {},
   "outputs": [],
   "source": [
    "jpm_data= pd.read_excel(dm.NEW_DATA+'jpm_dyvc.xlsx',\n",
    "                                           sheet_name = 'data', index_col=0)\n",
    "\n",
    "@interact\n",
    "def display_performance():\n",
    "    fig = go.Figure()\n",
    "    for strat in jpm_data.columns:\n",
    "        fig.add_trace(go.Scatter(x = pd.to_datetime(jpm_data.index, format = '%m/%d/%Y'),\n",
    "                                 y = jpm_data[strat],mode = 'lines',name = strat))\n",
    "    fig.update_layout(showlegend=True,plot_bgcolor='White')\n",
    "    fig.update_xaxes(showline=True,linecolor='black')\n",
    "    fig.update_yaxes(showline=True,linecolor='black')\n",
    "    fig.show()"
   ]
  },
  {
   "cell_type": "markdown",
   "id": "a9f4f10f",
   "metadata": {},
   "source": [
    "## Compute Analytics (Return Stats and Hedge Metrics)"
   ]
  },
  {
   "cell_type": "code",
   "execution_count": null,
   "id": "2cb4b7ed",
   "metadata": {},
   "outputs": [],
   "source": [
    "#create returns data dictionary for strategy\n",
    "jpm_data_dict = dm.get_data_dict(jpm_data)\n",
    "\n",
    "#merge dictionaries\n",
    "jpm_data_dict = dm.merge_dicts(returns,jpm_data_dict)\n",
    "\n",
    "#compute analytics\n",
    "analytics_freq_list = ['Weekly', 'Monthly']\n",
    "jpm_data_analytics_dict = summary.get_analytics_data(jpm_data_dict)"
   ]
  },
  {
   "cell_type": "markdown",
   "id": "641a00d2",
   "metadata": {},
   "source": [
    "## Display Analytics"
   ]
  },
  {
   "cell_type": "code",
   "execution_count": null,
   "id": "05a87852",
   "metadata": {},
   "outputs": [],
   "source": [
    "@interact\n",
    "def display_analytics(frequency=analytics_freq_list, stats=['return_stats', 'hedge_metrics']):\n",
    "    data = jpm_data_analytics_dict[frequency]\n",
    "    analytics = data[False]\n",
    "    if stats == 'return_stats':\n",
    "        return fmt.get_analytics_styler(analytics)\n",
    "    if stats == 'hedge_metrics':\n",
    "        if frequency == 'Weekly':\n",
    "            return fmt.get_analytics_styler(analytics, stats, '1W')\n",
    "        else:\n",
    "            return fmt.get_analytics_styler(analytics, stats)"
   ]
  },
  {
   "cell_type": "markdown",
   "id": "e65e96b9",
   "metadata": {},
   "source": [
    "## Compute Historical Selloffs"
   ]
  },
  {
   "cell_type": "code",
   "execution_count": null,
   "id": "d3108872",
   "metadata": {},
   "outputs": [],
   "source": [
    "jpm_data_hist_dict = summary.get_hist_data(jpm_data_dict)"
   ]
  },
  {
   "cell_type": "markdown",
   "id": "dc0cfa4c",
   "metadata": {},
   "source": [
    "## Display Historical Selloffs"
   ]
  },
  {
   "cell_type": "code",
   "execution_count": null,
   "id": "9a6824e3",
   "metadata": {},
   "outputs": [],
   "source": [
    "@interact\n",
    "def display_selloffs():\n",
    "    df_hist = jpm_data_hist_dict[False]\n",
    "    return fmt.get_hist_styler(df_hist)"
   ]
  },
  {
   "cell_type": "markdown",
   "id": "48412f05",
   "metadata": {},
   "source": [
    "## Compare Barcalys Vortex vs JPM Dynamic Vol"
   ]
  },
  {
   "cell_type": "code",
   "execution_count": null,
   "id": "8a8dd691",
   "metadata": {},
   "outputs": [],
   "source": [
    "barclays_df = full_data[['2W + 90% Profit']]\n",
    "jpm_df = jpm_data[['JPOSDYVC', 'DYVC_2M_100-95PS','DYVC 1M', 'DYVC 1M 100-95 PS']]\n",
    "comp_df = dm.merge_data_frames(barclays_df,jpm_df)\n",
    "comp_dict = dm.get_data_dict(comp_df)\n",
    "comp_dict = dm.merge_dicts(returns, comp_dict)\n",
    "corr_freq_list = ['Weekly', 'Monthly']\n",
    "corr_dict = summary.get_corr_data(comp_dict)"
   ]
  },
  {
   "cell_type": "code",
   "execution_count": null,
   "id": "8d50e2c9",
   "metadata": {},
   "outputs": [],
   "source": [
    "@interact\n",
    "def display_correlations(frequency=corr_freq_list,\n",
    "                         corr=['full', 'equity_down', 'equity_up'], plot_type=['heatmap', 'corrplot']):\n",
    "    data = corr_dict[frequency]\n",
    "    corr_df = data[False][corr][0]\n",
    "    if plot_type == 'heatmap':\n",
    "        return plots.draw_heatmap(corr_df, half=False)\n",
    "    else:\n",
    "        return plots.draw_corrplot(corr_df)"
   ]
  },
  {
   "cell_type": "markdown",
   "id": "1a9b4bfb",
   "metadata": {},
   "source": [
    "# Equity Hedging Analysis\n",
    "## Comparing with overal equity portfolio"
   ]
  },
  {
   "cell_type": "markdown",
   "id": "b194d86c",
   "metadata": {},
   "source": [
    "## Import returns data\n",
    "\n",
    "### Imports Daily, Weekly, Monthly, Quarterly and Yearly returns data\n",
    "\n",
    "To import the returns data:\n",
    "* Select an Equity Benchmark (**equity_bmk**) - SPTR, M1WD, SX5T\n",
    "* Decide if you want a Fixed Income Benchmark (**include_fi**) - True, False\n",
    "* Select what equity hedging strategies to exclude (**strat_drop_list**). Below is the list of strategies:\n",
    "\n",
    "    * 99%/90% Put Spread, Down Var, Vortex, VOLA , Dynamic Put Spread, VRR, GW Dispersion, Corr Hedge"
   ]
  },
  {
   "cell_type": "code",
   "execution_count": null,
   "id": "ec1c9954",
   "metadata": {},
   "outputs": [],
   "source": [
    "equity_bmk = 'SPTR'\n",
    "include_fi = False\n",
    "strat_drop_list = ['Vortex','99%/90% Put Spread']\n",
    "returns = dm.get_equity_hedge_returns(equity_bmk, include_fi, strat_drop_list)"
   ]
  },
  {
   "cell_type": "markdown",
   "id": "d7d09766",
   "metadata": {},
   "source": [
    "## Add 2W + 85% Profit strategy"
   ]
  },
  {
   "cell_type": "code",
   "execution_count": null,
   "id": "56563606",
   "metadata": {},
   "outputs": [],
   "source": [
    "new_strategy = full_data[['2W + 85% Profit']]\n",
    "new_strategy_dict = dm.get_data_dict(new_strategy, data_type = 'index')\n",
    "returns = dm.merge_dicts(returns, new_strategy_dict)\n",
    "new_strat=True\n",
    "weighted = [True, False]"
   ]
  },
  {
   "cell_type": "markdown",
   "id": "209be73c",
   "metadata": {},
   "source": [
    "## Get and display Notional Weights"
   ]
  },
  {
   "cell_type": "code",
   "execution_count": null,
   "id": "cb32d9b7",
   "metadata": {},
   "outputs": [],
   "source": [
    "notional_weights = [19,1,1.25,1,1,1,.25,1,.5]\n",
    "df_weights = util.get_df_weights(notional_weights, list(returns['Monthly'].columns), include_fi)\n",
    "fmt.get_notional_styler(df_weights)"
   ]
  },
  {
   "cell_type": "markdown",
   "id": "9d44c7a1",
   "metadata": {},
   "source": [
    "## Compute Correlations"
   ]
  },
  {
   "cell_type": "code",
   "execution_count": null,
   "id": "e779a861",
   "metadata": {},
   "outputs": [],
   "source": [
    "corr_freq_list = ['Weekly', 'Monthly']\n",
    "corr_dict_1 = summary.get_corr_data(returns)"
   ]
  },
  {
   "cell_type": "markdown",
   "id": "a73cf507",
   "metadata": {},
   "source": [
    "## Display Correlations"
   ]
  },
  {
   "cell_type": "code",
   "execution_count": null,
   "id": "70c4d212",
   "metadata": {},
   "outputs": [],
   "source": [
    "@interact\n",
    "def display_correlations(frequency=corr_freq_list,\n",
    "                         corr=['full', 'equity_down', 'equity_up'], plot_type=['heatmap', 'corrplot']):\n",
    "    data = corr_dict_1[frequency]\n",
    "    corr_df = data[False][corr][0]\n",
    "    if plot_type == 'heatmap':\n",
    "        return plots.draw_heatmap(corr_df, half=False)\n",
    "    else:\n",
    "        return plots.draw_corrplot(corr_df)"
   ]
  },
  {
   "cell_type": "markdown",
   "id": "27501d42",
   "metadata": {},
   "source": [
    "## Compute Analytics (Return Stats and Hedge Metrics)"
   ]
  },
  {
   "cell_type": "code",
   "execution_count": null,
   "id": "94586f33",
   "metadata": {},
   "outputs": [],
   "source": [
    "analytics_freq_list = ['Weekly', 'Monthly']\n",
    "analytics_dict = summary.get_analytics_data(returns,analytics_freq_list,weighted,notional_weights,include_fi,new_strat)"
   ]
  },
  {
   "cell_type": "markdown",
   "id": "2e5df08c",
   "metadata": {},
   "source": [
    "## Display Analytics"
   ]
  },
  {
   "cell_type": "code",
   "execution_count": null,
   "id": "f532454e",
   "metadata": {},
   "outputs": [],
   "source": [
    "@interact\n",
    "def display_analytics(frequency=analytics_freq_list, weighted=weighted, stats=['return_stats', 'hedge_metrics']):\n",
    "    data = analytics_dict[frequency]\n",
    "    analytics = data[weighted]\n",
    "    if stats == 'return_stats':\n",
    "        return fmt.get_analytics_styler(analytics)\n",
    "    if stats == 'hedge_metrics':\n",
    "        if frequency == 'Weekly':\n",
    "            return fmt.get_analytics_styler(analytics, stats, '1W')\n",
    "        else:\n",
    "            return fmt.get_analytics_styler(analytics, stats)"
   ]
  },
  {
   "cell_type": "markdown",
   "id": "6d07b26c",
   "metadata": {},
   "source": [
    "## Compute Historical Selloffs"
   ]
  },
  {
   "cell_type": "code",
   "execution_count": null,
   "id": "13c85398",
   "metadata": {},
   "outputs": [],
   "source": [
    "hist_dict = summary.get_hist_data(returns,notional_weights=notional_weights, weighted=weighted)"
   ]
  },
  {
   "cell_type": "markdown",
   "id": "1026fa67",
   "metadata": {},
   "source": [
    "## Display Historical Selloffs"
   ]
  },
  {
   "cell_type": "code",
   "execution_count": null,
   "id": "7491d12f",
   "metadata": {},
   "outputs": [],
   "source": [
    "@interact\n",
    "def display_selloffs(weighted=weighted):\n",
    "    df_hist = hist_dict[weighted]\n",
    "    return fmt.get_hist_styler(df_hist)"
   ]
  },
  {
   "cell_type": "markdown",
   "id": "e4b00782",
   "metadata": {},
   "source": [
    "## Compute Quintile or Decile Analysis"
   ]
  },
  {
   "cell_type": "code",
   "execution_count": null,
   "id": "8e553610",
   "metadata": {},
   "outputs": [],
   "source": [
    "group_list=['Quintile','Decile']\n",
    "@interact\n",
    "def display_returns(group = group_list):\n",
    "    quintile_df = summary.get_grouped_data(returns, group = group)\n",
    "    return(quintile_df.style.format(\"{:.2%}\"))"
   ]
  },
  {
   "cell_type": "markdown",
   "id": "e0f27caa",
   "metadata": {},
   "source": [
    "## Display Quintile or Decile Analysis"
   ]
  },
  {
   "cell_type": "code",
   "execution_count": null,
   "id": "b431e87c",
   "metadata": {},
   "outputs": [],
   "source": [
    "@interact\n",
    "def display_quintile_analysis(group = ['Quintile','Decile'], strat=list(returns['Monthly'].select_dtypes('float').columns)[1:]):    \n",
    "    df = summary.get_grouped_data(returns, group = group)\n",
    "    \n",
    "    for col in df.columns:\n",
    "        df[col] *= 100\n",
    "        if not (col == equity_bmk or col ==strat):\n",
    "            df.drop([col], axis=1, inplace=True)\n",
    "    if group == \"Quintile\":\n",
    "        title ='Quintile Analysis'\n",
    "    else:\n",
    "        title = 'Decile Analysis'\n",
    "        \n",
    "    fig = px.bar(df,barmode='group',title = title)\n",
    "    fig.update_layout(\n",
    "        title = {'text':\"<b>{}</b>\".format(title),'y':0.95,'x':0.5,'xanchor': 'center','yanchor': 'top'},\n",
    "        title_font_family = \"Calibri\",\n",
    "        titlefont = {\"size\":24},\n",
    "        xaxis = dict(tickfont = dict(size=12)),\n",
    "        yaxis = dict(ticksuffix=\"%\"),\n",
    "        legend_title=\"Strategies\",\n",
    "        plot_bgcolor='White'\n",
    "    )\n",
    "    fig.update_xaxes(title_font_family = \"Calibri\",title_text = \"<b>SPTR Monthly Returns Ranking</b>\",\n",
    "        title_font = {\"size\": 20},showline=False,linewidth=2,linecolor='black',mirror=False)\n",
    "    fig.update_yaxes(title_font_family = \"Calibri\",title_text = \"<b></b>\",title_font = {\"size\": 20},\n",
    "        showline=True,linewidth=1,linecolor='black',mirror=False)\n",
    "    fig.show()"
   ]
  },
  {
   "cell_type": "markdown",
   "id": "ab7a6a8a",
   "metadata": {},
   "source": [
    "## Create Report"
   ]
  },
  {
   "cell_type": "code",
   "execution_count": null,
   "id": "48470508",
   "metadata": {},
   "outputs": [],
   "source": [
    "equity_hedge_report = 'equity_hedge_analysis_barclays'\n",
    "selloffs = True\n",
    "rp.get_equity_hedge_report(equity_hedge_report, returns, notional_weights, include_fi, new_strat, weighted[0], selloffs)"
   ]
  }
 ],
 "metadata": {
  "kernelspec": {
   "display_name": "Python 3",
   "language": "python",
   "name": "python3"
  },
  "language_info": {
   "codemirror_mode": {
    "name": "ipython",
    "version": 3
   },
   "file_extension": ".py",
   "mimetype": "text/x-python",
   "name": "python",
   "nbconvert_exporter": "python",
   "pygments_lexer": "ipython3",
   "version": "3.7.10"
  },
  "varInspector": {
   "cols": {
    "lenName": 16,
    "lenType": 16,
    "lenVar": 40
   },
   "kernels_config": {
    "python": {
     "delete_cmd_postfix": "",
     "delete_cmd_prefix": "del ",
     "library": "var_list.py",
     "varRefreshCmd": "print(var_dic_list())"
    },
    "r": {
     "delete_cmd_postfix": ") ",
     "delete_cmd_prefix": "rm(",
     "library": "var_list.r",
     "varRefreshCmd": "cat(var_dic_list()) "
    }
   },
   "types_to_exclude": [
    "module",
    "function",
    "builtin_function_or_method",
    "instance",
    "_Feature"
   ],
   "window_display": false
  }
 },
 "nbformat": 4,
 "nbformat_minor": 5
}
