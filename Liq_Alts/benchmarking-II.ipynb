{
 "cells": [
  {
   "cell_type": "markdown",
   "id": "b8dc8f15",
   "metadata": {},
   "source": [
    "# Benchmarking"
   ]
  },
  {
   "cell_type": "markdown",
   "id": "af89cb02",
   "metadata": {},
   "source": [
    "## Import Libraries"
   ]
  },
  {
   "cell_type": "code",
   "execution_count": null,
   "id": "6c69c8b6",
   "metadata": {},
   "outputs": [],
   "source": [
    "import os\n",
    "os.chdir('..')\n",
    "\n",
    "from ipywidgets import interact, interact_manual\n",
    "import pandas as pd\n",
    "import numpy as np\n",
    "from EquityHedging.datamanager import data_manager as dm\n",
    "from EquityHedging.reporting import formatter as fmt, plots\n",
    "import statsmodels.api as sm"
   ]
  },
  {
   "cell_type": "markdown",
   "id": "70cecfef",
   "metadata": {},
   "source": [
    "## Import bmk data"
   ]
  },
  {
   "cell_type": "code",
   "execution_count": null,
   "id": "7ed2423e",
   "metadata": {},
   "outputs": [],
   "source": [
    "bmk_df = pd.read_excel(dm.RETURNS_DATA_FP + 'liq_alts\\\\bmk_data.xlsx', sheet_name='data_m', index_col=0)\n",
    "bmk_df = bmk_df[['HFRXM Index','HFRIMI Index',\n",
    "                 'SGSLRPEW Index', 'SGSLRPWH Index', 'SGIXTFXA Index', 'NEIXCTAT Index',\n",
    "                 'HFRXAR Index', 'HFRXEH Index', 'HFRXEW Index', 'HFRXED Index',\n",
    "                 'HFRXCA Index', 'HFRXEMC Index', 'HFRXCOM Index',\n",
    "                 'SECTGLMA Index', 'SECTNEUT Index','SECTMSTR Index',\n",
    "                 'HEDGGLMA Index', 'HEDGNAV Index','HEDGNEUT Index','HEDGCONV Index',\n",
    "                 'CSLAB Index', 'CSLABED Index', 'CSLABGS Index', 'CSLABMF Index',\n",
    "                 'CSLABT15 Index', 'CSLABT18 Index', 'CSLABT20 Index']]\n",
    "#rename columns\n",
    "bmk_df.columns = ['HFRX Macro/CTA', 'HFRI Macro Total Index',\n",
    "                  'Eqty Risk Prem', 'Eqty Risk Prem-Hedged','SGI Cross Asset Trend', 'SG Trend Index',\n",
    "                  'HFRX Abs Ret', 'HFRX Eqty Hedge', 'HFRX Equal Wgtd', 'HFRX Event Driven',\n",
    "                  'HFRX RV FI Conv Arb', 'HFRX EM', 'HFRX Macro Comdty',\n",
    "                  'CS AllHedge Global Macro', 'CS AllHedge Eqty Mkt Neutral','CS AllHedge Multi_Strat',\n",
    "                  'CS Global Macro', 'CS Hedge Fund', 'CS Eqty Mkt Neutral', 'CS Conv Arb',\n",
    "                 'CS Liq Alt Beta', 'CS Event Driven', 'CS Global Strat', 'CS Managed Fut',\n",
    "                 'CS Managed Fut-15% vol','CS Managed Fut-18% vol', 'CS Managed Fut-20% vol']\n",
    "\n",
    "#format data to returns\n",
    "bmk_df = dm.format_data(bmk_df)"
   ]
  },
  {
   "cell_type": "markdown",
   "id": "768ca989",
   "metadata": {},
   "source": [
    "## Create bmk_dict"
   ]
  },
  {
   "cell_type": "code",
   "execution_count": null,
   "id": "22824075",
   "metadata": {},
   "outputs": [],
   "source": [
    "#group indicies into sub portfolios\n",
    "sp_ind_dict = {'Global Macro':['HFRX Macro/CTA', 'HFRI Macro Total Index','CS Global Macro'],\n",
    "            'Absolute Return':['HFRX Abs Ret', 'HFRX Equal Wgtd'],\n",
    "                'Trend Following':['SGI Cross Asset Trend', 'SG Trend Index','CS Managed Fut-18% vol']}\n",
    "#create bmk_dict with sub portfolios as keys\n",
    "bmk_dict = {}\n",
    "for key in sp_ind_dict:\n",
    "    bmk_dict[key] = bmk_df[sp_ind_dict[key]].copy()"
   ]
  },
  {
   "cell_type": "markdown",
   "id": "4fb60001",
   "metadata": {},
   "source": [
    "## Display bmk returns"
   ]
  },
  {
   "cell_type": "code",
   "execution_count": null,
   "id": "4bdf7847",
   "metadata": {},
   "outputs": [],
   "source": [
    "@interact\n",
    "def display_bmk_returns(sub_port=bmk_dict.keys()):\n",
    "    return fmt.get_returns_styler(bmk_dict[sub_port])"
   ]
  },
  {
   "cell_type": "markdown",
   "id": "2bcea66d",
   "metadata": {},
   "source": [
    "## Import liq bmk data"
   ]
  },
  {
   "cell_type": "code",
   "execution_count": null,
   "id": "c5c54cdc",
   "metadata": {},
   "outputs": [],
   "source": [
    "liq_alts_df = pd.read_excel(dm.RETURNS_DATA_FP + 'liq_alts\\\\mgr_data_m.xlsx', sheet_name='bny',index_col=0)\n",
    "liq_alts_sp = liq_alts_df[['Total Liquid Alts',  'Global Macro',  'Trend Following','Alt Risk Premia']]\n",
    "liq_alts_sp = liq_alts_sp.iloc[52:,]\n",
    "liq_alts_mgr = liq_alts_df[['1907 ARP EM', '1907 ARP TF', '1907 CFM ISE Risk Premia','1907 Campbell TF', '1907 III CV',\n",
    "                            '1907 III Class A', '1907 Kepos RP','1907 Penso Class A', '1907 Systematica TF',\n",
    "                            'ABC Reversion','Acadian Commodity AR', 'Black Pearl RP','Blueshift', 'Bridgewater Alpha',\n",
    "                            'DE Shaw Oculus Fund', 'Duality','Element Capital', 'Elliott', 'One River Trend']]"
   ]
  },
  {
   "cell_type": "markdown",
   "id": "b189bc3c",
   "metadata": {},
   "source": [
    "## Create liq_alts_dict"
   ]
  },
  {
   "cell_type": "code",
   "execution_count": null,
   "id": "be739002",
   "metadata": {},
   "outputs": [],
   "source": [
    "sp_mgr_dict = {'Global Macro':['1907 Penso Class A', 'Bridgewater Alpha','DE Shaw Oculus Fund', 'Element Capital', 'Elliott'],\n",
    "                'Absolute Return':['1907 ARP EM','1907 III Class A', '1907 Kepos RP',\n",
    "                            'ABC Reversion','Blueshift', 'Duality'],\n",
    "                'Trend Following':['1907 ARP TF','1907 Campbell TF', '1907 Systematica TF', 'One River Trend', 'Trend Following']}\n",
    "\n",
    "liq_alts_dict = {}\n",
    "for key in sp_mgr_dict:\n",
    "    liq_alts_dict[key] = liq_alts_df[sp_mgr_dict[key]].copy()\n",
    "    liq_alts_dict[key].dropna(inplace=True)\n",
    "\n",
    "for key in liq_alts_dict:\n",
    "    liq_alts_dict[key][key] = liq_alts_dict[key].sum(axis=1)/len(liq_alts_dict[key].columns)"
   ]
  },
  {
   "cell_type": "markdown",
   "id": "c8d9f7f2",
   "metadata": {},
   "source": [
    "## Display Liq Alts Returns"
   ]
  },
  {
   "cell_type": "code",
   "execution_count": null,
   "id": "c4b89276",
   "metadata": {},
   "outputs": [],
   "source": [
    "@interact\n",
    "def display_liq_alts_returns(sub_port=liq_alts_dict.keys()):\n",
    "    return fmt.get_returns_styler(liq_alts_dict[sub_port])"
   ]
  },
  {
   "cell_type": "markdown",
   "id": "5dce1a35",
   "metadata": {},
   "source": [
    "# Run Multiple Linear Regression"
   ]
  },
  {
   "cell_type": "code",
   "execution_count": null,
   "id": "2d6fbee7",
   "metadata": {},
   "outputs": [],
   "source": [
    "reg_results_dict = {}\n",
    "\n",
    "for key in liq_alts_dict:\n",
    "    temp_liq_alts_df = liq_alts_dict[key].copy()\n",
    "    temp_bmk_df = bmk_dict[key].copy()\n",
    "    sp_results_dict = {}\n",
    "    for col in temp_liq_alts_df.columns:\n",
    "\n",
    "        data = dm.merge_data_frames(temp_liq_alts_df[[col]],temp_bmk_df)\n",
    "        x = data[list(temp_bmk_df.columns)]\n",
    "        x = x.to_numpy()\n",
    "\n",
    "        y = data[[col]].copy()\n",
    "        y.dropna(inplace=True)\n",
    "        y = np.array(list(y[col]))\n",
    "\n",
    "        x, y = np.array(x), np.array(y)\n",
    "        x = sm.add_constant(x)\n",
    "\n",
    "        model = sm.OLS(y, x)\n",
    "        sp_results_dict[col] = model.fit()\n",
    "    reg_results_dict[key] = sp_results_dict"
   ]
  },
  {
   "cell_type": "markdown",
   "id": "15207c53",
   "metadata": {},
   "source": [
    "\n",
    "## Display Global Macro Results"
   ]
  },
  {
   "cell_type": "code",
   "execution_count": null,
   "id": "7b3de319",
   "metadata": {},
   "outputs": [],
   "source": [
    "sp_gm = 'Global Macro'\n",
    "@interact\n",
    "def display_gm_results(manager = reg_results_dict[sp_gm].keys()):\n",
    "    return print(reg_results_dict[sp_gm][manager].summary())"
   ]
  },
  {
   "cell_type": "markdown",
   "id": "fb7f669b",
   "metadata": {},
   "source": [
    "\n",
    "## Display Global Macro Predictor Keys"
   ]
  },
  {
   "cell_type": "code",
   "execution_count": null,
   "id": "1cc8e417",
   "metadata": {},
   "outputs": [],
   "source": [
    "for n in range(len(bmk_dict[sp_gm].columns)):\n",
    "    print('x{}: {}'.format(n+1,bmk_dict[sp_gm].columns[n]))"
   ]
  },
  {
   "cell_type": "markdown",
   "id": "9b9563ee",
   "metadata": {},
   "source": [
    "# Absolute Return\n",
    "## Display Absolute Return Results"
   ]
  },
  {
   "cell_type": "code",
   "execution_count": null,
   "id": "f8ac19e1",
   "metadata": {},
   "outputs": [],
   "source": [
    "sp_ar = 'Absolute Return'\n",
    "@interact\n",
    "def display_ar_results(manager = reg_results_dict[sp_ar].keys()):\n",
    "    return print(reg_results_dict[sp_ar][manager].summary())"
   ]
  },
  {
   "cell_type": "markdown",
   "id": "ebfcfe9e",
   "metadata": {},
   "source": [
    "\n",
    "## Display Predictor Keys"
   ]
  },
  {
   "cell_type": "code",
   "execution_count": null,
   "id": "e8f74e68",
   "metadata": {},
   "outputs": [],
   "source": [
    "for n in range(len(bmk_dict[sp_ar].columns)):\n",
    "    print('x{}: {}'.format(n+1,bmk_dict[sp_ar].columns[n]))"
   ]
  },
  {
   "cell_type": "markdown",
   "id": "8142936c",
   "metadata": {},
   "source": [
    "# Trend Following\n",
    "## Display Trend Following Results"
   ]
  },
  {
   "cell_type": "code",
   "execution_count": null,
   "id": "70a62ad1",
   "metadata": {},
   "outputs": [],
   "source": [
    "sp_tf = 'Trend Following'\n",
    "@interact\n",
    "def display_gm_results(manager = reg_results_dict[sp_tf].keys()):\n",
    "    return print(reg_results_dict[sp_tf][manager].summary())"
   ]
  },
  {
   "cell_type": "markdown",
   "id": "c5758446",
   "metadata": {},
   "source": [
    "\n",
    "## Display Predictor Keys"
   ]
  },
  {
   "cell_type": "code",
   "execution_count": null,
   "id": "9f2c1eca",
   "metadata": {},
   "outputs": [],
   "source": [
    "for n in range(len(bmk_dict[sp_tf].columns)):\n",
    "    print('x{}: {}'.format(n+1,bmk_dict[sp_tf].columns[n]))"
   ]
  },
  {
   "cell_type": "code",
   "execution_count": null,
   "id": "ed49fcd0",
   "metadata": {},
   "outputs": [],
   "source": []
  }
 ],
 "metadata": {
  "kernelspec": {
   "display_name": "Python 3",
   "language": "python",
   "name": "python3"
  },
  "language_info": {
   "codemirror_mode": {
    "name": "ipython",
    "version": 3
   },
   "file_extension": ".py",
   "mimetype": "text/x-python",
   "name": "python",
   "nbconvert_exporter": "python",
   "pygments_lexer": "ipython3",
   "version": "3.8.5"
  },
  "varInspector": {
   "cols": {
    "lenName": 16,
    "lenType": 16,
    "lenVar": 40
   },
   "kernels_config": {
    "python": {
     "delete_cmd_postfix": "",
     "delete_cmd_prefix": "del ",
     "library": "var_list.py",
     "varRefreshCmd": "print(var_dic_list())"
    },
    "r": {
     "delete_cmd_postfix": ") ",
     "delete_cmd_prefix": "rm(",
     "library": "var_list.r",
     "varRefreshCmd": "cat(var_dic_list()) "
    }
   },
   "types_to_exclude": [
    "module",
    "function",
    "builtin_function_or_method",
    "instance",
    "_Feature"
   ],
   "window_display": false
  }
 },
 "nbformat": 4,
 "nbformat_minor": 5
}
