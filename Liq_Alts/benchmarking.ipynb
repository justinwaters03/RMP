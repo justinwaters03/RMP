{
 "cells": [
  {
   "cell_type": "markdown",
   "id": "b8dc8f15",
   "metadata": {},
   "source": [
    "# Benchmarking"
   ]
  },
  {
   "cell_type": "markdown",
   "id": "af89cb02",
   "metadata": {},
   "source": [
    "## Import Libraries"
   ]
  },
  {
   "cell_type": "code",
   "execution_count": null,
   "id": "6c69c8b6",
   "metadata": {},
   "outputs": [],
   "source": [
    "import os\n",
    "os.chdir('..')\n",
    "\n",
    "from ipywidgets import interact, interact_manual\n",
    "import pandas as pd\n",
    "import numpy as np\n",
    "from EquityHedging.datamanager import data_manager as dm\n",
    "from EquityHedging.reporting import formatter as fmt, plots\n",
    "import statsmodels.api as sm"
   ]
  },
  {
   "cell_type": "markdown",
   "id": "70cecfef",
   "metadata": {},
   "source": [
    "## Import bmk data"
   ]
  },
  {
   "cell_type": "code",
   "execution_count": null,
   "id": "7ed2423e",
   "metadata": {},
   "outputs": [],
   "source": [
    "bmk_df = pd.read_excel(dm.RETURNS_DATA_FP + 'liq_alts\\\\bmk_data.xlsx', sheet_name='data_m', index_col=0)\n",
    "bmk_df = bmk_df[['HFRXM Index','HFRIMI Index',\n",
    "                 'SGSLRPEW Index', 'SGSLRPWH Index', 'SGIXTFXA Index', 'NEIXCTAT Index',\n",
    "                 'HFRXAR Index', 'HFRXEH Index', 'HFRXEW Index', 'HFRXED Index',\n",
    "                 'HFRXCA Index', 'HFRXEMC Index', 'HFRXCOM Index',\n",
    "                 'SECTGLMA Index', 'SECTNEUT Index','SECTMSTR Index',\n",
    "                 'HEDGGLMA Index', 'HEDGNAV Index','HEDGNEUT Index','HEDGCONV Index',\n",
    "                 'CSLAB Index', 'CSLABED Index', 'CSLABGS Index', 'CSLABMF Index',\n",
    "                 'CSLABT15 Index', 'CSLABT18 Index', 'CSLABT20 Index']]\n",
    "#rename columns\n",
    "bmk_df.columns = ['HFRX Macro/CTA', 'HFRI Macro Total Index',\n",
    "                  'Eqty Risk Prem', 'Eqty Risk Prem-Hedged','SGI Cross Asset Trend', 'SG Trend Index',\n",
    "                  'HFRX Abs Ret', 'HFRX Eqty Hedge', 'HFRX Equal Wgtd', 'HFRX Event Driven',\n",
    "                  'HFRX RV FI Conv Arb', 'HFRX EM', 'HFRX Macro Comdty',\n",
    "                  'CS AllHedge Global Macro', 'CS AllHedge Eqty Mkt Neutral','CS AllHedge Multi_Strat',\n",
    "                  'CS Global Macro', 'CS Hedge Fund', 'CS Eqty Mkt Neutral', 'CS Conv Arb',\n",
    "                 'CS Liq Alt Beta', 'CS Event Driven', 'CS Global Strat', 'CS Managed Fut',\n",
    "                 'CS Managed Fut-15% vol','CS Managed Fut-18% vol', 'CS Managed Fut-20% vol']\n",
    "\n",
    "#format data to returns\n",
    "bmk_df = dm.format_data(bmk_df)\n"
   ]
  },
  {
   "cell_type": "markdown",
   "id": "4fb60001",
   "metadata": {},
   "source": [
    "## Display bmk Returns"
   ]
  },
  {
   "cell_type": "code",
   "execution_count": null,
   "id": "27209930",
   "metadata": {},
   "outputs": [],
   "source": [
    "fmt.get_returns_styler(bmk_df)"
   ]
  },
  {
   "cell_type": "markdown",
   "id": "2bcea66d",
   "metadata": {},
   "source": [
    "## Import liq bmk data"
   ]
  },
  {
   "cell_type": "code",
   "execution_count": null,
   "id": "c5c54cdc",
   "metadata": {},
   "outputs": [],
   "source": [
    "liq_alts_df = pd.read_excel(dm.RETURNS_DATA_FP + 'liq_alts\\\\mgr_data_m.xlsx', sheet_name='bny',index_col=0)\n",
    "liq_alts_sp = liq_alts_df[['Total Liquid Alts',  'Global Macro',  'Trend Following','Alt Risk Premia']]\n",
    "liq_alts_sp = liq_alts_sp.iloc[52:,]\n",
    "liq_alts_mgr = liq_alts_df[['1907 ARP EM', '1907 ARP TF', '1907 CFM ISE Risk Premia','1907 Campbell TF', '1907 III CV',\n",
    "                            '1907 III Class A', '1907 Kepos RP','1907 Penso Class A', '1907 Systematica TF',\n",
    "                            'ABC Reversion','Acadian Commodity AR', 'Black Pearl RP','Blueshift', 'Bridgewater Alpha',\n",
    "                            'DE Shaw Oculus Fund', 'Duality','Element Capital', 'Elliott', 'One River Trend']]"
   ]
  },
  {
   "cell_type": "markdown",
   "id": "c8d9f7f2",
   "metadata": {},
   "source": [
    "## Display Liq Alts Returns"
   ]
  },
  {
   "cell_type": "code",
   "execution_count": null,
   "id": "6f903d3d",
   "metadata": {},
   "outputs": [],
   "source": [
    "@interact\n",
    "def display_liq_alts_returns(stats=['Sub Portfolios', 'Managers']):\n",
    "    if stats == 'Sub Portfolios':\n",
    "        return fmt.get_returns_styler(liq_alts_sp)\n",
    "    if stats == 'Managers':\n",
    "        return fmt.get_returns_styler(liq_alts_mgr)"
   ]
  },
  {
   "cell_type": "markdown",
   "id": "c73520b6",
   "metadata": {},
   "source": [
    "# Sub Portfolios Regressions\n",
    "## Multiple Linear Regression With statsmodels"
   ]
  },
  {
   "cell_type": "code",
   "execution_count": null,
   "id": "d6f97f19",
   "metadata": {},
   "outputs": [],
   "source": [
    "sp_results_dict = {}\n",
    "\n",
    "for col in liq_alts_sp.columns:\n",
    "    \n",
    "    data = dm.merge_data_frames(liq_alts_sp[[col]].copy(),bmk_df)\n",
    "    x = data[list(bmk_df.columns)].copy()\n",
    "    x = x.to_numpy()\n",
    "   \n",
    "    y = data[[col]].copy()\n",
    "    y.dropna(inplace=True)\n",
    "    y = np.array(list(y[col]))\n",
    "    \n",
    "    x, y = np.array(x), np.array(y)\n",
    "    x = sm.add_constant(x)\n",
    "    \n",
    "    model = sm.OLS(y, x)\n",
    "    sp_results_dict[col] = model.fit()"
   ]
  },
  {
   "cell_type": "markdown",
   "id": "2d4131d5",
   "metadata": {},
   "source": [
    "\n",
    "## Display Regression Results"
   ]
  },
  {
   "cell_type": "code",
   "execution_count": null,
   "id": "19ef00d9",
   "metadata": {},
   "outputs": [],
   "source": [
    "@interact\n",
    "def display_sp_reg_results(sub_portfolio = sp_results_dict.keys()):\n",
    "    return print(sp_results_dict[sub_portfolio].summary())"
   ]
  },
  {
   "cell_type": "markdown",
   "id": "53707529",
   "metadata": {},
   "source": [
    "\n",
    "## Display Predictor Keys"
   ]
  },
  {
   "cell_type": "code",
   "execution_count": null,
   "id": "a8f5d66c",
   "metadata": {},
   "outputs": [],
   "source": [
    "bmk_keys ={}\n",
    "bmk_len = len(bmk_df.columns)\n",
    "for n in range(len(bmk_df.columns)):\n",
    "    print('x{}: {}'.format(n+1,bmk_df.columns[n]))"
   ]
  },
  {
   "cell_type": "markdown",
   "id": "537be258",
   "metadata": {},
   "source": [
    "# Manager Regressions\n",
    "## Multiple Linear Regression With statsmodels"
   ]
  },
  {
   "cell_type": "code",
   "execution_count": null,
   "id": "a3b173f0",
   "metadata": {},
   "outputs": [],
   "source": [
    "mgr_results_dict = {}\n",
    "\n",
    "for col in liq_alts_mgr.columns:\n",
    "    \n",
    "    data = dm.merge_data_frames(liq_alts_mgr[[col]].copy(),bmk_df)\n",
    "    x = data[list(bmk_df.columns)].copy()\n",
    "    x = x.to_numpy()\n",
    "   \n",
    "    y = data[[col]].copy()\n",
    "    y.dropna(inplace=True)\n",
    "    y = np.array(list(y[col]))\n",
    "    \n",
    "    x, y = np.array(x), np.array(y)\n",
    "    x = sm.add_constant(x)\n",
    "    \n",
    "    model = sm.OLS(y, x)\n",
    "    mgr_results_dict[col] = model.fit()"
   ]
  },
  {
   "cell_type": "markdown",
   "id": "49af0d93",
   "metadata": {},
   "source": [
    "\n",
    "## Display Regression Results"
   ]
  },
  {
   "cell_type": "code",
   "execution_count": null,
   "id": "6a476854",
   "metadata": {},
   "outputs": [],
   "source": [
    "@interact\n",
    "def display_mgr_reg_results(manager = mgr_results_dict.keys()):\n",
    "    return print(mgr_results_dict[manager].summary())"
   ]
  },
  {
   "cell_type": "markdown",
   "id": "ddcbcc9c",
   "metadata": {},
   "source": [
    "\n",
    "## Display Predictor Keys"
   ]
  },
  {
   "cell_type": "code",
   "execution_count": null,
   "id": "f611cf81",
   "metadata": {},
   "outputs": [],
   "source": [
    "bmk_keys ={}\n",
    "bmk_len = len(bmk_df.columns)\n",
    "for n in range(len(bmk_df.columns)):\n",
    "    print('x{}: {}'.format(n+1,bmk_df.columns[n]))"
   ]
  }
 ],
 "metadata": {
  "kernelspec": {
   "display_name": "Python 3",
   "language": "python",
   "name": "python3"
  },
  "language_info": {
   "codemirror_mode": {
    "name": "ipython",
    "version": 3
   },
   "file_extension": ".py",
   "mimetype": "text/x-python",
   "name": "python",
   "nbconvert_exporter": "python",
   "pygments_lexer": "ipython3",
   "version": "3.8.5"
  },
  "varInspector": {
   "cols": {
    "lenName": 16,
    "lenType": 16,
    "lenVar": 40
   },
   "kernels_config": {
    "python": {
     "delete_cmd_postfix": "",
     "delete_cmd_prefix": "del ",
     "library": "var_list.py",
     "varRefreshCmd": "print(var_dic_list())"
    },
    "r": {
     "delete_cmd_postfix": ") ",
     "delete_cmd_prefix": "rm(",
     "library": "var_list.r",
     "varRefreshCmd": "cat(var_dic_list()) "
    }
   },
   "types_to_exclude": [
    "module",
    "function",
    "builtin_function_or_method",
    "instance",
    "_Feature"
   ],
   "window_display": false
  }
 },
 "nbformat": 4,
 "nbformat_minor": 5
}
