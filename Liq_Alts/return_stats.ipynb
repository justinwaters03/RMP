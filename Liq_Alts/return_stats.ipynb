{
 "cells": [
  {
   "cell_type": "markdown",
   "id": "b8dc8f15",
   "metadata": {},
   "source": [
    "# Return Stats"
   ]
  },
  {
   "cell_type": "markdown",
   "id": "af89cb02",
   "metadata": {},
   "source": [
    "## Import Libraries"
   ]
  },
  {
   "cell_type": "code",
   "execution_count": null,
   "id": "6c69c8b6",
   "metadata": {},
   "outputs": [],
   "source": [
    "from ipywidgets import interact, interact_manual\n",
    "from EquityHedging.datamanager import data_manager as dm\n",
    "from EquityHedging.analytics import util\n",
    "from EquityHedging.analytics import summary\n",
    "from EquityHedging.analytics import premia_metrics as pm\n",
    "from EquityHedging.analytics import returns_stats as rs\n",
    "from EquityHedging.reporting import formatter as fmt, plots\n",
    "import pandas as pd\n",
    "import plotly.graph_objects as go\n"
   ]
  },
  {
   "cell_type": "markdown",
   "id": "70cecfef",
   "metadata": {},
   "source": [
    "## Import liq alts data\n",
    "\n",
    "### Imports liq alts and bmk weekly data"
   ]
  },
  {
   "cell_type": "code",
   "execution_count": null,
   "id": "7ed2423e",
   "metadata": {},
   "outputs": [],
   "source": [
    "asset_df = pd.read_excel(dm.RETURNS_DATA_FP + 'liq_alts\\\\Historical Returns.xls', sheet_name='Historical Returns')\n",
    "asset_df.columns = ['Name', 'Account Id', 'Return Type', 'Date',\n",
    "       'Market Value', 'Return']\n",
    "asset_ret = asset_df.pivot_table(values='Return', index='Date', columns='Name')\n",
    "asset_ret /= 100\n",
    "eq_fi_df = asset_ret[['Total EQ w/o Derivatives', 'Total Fixed Income']]"
   ]
  },
  {
   "cell_type": "code",
   "execution_count": null,
   "id": "680d062f",
   "metadata": {},
   "outputs": [],
   "source": [
    "bmk_df = pd.read_excel(dm.RETURNS_DATA_FP + 'liq_alts\\\\bmk_data.xlsx', sheet_name='data_m', index_col=0)\n",
    "bmk_df = bmk_df[['SPGSCITR Index', 'HFRXM Index','HFRIMI Index',\n",
    "                 'SGSLRPEW Index', 'SGSLRPWH Index', 'SGIXTFXA Index', 'NEIXCTAT Index',\n",
    "                 'HFRXAR Index', 'HFRXEH Index', 'HFRXEW Index', 'HFRXED Index',\n",
    "                 'HFRXCA Index', 'HFRXEMC Index', 'HFRXCOM Index',\n",
    "                 'SECTGLMA Index', 'SECTNEUT Index','SECTMSTR Index',\n",
    "                 'HEDGGLMA Index', 'HEDGNAV Index','HEDGNEUT Index','HEDGCONV Index',\n",
    "                 'CSLAB Index', 'CSLABED Index', 'CSLABGS Index']]\n",
    "bmk_df.columns = ['S&P GSCI TR', 'HFRX Macro/CTA', 'HFRI Macro Total Index',\n",
    "                  'Eqty Risk Prem', 'Eqty Risk Prem-Hedged','SGI Cross Asset Trend', 'SG Trend Index',\n",
    "                  'HFRX Abs Ret', 'HFRX Eqty Hedge', 'HFRX Equal Wgtd', 'HFRX Event Driven',\n",
    "                  'HFRX RV FI Conv Arb', 'HFRX EM', 'HFRX Macro Comdty',\n",
    "                  'CS AllHedge Global Macro', 'CS AllHedge Eqty Mkt Neutral','CS AllHedge Multi_Strat',\n",
    "                  'CS Global Macro', 'CS Hedge Fund', 'CS Eqty Mkt Neutral', 'CS Conv Arb',\n",
    "                 'CS Liq Alt Beta', 'CS Event Driven', 'CS Global Strat']\n",
    "\n",
    "bmk_df = dm.format_data(bmk_df)"
   ]
  },
  {
   "cell_type": "code",
   "execution_count": null,
   "id": "f66f2c9e",
   "metadata": {},
   "outputs": [],
   "source": [
    "liq_alts_df = pd.read_excel(dm.RETURNS_DATA_FP + 'liq_alts\\\\mgr_data_m.xlsx', sheet_name='bny',index_col=0)\n",
    "liq_alts_sp = liq_alts_df[['Total Liquid Alts',  'Global Macro',  'Trend Following','Alt Risk Premia']]\n",
    "liq_alts_sp = liq_alts_sp.iloc[52:,]\n",
    "liq_alts_mgr = liq_alts_df[['1907 ARP EM', '1907 ARP TF', '1907 CFM ISE Risk Premia','1907 Campbell TF', '1907 III CV',\n",
    "                            '1907 III Class A', '1907 Kepos RP','1907 Penso Class A', '1907 Systematica TF',\n",
    "                            'ABC Reversion','Acadian Commodity AR', 'Black Pearl RP','Blueshift', 'Bridgewater Alpha',\n",
    "                            'DE Shaw Oculus Fund', 'Duality','Element Capital', 'Elliott', 'One River Trend']]"
   ]
  },
  {
   "cell_type": "code",
   "execution_count": null,
   "id": "3d3f0e48",
   "metadata": {},
   "outputs": [],
   "source": [
    "sub_port_list_dict = {'Global Macro': ['1907 Penso Class A', 'Bridgewater Alpha','DE Shaw Oculus Fund',\n",
    "                                       'Element Capital', 'Elliott'], \n",
    "                      'Absolute Return': ['1907 ARP EM', '1907 III CV', '1907 III Class A',\n",
    "                                          'ABC Reversion','Acadian Commodity AR', 'Blueshift', 'Duality'], \n",
    "                      'Trend Following':['1907 ARP TF', '1907 Campbell TF', '1907 Systematica TF', 'One River Trend'], \n",
    "                      'Alt Risk Premia':['1907 CFM ISE Risk Premia','1907 Kepos RP', 'Black Pearl RP']}\n",
    "liq_alts_dict = {}\n",
    "for key in sub_port_list_dict:\n",
    "    temp_df = liq_alts_ret.copy()\n",
    "    liq_alts_dict[key] = temp_df[sub_port_list_dict[key]]\n",
    "    "
   ]
  },
  {
   "cell_type": "code",
   "execution_count": null,
   "id": "c5c54cdc",
   "metadata": {},
   "outputs": [],
   "source": [
    "df_returns = util.get_weighted_hedges(df_returns, notional_weights, include_fi=True, weight_col='Liq Alts Port')\n"
   ]
  },
  {
   "cell_type": "markdown",
   "id": "c8d9f7f2",
   "metadata": {},
   "source": [
    "## Display Returns"
   ]
  },
  {
   "cell_type": "code",
   "execution_count": null,
   "id": "6f903d3d",
   "metadata": {},
   "outputs": [],
   "source": [
    "fmt.get_returns_styler(df_returns)"
   ]
  },
  {
   "cell_type": "markdown",
   "id": "c8098107",
   "metadata": {},
   "source": [
    "## Compute Return Statistics and Premia Metrics"
   ]
  },
  {
   "cell_type": "code",
   "execution_count": null,
   "id": "603cd257",
   "metadata": {},
   "outputs": [],
   "source": [
    "return_stats = rs.get_return_stats(df_returns,freq)\n",
    "premia_metrics = pm.get_premia_metrics(df_returns, freq)\n",
    "analytics_dict = {'return_stats':return_stats, 'premia_metrics':premia_metrics}"
   ]
  },
  {
   "cell_type": "code",
   "execution_count": null,
   "id": "828ae76e",
   "metadata": {},
   "outputs": [],
   "source": [
    "@interact\n",
    "def display_analytics(stats=['return_stats', 'premia_metrics']):\n",
    "    if stats == 'return_stats':\n",
    "        return fmt.get_analytics_styler(analytics_dict)\n",
    "    if stats == 'premia_metrics':\n",
    "        return fmt.get_analytics_styler(analytics_dict, stats)"
   ]
  },
  {
   "cell_type": "markdown",
   "id": "c73520b6",
   "metadata": {},
   "source": [
    "## Get Raw Scores and Normalized Hedge Metrics"
   ]
  },
  {
   "cell_type": "code",
   "execution_count": null,
   "id": "d6f97f19",
   "metadata": {},
   "outputs": [],
   "source": [
    "pm_dict = summary.get_norm_premia_metrics(df_returns)"
   ]
  },
  {
   "cell_type": "markdown",
   "id": "2d4131d5",
   "metadata": {},
   "source": [
    "\n",
    "## Display Data\n",
    "To display data:\n",
    "* Select which statistics you want to view **(stats)** -  Premia Metrics or Normalized Data"
   ]
  },
  {
   "cell_type": "code",
   "execution_count": null,
   "id": "19ef00d9",
   "metadata": {},
   "outputs": [],
   "source": [
    "@interact\n",
    "def display_premia_metrics_or_normal( stats = ['Premia Metrics','Normalized Data']):\n",
    "    if stats == 'Premia Metrics':\n",
    "        return fmt.format_pm_to_normalize(pm_dict[stats])    \n",
    "    else:\n",
    "        return fmt.format_normalized_data(pm_dict[stats])"
   ]
  },
  {
   "cell_type": "markdown",
   "id": "a47d4afe",
   "metadata": {},
   "source": [
    "## Set up data to display"
   ]
  },
  {
   "cell_type": "code",
   "execution_count": null,
   "id": "b52f13a0",
   "metadata": {},
   "outputs": [],
   "source": [
    "df_norm = pm_dict['Normalized Data']\n",
    "df_normal = df_norm.transpose()\n",
    "\n",
    "#assign each strategy a symbol\n",
    "symbols = plots.get_symbols(df_normal, unique=True)\n",
    "color = plots.get_colors(df_normal, grey=False)\n",
    "\n",
    "index = list(df_normal.index)"
   ]
  },
  {
   "cell_type": "markdown",
   "id": "8f035cfc",
   "metadata": {},
   "source": [
    "## Display Ranked Strategies vs Normalized Data"
   ]
  },
  {
   "cell_type": "code",
   "execution_count": null,
   "id": "78b6bf0f",
   "metadata": {},
   "outputs": [],
   "source": [
    "fig = go.Figure()\n",
    "#loops through eaach column and plots each metric for the given strategy\n",
    "for col in df_normal.columns:\n",
    "    fig.add_trace(go.Scatter(\n",
    "        x=index,\n",
    "        y=df_normal[col],\n",
    "        marker=dict(size = 12, color = color[col]),\n",
    "#         marker_symbol = symbols[col],\n",
    "        mode= \"markers\",\n",
    "        name=col\n",
    "        ))\n",
    "fig.update_layout(\n",
    "    title={\n",
    "            'text': \"<b>UPSGT Premia Framework</b>\",\n",
    "            'y':0.9,\n",
    "            'x':0.5,\n",
    "            'xanchor': 'center',\n",
    "            'yanchor': 'top'\n",
    "            },\n",
    "    title_font_family=\"Calibri\",\n",
    "    xaxis = dict(tickfont = dict(size=12)),\n",
    "#     legend_title=\"Strategies\",\n",
    "    showlegend=True,\n",
    "    plot_bgcolor='White'\n",
    "                 )\n",
    "\n",
    "fig.update_xaxes(title_font_family = \"Calibri\",title_text = \"<b>Premia Metrics</b>\",title_font = {\"size\": 20},\n",
    "                    showline=True,linewidth=2,linecolor='black',mirror=False)\n",
    "\n",
    "fig.update_yaxes(title_font_family = \"Calibri\",title_text = \"<b>Higher the Better</b>\",title_font = {\"size\": 20},\n",
    "                 showline=True,linewidth=2,linecolor='black',mirror=False)\n",
    "fig.show()"
   ]
  },
  {
   "cell_type": "markdown",
   "id": "921e83c9",
   "metadata": {},
   "source": [
    "# Ranked Stratagies with Premia Universe"
   ]
  },
  {
   "cell_type": "markdown",
   "id": "35897f1e",
   "metadata": {},
   "source": [
    "## Import Premia Universe Weekly Data"
   ]
  },
  {
   "cell_type": "code",
   "execution_count": null,
   "id": "396e3282",
   "metadata": {},
   "outputs": [],
   "source": [
    "premia_uni= pd.read_excel(dm.NEW_DATA+'liq_alts.xlsx', sheet_name='premia_uni',index_col=0)\n",
    "premia_uni = dm.format_data(premia_uni,freq)\n",
    "premia_uni.drop(['EQ Size'], axis=1, inplace=True)\n",
    "df_ret_premia = dm.merge_data_frames(df_returns, premia_uni)"
   ]
  },
  {
   "cell_type": "markdown",
   "id": "48706fe8",
   "metadata": {},
   "source": [
    "## Display Returns"
   ]
  },
  {
   "cell_type": "code",
   "execution_count": null,
   "id": "5187b1c4",
   "metadata": {},
   "outputs": [],
   "source": [
    "fmt.get_returns_styler(df_ret_premia)"
   ]
  },
  {
   "cell_type": "markdown",
   "id": "d2eaf137",
   "metadata": {},
   "source": [
    "## Compute Return Statistics and Premia Metrics"
   ]
  },
  {
   "cell_type": "code",
   "execution_count": null,
   "id": "84fc9f9b",
   "metadata": {},
   "outputs": [],
   "source": [
    "analytics_dict_pm = {'return_stats':rs.get_return_stats(df_ret_premia,freq), \n",
    "                  'premia_metrics':pm.get_premia_metrics(df_ret_premia, freq)}"
   ]
  },
  {
   "cell_type": "code",
   "execution_count": null,
   "id": "b4995d28",
   "metadata": {},
   "outputs": [],
   "source": [
    "@interact\n",
    "def display_analytics(stats=['return_stats', 'premia_metrics']):\n",
    "    if stats == 'return_stats':\n",
    "        return fmt.get_analytics_styler(analytics_dict_pm)\n",
    "    if stats == 'premia_metrics':\n",
    "        return fmt.get_analytics_styler(analytics_dict_pm, stats)"
   ]
  },
  {
   "cell_type": "markdown",
   "id": "280e2940",
   "metadata": {},
   "source": [
    "## Get Premia Universe Raw Scores and Normalized Premia Metrics "
   ]
  },
  {
   "cell_type": "code",
   "execution_count": null,
   "id": "014b706f",
   "metadata": {},
   "outputs": [],
   "source": [
    "premia_uni_dict = summary.get_norm_premia_metrics(df_ret_premia)"
   ]
  },
  {
   "cell_type": "markdown",
   "id": "7f5af7f8",
   "metadata": {},
   "source": [
    "## Display Premia Metrics and Normalized Data"
   ]
  },
  {
   "cell_type": "code",
   "execution_count": null,
   "id": "4d23b449",
   "metadata": {
    "scrolled": false
   },
   "outputs": [],
   "source": [
    "@interact\n",
    "def display_premia_metrics_or_normal( stats = ['Premia Metrics','Normalized Data']):\n",
    "    if stats == 'Premia Metrics':\n",
    "        return fmt.format_pm_to_normalize(premia_uni_dict[stats])    \n",
    "    else:\n",
    "        return fmt.format_normalized_data(premia_uni_dict[stats])"
   ]
  },
  {
   "cell_type": "markdown",
   "id": "9c83e66e",
   "metadata": {},
   "source": [
    "## Set up data to display"
   ]
  },
  {
   "cell_type": "code",
   "execution_count": null,
   "id": "1a3c0e39",
   "metadata": {},
   "outputs": [],
   "source": [
    "#get normalized data\n",
    "premia_uni_normal = premia_uni_dict['Normalized Data'].copy()\n",
    "premia_uni_normal = premia_uni_normal.transpose()\n",
    "\n",
    "\n",
    "symbols = plots.get_symbols(df_normal, unique=True)\n",
    "color = plots.get_colors(df_normal, grey=False)\n",
    "\n",
    "#rearrange columns so thatdefensive universe columns are before our strategies\n",
    "premia_uni_only = premia_uni_normal[premia_uni.columns]\n",
    "liq_alts_only = premia_uni_normal[liq_alts.columns]\n",
    "\n",
    "#get symbols for defensive universe\n",
    "premia_uni_symbols = plots.get_symbols(premia_uni_only, unique=False)\n",
    "\n",
    "#merge defensive universe symbols with strategy symbols from above\n",
    "new_symbols= dm.merge_data_frames(premia_uni_symbols, symbols)\n",
    "\n",
    "#get colors for defensive universe as grey\n",
    "premia_uni_color = plots.get_colors(premia_uni_only, grey=True)\n",
    "\n",
    "#merge defensive universe colors with strategy colors\n",
    "new_color= dm.merge_data_frames(premia_uni_color, color)\n",
    "\n",
    "\n",
    "index = list(premia_uni_normal.index)"
   ]
  },
  {
   "cell_type": "markdown",
   "id": "2067c516",
   "metadata": {},
   "source": [
    "## Display Ranked Strategies vs Normalized Data"
   ]
  },
  {
   "cell_type": "code",
   "execution_count": null,
   "id": "04b115cc",
   "metadata": {},
   "outputs": [],
   "source": [
    "fig = go.Figure()\n",
    "#loops through eaach column and plots each metric for the given strategy\n",
    "for col in premia_uni_normal.columns:\n",
    "    fig.add_trace(go.Scatter(\n",
    "        x=index,\n",
    "        y=premia_uni_normal[col],\n",
    "        marker=dict(size = 12, color = new_color[col]),\n",
    "#         marker_symbol = new_symbols[col],\n",
    "        mode= \"markers\",\n",
    "        name=col\n",
    "        ))\n",
    "fig.update_layout(\n",
    "    title={\n",
    "            'text': \"<b>Premia Framework</b>\",\n",
    "            'y':0.9,\n",
    "            'x':0.5,\n",
    "            'xanchor': 'center',\n",
    "            'yanchor': 'top'\n",
    "            },\n",
    "    title_font_family=\"Calibri\",\n",
    "    titlefont = {\"size\":24},\n",
    "        xaxis = dict(tickfont = dict(size=14)),\n",
    "#     legend_title=\"Strategies\",\n",
    "    showlegend=False,\n",
    "    plot_bgcolor='White'\n",
    "                 )\n",
    "\n",
    "fig.update_xaxes(title_font_family = \"Calibri\",title_text = \"<b>Premia Metrics</b>\",title_font = {\"size\": 20},\n",
    "                    showline=True,linewidth=2,linecolor='black',mirror=False)\n",
    "\n",
    "fig.update_yaxes(title_font_family = \"Calibri\",title_text = \"<b>Higher the Better</b>\",title_font = {\"size\": 20},\n",
    "                 showline=True,linewidth=2,linecolor='black',mirror=False)\n",
    "fig.show()\n"
   ]
  },
  {
   "cell_type": "code",
   "execution_count": null,
   "id": "fab2d8da",
   "metadata": {},
   "outputs": [],
   "source": []
  }
 ],
 "metadata": {
  "kernelspec": {
   "display_name": "Python 3",
   "language": "python",
   "name": "python3"
  },
  "language_info": {
   "codemirror_mode": {
    "name": "ipython",
    "version": 3
   },
   "file_extension": ".py",
   "mimetype": "text/x-python",
   "name": "python",
   "nbconvert_exporter": "python",
   "pygments_lexer": "ipython3",
   "version": "3.7.10"
  },
  "varInspector": {
   "cols": {
    "lenName": 16,
    "lenType": 16,
    "lenVar": 40
   },
   "kernels_config": {
    "python": {
     "delete_cmd_postfix": "",
     "delete_cmd_prefix": "del ",
     "library": "var_list.py",
     "varRefreshCmd": "print(var_dic_list())"
    },
    "r": {
     "delete_cmd_postfix": ") ",
     "delete_cmd_prefix": "rm(",
     "library": "var_list.r",
     "varRefreshCmd": "cat(var_dic_list()) "
    }
   },
   "types_to_exclude": [
    "module",
    "function",
    "builtin_function_or_method",
    "instance",
    "_Feature"
   ],
   "window_display": false
  }
 },
 "nbformat": 4,
 "nbformat_minor": 5
}
