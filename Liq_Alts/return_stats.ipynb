{
 "cells": [
  {
   "cell_type": "markdown",
   "id": "b8dc8f15",
   "metadata": {},
   "source": [
    "# Return Stats"
   ]
  },
  {
   "cell_type": "markdown",
   "id": "af89cb02",
   "metadata": {},
   "source": [
    "## Import Libraries"
   ]
  },
  {
   "cell_type": "code",
   "execution_count": null,
   "id": "6c69c8b6",
   "metadata": {},
   "outputs": [],
   "source": [
    "import os\n",
    "os.chdir('..')\n",
    "\n",
    "import pandas as pd\n",
    "import plotly.express as px\n",
    "from EquityHedging.datamanager import data_manager as dm\n",
    "from EquityHedging.analytics.util import get_df_weights\n",
    "from EquityHedging.analytics import summary\n",
    "from EquityHedging.reporting.excel import reports as rp\n",
    "from EquityHedging.reporting import formatter as fmt, plots\n",
    "from ipywidgets import interact, interact_manual\n",
    "\n",
    "new_strat = False\n",
    "notional_weights = []\n",
    "weighted = [True, False]\n",
    "\n",
    "CORR_LIST = ['full', 'equity_down', 'equity_up', 'fi_down', 'fi_up']"
   ]
  },
  {
   "cell_type": "markdown",
   "id": "70cecfef",
   "metadata": {},
   "source": [
    "## Import Data"
   ]
  },
  {
   "cell_type": "markdown",
   "id": "8c50e596",
   "metadata": {},
   "source": [
    "## Equity & FI data"
   ]
  },
  {
   "cell_type": "code",
   "execution_count": null,
   "id": "7ed2423e",
   "metadata": {},
   "outputs": [],
   "source": [
    "#Equity & FI data\n",
    "asset_df = pd.read_excel(dm.RETURNS_DATA_FP + 'liq_alts\\\\Historical Returns.xls', sheet_name='Historical Returns')\n",
    "asset_df.columns = ['Name', 'Account Id', 'Return Type', 'Date',\n",
    "       'Market Value', 'Return']\n",
    "asset_ret = asset_df.pivot_table(values='Return', index='Date', columns='Name')\n",
    "asset_ret /= 100\n",
    "eq_fi_df = asset_ret[['Total EQ w/o Derivatives', 'Total Fixed Income']]\n",
    "eq_fi_df.columns = ['Equity', 'Fixed Income']"
   ]
  },
  {
   "cell_type": "markdown",
   "id": "2cada2ee",
   "metadata": {},
   "source": [
    "## Benchmark data"
   ]
  },
  {
   "cell_type": "code",
   "execution_count": null,
   "id": "680d062f",
   "metadata": {},
   "outputs": [],
   "source": [
    "#benchmark data\n",
    "bmk_df = pd.read_excel(dm.RETURNS_DATA_FP + 'liq_alts\\\\bmk_data.xlsx', sheet_name='data_m', index_col=0)\n",
    "bmk_df = bmk_df[['HFRXM Index','HFRIMI Index',\n",
    "                  'SGIXTFXA Index', 'NEIXCTAT Index',\n",
    "                 'HFRXAR Index', 'HFRXEW Index', \n",
    "                 'HEDGGLMA Index', 'CSLABT18 Index']]\n",
    "#rename columns\n",
    "bmk_df.columns = ['HFRX Macro/CTA', 'HFRI Macro Total Index',\n",
    "                  'SGI Cross Asset Trend', 'SG Trend Index',\n",
    "                  'HFRX Abs Ret', 'HFRX Equal Wgtd', \n",
    "                  'CS Global Macro','CS Managed Fut-18% vol']\n",
    "\n",
    "bmk_df = dm.format_data(bmk_df)"
   ]
  },
  {
   "cell_type": "code",
   "execution_count": null,
   "id": "2864fb1b",
   "metadata": {},
   "outputs": [],
   "source": [
    "#group indicies into sub portfolios\n",
    "sp_ind_dict = {'Global Macro':['HFRX Macro/CTA', 'HFRI Macro Total Index','CS Global Macro'],\n",
    "            'Absolute Return':['HFRX Abs Ret', 'HFRX Equal Wgtd'],\n",
    "                'Trend Following':['SGI Cross Asset Trend', 'SG Trend Index','CS Managed Fut-18% vol']}\n",
    "#create bmk_dict with sub portfolios as keys\n",
    "bmk_dict = {}\n",
    "for key in sp_ind_dict:\n",
    "    bmk_dict[key] = bmk_df[sp_ind_dict[key]].copy()"
   ]
  },
  {
   "cell_type": "markdown",
   "id": "68b91706",
   "metadata": {},
   "source": [
    "## Liquid Alts data"
   ]
  },
  {
   "cell_type": "code",
   "execution_count": null,
   "id": "f66f2c9e",
   "metadata": {},
   "outputs": [],
   "source": [
    "#liq_alts data\n",
    "liq_alts_df = pd.read_excel(dm.RETURNS_DATA_FP + 'liq_alts\\\\mgr_data_m.xlsx', sheet_name='bny',index_col=0)\n",
    "liq_alts_sp = liq_alts_df[['Total Liquid Alts',  'Global Macro',  'Trend Following','Alt Risk Premia']]\n",
    "liq_alts_sp = liq_alts_sp.iloc[52:,]\n",
    "liq_alts_mgr = liq_alts_df[['1907 ARP EM', '1907 ARP TF', '1907 CFM ISE Risk Premia','1907 Campbell TF', '1907 III CV',\n",
    "                            '1907 III Class A', '1907 Kepos RP','1907 Penso Class A', '1907 Systematica TF',\n",
    "                            'ABC Reversion','Acadian Commodity AR', 'Black Pearl RP','Blueshift', 'Bridgewater Alpha',\n",
    "                            'DE Shaw Oculus Fund', 'Duality','Element Capital', 'Elliott', 'One River Trend']]"
   ]
  },
  {
   "cell_type": "code",
   "execution_count": null,
   "id": "3d3f0e48",
   "metadata": {},
   "outputs": [],
   "source": [
    "sp_mgr_dict = {'Global Macro':['1907 Penso Class A', 'Bridgewater Alpha','DE Shaw Oculus Fund', 'Element Capital', 'Elliott'],\n",
    "                'Absolute Return':['1907 ARP EM','1907 III Class A', '1907 Kepos RP',\n",
    "                            'ABC Reversion','Blueshift', 'Duality'],\n",
    "                'Trend Following':['1907 ARP TF','1907 Campbell TF', '1907 Systematica TF', 'One River Trend', 'Trend Following']}\n",
    "\n",
    "liq_alts_dict = {}\n",
    "for key in sp_mgr_dict:\n",
    "    liq_alts_dict[key] = liq_alts_df[sp_mgr_dict[key]].copy()\n",
    "    liq_alts_dict[key].dropna(inplace=True)\n",
    "\n",
    "# sp_df = liq_alts_df[['Total Liquid Alts']]\n",
    "\n",
    "for key in liq_alts_dict:\n",
    "    liq_alts_dict[key][key] = liq_alts_dict[key].sum(axis=1)/len(liq_alts_dict[key].columns)\n",
    "#     sp_df = dm.merge_data_frames(sp_df,liq_alts_dict[key][[key]])\n"
   ]
  },
  {
   "cell_type": "markdown",
   "id": "7659d91e",
   "metadata": {},
   "source": [
    "## Returns dict"
   ]
  },
  {
   "cell_type": "code",
   "execution_count": null,
   "id": "c5c54cdc",
   "metadata": {},
   "outputs": [],
   "source": [
    "#Merge into one returns_dict\n",
    "returns_dict = {}\n",
    "\n",
    "for key in liq_alts_dict:\n",
    "    temp_df = dm.merge_data_frames(liq_alts_dict[key].copy(),bmk_dict[key].copy())\n",
    "    returns_dict[key] = dm.merge_data_frames(eq_fi_df.copy(),temp_df)\n",
    "    "
   ]
  },
  {
   "cell_type": "markdown",
   "id": "c8d9f7f2",
   "metadata": {},
   "source": [
    "## Display Returns"
   ]
  },
  {
   "cell_type": "code",
   "execution_count": null,
   "id": "6f903d3d",
   "metadata": {},
   "outputs": [],
   "source": [
    "@interact\n",
    "def display_returns(sub_port=returns_dict.keys()):\n",
    "    return fmt.get_returns_styler(returns_dict[sub_port])"
   ]
  },
  {
   "cell_type": "markdown",
   "id": "c8098107",
   "metadata": {},
   "source": [
    "## Correlations"
   ]
  },
  {
   "cell_type": "code",
   "execution_count": null,
   "id": "603cd257",
   "metadata": {},
   "outputs": [],
   "source": [
    "#Compute Correlations\n",
    "corr_dict = {}    \n",
    "for key in returns_dict:\n",
    "    temp_dict = summary.get_corr_analysis(returns_dict[key],include_fi=True)\n",
    "    corr_dict[key] = temp_dict\n",
    "\n",
    "#Display correlations\n",
    "@interact\n",
    "def display_correlations(sub_port=corr_dict.keys(),corr= CORR_LIST):\n",
    "    corr_df = corr_dict[sub_port][corr][0]\n",
    "    return plots.draw_heatmap(corr_df, half=False)"
   ]
  },
  {
   "cell_type": "markdown",
   "id": "c73520b6",
   "metadata": {},
   "source": [
    "## Return Stats"
   ]
  },
  {
   "cell_type": "code",
   "execution_count": null,
   "id": "d6f97f19",
   "metadata": {},
   "outputs": [],
   "source": [
    "analytics_dict = {}\n",
    "for key in returns_dict:\n",
    "    temp_dict = summary.get_analysis(returns_dict[key], include_fi=True)\n",
    "    analytics_dict[key] = temp_dict\n",
    "\n",
    "#Display return stats\n",
    "@interact\n",
    "def display_analytics(sub_port = analytics_dict.keys()):\n",
    "    return fmt.get_analytics_styler(analytics_dict[sub_port])"
   ]
  },
  {
   "cell_type": "markdown",
   "id": "8f035cfc",
   "metadata": {},
   "source": [
    "## Quintile Analysis"
   ]
  },
  {
   "cell_type": "code",
   "execution_count": null,
   "id": "78b6bf0f",
   "metadata": {},
   "outputs": [],
   "source": [
    "@interact\n",
    "def display_quintile_analysis(sub_port = returns_dict.keys()):    \n",
    "    df = summary.get_grouped_data(returns_dict[sub_port])\n",
    "    for col in df.columns:\n",
    "        df[col] *= 100\n",
    "\n",
    "    title ='Quintile Analysis'\n",
    "    fig = px.bar(df,barmode='group',title = title)\n",
    "    fig.update_layout(\n",
    "        title = {'text':\"<b>{}</b>\".format(title),'y':0.95,'x':0.5,'xanchor': 'center','yanchor': 'top'},\n",
    "        title_font_family = \"Calibri\",\n",
    "        titlefont = {\"size\":24},\n",
    "        xaxis = dict(tickfont = dict(size=12)),\n",
    "        yaxis = dict(ticksuffix=\"%\"),\n",
    "        legend_title=\"Strategies\",\n",
    "        plot_bgcolor='White'\n",
    "    )\n",
    "    fig.update_xaxes(title_font_family = \"Calibri\",title_text = \"<b>SPTR Monthly Returns Ranking</b>\",\n",
    "        title_font = {\"size\": 20},showline=True,linewidth=2,linecolor='black',mirror=False)\n",
    "    fig.update_yaxes(title_font_family = \"Calibri\",title_text = \"<b></b>\",title_font = {\"size\": 20},\n",
    "        showline=True,linewidth=2,linecolor='black',mirror=False)\n",
    "    fig.show()"
   ]
  },
  {
   "cell_type": "markdown",
   "id": "96217cec",
   "metadata": {},
   "source": [
    "## Generate reports"
   ]
  },
  {
   "cell_type": "code",
   "execution_count": null,
   "id": "00a6c4e9",
   "metadata": {},
   "outputs": [],
   "source": [
    "for key in returns_dict:\n",
    "    rp.generate_strat_report(key,{'Monthly':returns_dict[key]}, freq_list=['Monthly'],include_fi=True)"
   ]
  },
  {
   "cell_type": "code",
   "execution_count": null,
   "id": "2acf650b",
   "metadata": {},
   "outputs": [],
   "source": []
  }
 ],
 "metadata": {
  "kernelspec": {
   "display_name": "Python 3 (ipykernel)",
   "language": "python",
   "name": "python3"
  },
  "language_info": {
   "codemirror_mode": {
    "name": "ipython",
    "version": 3
   },
   "file_extension": ".py",
   "mimetype": "text/x-python",
   "name": "python",
   "nbconvert_exporter": "python",
   "pygments_lexer": "ipython3",
   "version": "3.9.12"
  },
  "varInspector": {
   "cols": {
    "lenName": 16,
    "lenType": 16,
    "lenVar": 40
   },
   "kernels_config": {
    "python": {
     "delete_cmd_postfix": "",
     "delete_cmd_prefix": "del ",
     "library": "var_list.py",
     "varRefreshCmd": "print(var_dic_list())"
    },
    "r": {
     "delete_cmd_postfix": ") ",
     "delete_cmd_prefix": "rm(",
     "library": "var_list.r",
     "varRefreshCmd": "cat(var_dic_list()) "
    }
   },
   "types_to_exclude": [
    "module",
    "function",
    "builtin_function_or_method",
    "instance",
    "_Feature"
   ],
   "window_display": false
  }
 },
 "nbformat": 4,
 "nbformat_minor": 5
}
